{
 "cells": [
  {
   "cell_type": "code",
   "execution_count": 425,
   "id": "3e8698d4",
   "metadata": {},
   "outputs": [
    {
     "data": {
      "text/plain": [
       "'\\nСкрипт для обработки общйе таблицы Омского ЦОПП. \\n'"
      ]
     },
     "execution_count": 425,
     "metadata": {},
     "output_type": "execute_result"
    }
   ],
   "source": [
    "\"\"\"\n",
    "Скрипт для обработки общйе таблицы Омского ЦОПП. \n",
    "\"\"\""
   ]
  },
  {
   "cell_type": "code",
   "execution_count": 426,
   "id": "c927f36f",
   "metadata": {},
   "outputs": [],
   "source": [
    "# -*- coding: utf-8 -*-\n",
    "import pandas as pd\n",
    "import numpy as np\n",
    "import tkinter\n",
    "import sys\n",
    "import os\n",
    "from tkinter import *\n",
    "from tkinter import filedialog\n",
    "from tkinter import messagebox\n",
    "from tkinter import ttk\n",
    "import time\n",
    "\n",
    "pd.options.mode.chained_assignment = None  # default='warn'\n",
    "import warnings\n",
    "\n",
    "warnings.filterwarnings('ignore', category=UserWarning, module='openpyxl')\n",
    "warnings.filterwarnings('ignore', category=DeprecationWarning)\n",
    "warnings.filterwarnings('ignore', category=FutureWarning)\n",
    "import copy\n",
    "import openpyxl\n",
    "from openpyxl.utils.dataframe import dataframe_to_rows\n",
    "import re\n",
    "import random"
   ]
  },
  {
   "cell_type": "code",
   "execution_count": 427,
   "id": "80d0670e",
   "metadata": {},
   "outputs": [],
   "source": [
    "def check_sameness_range(df:pd.DataFrame,names_columns:list,border,amendment):\n",
    "    \n",
    "    \"\"\"    \n",
    "    Функция для проверки единнобразия значений в колонке по диапазонам\n",
    "    \"\"\"\n",
    "    # получаем поправки для того чтобы диапазон ошибки указывался корректно\n",
    "    first_correct = amendment[0]\n",
    "    second_correct = amendment[1] \n",
    "    _error_df = pd.DataFrame(columns=['Строка или колонка с ошибкой', 'Описание ошибки']) # датафрейм для ошибок\n",
    "    for column in names_columns:\n",
    "        _temp_set = set(df[column].tolist())\n",
    "        if len(_temp_set) != 1:\n",
    "            temp_error_df = pd.DataFrame(data=[[f'Диапазон строк {border + first_correct} - {border+second_correct},Колонка {column}',\n",
    "                                        'В указанном диапазоне и колонке  должны быть одинаковые значения во избежание ошибок при подсчете,если указан диапазон вне таблицы то удалите строки этого диапазона']],\n",
    "                                 columns=['Строка или колонка с ошибкой',\n",
    "                                          'Описание ошибки'])\n",
    "            _error_df = pd.concat([error_df, temp_error_df], axis=0, ignore_index=True)\n",
    "    return _error_df\n",
    "        "
   ]
  },
  {
   "cell_type": "code",
   "execution_count": 428,
   "id": "d048617a",
   "metadata": {},
   "outputs": [],
   "source": [
    "def check_error_omsk(df:pd.DataFrame,border,amendment):\n",
    "    \"\"\"\n",
    "    Функция для проверки на ошибки\n",
    "    \"\"\"\n",
    "\n",
    "    error_df = pd.DataFrame(columns=['Строка или колонка с ошибкой', 'Описание ошибки']) # датафрейм для ошибок\n",
    "    quantity_range = df.shape[0] // 5 #  получаем количество проходов которые нужно пройти\n",
    "    sameness_columns = ['1','2','3'] # список колонок которые нужно проверить на единообразие внутри диапазона\n",
    "    for i in range(quantity_range):\n",
    "        temp_df = df.iloc[border:border+5,:]\n",
    "        error_sameness_df = check_sameness_range(temp_df.copy(),sameness_columns,border,amendment) # проверка на единнообразие\n",
    "        error_df = pd.concat([error_df, error_sameness_df], axis=0, ignore_index=True)\n",
    "        \n",
    "        \n",
    "        \n",
    "        \n",
    "        border += 5\n",
    "        \n",
    "        \n",
    "        \n",
    "    \n",
    "    \n",
    "    \n",
    "    \n",
    "    \n",
    "    return error_df\n",
    "        \n",
    "        \n",
    "        \n",
    "        \n",
    "    \n",
    "    \n",
    "    \n",
    "    "
   ]
  },
  {
   "cell_type": "code",
   "execution_count": null,
   "id": "985f880b",
   "metadata": {},
   "outputs": [],
   "source": []
  },
  {
   "cell_type": "code",
   "execution_count": null,
   "id": "1f39bb16",
   "metadata": {},
   "outputs": [],
   "source": []
  },
  {
   "cell_type": "code",
   "execution_count": 429,
   "id": "b10a5b14",
   "metadata": {},
   "outputs": [],
   "source": [
    "path_data_omsk = 'data/Омск/Трудоустройство_1_07_2023_выпуск_2022.xlsx'\n",
    "path_to_end_folder = 'data'\n",
    "# создаем датафрейм для регистрации ошибок\n",
    "error_df = pd.DataFrame(columns=['Строка или колонка с ошибкой', 'Описание ошибки'])"
   ]
  },
  {
   "cell_type": "code",
   "execution_count": 430,
   "id": "f0cf93df",
   "metadata": {},
   "outputs": [],
   "source": [
    "# загружаем файл\n",
    "df = pd.read_excel(f'{path_data_omsk}',dtype=str,skiprows=5)"
   ]
  },
  {
   "cell_type": "code",
   "execution_count": 431,
   "id": "d8865eae",
   "metadata": {},
   "outputs": [],
   "source": [
    "df=df.iloc[:,:34] # убираем строки проверки"
   ]
  },
  {
   "cell_type": "code",
   "execution_count": 432,
   "id": "38b5fc4f",
   "metadata": {},
   "outputs": [],
   "source": [
    "\n",
    "# заменяем названия колонок\n",
    "df.columns = list(map(str,range(1,df.shape[1]+1)))"
   ]
  },
  {
   "cell_type": "code",
   "execution_count": 433,
   "id": "6a440185",
   "metadata": {},
   "outputs": [
    {
     "data": {
      "text/plain": [
       "(2030, 34)"
      ]
     },
     "execution_count": 433,
     "metadata": {},
     "output_type": "execute_result"
    }
   ],
   "source": [
    "df.shape"
   ]
  },
  {
   "cell_type": "code",
   "execution_count": 434,
   "id": "83a7cd91",
   "metadata": {},
   "outputs": [],
   "source": [
    "# Проверяем на количество строк, должно быть кратно 5\n",
    "if df.shape[0] % 5 !=0:\n",
    "    temp_error_df = pd.DataFrame(data=[['',\n",
    "                                        'Количество строк не кратно 5 !!! Возможно пропущены строки с данными или есть лишние строки в конце таблицы']],\n",
    "                                 columns=['Строка или колонка с ошибкой',\n",
    "                                          'Описание ошибки'])\n",
    "    error_df = pd.concat([error_df, temp_error_df], axis=0, ignore_index=True)"
   ]
  },
  {
   "cell_type": "code",
   "execution_count": 435,
   "id": "861ef47d",
   "metadata": {},
   "outputs": [],
   "source": [
    "# Проверяем ошибки\n",
    "tup_correct = (7, 11)  # создаем кортеж  с поправками\n",
    "check_error_df= check_error_omsk(df.copy(),0,tup_correct)\n",
    "error_df = pd.concat([error_df, check_error_df], axis=0, ignore_index=True)\n"
   ]
  },
  {
   "cell_type": "code",
   "execution_count": null,
   "id": "786ee407",
   "metadata": {},
   "outputs": [],
   "source": []
  },
  {
   "cell_type": "code",
   "execution_count": 436,
   "id": "c0bdfb6a",
   "metadata": {},
   "outputs": [
    {
     "data": {
      "text/html": [
       "<div>\n",
       "<style scoped>\n",
       "    .dataframe tbody tr th:only-of-type {\n",
       "        vertical-align: middle;\n",
       "    }\n",
       "\n",
       "    .dataframe tbody tr th {\n",
       "        vertical-align: top;\n",
       "    }\n",
       "\n",
       "    .dataframe thead th {\n",
       "        text-align: right;\n",
       "    }\n",
       "</style>\n",
       "<table border=\"1\" class=\"dataframe\">\n",
       "  <thead>\n",
       "    <tr style=\"text-align: right;\">\n",
       "      <th></th>\n",
       "      <th>Строка или колонка с ошибкой</th>\n",
       "      <th>Описание ошибки</th>\n",
       "    </tr>\n",
       "  </thead>\n",
       "  <tbody>\n",
       "    <tr>\n",
       "      <th>0</th>\n",
       "      <td>Диапазон строк 142 - 146,Колонка 2</td>\n",
       "      <td>В указанном диапазоне и колонке  должны быть о...</td>\n",
       "    </tr>\n",
       "  </tbody>\n",
       "</table>\n",
       "</div>"
      ],
      "text/plain": [
       "         Строка или колонка с ошибкой  \\\n",
       "0  Диапазон строк 142 - 146,Колонка 2   \n",
       "\n",
       "                                     Описание ошибки  \n",
       "0  В указанном диапазоне и колонке  должны быть о...  "
      ]
     },
     "execution_count": 436,
     "metadata": {},
     "output_type": "execute_result"
    }
   ],
   "source": [
    "error_df"
   ]
  },
  {
   "cell_type": "code",
   "execution_count": 437,
   "id": "37a64753",
   "metadata": {},
   "outputs": [],
   "source": [
    "# создаем датафрейм из колонки 10 с названиями организаций и количеством работников\n",
    "df_org = df[['1','2','3','4','5','9','34']]\n",
    "df_org.fillna('Отсутствует',inplace=True)"
   ]
  },
  {
   "cell_type": "code",
   "execution_count": null,
   "id": "211038ad",
   "metadata": {},
   "outputs": [],
   "source": []
  }
 ],
 "metadata": {
  "kernelspec": {
   "display_name": "Python 3 (ipykernel)",
   "language": "python",
   "name": "python3"
  },
  "language_info": {
   "codemirror_mode": {
    "name": "ipython",
    "version": 3
   },
   "file_extension": ".py",
   "mimetype": "text/x-python",
   "name": "python",
   "nbconvert_exporter": "python",
   "pygments_lexer": "ipython3",
   "version": "3.9.7"
  }
 },
 "nbformat": 4,
 "nbformat_minor": 5
}
