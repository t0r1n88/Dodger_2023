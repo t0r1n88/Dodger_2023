{
 "cells": [
  {
   "cell_type": "code",
   "execution_count": 1379,
   "id": "4608839a",
   "metadata": {},
   "outputs": [
    {
     "data": {
      "text/plain": [
       "'\\nСкрипт для обработки общйе таблицы Омского ЦОПП. \\n'"
      ]
     },
     "execution_count": 1379,
     "metadata": {},
     "output_type": "execute_result"
    }
   ],
   "source": [
    "\"\"\"\n",
    "Скрипт для обработки общйе таблицы Омского ЦОПП. \n",
    "\"\"\""
   ]
  },
  {
   "cell_type": "code",
   "execution_count": 1380,
   "id": "92ae557d",
   "metadata": {},
   "outputs": [],
   "source": [
    "# -*- coding: utf-8 -*-\n",
    "import pandas as pd\n",
    "import numpy as np\n",
    "import tkinter\n",
    "import sys\n",
    "import os\n",
    "from tkinter import *\n",
    "from tkinter import filedialog\n",
    "from tkinter import messagebox\n",
    "from tkinter import ttk\n",
    "import time\n",
    "\n",
    "pd.options.mode.chained_assignment = None  # default='warn'\n",
    "import warnings\n",
    "\n",
    "warnings.filterwarnings('ignore', category=UserWarning, module='openpyxl')\n",
    "warnings.filterwarnings('ignore', category=DeprecationWarning)\n",
    "warnings.filterwarnings('ignore', category=FutureWarning)\n",
    "import copy\n",
    "import openpyxl\n",
    "from openpyxl.utils.dataframe import dataframe_to_rows\n",
    "import re\n",
    "import random"
   ]
  },
  {
   "cell_type": "code",
   "execution_count": 1381,
   "id": "4872151c",
   "metadata": {},
   "outputs": [],
   "source": [
    "def check_data(cell):\n",
    "    \"\"\"\n",
    "    Метод для проверки значения ячейки\n",
    "    :param cell: значение ячейки\n",
    "    :return: число в формате int\n",
    "    \"\"\"\n",
    "    if cell is np.nan:\n",
    "        return 0\n",
    "    if cell.isdigit():\n",
    "        return int(cell)\n",
    "    else:\n",
    "        return 0"
   ]
  },
  {
   "cell_type": "code",
   "execution_count": 1382,
   "id": "a32031ef",
   "metadata": {},
   "outputs": [],
   "source": [
    "def group_text_value(value):\n",
    "    \"\"\"\n",
    "    функция для группировки текстовых данных, группирует только заполненные строки\n",
    "    \"\"\"\n",
    "    tmp_set = set(value.tolist()) # создаем множество\n",
    "    tmp_set.discard('Не заполнено')\n",
    "    tmp_set.discard('0')\n",
    "    return ';'.join(tmp_set)\n",
    "\n"
   ]
  },
  {
   "cell_type": "code",
   "execution_count": 1383,
   "id": "69f8174c",
   "metadata": {},
   "outputs": [],
   "source": [
    "def check_sameness_range(df:pd.DataFrame,names_columns:list,border,amendment):\n",
    "    \n",
    "    \"\"\"    \n",
    "    Функция для проверки единнобразия значений в колонке по диапазонам\n",
    "    \"\"\"\n",
    "    # получаем поправки для того чтобы диапазон ошибки указывался корректно\n",
    "    first_correct = amendment[0]\n",
    "    second_correct = amendment[1] \n",
    "    _error_df = pd.DataFrame(columns=['Строка или колонка с ошибкой', 'Описание ошибки']) # датафрейм для ошибок\n",
    "    for column in names_columns:\n",
    "        _temp_set = set(df[column].tolist())\n",
    "        if len(_temp_set) != 1:\n",
    "            temp_error_df = pd.DataFrame(data=[[f'Диапазон строк {border + first_correct} - {border+second_correct},Колонка {column}',\n",
    "                                        'В указанном диапазоне и колонке  должны быть одинаковые значения во избежание ошибок при подсчете,если указан диапазон вне таблицы то удалите строки этого диапазона']],\n",
    "                                 columns=['Строка или колонка с ошибкой',\n",
    "                                          'Описание ошибки'])\n",
    "            _error_df = pd.concat([error_df, temp_error_df], axis=0, ignore_index=True)\n",
    "    return _error_df\n",
    "        "
   ]
  },
  {
   "cell_type": "code",
   "execution_count": 1384,
   "id": "af9309f8",
   "metadata": {},
   "outputs": [],
   "source": [
    "def check_horizont_all_sum_error_omsk(df: pd.DataFrame, tup_exluded_cols: tuple, name_itog_cols):\n",
    "    \"\"\"\n",
    "    Функция для проверки горизонтальных сумм по всей строке\n",
    "    сумма в колонке 05 должна быть равна сумме всех колонок за исключением 07 и 15 Пример\n",
    "    \"\"\"\n",
    "    # получаем список колонок\n",
    "    all_sum_cols = list(df)\n",
    "    # удаляем колонки\n",
    "    for name_cols in tup_exluded_cols:\n",
    "        all_sum_cols.remove(name_cols)\n",
    "    # удаляем итоговую колонку\n",
    "    all_sum_cols.remove(name_itog_cols)\n",
    "\n",
    "    # получаем сумму колонок за вычетом исключаемых и итоговой колонки\n",
    "    df['Сумма'] = df[all_sum_cols].sum(axis=1)\n",
    "    # Проводим проверку\n",
    "    df['Результат'] = df[name_itog_cols] == df['Сумма']\n",
    "    df['Результат'] = df['Результат'].apply(lambda x: 'Правильно' if x else 'Неправильно')\n",
    "    # получаем датафрейм с ошибками и извлекаем индекс\n",
    "    df = df[df['Результат'] == 'Неправильно'].reset_index()\n",
    "    df.to_excel('dsds.xlsx',index=False)\n",
    "    # создаем датафрейм дял добавления в ошибки\n",
    "    temp_error_df = pd.DataFrame(columns=['Строка или колонка с ошибкой', 'Описание ошибки', ])\n",
    "    # обрабатываем индексы строк с ошибками чтобы строки совпадали с файлом excel\n",
    "    raw_lst_index = df['index'].tolist()  # делаем список\n",
    "    finish_lst_index = list(map(lambda x: x + 1, raw_lst_index))\n",
    "    finish_lst_index = list(map(lambda x: f'Строка {x+6}', finish_lst_index))\n",
    "    temp_error_df['Строка или колонка с ошибкой'] = finish_lst_index\n",
    "    temp_error_df[\n",
    "        'Описание ошибки'] = f'Не выполняется условие: гр. {name_itog_cols} = сумма остальных гр. за искл.{tup_exluded_cols}!!!'\n",
    "    return temp_error_df"
   ]
  },
  {
   "cell_type": "code",
   "execution_count": 1385,
   "id": "56382f83",
   "metadata": {},
   "outputs": [],
   "source": [
    "def check_error_omsk(df:pd.DataFrame,border,size_range,amendment):\n",
    "    \"\"\"\n",
    "    Функция для проверки на ошибки\n",
    "    \"\"\"\n",
    "\n",
    "    error_df = pd.DataFrame(columns=['Строка или колонка с ошибкой', 'Описание ошибки']) # датафрейм для ошибок\n",
    "    quantity_range = df.shape[0] // size_range #  получаем количество проходов которые нужно пройти\n",
    "    sameness_columns = ['1','2','3'] # список колонок которые нужно проверить на единообразие внутри диапазона\n",
    "    \n",
    "    # данные для проверки горизонтальной суммы по строкам колонка 6 должна быть равна сумме всех колонок за исключением excluded_cols\n",
    "    itog_cols = '6' # номер колонки по которой будет проверятся сумма по горизонтали \n",
    "    excluded_cols = ('1','2','3','4','5','8','9','10','11','34') # колонки которые не будут учитываться\n",
    "    \n",
    "    for i in range(quantity_range):\n",
    "        temp_df = df.iloc[border:border+size_range,:]\n",
    "        error_sameness_df = check_sameness_range(temp_df.copy(),sameness_columns,border,amendment) # проверка на единообразие\n",
    "        error_df = pd.concat([error_df, error_sameness_df], axis=0, ignore_index=True)\n",
    "     \n",
    "        border += 5 # смещаем диапазон\n",
    "    \n",
    "    \n",
    "        \n",
    "    all_horizont_error_df = check_horizont_all_sum_error_omsk(df.copy(),excluded_cols,itog_cols)\n",
    "    error_df = pd.concat([error_df, all_horizont_error_df], axis=0, ignore_index=True)\n",
    "    \n",
    "    \n",
    "    \n",
    "    \n",
    "    \n",
    "    \n",
    "    return error_df\n",
    "        \n",
    "        \n",
    "        \n",
    "        \n",
    "    \n",
    "    \n",
    "    \n",
    "    "
   ]
  },
  {
   "cell_type": "code",
   "execution_count": null,
   "id": "fad22298",
   "metadata": {},
   "outputs": [],
   "source": []
  },
  {
   "cell_type": "code",
   "execution_count": null,
   "id": "6d587880",
   "metadata": {},
   "outputs": [],
   "source": []
  },
  {
   "cell_type": "code",
   "execution_count": 1386,
   "id": "e7d509f6",
   "metadata": {},
   "outputs": [],
   "source": [
    "path_data_omsk = 'data/Омск/Трудоустройство_1_07_2023_выпуск_2022.xlsx'\n",
    "path_to_end_folder = 'data'\n",
    "# создаем датафрейм для регистрации ошибок\n",
    "error_df = pd.DataFrame(columns=['Строка или колонка с ошибкой', 'Описание ошибки'])"
   ]
  },
  {
   "cell_type": "code",
   "execution_count": 1387,
   "id": "50fd20da",
   "metadata": {},
   "outputs": [],
   "source": [
    "# загружаем файл\n",
    "df = pd.read_excel(f'{path_data_omsk}',dtype=str,skiprows=5)"
   ]
  },
  {
   "cell_type": "code",
   "execution_count": 1388,
   "id": "4a80dd1c",
   "metadata": {},
   "outputs": [],
   "source": [
    "df=df.iloc[:,:34] # убираем строки проверки"
   ]
  },
  {
   "cell_type": "code",
   "execution_count": 1389,
   "id": "d34dc905",
   "metadata": {},
   "outputs": [],
   "source": [
    "\n",
    "# заменяем названия колонок\n",
    "df.columns = list(map(str,range(1,df.shape[1]+1)))\n",
    "\n",
    "# колонки к которым надо применить числовые суммирование\n",
    "columns_to_apply = ['6','7','8','10','11','12','13','14','15','16','17','18','19','20','21','22','23'\n",
    "                    ,'24','25','26','27','28','29','30','31','32','33']\n",
    "df[columns_to_apply] = df[columns_to_apply].applymap(check_data) # обрабатываем\n"
   ]
  },
  {
   "cell_type": "code",
   "execution_count": 1390,
   "id": "b3f71c92",
   "metadata": {},
   "outputs": [
    {
     "data": {
      "text/plain": [
       "(2030, 34)"
      ]
     },
     "execution_count": 1390,
     "metadata": {},
     "output_type": "execute_result"
    }
   ],
   "source": [
    "df.shape"
   ]
  },
  {
   "cell_type": "code",
   "execution_count": 1391,
   "id": "f98e08a5",
   "metadata": {},
   "outputs": [],
   "source": [
    "# Проверяем на количество строк, должно быть кратно 5\n",
    "if df.shape[0] % 5 !=0:\n",
    "    temp_error_df = pd.DataFrame(data=[['',\n",
    "                                        'Количество строк не кратно 5 !!! Возможно пропущены строки с данными или есть лишние строки в конце таблицы']],\n",
    "                                 columns=['Строка или колонка с ошибкой',\n",
    "                                          'Описание ошибки'])\n",
    "    error_df = pd.concat([error_df, temp_error_df], axis=0, ignore_index=True)"
   ]
  },
  {
   "cell_type": "code",
   "execution_count": 1392,
   "id": "f377ab6c",
   "metadata": {},
   "outputs": [],
   "source": [
    "# Проверяем ошибки\n",
    "tup_correct = (7, 11)  # создаем кортеж  с поправками\n",
    "border = 0 # счетчик строк\n",
    "size_range = 5 # сколько строк занимает каждый диапазон\n",
    "check_error_df= check_error_omsk(df.copy(),border,size_range,tup_correct)\n",
    "error_df = pd.concat([error_df, check_error_df], axis=0, ignore_index=True)\n"
   ]
  },
  {
   "cell_type": "code",
   "execution_count": 1393,
   "id": "c906cca7",
   "metadata": {},
   "outputs": [
    {
     "data": {
      "text/html": [
       "<div>\n",
       "<style scoped>\n",
       "    .dataframe tbody tr th:only-of-type {\n",
       "        vertical-align: middle;\n",
       "    }\n",
       "\n",
       "    .dataframe tbody tr th {\n",
       "        vertical-align: top;\n",
       "    }\n",
       "\n",
       "    .dataframe thead th {\n",
       "        text-align: right;\n",
       "    }\n",
       "</style>\n",
       "<table border=\"1\" class=\"dataframe\">\n",
       "  <thead>\n",
       "    <tr style=\"text-align: right;\">\n",
       "      <th></th>\n",
       "      <th>1</th>\n",
       "      <th>2</th>\n",
       "      <th>3</th>\n",
       "      <th>4</th>\n",
       "      <th>5</th>\n",
       "      <th>6</th>\n",
       "      <th>7</th>\n",
       "      <th>8</th>\n",
       "      <th>9</th>\n",
       "      <th>10</th>\n",
       "      <th>...</th>\n",
       "      <th>25</th>\n",
       "      <th>26</th>\n",
       "      <th>27</th>\n",
       "      <th>28</th>\n",
       "      <th>29</th>\n",
       "      <th>30</th>\n",
       "      <th>31</th>\n",
       "      <th>32</th>\n",
       "      <th>33</th>\n",
       "      <th>34</th>\n",
       "    </tr>\n",
       "  </thead>\n",
       "  <tbody>\n",
       "    <tr>\n",
       "      <th>0</th>\n",
       "      <td>БПОУ \"Седельниковский агропромышленный техникум\"</td>\n",
       "      <td>23.01.03</td>\n",
       "      <td>Автомеханик</td>\n",
       "      <td>01</td>\n",
       "      <td>Всего</td>\n",
       "      <td>22</td>\n",
       "      <td>5</td>\n",
       "      <td>1</td>\n",
       "      <td>1 чел -ПАО \"ОПК-Сатурн\" ОМКБ</td>\n",
       "      <td>4</td>\n",
       "      <td>...</td>\n",
       "      <td>0</td>\n",
       "      <td>0</td>\n",
       "      <td>0</td>\n",
       "      <td>1</td>\n",
       "      <td>0</td>\n",
       "      <td>0</td>\n",
       "      <td>0</td>\n",
       "      <td>0</td>\n",
       "      <td>0</td>\n",
       "      <td>Опрос-6 чел</td>\n",
       "    </tr>\n",
       "  </tbody>\n",
       "</table>\n",
       "<p>1 rows × 34 columns</p>\n",
       "</div>"
      ],
      "text/plain": [
       "                                                  1         2            3  \\\n",
       "0  БПОУ \"Седельниковский агропромышленный техникум\"  23.01.03  Автомеханик   \n",
       "\n",
       "    4      5   6  7  8                             9  10  ...  25  26  27  28  \\\n",
       "0  01  Всего  22  5  1  1 чел -ПАО \"ОПК-Сатурн\" ОМКБ   4  ...   0   0   0   1   \n",
       "\n",
       "   29  30  31  32  33           34  \n",
       "0   0   0   0   0   0  Опрос-6 чел  \n",
       "\n",
       "[1 rows x 34 columns]"
      ]
     },
     "execution_count": 1393,
     "metadata": {},
     "output_type": "execute_result"
    }
   ],
   "source": [
    "df.head(1)"
   ]
  },
  {
   "cell_type": "code",
   "execution_count": 1394,
   "id": "fe743c7d",
   "metadata": {},
   "outputs": [],
   "source": [
    "# заполняем нан в текстовых колонках\n",
    "df['9'] = df['9'].fillna('Не заполнено')\n",
    "df['34'] = df['34'].fillna('Не заполнено')"
   ]
  },
  {
   "cell_type": "code",
   "execution_count": 1395,
   "id": "0e56cab3",
   "metadata": {},
   "outputs": [],
   "source": [
    "# проводим группировку\n",
    "df = df.groupby(['2','3','4','5']).agg({'6':sum,'7':sum,'8':sum,'9':sum,'10':sum,'11':sum,'12':sum,'13':sum,'14':sum,'15':sum,'16':sum,\n",
    "                                   '17':sum,'18':sum,'19':sum,'20':sum,'21':sum,'22':sum,'23':sum,'24':sum,'25':sum,'26':sum,'27':sum,\n",
    "                                   '28':sum,'29':sum,'30':sum,'31':sum,'32':sum,'33':sum,'9':group_text_value,'34':group_text_value})"
   ]
  },
  {
   "cell_type": "code",
   "execution_count": 1396,
   "id": "c8588259",
   "metadata": {},
   "outputs": [],
   "source": [
    "# вытаскиваем индексы\n",
    "df = df.reset_index()"
   ]
  },
  {
   "cell_type": "code",
   "execution_count": null,
   "id": "82af2347",
   "metadata": {},
   "outputs": [],
   "source": []
  },
  {
   "cell_type": "code",
   "execution_count": 1397,
   "id": "e4e878fd",
   "metadata": {},
   "outputs": [
    {
     "data": {
      "text/html": [
       "<div>\n",
       "<style scoped>\n",
       "    .dataframe tbody tr th:only-of-type {\n",
       "        vertical-align: middle;\n",
       "    }\n",
       "\n",
       "    .dataframe tbody tr th {\n",
       "        vertical-align: top;\n",
       "    }\n",
       "\n",
       "    .dataframe thead th {\n",
       "        text-align: right;\n",
       "    }\n",
       "</style>\n",
       "<table border=\"1\" class=\"dataframe\">\n",
       "  <thead>\n",
       "    <tr style=\"text-align: right;\">\n",
       "      <th></th>\n",
       "      <th>Строка или колонка с ошибкой</th>\n",
       "      <th>Описание ошибки</th>\n",
       "    </tr>\n",
       "  </thead>\n",
       "  <tbody>\n",
       "  </tbody>\n",
       "</table>\n",
       "</div>"
      ],
      "text/plain": [
       "Empty DataFrame\n",
       "Columns: [Строка или колонка с ошибкой, Описание ошибки]\n",
       "Index: []"
      ]
     },
     "execution_count": 1397,
     "metadata": {},
     "output_type": "execute_result"
    }
   ],
   "source": [
    "error_df"
   ]
  },
  {
   "cell_type": "code",
   "execution_count": null,
   "id": "2b8ac2e2",
   "metadata": {},
   "outputs": [],
   "source": []
  }
 ],
 "metadata": {
  "kernelspec": {
   "display_name": "Python 3 (ipykernel)",
   "language": "python",
   "name": "python3"
  },
  "language_info": {
   "codemirror_mode": {
    "name": "ipython",
    "version": 3
   },
   "file_extension": ".py",
   "mimetype": "text/x-python",
   "name": "python",
   "nbconvert_exporter": "python",
   "pygments_lexer": "ipython3",
   "version": "3.9.7"
  }
 },
 "nbformat": 4,
 "nbformat_minor": 5
}
