{
 "cells": [
  {
   "cell_type": "code",
   "execution_count": 94,
   "id": "bb4df99e",
   "metadata": {},
   "outputs": [
    {
     "data": {
      "text/plain": [
       "'\\nСкрипт для обработки общйе таблицы Омского ЦОПП. \\n'"
      ]
     },
     "execution_count": 94,
     "metadata": {},
     "output_type": "execute_result"
    }
   ],
   "source": [
    "\"\"\"\n",
    "Скрипт для обработки общйе таблицы Омского ЦОПП. \n",
    "\"\"\""
   ]
  },
  {
   "cell_type": "code",
   "execution_count": 95,
   "id": "36cd15d2",
   "metadata": {},
   "outputs": [],
   "source": [
    "# -*- coding: utf-8 -*-\n",
    "import pandas as pd\n",
    "import numpy as np\n",
    "import tkinter\n",
    "import sys\n",
    "import os\n",
    "from tkinter import *\n",
    "from tkinter import filedialog\n",
    "from tkinter import messagebox\n",
    "from tkinter import ttk\n",
    "import time\n",
    "\n",
    "pd.options.mode.chained_assignment = None  # default='warn'\n",
    "import warnings\n",
    "\n",
    "warnings.filterwarnings('ignore', category=UserWarning, module='openpyxl')\n",
    "warnings.filterwarnings('ignore', category=DeprecationWarning)\n",
    "warnings.filterwarnings('ignore', category=FutureWarning)\n",
    "import copy\n",
    "import openpyxl\n",
    "from openpyxl.utils.dataframe import dataframe_to_rows\n",
    "import re\n",
    "import random"
   ]
  },
  {
   "cell_type": "code",
   "execution_count": 96,
   "id": "99df3611",
   "metadata": {},
   "outputs": [],
   "source": [
    "def check_data(cell):\n",
    "    \"\"\"\n",
    "    Метод для проверки значения ячейки\n",
    "    :param cell: значение ячейки\n",
    "    :return: число в формате int\n",
    "    \"\"\"\n",
    "    if cell is np.nan:\n",
    "        return 0\n",
    "    if cell.isdigit():\n",
    "        return int(cell)\n",
    "    else:\n",
    "        return 0"
   ]
  },
  {
   "cell_type": "code",
   "execution_count": 97,
   "id": "0adf6d01",
   "metadata": {},
   "outputs": [],
   "source": [
    "def group_text_value(value):\n",
    "    \"\"\"\n",
    "    функция для группировки текстовых данных, группирует только заполненные строки\n",
    "    \"\"\"\n",
    "    tmp_set = set(value.tolist()) # создаем множество\n",
    "    tmp_set.discard('Не заполнено')\n",
    "    tmp_set.discard('0')\n",
    "    return ';'.join(tmp_set)\n",
    "\n"
   ]
  },
  {
   "cell_type": "code",
   "execution_count": 98,
   "id": "34aafb67",
   "metadata": {},
   "outputs": [],
   "source": [
    "def check_sameness_range(df:pd.DataFrame,names_columns:list,border,amendment):\n",
    "    \n",
    "    \"\"\"    \n",
    "    Функция для проверки единнобразия значений в колонке по диапазонам\n",
    "    \"\"\"\n",
    "    # получаем поправки для того чтобы диапазон ошибки указывался корректно\n",
    "    first_correct = amendment[0]\n",
    "    second_correct = amendment[1] \n",
    "    _error_df = pd.DataFrame(columns=['Строка или колонка с ошибкой', 'Описание ошибки']) # датафрейм для ошибок\n",
    "    for column in names_columns:\n",
    "        _temp_set = set(df[column].tolist())\n",
    "        if len(_temp_set) != 1:\n",
    "            temp_error_df = pd.DataFrame(data=[[f'Диапазон строк {border + first_correct} - {border+second_correct},Колонка {column}',\n",
    "                                        'В указанном диапазоне и колонке  должны быть одинаковые значения во избежание ошибок при подсчете,если указан диапазон вне таблицы то удалите строки этого диапазона']],\n",
    "                                 columns=['Строка или колонка с ошибкой',\n",
    "                                          'Описание ошибки'])\n",
    "            _error_df = pd.concat([error_df, temp_error_df], axis=0, ignore_index=True)\n",
    "    return _error_df\n",
    "        "
   ]
  },
  {
   "cell_type": "code",
   "execution_count": 99,
   "id": "53c3bd8d",
   "metadata": {},
   "outputs": [],
   "source": [
    "def check_horizont_all_sum_error_omsk(df: pd.DataFrame, tup_exluded_cols: tuple, name_itog_cols):\n",
    "    \"\"\"\n",
    "    Функция для проверки горизонтальных сумм по всей строке\n",
    "    сумма в колонке 05 должна быть равна сумме всех колонок за исключением 07 и 15 Пример\n",
    "    \"\"\"\n",
    "    # получаем список колонок\n",
    "    all_sum_cols = list(df)\n",
    "    # удаляем колонки\n",
    "    for name_cols in tup_exluded_cols:\n",
    "        all_sum_cols.remove(name_cols)\n",
    "    # удаляем итоговую колонку\n",
    "    all_sum_cols.remove(name_itog_cols)\n",
    "\n",
    "    # получаем сумму колонок за вычетом исключаемых и итоговой колонки\n",
    "    df['Сумма'] = df[all_sum_cols].sum(axis=1)\n",
    "    # Проводим проверку\n",
    "    df['Результат'] = df[name_itog_cols] == df['Сумма']\n",
    "    df['Результат'] = df['Результат'].apply(lambda x: 'Правильно' if x else 'Неправильно')\n",
    "    # получаем датафрейм с ошибками и извлекаем индекс\n",
    "    df = df[df['Результат'] == 'Неправильно'].reset_index()\n",
    "    df.to_excel('dsds.xlsx',index=False)\n",
    "    # создаем датафрейм дял добавления в ошибки\n",
    "    temp_error_df = pd.DataFrame(columns=['Строка или колонка с ошибкой', 'Описание ошибки', ])\n",
    "    # обрабатываем индексы строк с ошибками чтобы строки совпадали с файлом excel\n",
    "    raw_lst_index = df['index'].tolist()  # делаем список\n",
    "    finish_lst_index = list(map(lambda x: x + 1, raw_lst_index))\n",
    "    finish_lst_index = list(map(lambda x: f'Строка {x+6}', finish_lst_index))\n",
    "    temp_error_df['Строка или колонка с ошибкой'] = finish_lst_index\n",
    "    temp_error_df[\n",
    "        'Описание ошибки'] = f'Не выполняется условие: гр. {name_itog_cols} = сумма остальных гр. за искл.{tup_exluded_cols}!!!'\n",
    "    return temp_error_df"
   ]
  },
  {
   "cell_type": "code",
   "execution_count": 100,
   "id": "55aedf36",
   "metadata": {},
   "outputs": [],
   "source": [
    "def check_first_error_omsk(df: pd.DataFrame,tup_correct):\n",
    "    \"\"\"\n",
    "    Функция для проверки гр. 8 и гр. 10 и 11 и  < гр. 7\n",
    "    \"\"\"\n",
    "    # получаем строку диапазона\n",
    "    first_correct = tup_correct[0]\n",
    "\n",
    "    # Проводим проверку\n",
    "    df['Результат'] = (df['7'] >= df['8']) & (df['7'] >= df['10']) & (df['7'] >= df['11'])\n",
    "    # заменяем булевые значения на понятные\n",
    "    df['Результат'] = df['Результат'].apply(lambda x: 'Правильно' if x else 'Неправильно')\n",
    "    # получаем датафрейм с ошибками и извлекаем индекс\n",
    "    df = df[df['Результат'] == 'Неправильно'].reset_index()\n",
    "    # создаем датафрейм дял добавления в ошибки\n",
    "    temp_error_df = pd.DataFrame(columns=['Строка или колонка с ошибкой', 'Описание ошибки'])\n",
    "    # обрабатываем индексы строк с ошибками чтобы строки совпадали с файлом excel\n",
    "    raw_lst_index = df['index'].tolist()  # делаем список\n",
    "    finish_lst_index = list(map(lambda x: x + first_correct, raw_lst_index))\n",
    "    finish_lst_index = list(map(lambda x: f'Строка {str(x)}', finish_lst_index))\n",
    "    temp_error_df['Строка или колонка с ошибкой'] = finish_lst_index\n",
    "    temp_error_df['Описание ошибки'] = 'Не выполняется условие: гр. 8 <= гр.7  или гр. 10 <= гр. 7 или гр. 11<= 7 '\n",
    "    return temp_error_df"
   ]
  },
  {
   "cell_type": "code",
   "execution_count": 101,
   "id": "36e6f882",
   "metadata": {},
   "outputs": [],
   "source": [
    "def check_vertical_chosen_sum_omsk(df: pd.DataFrame, lst_checked_rows: list, itog_row,border,amendment):\n",
    "    \"\"\"\n",
    "    Функция для проверки вертикальной суммы заданных строк сумма значений в tupl_checked_row должна быть равной ил меньше чем значение\n",
    "    в itog_row\n",
    "    \"\"\"\n",
    "    _error_df = pd.DataFrame(columns=['Строка или колонка с ошибкой', 'Описание ошибки']) # датафрейм для ошибок\n",
    "    first_correct = amendment[0]\n",
    "    second_correct = amendment[1] \n",
    "\n",
    "    # обрабаотываем список строк чтобы привести его в читаемый вид\n",
    "    lst_out_rows = list(map(lambda x: x + 1, lst_checked_rows))\n",
    "\n",
    "    # делаем значения строковыми\n",
    "    lst_out_rows = list(map(str, lst_out_rows))\n",
    "    # Добавляем ноль в строки\n",
    "    lst_out_rows = list(map(lambda x: '0' + x, lst_out_rows))\n",
    "    # обрабатываем формат выходной строки\n",
    "    out_itog_row = f'0{str(itog_row + 1)}'\n",
    "\n",
    "    # создаем временный датафрейм\n",
    "    foo_df = pd.DataFrame()\n",
    "    # разворачиваем строки в колонки\n",
    "    for idx_row in lst_checked_rows:\n",
    "        foo_df[idx_row] = df.iloc[idx_row, :]\n",
    "    # добавляем итоговую колонку\n",
    "    foo_df[itog_row] = df.iloc[itog_row, :]\n",
    "\n",
    "    # суммируем\n",
    "    \n",
    "    foo_df['Сумма'] = foo_df[lst_checked_rows].sum(axis=1)    \n",
    "    foo_df['Результат'] = foo_df[itog_row] >= foo_df['Сумма']\n",
    "\n",
    "\n",
    "    foo_df['Результат'] = foo_df['Результат'].apply(lambda x: 'Правильно' if x else 'Неправильно')\n",
    "    # получаем датафрейм с ошибками и извлекаем индекс\n",
    "    error_df = foo_df[foo_df['Результат'] == 'Неправильно'].reset_index()\n",
    "    # Добавляем слово колонка\n",
    "    error_df['index'] = error_df['index'].apply(lambda x: 'Колонка ' + str(x))\n",
    "    # создаем датафрейм дkz добавления в ошибки\n",
    "    \n",
    "    for row in  error_df.itertuples():\n",
    "        print(row[1])\n",
    "        temp_error_df = pd.DataFrame(data=[[f'Диапазон строк {border + first_correct} - {border+second_correct} {row[1]}',\n",
    "                                            f'В указанном диапазоне и колонке  не соблюдается условие по вертикали']],\n",
    "                                     columns=['Строка или колонка с ошибкой',\n",
    "                                              'Описание ошибки'])\n",
    "        _error_df = pd.concat([_error_df, temp_error_df], axis=0, ignore_index=True)\n",
    "        \n",
    "\n",
    "    return _error_df"
   ]
  },
  {
   "cell_type": "code",
   "execution_count": 102,
   "id": "33174054",
   "metadata": {},
   "outputs": [],
   "source": [
    "def check_error_omsk(df:pd.DataFrame,border,size_range,amendment):\n",
    "    \"\"\"\n",
    "    Функция для проверки на ошибки\n",
    "    \"\"\"\n",
    "    # колонки c с числами\n",
    "    columns_to_apply = ['6','7','8','10','11','12','13','14','15','16','17','18','19','20','21','22','23'\n",
    "                    ,'24','25','26','27','28','29','30','31','32','33']\n",
    "    \n",
    "\n",
    "    error_df = pd.DataFrame(columns=['Строка или колонка с ошибкой', 'Описание ошибки']) # датафрейм для ошибок\n",
    "    quantity_range = df.shape[0] // size_range #  получаем количество проходов которые нужно пройти\n",
    "    sameness_columns = ['1','2','3'] # список колонок которые нужно проверить на единообразие внутри диапазона\n",
    "    \n",
    "    # данные для проверки горизонтальной суммы по строкам колонка 6 должна быть равна сумме всех колонок за исключением excluded_cols\n",
    "    itog_cols = '6' # номер колонки по которой будет проверятся сумма по горизонтали \n",
    "    excluded_cols = ('1','2','3','4','5','8','9','10','11','34') # колонки которые не будут учитываться\n",
    "    \n",
    "    # данные для проверки строк\n",
    "    \n",
    "    \n",
    "    for i in range(quantity_range):\n",
    "        temp_df = df.iloc[border:border+size_range,:]\n",
    "        error_sameness_df = check_sameness_range(temp_df.copy(),sameness_columns,border,amendment) # проверка на единообразие\n",
    "        error_df = pd.concat([error_df, error_sameness_df], axis=0, ignore_index=True)\n",
    "        \n",
    "            # Проверяем строки - стр 03 <= стр 02\n",
    "        vertical_first_error_df = check_vertical_chosen_sum_omsk(temp_df[columns_to_apply],[2],1,border,amendment)\n",
    "        error_df = pd.concat([error_df, vertical_first_error_df], axis=0, ignore_index=True)\n",
    "        # Проверяем строки - 01 >=02,04,05\n",
    "        vertical_second_error_df = check_vertical_chosen_sum_omsk(temp_df[columns_to_apply],[1,3,4],0,border,amendment)\n",
    "        error_df = pd.concat([error_df, vertical_second_error_df], axis=0, ignore_index=True)\n",
    "        \n",
    "        \n",
    "     \n",
    "        border += 5 # смещаем диапазон\n",
    "    \n",
    "    \n",
    "    # Проверяем сумму по всем строкам. Колонка Всего(6) должна быть равна остальным колонкам за исключением категорий трудоустроенных   \n",
    "    all_horizont_error_df = check_horizont_all_sum_error_omsk(df.copy(),excluded_cols,itog_cols)\n",
    "    error_df = pd.concat([error_df, all_horizont_error_df], axis=0, ignore_index=True)\n",
    "    \n",
    "    # Проверяем сумму 7 колонки (Трудоустроено) и всех колонок подкатегорий\n",
    "    chosen_horizint_error_df = check_first_error_omsk(df.copy(),amendment)\n",
    "    error_df = pd.concat([error_df, chosen_horizint_error_df], axis=0, ignore_index=True)\n",
    "    \n",
    "\n",
    "    \n",
    "    \n",
    "    \n",
    "    \n",
    "    \n",
    "    \n",
    "    \n",
    "    return error_df\n",
    "        \n",
    "        \n",
    "        \n",
    "        \n",
    "    \n",
    "    \n",
    "    \n",
    "    "
   ]
  },
  {
   "cell_type": "code",
   "execution_count": null,
   "id": "d4a18665",
   "metadata": {},
   "outputs": [],
   "source": []
  },
  {
   "cell_type": "code",
   "execution_count": null,
   "id": "0fdacb03",
   "metadata": {},
   "outputs": [],
   "source": []
  },
  {
   "cell_type": "code",
   "execution_count": 103,
   "id": "0307fdb0",
   "metadata": {},
   "outputs": [],
   "source": [
    "path_data_omsk = 'data/Омск/Трудоустройство_1_07_2023_выпуск_2022.xlsx'\n",
    "#path_data_omsk = 'data/Омск/Проверка горизонтальной суммы.xlsx'\n",
    "\n",
    "path_to_end_folder = 'data'\n",
    "# создаем датафрейм для регистрации ошибок\n",
    "error_df = pd.DataFrame(columns=['Строка или колонка с ошибкой', 'Описание ошибки'])"
   ]
  },
  {
   "cell_type": "code",
   "execution_count": 104,
   "id": "0573e9ef",
   "metadata": {},
   "outputs": [],
   "source": [
    "# загружаем файл\n",
    "df = pd.read_excel(f'{path_data_omsk}',dtype=str,skiprows=5)"
   ]
  },
  {
   "cell_type": "code",
   "execution_count": 105,
   "id": "37695158",
   "metadata": {},
   "outputs": [],
   "source": [
    "df=df.iloc[:,:34] # убираем строки проверки"
   ]
  },
  {
   "cell_type": "code",
   "execution_count": 106,
   "id": "141f1745",
   "metadata": {},
   "outputs": [],
   "source": [
    "\n",
    "# заменяем названия колонок\n",
    "df.columns = list(map(str,range(1,df.shape[1]+1)))\n",
    "\n",
    "# колонки к которым надо применить числовые суммирование\n",
    "columns_to_apply = ['6','7','8','10','11','12','13','14','15','16','17','18','19','20','21','22','23'\n",
    "                    ,'24','25','26','27','28','29','30','31','32','33']\n",
    "df[columns_to_apply] = df[columns_to_apply].applymap(check_data) # обрабатываем\n"
   ]
  },
  {
   "cell_type": "code",
   "execution_count": 107,
   "id": "c77fd608",
   "metadata": {},
   "outputs": [
    {
     "data": {
      "text/plain": [
       "(2030, 34)"
      ]
     },
     "execution_count": 107,
     "metadata": {},
     "output_type": "execute_result"
    }
   ],
   "source": [
    "df.shape"
   ]
  },
  {
   "cell_type": "code",
   "execution_count": 108,
   "id": "01342302",
   "metadata": {},
   "outputs": [],
   "source": [
    "# Проверяем на количество строк, должно быть кратно 5\n",
    "if df.shape[0] % 5 !=0:\n",
    "    temp_error_df = pd.DataFrame(data=[['',\n",
    "                                        'Количество строк не кратно 5 !!! Возможно пропущены строки с данными или есть лишние строки в конце таблицы']],\n",
    "                                 columns=['Строка или колонка с ошибкой',\n",
    "                                          'Описание ошибки'])\n",
    "    error_df = pd.concat([error_df, temp_error_df], axis=0, ignore_index=True)"
   ]
  },
  {
   "cell_type": "code",
   "execution_count": 109,
   "id": "b84dc5b2",
   "metadata": {},
   "outputs": [
    {
     "name": "stdout",
     "output_type": "stream",
     "text": [
      "Колонка 11\n"
     ]
    }
   ],
   "source": [
    "# Проверяем ошибки\n",
    "tup_correct = (7, 11)  # создаем кортеж  с поправками\n",
    "border = 0 # счетчик строк\n",
    "size_range = 5 # сколько строк занимает каждый диапазон\n",
    "check_error_df= check_error_omsk(df.copy(),border,size_range,tup_correct)\n",
    "error_df = pd.concat([error_df, check_error_df], axis=0, ignore_index=True)\n"
   ]
  },
  {
   "cell_type": "code",
   "execution_count": 110,
   "id": "3367e755",
   "metadata": {},
   "outputs": [
    {
     "data": {
      "text/html": [
       "<div>\n",
       "<style scoped>\n",
       "    .dataframe tbody tr th:only-of-type {\n",
       "        vertical-align: middle;\n",
       "    }\n",
       "\n",
       "    .dataframe tbody tr th {\n",
       "        vertical-align: top;\n",
       "    }\n",
       "\n",
       "    .dataframe thead th {\n",
       "        text-align: right;\n",
       "    }\n",
       "</style>\n",
       "<table border=\"1\" class=\"dataframe\">\n",
       "  <thead>\n",
       "    <tr style=\"text-align: right;\">\n",
       "      <th></th>\n",
       "      <th>1</th>\n",
       "      <th>2</th>\n",
       "      <th>3</th>\n",
       "      <th>4</th>\n",
       "      <th>5</th>\n",
       "      <th>6</th>\n",
       "      <th>7</th>\n",
       "      <th>8</th>\n",
       "      <th>9</th>\n",
       "      <th>10</th>\n",
       "      <th>...</th>\n",
       "      <th>25</th>\n",
       "      <th>26</th>\n",
       "      <th>27</th>\n",
       "      <th>28</th>\n",
       "      <th>29</th>\n",
       "      <th>30</th>\n",
       "      <th>31</th>\n",
       "      <th>32</th>\n",
       "      <th>33</th>\n",
       "      <th>34</th>\n",
       "    </tr>\n",
       "  </thead>\n",
       "  <tbody>\n",
       "    <tr>\n",
       "      <th>0</th>\n",
       "      <td>БПОУ \"Седельниковский агропромышленный техникум\"</td>\n",
       "      <td>23.01.03</td>\n",
       "      <td>Автомеханик</td>\n",
       "      <td>01</td>\n",
       "      <td>Всего</td>\n",
       "      <td>22</td>\n",
       "      <td>5</td>\n",
       "      <td>1</td>\n",
       "      <td>1 чел -ПАО \"ОПК-Сатурн\" ОМКБ</td>\n",
       "      <td>4</td>\n",
       "      <td>...</td>\n",
       "      <td>0</td>\n",
       "      <td>0</td>\n",
       "      <td>0</td>\n",
       "      <td>1</td>\n",
       "      <td>0</td>\n",
       "      <td>0</td>\n",
       "      <td>0</td>\n",
       "      <td>0</td>\n",
       "      <td>0</td>\n",
       "      <td>Опрос-6 чел</td>\n",
       "    </tr>\n",
       "  </tbody>\n",
       "</table>\n",
       "<p>1 rows × 34 columns</p>\n",
       "</div>"
      ],
      "text/plain": [
       "                                                  1         2            3  \\\n",
       "0  БПОУ \"Седельниковский агропромышленный техникум\"  23.01.03  Автомеханик   \n",
       "\n",
       "    4      5   6  7  8                             9  10  ...  25  26  27  28  \\\n",
       "0  01  Всего  22  5  1  1 чел -ПАО \"ОПК-Сатурн\" ОМКБ   4  ...   0   0   0   1   \n",
       "\n",
       "   29  30  31  32  33           34  \n",
       "0   0   0   0   0   0  Опрос-6 чел  \n",
       "\n",
       "[1 rows x 34 columns]"
      ]
     },
     "execution_count": 110,
     "metadata": {},
     "output_type": "execute_result"
    }
   ],
   "source": [
    "df.head(1)"
   ]
  },
  {
   "cell_type": "code",
   "execution_count": 111,
   "id": "fd12b683",
   "metadata": {},
   "outputs": [],
   "source": [
    "# заполняем нан в текстовых колонках\n",
    "df['9'] = df['9'].fillna('Не заполнено')\n",
    "df['34'] = df['34'].fillna('Не заполнено')"
   ]
  },
  {
   "cell_type": "code",
   "execution_count": 112,
   "id": "32a55ddf",
   "metadata": {},
   "outputs": [],
   "source": [
    "# проводим группировку\n",
    "df = df.groupby(['2','3','4','5']).agg({'6':sum,'7':sum,'8':sum,'9':sum,'10':sum,'11':sum,'12':sum,'13':sum,'14':sum,'15':sum,'16':sum,\n",
    "                                   '17':sum,'18':sum,'19':sum,'20':sum,'21':sum,'22':sum,'23':sum,'24':sum,'25':sum,'26':sum,'27':sum,\n",
    "                                   '28':sum,'29':sum,'30':sum,'31':sum,'32':sum,'33':sum,'9':group_text_value,'34':group_text_value})"
   ]
  },
  {
   "cell_type": "code",
   "execution_count": 113,
   "id": "092b29a3",
   "metadata": {},
   "outputs": [],
   "source": [
    "# вытаскиваем индексы\n",
    "df = df.reset_index()"
   ]
  },
  {
   "cell_type": "code",
   "execution_count": 114,
   "id": "f70c51fa",
   "metadata": {},
   "outputs": [],
   "source": [
    "all_sum_df =df.sum(axis=0).to_frame().transpose() # создаем общую сумму по всем вычисляемым колонкам"
   ]
  },
  {
   "cell_type": "code",
   "execution_count": 115,
   "id": "8b0025b8",
   "metadata": {},
   "outputs": [],
   "source": [
    "all_sum_df.drop(columns=['2','3','4','5','34'],inplace=True) #удаляем лишние колонки"
   ]
  },
  {
   "cell_type": "code",
   "execution_count": 116,
   "id": "8fbae23b",
   "metadata": {},
   "outputs": [],
   "source": [
    "all_sum_df['9'] = '' # очищаем колонку 9"
   ]
  },
  {
   "cell_type": "code",
   "execution_count": 117,
   "id": "eb7a397e",
   "metadata": {},
   "outputs": [],
   "source": [
    "# присваиваем названия колонкам\n",
    "df.columns = ['Код','Наименование','Номер строки','Наименование показателей','Суммарный выпуск (человек)','Трудоустроены (по трудовому договору, договору ГПХ в соответствии с трудовым законодательством, законодательством  об обязательном пенсионном страховании)',\n",
    "              'В том числе на предприятия ОПК','Наименование предприятий','В том числе (из трудоустроенных): в соответствии с освоенной профессией, специальностью (исходя из осуществляемой трудовой функции',\n",
    "              'В том числе (из трудоустроенных): работают на протяжении не менее 4-х месяцев на последнем месте работы',\n",
    "              'Индивидуальные предприниматели','Самозанятые (перешедшие на специальный налоговый режим  - налог на профессиональный доход)',\n",
    "              'Продолжили обучение','Проходят службу в армии по призыву',\n",
    "              'Проходят службу в армии на контрактной основе, в органах внутренних дел, Государственной противопожарной службе, органах по контролю за оборотом наркотических средств и психотропных веществ, учреждениях и органах уголовно-исполнительной системы, войсках национальной гвардии Российской Федерации, органах принудительного исполнения Российской Федерации*',\n",
    "              'Находятся в отпуске по уходу за ребенком','Неформальная занятость','Зарегистрированы в центрах занятости в качестве безработных (получают пособие по безработице) и не планируют трудоустраиваться',\n",
    "              'Не имеют мотивации к трудоустройству (кроме зарегистрированных в качестве безработных) и не планируют трудоустраиваться, в том числе по причинам получения иных социальных льгот',\n",
    "              'Иные причины нахождения под риском нетрудоустройства','Смерть, тяжелое состояние здоровья','Находятся под следствием, отбывают наказание',\n",
    "              'Переезд за пределы Российской Федерации (кроме переезда в иные регионы - по ним регион должен располагать сведениями)','Не могут трудоустраиваться в связи с уходом за больными родственниками, в связи с иными семейными обстоятельствами',\n",
    "              'Выпускники из числа иностранных граждан, которые не имеют СНИЛС',\n",
    "              'Иное (в первую очередь выпускники распределяются по всем остальным графам. Данная графа предназначена для очень редких случаев. Если в нее включено более 1 из 200 выпускников - укажите причины в гр. 33',\n",
    "              'будут трудоустроены','будут осуществлять предпринимательскую деятельность','будут самозанятыми','будут призваны в армию',\n",
    "              'будут в армии на контрактной основе, в органах внутренних дел, Государственной противопожарной службе, органах по контролю за оборотом наркотических средств и психотропных веществ, учреждениях и органах уголовно-исполнительной системы, войсках национальной гвардии Российской Федерации, органах принудительного исполнения Российской Федерации*',\n",
    "              'будут продолжать обучение','Принимаемые меры по содействию занятости (тезисно - вид меры, охват выпускников мерой)']"
   ]
  },
  {
   "cell_type": "code",
   "execution_count": 118,
   "id": "f93ba3cf",
   "metadata": {},
   "outputs": [],
   "source": [
    "# генерируем текущее время\n",
    "t = time.localtime()\n",
    "current_time = time.strftime('%H_%M_%S', t)"
   ]
  },
  {
   "cell_type": "code",
   "execution_count": 119,
   "id": "19286c09",
   "metadata": {},
   "outputs": [],
   "source": [
    "with pd.ExcelWriter(f'{path_to_end_folder}/Свод Трудоустройство от {current_time}.xlsx') as writer:\n",
    "    df.to_excel(writer,sheet_name='СВОД',index=False)\n",
    "    all_sum_df.to_excel(writer,sheet_name='Итоги по колонкам',index=False)"
   ]
  },
  {
   "cell_type": "code",
   "execution_count": 120,
   "id": "264e124b",
   "metadata": {},
   "outputs": [],
   "source": [
    "# для ошибок\n",
    "# Создаем документ\n",
    "wb = openpyxl.Workbook()\n",
    "for r in dataframe_to_rows(error_df, index=False, header=True):\n",
    "    wb['Sheet'].append(r)\n",
    "\n",
    "wb['Sheet'].column_dimensions['A'].width = 40\n",
    "wb['Sheet'].column_dimensions['B'].width = 60\n",
    "\n",
    "\n",
    "wb.save(f'{path_to_end_folder}/ОШИБКИ от {current_time}.xlsx')"
   ]
  },
  {
   "cell_type": "code",
   "execution_count": null,
   "id": "9a768a34",
   "metadata": {},
   "outputs": [],
   "source": []
  },
  {
   "cell_type": "code",
   "execution_count": 121,
   "id": "00f48f03",
   "metadata": {},
   "outputs": [
    {
     "data": {
      "text/html": [
       "<div>\n",
       "<style scoped>\n",
       "    .dataframe tbody tr th:only-of-type {\n",
       "        vertical-align: middle;\n",
       "    }\n",
       "\n",
       "    .dataframe tbody tr th {\n",
       "        vertical-align: top;\n",
       "    }\n",
       "\n",
       "    .dataframe thead th {\n",
       "        text-align: right;\n",
       "    }\n",
       "</style>\n",
       "<table border=\"1\" class=\"dataframe\">\n",
       "  <thead>\n",
       "    <tr style=\"text-align: right;\">\n",
       "      <th></th>\n",
       "      <th>Строка или колонка с ошибкой</th>\n",
       "      <th>Описание ошибки</th>\n",
       "    </tr>\n",
       "  </thead>\n",
       "  <tbody>\n",
       "    <tr>\n",
       "      <th>0</th>\n",
       "      <td>Диапазон строк 877 - 881 Колонка 11</td>\n",
       "      <td>В указанном диапазоне и колонке  не соблюдаетс...</td>\n",
       "    </tr>\n",
       "    <tr>\n",
       "      <th>1</th>\n",
       "      <td>Строка 152</td>\n",
       "      <td>Не выполняется условие: гр. 8 &lt;= гр.7  или гр....</td>\n",
       "    </tr>\n",
       "    <tr>\n",
       "      <th>2</th>\n",
       "      <td>Строка 162</td>\n",
       "      <td>Не выполняется условие: гр. 8 &lt;= гр.7  или гр....</td>\n",
       "    </tr>\n",
       "    <tr>\n",
       "      <th>3</th>\n",
       "      <td>Строка 881</td>\n",
       "      <td>Не выполняется условие: гр. 8 &lt;= гр.7  или гр....</td>\n",
       "    </tr>\n",
       "    <tr>\n",
       "      <th>4</th>\n",
       "      <td>Строка 917</td>\n",
       "      <td>Не выполняется условие: гр. 8 &lt;= гр.7  или гр....</td>\n",
       "    </tr>\n",
       "  </tbody>\n",
       "</table>\n",
       "</div>"
      ],
      "text/plain": [
       "          Строка или колонка с ошибкой  \\\n",
       "0  Диапазон строк 877 - 881 Колонка 11   \n",
       "1                           Строка 152   \n",
       "2                           Строка 162   \n",
       "3                           Строка 881   \n",
       "4                           Строка 917   \n",
       "\n",
       "                                     Описание ошибки  \n",
       "0  В указанном диапазоне и колонке  не соблюдаетс...  \n",
       "1  Не выполняется условие: гр. 8 <= гр.7  или гр....  \n",
       "2  Не выполняется условие: гр. 8 <= гр.7  или гр....  \n",
       "3  Не выполняется условие: гр. 8 <= гр.7  или гр....  \n",
       "4  Не выполняется условие: гр. 8 <= гр.7  или гр....  "
      ]
     },
     "execution_count": 121,
     "metadata": {},
     "output_type": "execute_result"
    }
   ],
   "source": [
    "error_df"
   ]
  },
  {
   "cell_type": "code",
   "execution_count": null,
   "id": "39da8bbe",
   "metadata": {},
   "outputs": [],
   "source": []
  },
  {
   "cell_type": "code",
   "execution_count": null,
   "id": "0ebd0c30",
   "metadata": {},
   "outputs": [],
   "source": []
  }
 ],
 "metadata": {
  "kernelspec": {
   "display_name": "Python 3 (ipykernel)",
   "language": "python",
   "name": "python3"
  },
  "language_info": {
   "codemirror_mode": {
    "name": "ipython",
    "version": 3
   },
   "file_extension": ".py",
   "mimetype": "text/x-python",
   "name": "python",
   "nbconvert_exporter": "python",
   "pygments_lexer": "ipython3",
   "version": "3.9.13"
  }
 },
 "nbformat": 4,
 "nbformat_minor": 5
}
