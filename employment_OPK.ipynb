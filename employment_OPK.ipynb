{
 "cells": [
  {
   "cell_type": "code",
   "execution_count": 443,
   "id": "350b1265",
   "metadata": {},
   "outputs": [],
   "source": [
    "import pandas as pd\n",
    "import numpy as np\n",
    "import tkinter\n",
    "import sys\n",
    "import os\n",
    "from tkinter import *\n",
    "from tkinter import filedialog\n",
    "from tkinter import messagebox\n",
    "from tkinter import ttk\n",
    "import time\n",
    "# pd.options.mode.chained_assignment = None  # default='warn'\n",
    "import warnings\n",
    "warnings.filterwarnings('ignore', category=UserWarning, module='openpyxl')\n",
    "warnings.filterwarnings('ignore', category=DeprecationWarning)\n",
    "warnings.filterwarnings('ignore', category=FutureWarning)\n",
    "import copy\n",
    "import openpyxl\n",
    "from openpyxl.utils.dataframe import dataframe_to_rows\n",
    "import re\n",
    "import random"
   ]
  },
  {
   "cell_type": "code",
   "execution_count": 444,
   "id": "75418ccf",
   "metadata": {},
   "outputs": [],
   "source": [
    "path_folder_data = 'data/ОПК трудоустройство'"
   ]
  },
  {
   "cell_type": "code",
   "execution_count": 445,
   "id": "f5e1db21",
   "metadata": {},
   "outputs": [],
   "source": [
    "# создаем словарь верхнего уровня для каждого поо\n",
    "high_level_dct = {}\n",
    "# создаем датафрейм для регистрации ошибок\n",
    "error_df = pd.DataFrame(columns=['Название файла', 'Строка или колонка с ошибкой', 'Описание ошибки', ])"
   ]
  },
  {
   "cell_type": "code",
   "execution_count": null,
   "id": "78186f9c",
   "metadata": {},
   "outputs": [],
   "source": []
  },
  {
   "cell_type": "code",
   "execution_count": null,
   "id": "0883f3d5",
   "metadata": {},
   "outputs": [],
   "source": []
  },
  {
   "cell_type": "code",
   "execution_count": null,
   "id": "b5e57752",
   "metadata": {},
   "outputs": [],
   "source": []
  },
  {
   "cell_type": "code",
   "execution_count": null,
   "id": "e1cc82d3",
   "metadata": {},
   "outputs": [],
   "source": []
  },
  {
   "cell_type": "code",
   "execution_count": 446,
   "id": "0d0b6611",
   "metadata": {},
   "outputs": [
    {
     "name": "stdout",
     "output_type": "stream",
     "text": [
      "Мониторинг_трудоустройства_выпускников_форма\n"
     ]
    }
   ],
   "source": [
    "for file in os.listdir(path_folder_data):\n",
    "    if not file.startswith('~$') and file.endswith('.xlsx'):\n",
    "        name_file = file.split('.xlsx')[0]\n",
    "        print(name_file)\n",
    "        df_form1 = pd.read_excel(f'{path_folder_data}/{file}', skiprows=8, dtype=str)\n",
    "        # создаем множество колонок наличие которых мы проверяем\n",
    "        check_cols = {'01','02','03','04','05','06','07','08','09','10','11','12','13','14','15','16','17',\n",
    "                      '18','19','20','21','22','23','24','25','26','27','28','29','30','31','32','33','34','35','36',\n",
    "                     '37','38','39','40','41','42','43','44','45','46','47','48','49','50','51','52','53','54','55',\n",
    "                     '56','57','58','59','60','61','62','63','64','65','66','67','68','69','70','71','72','73','74',\n",
    "                     '75','76','77','78','79','80'}\n",
    "        if not check_cols.issubset(set(df_form1.columns)):\n",
    "            temp_error_df = pd.DataFrame(data=[[f'{name_file}', '',\n",
    "                                                'Проверьте заголовок таблицы в файле.Строка с номерами колонок (01,02,03 и т.д. как в исходной форме)\\n должна находиться на 5 строке! ДАННЫЕ ФАЙЛА НЕ ОБРАБОТАНЫ !!! ']],\n",
    "                                         columns=['Название файла', 'Строка или колонка с ошибкой',\n",
    "                                                  'Описание ошибки'])\n",
    "            error_df = pd.concat([error_df, temp_error_df], axis=0, ignore_index=True)\n",
    "            continue"
   ]
  },
  {
   "cell_type": "code",
   "execution_count": 447,
   "id": "e033c584",
   "metadata": {},
   "outputs": [
    {
     "data": {
      "text/plain": [
       "(0, 3)"
      ]
     },
     "execution_count": 447,
     "metadata": {},
     "output_type": "execute_result"
    }
   ],
   "source": [
    "error_df.shape"
   ]
  },
  {
   "cell_type": "code",
   "execution_count": 448,
   "id": "856737ee",
   "metadata": {},
   "outputs": [],
   "source": [
    "df_form1 = df_form1[df_form1['04'] != '03'] # фильтруем строки с проверкой"
   ]
  },
  {
   "cell_type": "code",
   "execution_count": 449,
   "id": "0b4a733d",
   "metadata": {},
   "outputs": [],
   "source": [
    "df_form1 = df_form1.loc[:,'01':'78'] # отсекаем возможную первую колонку и колонки с примечаниями"
   ]
  },
  {
   "cell_type": "code",
   "execution_count": 450,
   "id": "8bd6f862",
   "metadata": {},
   "outputs": [
    {
     "data": {
      "text/plain": [
       "(32, 78)"
      ]
     },
     "execution_count": 450,
     "metadata": {},
     "output_type": "execute_result"
    }
   ],
   "source": [
    "df_form1.shape"
   ]
  },
  {
   "cell_type": "code",
   "execution_count": 451,
   "id": "a7c4d7ef",
   "metadata": {},
   "outputs": [
    {
     "data": {
      "text/html": [
       "<div>\n",
       "<style scoped>\n",
       "    .dataframe tbody tr th:only-of-type {\n",
       "        vertical-align: middle;\n",
       "    }\n",
       "\n",
       "    .dataframe tbody tr th {\n",
       "        vertical-align: top;\n",
       "    }\n",
       "\n",
       "    .dataframe thead th {\n",
       "        text-align: right;\n",
       "    }\n",
       "</style>\n",
       "<table border=\"1\" class=\"dataframe\">\n",
       "  <thead>\n",
       "    <tr style=\"text-align: right;\">\n",
       "      <th></th>\n",
       "      <th>01</th>\n",
       "      <th>02</th>\n",
       "      <th>03</th>\n",
       "      <th>04</th>\n",
       "      <th>05</th>\n",
       "      <th>06</th>\n",
       "      <th>07</th>\n",
       "      <th>08</th>\n",
       "      <th>09</th>\n",
       "      <th>10</th>\n",
       "      <th>...</th>\n",
       "      <th>69</th>\n",
       "      <th>70</th>\n",
       "      <th>71</th>\n",
       "      <th>72</th>\n",
       "      <th>73</th>\n",
       "      <th>74</th>\n",
       "      <th>75</th>\n",
       "      <th>76</th>\n",
       "      <th>77</th>\n",
       "      <th>78</th>\n",
       "    </tr>\n",
       "  </thead>\n",
       "  <tbody>\n",
       "    <tr>\n",
       "      <th>40</th>\n",
       "      <td>Дальневосточный федеральный округ</td>\n",
       "      <td>Республика Бурятия</td>\n",
       "      <td>08.02.09 Монтаж, наладка и эксплуатация электр...</td>\n",
       "      <td>02</td>\n",
       "      <td>из строки 01: имеют договор о целевом обучении</td>\n",
       "      <td>NaN</td>\n",
       "      <td>NaN</td>\n",
       "      <td>NaN</td>\n",
       "      <td>NaN</td>\n",
       "      <td>NaN</td>\n",
       "      <td>...</td>\n",
       "      <td>NaN</td>\n",
       "      <td>NaN</td>\n",
       "      <td>NaN</td>\n",
       "      <td>NaN</td>\n",
       "      <td>NaN</td>\n",
       "      <td>NaN</td>\n",
       "      <td>NaN</td>\n",
       "      <td>NaN</td>\n",
       "      <td>NaN</td>\n",
       "      <td>NaN</td>\n",
       "    </tr>\n",
       "    <tr>\n",
       "      <th>42</th>\n",
       "      <td>Дальневосточный федеральный округ</td>\n",
       "      <td>Республика Бурятия</td>\n",
       "      <td>23.02.03 Техническое обслуживание и ремонт авт...</td>\n",
       "      <td>01</td>\n",
       "      <td>Всего (общая численность выпускников)</td>\n",
       "      <td>15</td>\n",
       "      <td>NaN</td>\n",
       "      <td>NaN</td>\n",
       "      <td>NaN</td>\n",
       "      <td>NaN</td>\n",
       "      <td>...</td>\n",
       "      <td>NaN</td>\n",
       "      <td>NaN</td>\n",
       "      <td>NaN</td>\n",
       "      <td>NaN</td>\n",
       "      <td>NaN</td>\n",
       "      <td>NaN</td>\n",
       "      <td>NaN</td>\n",
       "      <td>NaN</td>\n",
       "      <td>NaN</td>\n",
       "      <td>NaN</td>\n",
       "    </tr>\n",
       "    <tr>\n",
       "      <th>43</th>\n",
       "      <td>Дальневосточный федеральный округ</td>\n",
       "      <td>Республика Бурятия</td>\n",
       "      <td>23.02.03 Техническое обслуживание и ремонт авт...</td>\n",
       "      <td>02</td>\n",
       "      <td>из строки 01: имеют договор о целевом обучении</td>\n",
       "      <td>NaN</td>\n",
       "      <td>NaN</td>\n",
       "      <td>NaN</td>\n",
       "      <td>NaN</td>\n",
       "      <td>NaN</td>\n",
       "      <td>...</td>\n",
       "      <td>NaN</td>\n",
       "      <td>NaN</td>\n",
       "      <td>NaN</td>\n",
       "      <td>NaN</td>\n",
       "      <td>NaN</td>\n",
       "      <td>NaN</td>\n",
       "      <td>NaN</td>\n",
       "      <td>NaN</td>\n",
       "      <td>NaN</td>\n",
       "      <td>NaN</td>\n",
       "    </tr>\n",
       "    <tr>\n",
       "      <th>45</th>\n",
       "      <td>Дальневосточный федеральный округ</td>\n",
       "      <td>Республика Бурятия</td>\n",
       "      <td>43.01.09 Повар, кондитер</td>\n",
       "      <td>01</td>\n",
       "      <td>Всего (общая численность выпускников)</td>\n",
       "      <td>9</td>\n",
       "      <td>NaN</td>\n",
       "      <td>NaN</td>\n",
       "      <td>NaN</td>\n",
       "      <td>NaN</td>\n",
       "      <td>...</td>\n",
       "      <td>NaN</td>\n",
       "      <td>NaN</td>\n",
       "      <td>NaN</td>\n",
       "      <td>NaN</td>\n",
       "      <td>NaN</td>\n",
       "      <td>NaN</td>\n",
       "      <td>NaN</td>\n",
       "      <td>NaN</td>\n",
       "      <td>NaN</td>\n",
       "      <td>NaN</td>\n",
       "    </tr>\n",
       "    <tr>\n",
       "      <th>46</th>\n",
       "      <td>Дальневосточный федеральный округ</td>\n",
       "      <td>Республика Бурятия</td>\n",
       "      <td>43.01.09 Повар, кондитер</td>\n",
       "      <td>02</td>\n",
       "      <td>из строки 01: имеют договор о целевом обучении</td>\n",
       "      <td>NaN</td>\n",
       "      <td>NaN</td>\n",
       "      <td>NaN</td>\n",
       "      <td>NaN</td>\n",
       "      <td>NaN</td>\n",
       "      <td>...</td>\n",
       "      <td>NaN</td>\n",
       "      <td>NaN</td>\n",
       "      <td>NaN</td>\n",
       "      <td>NaN</td>\n",
       "      <td>NaN</td>\n",
       "      <td>NaN</td>\n",
       "      <td>NaN</td>\n",
       "      <td>NaN</td>\n",
       "      <td>NaN</td>\n",
       "      <td>NaN</td>\n",
       "    </tr>\n",
       "  </tbody>\n",
       "</table>\n",
       "<p>5 rows × 78 columns</p>\n",
       "</div>"
      ],
      "text/plain": [
       "                                   01                  02  \\\n",
       "40  Дальневосточный федеральный округ  Республика Бурятия   \n",
       "42  Дальневосточный федеральный округ  Республика Бурятия   \n",
       "43  Дальневосточный федеральный округ  Республика Бурятия   \n",
       "45  Дальневосточный федеральный округ  Республика Бурятия   \n",
       "46  Дальневосточный федеральный округ  Республика Бурятия   \n",
       "\n",
       "                                                   03  04  \\\n",
       "40  08.02.09 Монтаж, наладка и эксплуатация электр...  02   \n",
       "42  23.02.03 Техническое обслуживание и ремонт авт...  01   \n",
       "43  23.02.03 Техническое обслуживание и ремонт авт...  02   \n",
       "45                           43.01.09 Повар, кондитер  01   \n",
       "46                           43.01.09 Повар, кондитер  02   \n",
       "\n",
       "                                                05   06   07   08   09   10  \\\n",
       "40  из строки 01: имеют договор о целевом обучении  NaN  NaN  NaN  NaN  NaN   \n",
       "42           Всего (общая численность выпускников)   15  NaN  NaN  NaN  NaN   \n",
       "43  из строки 01: имеют договор о целевом обучении  NaN  NaN  NaN  NaN  NaN   \n",
       "45           Всего (общая численность выпускников)    9  NaN  NaN  NaN  NaN   \n",
       "46  из строки 01: имеют договор о целевом обучении  NaN  NaN  NaN  NaN  NaN   \n",
       "\n",
       "    ...   69   70   71   72   73   74   75   76   77   78  \n",
       "40  ...  NaN  NaN  NaN  NaN  NaN  NaN  NaN  NaN  NaN  NaN  \n",
       "42  ...  NaN  NaN  NaN  NaN  NaN  NaN  NaN  NaN  NaN  NaN  \n",
       "43  ...  NaN  NaN  NaN  NaN  NaN  NaN  NaN  NaN  NaN  NaN  \n",
       "45  ...  NaN  NaN  NaN  NaN  NaN  NaN  NaN  NaN  NaN  NaN  \n",
       "46  ...  NaN  NaN  NaN  NaN  NaN  NaN  NaN  NaN  NaN  NaN  \n",
       "\n",
       "[5 rows x 78 columns]"
      ]
     },
     "execution_count": 451,
     "metadata": {},
     "output_type": "execute_result"
    }
   ],
   "source": [
    "df_form1.tail()"
   ]
  },
  {
   "cell_type": "code",
   "execution_count": 452,
   "id": "304b35c0",
   "metadata": {},
   "outputs": [],
   "source": [
    "# получаем  часть с данными\n",
    "# Находим индекс первой пустой строки, если он есть,получаем список с значениями где есть пустые строки\n",
    "empty_row_index = np.where(df_form1.isna().all(axis=1))\n",
    "if empty_row_index[0].tolist():\n",
    "    row_index = empty_row_index[0][0]\n",
    "    df_form1 = df_form1.iloc[:row_index]"
   ]
  },
  {
   "cell_type": "code",
   "execution_count": 456,
   "id": "c57de76e",
   "metadata": {},
   "outputs": [],
   "source": [
    "\n"
   ]
  },
  {
   "cell_type": "code",
   "execution_count": null,
   "id": "76216d94",
   "metadata": {},
   "outputs": [],
   "source": []
  },
  {
   "cell_type": "code",
   "execution_count": null,
   "id": "d928f448",
   "metadata": {},
   "outputs": [],
   "source": []
  },
  {
   "cell_type": "code",
   "execution_count": null,
   "id": "e9651bdc",
   "metadata": {},
   "outputs": [],
   "source": []
  },
  {
   "cell_type": "code",
   "execution_count": null,
   "id": "08bb08bc",
   "metadata": {},
   "outputs": [],
   "source": []
  },
  {
   "cell_type": "code",
   "execution_count": null,
   "id": "56a97bb8",
   "metadata": {},
   "outputs": [],
   "source": []
  },
  {
   "cell_type": "code",
   "execution_count": null,
   "id": "cdca7d14",
   "metadata": {},
   "outputs": [],
   "source": []
  },
  {
   "cell_type": "code",
   "execution_count": 457,
   "id": "5f7127f8",
   "metadata": {},
   "outputs": [
    {
     "data": {
      "text/plain": [
       "(32, 78)"
      ]
     },
     "execution_count": 457,
     "metadata": {},
     "output_type": "execute_result"
    }
   ],
   "source": [
    "df_form1.shape"
   ]
  },
  {
   "cell_type": "code",
   "execution_count": null,
   "id": "a7254774",
   "metadata": {},
   "outputs": [],
   "source": []
  },
  {
   "cell_type": "code",
   "execution_count": null,
   "id": "9979ed3d",
   "metadata": {},
   "outputs": [],
   "source": []
  }
 ],
 "metadata": {
  "kernelspec": {
   "display_name": "Python 3 (ipykernel)",
   "language": "python",
   "name": "python3"
  },
  "language_info": {
   "codemirror_mode": {
    "name": "ipython",
    "version": 3
   },
   "file_extension": ".py",
   "mimetype": "text/x-python",
   "name": "python",
   "nbconvert_exporter": "python",
   "pygments_lexer": "ipython3",
   "version": "3.9.7"
  }
 },
 "nbformat": 4,
 "nbformat_minor": 5
}
