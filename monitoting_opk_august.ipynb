{
 "cells": [
  {
   "cell_type": "code",
   "execution_count": 303,
   "id": "ea7c1a2b",
   "metadata": {},
   "outputs": [
    {
     "data": {
      "text/plain": [
       "'\\nСкрипт для обработки форм мониторинга кадровой потребности ОПК августовская форма\\n'"
      ]
     },
     "execution_count": 303,
     "metadata": {},
     "output_type": "execute_result"
    }
   ],
   "source": [
    "\"\"\"\n",
    "Скрипт для обработки форм мониторинга кадровой потребности ОПК августовская форма\n",
    "\"\"\""
   ]
  },
  {
   "cell_type": "code",
   "execution_count": 304,
   "id": "8822b00a",
   "metadata": {},
   "outputs": [],
   "source": [
    "# -*- coding: UTF-8 -*-\n",
    "import pandas as pd\n",
    "import numpy as np\n",
    "import tkinter\n",
    "import sys\n",
    "import os\n",
    "from tkinter import *\n",
    "from tkinter import filedialog\n",
    "from tkinter import messagebox\n",
    "from tkinter import ttk\n",
    "import time\n",
    "# pd.options.mode.chained_assignment = None  # default='warn'\n",
    "import warnings\n",
    "\n",
    "warnings.filterwarnings('ignore', category=UserWarning, module='openpyxl')\n",
    "warnings.filterwarnings('ignore', category=DeprecationWarning)\n",
    "warnings.filterwarnings('ignore', category=FutureWarning)\n",
    "pd.options.mode.chained_assignment = None\n",
    "import copy\n",
    "import openpyxl\n",
    "from openpyxl.utils.dataframe import dataframe_to_rows\n",
    "import re\n",
    "import random\n",
    "pd.options.display.width = 0"
   ]
  },
  {
   "cell_type": "code",
   "execution_count": 305,
   "id": "d28110c4",
   "metadata": {},
   "outputs": [],
   "source": [
    "path_data_opk = 'data/Форма август'\n",
    "path_to_end_folder = 'data'\n",
    "file_form_data = 'data/Форма сбора данных.xlsx'"
   ]
  },
  {
   "cell_type": "code",
   "execution_count": 306,
   "id": "ec3d6178",
   "metadata": {},
   "outputs": [],
   "source": [
    "# дождусь пока форма не устаканится и потом добавллю эту проверку\n",
    "lst_mon_col = [f'гр.{i}' for i in range(1,26)] # создаем список для проверки колонок данных по мониторингу\n",
    "lst_act_col = [f'гр.{i}' for i in range(1,13)] # создаем список для проверки колонок данных по мерам\n"
   ]
  },
  {
   "cell_type": "code",
   "execution_count": 307,
   "id": "a4d581cf",
   "metadata": {},
   "outputs": [
    {
     "data": {
      "text/plain": [
       "['гр.1',\n",
       " 'гр.2',\n",
       " 'гр.3',\n",
       " 'гр.4',\n",
       " 'гр.5',\n",
       " 'гр.6',\n",
       " 'гр.7',\n",
       " 'гр.8',\n",
       " 'гр.9',\n",
       " 'гр.10',\n",
       " 'гр.11',\n",
       " 'гр.12']"
      ]
     },
     "execution_count": 307,
     "metadata": {},
     "output_type": "execute_result"
    }
   ],
   "source": [
    "lst_act_col"
   ]
  },
  {
   "cell_type": "code",
   "execution_count": 308,
   "id": "344aa551",
   "metadata": {},
   "outputs": [],
   "source": [
    "# Создаем итоговые датафреймы\n",
    "base_mon_df = pd.DataFrame(columns=lst_mon_col)\n",
    "base_action_df = pd.DataFrame(columns=lst_act_col)"
   ]
  },
  {
   "cell_type": "code",
   "execution_count": 309,
   "id": "24a0b2cb",
   "metadata": {},
   "outputs": [],
   "source": [
    "error_df = pd.DataFrame(columns=['Название файла', 'Строка или колонка с ошибкой', 'Описание ошибки', ]) # датафрейм с ошибками\n"
   ]
  },
  {
   "cell_type": "code",
   "execution_count": 310,
   "id": "32b4340c",
   "metadata": {},
   "outputs": [
    {
     "name": "stdout",
     "output_type": "stream",
     "text": [
      "Неправильное название\n",
      "Отсутствует лист\n",
      "Тестовая №1\n",
      "Тестовая №2\n"
     ]
    }
   ],
   "source": [
    "for file in os.listdir(path_data_opk):\n",
    "    if not file.startswith('~$') and file.endswith('.xls'):\n",
    "        name_file = file.split('.xls')[0]\n",
    "        temp_error_df = pd.DataFrame(data=[[f'{name_file}', '',\n",
    "                                            'Файл с расширением XLS (СТАРЫЙ ФОРМАТ EXCEL)!!! ДАННЫЕ ФАЙЛА НЕ ОБРАБОТАНЫ !!! ']],\n",
    "                                     columns=['Название файла', 'Строка или колонка с ошибкой',\n",
    "                                              'Описание ошибки'])\n",
    "        error_df = pd.concat([error_df, temp_error_df], axis=0, ignore_index=True)\n",
    "        continue\n",
    "    if not file.startswith('~$') and file.endswith('.xlsx'):\n",
    "        name_file = file.split('.xlsx')[0]\n",
    "        print(name_file)\n",
    "        # Проверяем наличие листов с названиями Форма 1 и Форма 2\n",
    "        wb_1 = openpyxl.load_workbook(f'{path_data_opk}/{file}')\n",
    "        if not {'Форма по мониторингу','Форма по принимаемым мерам'}.issubset(set(wb_1.sheetnames)):\n",
    "            temp_error_df = pd.DataFrame(data=[[f'{name_file}', '',\n",
    "                                                'Проверьте наличие листов с названием Форма по мониторингу и Форма по принимаемым мерам! Не должно быть пробелов в начале и в конце названия ДАННЫЕ ФАЙЛА НЕ ОБРАБОТАНЫ !!! ']],\n",
    "                                         columns=['Название файла', 'Строка или колонка с ошибкой',\n",
    "                                                  'Описание ошибки'])\n",
    "            error_df = pd.concat([error_df, temp_error_df], axis=0, ignore_index=True)\n",
    "            continue\n",
    "            \n",
    "    \n",
    "    # считываем датафреймы\n",
    "    df_mon = pd.read_excel(f'{path_data_opk}/{file}',sheet_name='Форма по мониторингу',dtype=str,skiprows=3,header=None) # лист с данными мониторинга\n",
    "    df_action = pd.read_excel(f'{path_data_opk}/{file}',sheet_name='Форма по принимаемым мерам',dtype=str,skiprows=3,header=None) # лист с данными по принимаемым мерам\n",
    "    \n",
    "    # Присваиваем названия колонкам\n",
    "    df_mon.columns = lst_mon_col\n",
    "    df_action.columns = lst_act_col\n",
    "\n",
    "    \n",
    "    # удаляем полностью пустые строки\n",
    "    df_mon.dropna(thresh=7,inplace=True)\n",
    "    df_action.dropna(thresh=7,inplace=True)\n",
    "    \n",
    "    # Проверяем совпадение ИНН.\n",
    "    \"\"\"\n",
    "    Проверка на ошибки\n",
    "    \"\"\"\n",
    "    \n",
    "    # добавляем название файла\n",
    "    df_mon['Название файла'] =name_file\n",
    "    df_action['Название файла'] = name_file\n",
    "    \n",
    "    # добавляем в базовые датафреймы\n",
    "    base_mon_df = pd.concat([base_mon_df,df_mon],ignore_index=True)\n",
    "    base_action_df = pd.concat([base_action_df,df_action],ignore_index=True)\n",
    "    \n",
    "    \n",
    "    \n",
    "        "
   ]
  },
  {
   "cell_type": "code",
   "execution_count": 311,
   "id": "b496d576",
   "metadata": {},
   "outputs": [
    {
     "data": {
      "text/html": [
       "<div>\n",
       "<style scoped>\n",
       "    .dataframe tbody tr th:only-of-type {\n",
       "        vertical-align: middle;\n",
       "    }\n",
       "\n",
       "    .dataframe tbody tr th {\n",
       "        vertical-align: top;\n",
       "    }\n",
       "\n",
       "    .dataframe thead th {\n",
       "        text-align: right;\n",
       "    }\n",
       "</style>\n",
       "<table border=\"1\" class=\"dataframe\">\n",
       "  <thead>\n",
       "    <tr style=\"text-align: right;\">\n",
       "      <th></th>\n",
       "      <th>гр.1</th>\n",
       "      <th>гр.2</th>\n",
       "      <th>гр.3</th>\n",
       "      <th>гр.4</th>\n",
       "      <th>гр.5</th>\n",
       "      <th>гр.6</th>\n",
       "      <th>гр.7</th>\n",
       "      <th>гр.8</th>\n",
       "      <th>гр.9</th>\n",
       "      <th>гр.10</th>\n",
       "      <th>...</th>\n",
       "      <th>гр.17</th>\n",
       "      <th>гр.18</th>\n",
       "      <th>гр.19</th>\n",
       "      <th>гр.20</th>\n",
       "      <th>гр.21</th>\n",
       "      <th>гр.22</th>\n",
       "      <th>гр.23</th>\n",
       "      <th>гр.24</th>\n",
       "      <th>гр.25</th>\n",
       "      <th>Название файла</th>\n",
       "    </tr>\n",
       "  </thead>\n",
       "  <tbody>\n",
       "    <tr>\n",
       "      <th>0</th>\n",
       "      <td>Республика Бурятия</td>\n",
       "      <td>0323053578</td>\n",
       "      <td>АО \"У-У ППО\"</td>\n",
       "      <td>Потребность имеется</td>\n",
       "      <td>Профессии рабочих</td>\n",
       "      <td>Авербандщик</td>\n",
       "      <td>2</td>\n",
       "      <td>29.02.08 Технология обработки алмазов</td>\n",
       "      <td>10</td>\n",
       "      <td>6</td>\n",
       "      <td>...</td>\n",
       "      <td>1</td>\n",
       "      <td>1</td>\n",
       "      <td>1</td>\n",
       "      <td>NaN</td>\n",
       "      <td>NaN</td>\n",
       "      <td>NaN</td>\n",
       "      <td>ВЕРНО</td>\n",
       "      <td>ВЕРНО</td>\n",
       "      <td>ВЕРНО</td>\n",
       "      <td>Тестовая №2</td>\n",
       "    </tr>\n",
       "    <tr>\n",
       "      <th>1</th>\n",
       "      <td>Республика Бурятия</td>\n",
       "      <td>0323053555</td>\n",
       "      <td>ООО Тест</td>\n",
       "      <td>Потребность отсутствует</td>\n",
       "      <td>NaN</td>\n",
       "      <td>NaN</td>\n",
       "      <td>NaN</td>\n",
       "      <td>NaN</td>\n",
       "      <td>NaN</td>\n",
       "      <td>NaN</td>\n",
       "      <td>...</td>\n",
       "      <td>NaN</td>\n",
       "      <td>NaN</td>\n",
       "      <td>NaN</td>\n",
       "      <td>NaN</td>\n",
       "      <td>NaN</td>\n",
       "      <td>NaN</td>\n",
       "      <td>ВЕРНО</td>\n",
       "      <td>ВЕРНО</td>\n",
       "      <td>ВЕРНО</td>\n",
       "      <td>Тестовая №2</td>\n",
       "    </tr>\n",
       "  </tbody>\n",
       "</table>\n",
       "<p>2 rows × 26 columns</p>\n",
       "</div>"
      ],
      "text/plain": [
       "                 гр.1        гр.2          гр.3                     гр.4  \\\n",
       "0  Республика Бурятия  0323053578  АО \"У-У ППО\"      Потребность имеется   \n",
       "1  Республика Бурятия  0323053555      ООО Тест  Потребность отсутствует   \n",
       "\n",
       "                гр.5         гр.6 гр.7                                   гр.8  \\\n",
       "0  Профессии рабочих  Авербандщик    2  29.02.08 Технология обработки алмазов   \n",
       "1                NaN          NaN  NaN                                    NaN   \n",
       "\n",
       "  гр.9 гр.10  ... гр.17 гр.18 гр.19 гр.20 гр.21 гр.22   гр.23  гр.24  гр.25  \\\n",
       "0   10     6  ...     1     1     1   NaN   NaN   NaN  ВЕРНО   ВЕРНО  ВЕРНО   \n",
       "1  NaN   NaN  ...   NaN   NaN   NaN   NaN   NaN   NaN  ВЕРНО   ВЕРНО  ВЕРНО   \n",
       "\n",
       "  Название файла  \n",
       "0    Тестовая №2  \n",
       "1    Тестовая №2  \n",
       "\n",
       "[2 rows x 26 columns]"
      ]
     },
     "execution_count": 311,
     "metadata": {},
     "output_type": "execute_result"
    }
   ],
   "source": [
    "df_mon"
   ]
  },
  {
   "cell_type": "code",
   "execution_count": 312,
   "id": "3f425bcc",
   "metadata": {},
   "outputs": [
    {
     "data": {
      "text/html": [
       "<div>\n",
       "<style scoped>\n",
       "    .dataframe tbody tr th:only-of-type {\n",
       "        vertical-align: middle;\n",
       "    }\n",
       "\n",
       "    .dataframe tbody tr th {\n",
       "        vertical-align: top;\n",
       "    }\n",
       "\n",
       "    .dataframe thead th {\n",
       "        text-align: right;\n",
       "    }\n",
       "</style>\n",
       "<table border=\"1\" class=\"dataframe\">\n",
       "  <thead>\n",
       "    <tr style=\"text-align: right;\">\n",
       "      <th></th>\n",
       "      <th>гр.1</th>\n",
       "      <th>гр.2</th>\n",
       "      <th>гр.3</th>\n",
       "      <th>гр.4</th>\n",
       "      <th>гр.5</th>\n",
       "      <th>гр.6</th>\n",
       "      <th>гр.7</th>\n",
       "      <th>гр.8</th>\n",
       "      <th>гр.9</th>\n",
       "      <th>гр.10</th>\n",
       "      <th>гр.11</th>\n",
       "      <th>гр.12</th>\n",
       "      <th>Название файла</th>\n",
       "    </tr>\n",
       "  </thead>\n",
       "  <tbody>\n",
       "  </tbody>\n",
       "</table>\n",
       "</div>"
      ],
      "text/plain": [
       "Empty DataFrame\n",
       "Columns: [гр.1, гр.2, гр.3, гр.4, гр.5, гр.6, гр.7, гр.8, гр.9, гр.10, гр.11, гр.12, Название файла]\n",
       "Index: []"
      ]
     },
     "execution_count": 312,
     "metadata": {},
     "output_type": "execute_result"
    }
   ],
   "source": [
    "df_action"
   ]
  },
  {
   "cell_type": "code",
   "execution_count": 313,
   "id": "fcd29e95",
   "metadata": {},
   "outputs": [],
   "source": [
    "t = time.localtime()\n",
    "current_time = time.strftime('%H_%M_%S', t)\n",
    "with pd.ExcelWriter(f'{path_to_end_folder}/Сводный файл ОПК от {current_time}.xlsx') as writer:\n",
    "    base_mon_df.to_excel(writer,sheet_name='Форма по мониторингу',index=False)\n",
    "    base_action_df.to_excel(writer,sheet_name='Форма по принимаемым мерам',index=False)"
   ]
  },
  {
   "cell_type": "code",
   "execution_count": 314,
   "id": "e3524205",
   "metadata": {},
   "outputs": [
    {
     "data": {
      "text/html": [
       "<div>\n",
       "<style scoped>\n",
       "    .dataframe tbody tr th:only-of-type {\n",
       "        vertical-align: middle;\n",
       "    }\n",
       "\n",
       "    .dataframe tbody tr th {\n",
       "        vertical-align: top;\n",
       "    }\n",
       "\n",
       "    .dataframe thead th {\n",
       "        text-align: right;\n",
       "    }\n",
       "</style>\n",
       "<table border=\"1\" class=\"dataframe\">\n",
       "  <thead>\n",
       "    <tr style=\"text-align: right;\">\n",
       "      <th></th>\n",
       "      <th>Название файла</th>\n",
       "      <th>Строка или колонка с ошибкой</th>\n",
       "      <th>Описание ошибки</th>\n",
       "    </tr>\n",
       "  </thead>\n",
       "  <tbody>\n",
       "    <tr>\n",
       "      <th>0</th>\n",
       "      <td>2003</td>\n",
       "      <td></td>\n",
       "      <td>Файл с расширением XLS (СТАРЫЙ ФОРМАТ EXCEL)!!...</td>\n",
       "    </tr>\n",
       "    <tr>\n",
       "      <th>1</th>\n",
       "      <td>Неправильное название</td>\n",
       "      <td></td>\n",
       "      <td>Проверьте наличие листов с названием Форма по ...</td>\n",
       "    </tr>\n",
       "    <tr>\n",
       "      <th>2</th>\n",
       "      <td>Отсутствует лист</td>\n",
       "      <td></td>\n",
       "      <td>Проверьте наличие листов с названием Форма по ...</td>\n",
       "    </tr>\n",
       "  </tbody>\n",
       "</table>\n",
       "</div>"
      ],
      "text/plain": [
       "          Название файла Строка или колонка с ошибкой  \\\n",
       "0                   2003                                \n",
       "1  Неправильное название                                \n",
       "2       Отсутствует лист                                \n",
       "\n",
       "                                     Описание ошибки  \n",
       "0  Файл с расширением XLS (СТАРЫЙ ФОРМАТ EXCEL)!!...  \n",
       "1  Проверьте наличие листов с названием Форма по ...  \n",
       "2  Проверьте наличие листов с названием Форма по ...  "
      ]
     },
     "execution_count": 314,
     "metadata": {},
     "output_type": "execute_result"
    }
   ],
   "source": [
    "error_df"
   ]
  },
  {
   "cell_type": "code",
   "execution_count": null,
   "id": "b69707c5",
   "metadata": {},
   "outputs": [],
   "source": []
  },
  {
   "cell_type": "code",
   "execution_count": null,
   "id": "4a5678d1",
   "metadata": {},
   "outputs": [],
   "source": []
  },
  {
   "cell_type": "code",
   "execution_count": null,
   "id": "e0ed97ce",
   "metadata": {},
   "outputs": [],
   "source": []
  },
  {
   "cell_type": "code",
   "execution_count": null,
   "id": "8726f51e",
   "metadata": {},
   "outputs": [],
   "source": []
  },
  {
   "cell_type": "code",
   "execution_count": null,
   "id": "145acc1c",
   "metadata": {},
   "outputs": [],
   "source": []
  }
 ],
 "metadata": {
  "kernelspec": {
   "display_name": "Python 3 (ipykernel)",
   "language": "python",
   "name": "python3"
  },
  "language_info": {
   "codemirror_mode": {
    "name": "ipython",
    "version": 3
   },
   "file_extension": ".py",
   "mimetype": "text/x-python",
   "name": "python",
   "nbconvert_exporter": "python",
   "pygments_lexer": "ipython3",
   "version": "3.9.13"
  }
 },
 "nbformat": 4,
 "nbformat_minor": 5
}
