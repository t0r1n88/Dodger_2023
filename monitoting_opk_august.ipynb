{
 "cells": [
  {
   "cell_type": "code",
   "execution_count": 65,
   "id": "0090fe1d",
   "metadata": {},
   "outputs": [
    {
     "data": {
      "text/plain": [
       "'\\nСкрипт для обработки форм мониторинга кадровой потребности ОПК августовская форма\\n'"
      ]
     },
     "execution_count": 65,
     "metadata": {},
     "output_type": "execute_result"
    }
   ],
   "source": [
    "\"\"\"\n",
    "Скрипт для обработки форм мониторинга кадровой потребности ОПК августовская форма\n",
    "\"\"\""
   ]
  },
  {
   "cell_type": "code",
   "execution_count": 66,
   "id": "cae3d046",
   "metadata": {},
   "outputs": [],
   "source": [
    "# -*- coding: UTF-8 -*-\n",
    "import pandas as pd\n",
    "import numpy as np\n",
    "import tkinter\n",
    "import sys\n",
    "import os\n",
    "from tkinter import *\n",
    "from tkinter import filedialog\n",
    "from tkinter import messagebox\n",
    "from tkinter import ttk\n",
    "import time\n",
    "# pd.options.mode.chained_assignment = None  # default='warn'\n",
    "import warnings\n",
    "\n",
    "warnings.filterwarnings('ignore', category=UserWarning, module='openpyxl')\n",
    "warnings.filterwarnings('ignore', category=DeprecationWarning)\n",
    "warnings.filterwarnings('ignore', category=FutureWarning)\n",
    "pd.options.mode.chained_assignment = None\n",
    "import copy\n",
    "import openpyxl\n",
    "from openpyxl.utils.dataframe import dataframe_to_rows\n",
    "import re\n",
    "import random\n",
    "pd.options.display.width = 0"
   ]
  },
  {
   "cell_type": "code",
   "execution_count": 67,
   "id": "83839657",
   "metadata": {},
   "outputs": [],
   "source": [
    "path_data_opk = 'data/Форма август'\n",
    "path_to_end_folder = 'data'"
   ]
  },
  {
   "cell_type": "code",
   "execution_count": 68,
   "id": "e516311c",
   "metadata": {},
   "outputs": [],
   "source": [
    "error_df = pd.DataFrame(columns=['Название файла', 'Строка или колонка с ошибкой', 'Описание ошибки', ])"
   ]
  },
  {
   "cell_type": "code",
   "execution_count": 69,
   "id": "e0ababb9",
   "metadata": {},
   "outputs": [
    {
     "name": "stdout",
     "output_type": "stream",
     "text": [
      "Тестовая №1\n"
     ]
    }
   ],
   "source": [
    "for file in os.listdir(path_data_opk):\n",
    "    if not file.startswith('~$') and file.endswith('.xls'):\n",
    "        name_file = file.split('.xls')[0]\n",
    "        temp_error_df = pd.DataFrame(data=[[f'{name_file}', '',\n",
    "                                            'Файл с расширением XLS (СТАРЫЙ ФОРМАТ EXCEL)!!! ДАННЫЕ ФАЙЛА НЕ ОБРАБОТАНЫ !!! ']],\n",
    "                                     columns=['Название файла', 'Строка или колонка с ошибкой',\n",
    "                                              'Описание ошибки'])\n",
    "        error_df = pd.concat([error_df, temp_error_df], axis=0, ignore_index=True)\n",
    "        continue\n",
    "    if not file.startswith('~$') and file.endswith('.xlsx'):\n",
    "        name_file = file.split('.xlsx')[0]\n",
    "        print(name_file)\n",
    "        # Проверяем наличие листов с названиями Форма 1 и Форма 2\n",
    "        wb_1 = openpyxl.load_workbook(f'{path_data_opk}/{file}')\n",
    "        if not {'Форма по мониторингу','Форма по принимаемым мерам'}.issubset(set(wb_1.sheetnames)):\n",
    "            temp_error_df = pd.DataFrame(data=[[f'{name_file}', '',\n",
    "                                                'Проверьте наличие листов с названием Форма по мониторингу и Форма по принимаемым мерам! Не должно быть пробелов в начале и в конце названия ДАННЫЕ ФАЙЛА НЕ ОБРАБОТАНЫ !!! ']],\n",
    "                                         columns=['Название файла', 'Строка или колонка с ошибкой',\n",
    "                                                  'Описание ошибки'])\n",
    "            error_df = pd.concat([error_df, temp_error_df], axis=0, ignore_index=True)\n",
    "            continue\n",
    "    # считываем датафреймы\n",
    "    df_mon = pd.read_excel(f'{path_data_opk}/{file}',sheet_name='Форма по мониторингу',dtype=str,skiprows=2) # лист с данными мониторинга\n",
    "    df_action = pd.read_excel(f'{path_data_opk}/{file}',sheet_name='Форма по принимаемым мерам',dtype=str,skiprows=2) # лист с данными по принимаемым мерам\n",
    "    \n",
    "    # удаляем полностью пустые строки\n",
    "    df_mon.dropna(thresh=20,inplace=True)\n",
    "    df_action.dropna(thresh=7,inplace=True)\n",
    "    \n",
    "    # Проверяем совпадение ИНН.\n",
    "    \n",
    "        "
   ]
  },
  {
   "cell_type": "code",
   "execution_count": 73,
   "id": "63e509ba",
   "metadata": {},
   "outputs": [
    {
     "data": {
      "text/html": [
       "<div>\n",
       "<style scoped>\n",
       "    .dataframe tbody tr th:only-of-type {\n",
       "        vertical-align: middle;\n",
       "    }\n",
       "\n",
       "    .dataframe tbody tr th {\n",
       "        vertical-align: top;\n",
       "    }\n",
       "\n",
       "    .dataframe thead th {\n",
       "        text-align: right;\n",
       "    }\n",
       "</style>\n",
       "<table border=\"1\" class=\"dataframe\">\n",
       "  <thead>\n",
       "    <tr style=\"text-align: right;\">\n",
       "      <th></th>\n",
       "      <th>гр. 1</th>\n",
       "      <th>гр.2</th>\n",
       "      <th>гр.3</th>\n",
       "      <th>гр.4</th>\n",
       "      <th>гр.5</th>\n",
       "      <th>гр.6</th>\n",
       "      <th>гр.7</th>\n",
       "      <th>гр.8</th>\n",
       "      <th>гр.9</th>\n",
       "      <th>гр.10</th>\n",
       "      <th>...</th>\n",
       "      <th>гр.16</th>\n",
       "      <th>гр.17</th>\n",
       "      <th>гр.18</th>\n",
       "      <th>гр.19</th>\n",
       "      <th>гр.20</th>\n",
       "      <th>гр.21</th>\n",
       "      <th>гр.22</th>\n",
       "      <th>гр.23</th>\n",
       "      <th>гр.24</th>\n",
       "      <th>гр.25</th>\n",
       "    </tr>\n",
       "  </thead>\n",
       "  <tbody>\n",
       "    <tr>\n",
       "      <th>0</th>\n",
       "      <td>Республика Бурятия</td>\n",
       "      <td>0323053578</td>\n",
       "      <td>АО \"У-У ППО\"</td>\n",
       "      <td>Потребность имеется</td>\n",
       "      <td>Профессии рабочих</td>\n",
       "      <td>Авербандщик</td>\n",
       "      <td>2</td>\n",
       "      <td>29.02.08 Технология обработки алмазов</td>\n",
       "      <td>10</td>\n",
       "      <td>6</td>\n",
       "      <td>...</td>\n",
       "      <td>NaN</td>\n",
       "      <td>1</td>\n",
       "      <td>1</td>\n",
       "      <td>1</td>\n",
       "      <td>NaN</td>\n",
       "      <td>NaN</td>\n",
       "      <td>NaN</td>\n",
       "      <td>ВЕРНО</td>\n",
       "      <td>ВЕРНО</td>\n",
       "      <td>ВЕРНО</td>\n",
       "    </tr>\n",
       "    <tr>\n",
       "      <th>2</th>\n",
       "      <td>Республика Бурятия</td>\n",
       "      <td>0323053578</td>\n",
       "      <td>АО \"У-У ППО\"</td>\n",
       "      <td>Потребность имеется</td>\n",
       "      <td>Профессии рабочих</td>\n",
       "      <td>Сыросол</td>\n",
       "      <td>2</td>\n",
       "      <td>08.01.02 Монтажник трубопроводов</td>\n",
       "      <td>10</td>\n",
       "      <td>6</td>\n",
       "      <td>...</td>\n",
       "      <td>NaN</td>\n",
       "      <td>1</td>\n",
       "      <td>1</td>\n",
       "      <td>1</td>\n",
       "      <td>NaN</td>\n",
       "      <td>NaN</td>\n",
       "      <td>NaN</td>\n",
       "      <td>ВЕРНО</td>\n",
       "      <td>ВЕРНО</td>\n",
       "      <td>ВЕРНО</td>\n",
       "    </tr>\n",
       "    <tr>\n",
       "      <th>3</th>\n",
       "      <td>Республика Бурятия</td>\n",
       "      <td>0323053578</td>\n",
       "      <td>АО \"У-У ППО\"</td>\n",
       "      <td>Потребность имеется</td>\n",
       "      <td>Должности служащих, руководителей</td>\n",
       "      <td>Техник службы эксплуатации</td>\n",
       "      <td>2</td>\n",
       "      <td>55.02.01 Театральная и аудиовизуальная техника...</td>\n",
       "      <td>10</td>\n",
       "      <td>6</td>\n",
       "      <td>...</td>\n",
       "      <td>NaN</td>\n",
       "      <td>1</td>\n",
       "      <td>1</td>\n",
       "      <td>1</td>\n",
       "      <td>NaN</td>\n",
       "      <td>NaN</td>\n",
       "      <td>NaN</td>\n",
       "      <td>ВЕРНО</td>\n",
       "      <td>ВЕРНО</td>\n",
       "      <td>ВЕРНО</td>\n",
       "    </tr>\n",
       "  </tbody>\n",
       "</table>\n",
       "<p>3 rows × 25 columns</p>\n",
       "</div>"
      ],
      "text/plain": [
       "                гр. 1        гр.2          гр.3                 гр.4  \\\n",
       "0  Республика Бурятия  0323053578  АО \"У-У ППО\"  Потребность имеется   \n",
       "2  Республика Бурятия  0323053578  АО \"У-У ППО\"  Потребность имеется   \n",
       "3  Республика Бурятия  0323053578  АО \"У-У ППО\"  Потребность имеется   \n",
       "\n",
       "                                гр.5                        гр.6 гр.7  \\\n",
       "0                  Профессии рабочих                 Авербандщик    2   \n",
       "2                  Профессии рабочих                     Сыросол    2   \n",
       "3  Должности служащих, руководителей  Техник службы эксплуатации    2   \n",
       "\n",
       "                                                гр.8 гр.9 гр.10  ... гр.16  \\\n",
       "0              29.02.08 Технология обработки алмазов   10     6  ...   NaN   \n",
       "2                   08.01.02 Монтажник трубопроводов   10     6  ...   NaN   \n",
       "3  55.02.01 Театральная и аудиовизуальная техника...   10     6  ...   NaN   \n",
       "\n",
       "  гр.17 гр.18 гр.19 гр.20 гр.21 гр.22   гр.23  гр.24  гр.25  \n",
       "0     1     1     1   NaN   NaN   NaN  ВЕРНО   ВЕРНО  ВЕРНО  \n",
       "2     1     1     1   NaN   NaN   NaN  ВЕРНО   ВЕРНО  ВЕРНО  \n",
       "3     1     1     1   NaN   NaN   NaN  ВЕРНО   ВЕРНО  ВЕРНО  \n",
       "\n",
       "[3 rows x 25 columns]"
      ]
     },
     "execution_count": 73,
     "metadata": {},
     "output_type": "execute_result"
    }
   ],
   "source": [
    "df_mon"
   ]
  },
  {
   "cell_type": "code",
   "execution_count": null,
   "id": "ee48b823",
   "metadata": {},
   "outputs": [],
   "source": [
    "dct_mon = dict(zip(df_mon['гр.3'],df_mon['гр.2']))"
   ]
  },
  {
   "cell_type": "code",
   "execution_count": null,
   "id": "e2121e6b",
   "metadata": {},
   "outputs": [],
   "source": []
  },
  {
   "cell_type": "code",
   "execution_count": null,
   "id": "c877aff0",
   "metadata": {},
   "outputs": [],
   "source": []
  },
  {
   "cell_type": "code",
   "execution_count": null,
   "id": "09646d47",
   "metadata": {},
   "outputs": [],
   "source": []
  },
  {
   "cell_type": "code",
   "execution_count": null,
   "id": "55c0dd18",
   "metadata": {},
   "outputs": [],
   "source": []
  },
  {
   "cell_type": "code",
   "execution_count": 72,
   "id": "b55c3781",
   "metadata": {},
   "outputs": [
    {
     "data": {
      "text/html": [
       "<div>\n",
       "<style scoped>\n",
       "    .dataframe tbody tr th:only-of-type {\n",
       "        vertical-align: middle;\n",
       "    }\n",
       "\n",
       "    .dataframe tbody tr th {\n",
       "        vertical-align: top;\n",
       "    }\n",
       "\n",
       "    .dataframe thead th {\n",
       "        text-align: right;\n",
       "    }\n",
       "</style>\n",
       "<table border=\"1\" class=\"dataframe\">\n",
       "  <thead>\n",
       "    <tr style=\"text-align: right;\">\n",
       "      <th></th>\n",
       "      <th>Название файла</th>\n",
       "      <th>Строка или колонка с ошибкой</th>\n",
       "      <th>Описание ошибки</th>\n",
       "    </tr>\n",
       "  </thead>\n",
       "  <tbody>\n",
       "  </tbody>\n",
       "</table>\n",
       "</div>"
      ],
      "text/plain": [
       "Empty DataFrame\n",
       "Columns: [Название файла, Строка или колонка с ошибкой, Описание ошибки]\n",
       "Index: []"
      ]
     },
     "execution_count": 72,
     "metadata": {},
     "output_type": "execute_result"
    }
   ],
   "source": [
    "error_df"
   ]
  },
  {
   "cell_type": "code",
   "execution_count": null,
   "id": "151fa23b",
   "metadata": {},
   "outputs": [],
   "source": []
  },
  {
   "cell_type": "code",
   "execution_count": null,
   "id": "1fb7f952",
   "metadata": {},
   "outputs": [],
   "source": []
  },
  {
   "cell_type": "code",
   "execution_count": null,
   "id": "8aa920a2",
   "metadata": {},
   "outputs": [],
   "source": []
  },
  {
   "cell_type": "code",
   "execution_count": null,
   "id": "5ffb5d8a",
   "metadata": {},
   "outputs": [],
   "source": []
  },
  {
   "cell_type": "code",
   "execution_count": null,
   "id": "990ae49d",
   "metadata": {},
   "outputs": [],
   "source": []
  }
 ],
 "metadata": {
  "kernelspec": {
   "display_name": "Python 3 (ipykernel)",
   "language": "python",
   "name": "python3"
  },
  "language_info": {
   "codemirror_mode": {
    "name": "ipython",
    "version": 3
   },
   "file_extension": ".py",
   "mimetype": "text/x-python",
   "name": "python",
   "nbconvert_exporter": "python",
   "pygments_lexer": "ipython3",
   "version": "3.9.13"
  }
 },
 "nbformat": 4,
 "nbformat_minor": 5
}
