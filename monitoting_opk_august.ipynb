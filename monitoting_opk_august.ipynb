{
 "cells": [
  {
   "cell_type": "code",
   "execution_count": 421,
   "id": "eb1cb12f",
   "metadata": {},
   "outputs": [
    {
     "data": {
      "text/plain": [
       "'\\nСкрипт для обработки форм мониторинга кадровой потребности ОПК августовская форма\\n'"
      ]
     },
     "execution_count": 421,
     "metadata": {},
     "output_type": "execute_result"
    }
   ],
   "source": [
    "\"\"\"\n",
    "Скрипт для обработки форм мониторинга кадровой потребности ОПК августовская форма\n",
    "\"\"\""
   ]
  },
  {
   "cell_type": "code",
   "execution_count": 422,
   "id": "bbe21afd",
   "metadata": {},
   "outputs": [],
   "source": [
    "# -*- coding: UTF-8 -*-\n",
    "import pandas as pd\n",
    "import numpy as np\n",
    "import tkinter\n",
    "import sys\n",
    "import os\n",
    "from tkinter import *\n",
    "from tkinter import filedialog\n",
    "from tkinter import messagebox\n",
    "from tkinter import ttk\n",
    "import time\n",
    "# pd.options.mode.chained_assignment = None  # default='warn'\n",
    "import warnings\n",
    "\n",
    "warnings.filterwarnings('ignore', category=UserWarning, module='openpyxl')\n",
    "warnings.filterwarnings('ignore', category=DeprecationWarning)\n",
    "warnings.filterwarnings('ignore', category=FutureWarning)\n",
    "pd.options.mode.chained_assignment = None\n",
    "import copy\n",
    "import openpyxl\n",
    "from openpyxl.utils.dataframe import dataframe_to_rows\n",
    "import re\n",
    "import random\n",
    "pd.options.display.width = 0"
   ]
  },
  {
   "cell_type": "code",
   "execution_count": 423,
   "id": "cd1ee139",
   "metadata": {},
   "outputs": [],
   "source": [
    "def check_correct_relation(df,first_column,second_column,correct_number):\n",
    "    \"\"\"\n",
    "    Функция для проверки правильности заполнения двух колонок. \n",
    "    Создаем словарь где ключеом является значение first_column  а значением second_column. \n",
    "    Если для first_column встречаются отличающиеся значения то это определяется как ошибка, при этом выдается номер строки где произошло\n",
    "    с поправочным коэфициентом correct_number\n",
    "    \"\"\"\n",
    "    _error_df = pd.DataFrame(columns=['Название файла', 'Строка или колонка с ошибкой', 'Описание ошибки', ]) # датафрейм с ошибками\n",
    "    dct_check = {} # создаем словарь для хранения данных  в формате {first_column:second_column}\n",
    "    \n",
    "    for idx,row in enumerate(df.itertuples(),correct_number):        \n",
    "        first_value = row[first_column] # создаем переменные чтобы было легче читать код\n",
    "        second_value = row[second_column]\n",
    "        if first_value not in dct_check:\n",
    "            dct_check.setdefault(first_value,second_value) # если такого ключа нет то создаем пару ключ значение\n",
    "        else:\n",
    "            # проверяем название организации\n",
    "            if dct_check[first_value] != second_value:\n",
    "                temp_error_df = pd.DataFrame(data=[[f'{name_file}', f'Проверьте правильность написания названия организации в строке {idx} ',\n",
    "                                                f'Существует другое написание названия организации для указанного ИНН -{first_value}']],\n",
    "                                         columns=['Название файла', 'Строка или колонка с ошибкой',\n",
    "                                                  'Описание ошибки'])\n",
    "                _error_df = pd.concat([_error_df, temp_error_df], axis=0, ignore_index=True)\n",
    "    \n",
    "    return _error_df\n",
    "    "
   ]
  },
  {
   "cell_type": "code",
   "execution_count": null,
   "id": "459bfcfc",
   "metadata": {},
   "outputs": [],
   "source": []
  },
  {
   "cell_type": "code",
   "execution_count": null,
   "id": "44ef12ab",
   "metadata": {},
   "outputs": [],
   "source": []
  },
  {
   "cell_type": "code",
   "execution_count": null,
   "id": "98cd9be1",
   "metadata": {},
   "outputs": [],
   "source": []
  },
  {
   "cell_type": "code",
   "execution_count": null,
   "id": "8a6ce548",
   "metadata": {},
   "outputs": [],
   "source": []
  },
  {
   "cell_type": "code",
   "execution_count": null,
   "id": "ff6cf776",
   "metadata": {},
   "outputs": [],
   "source": []
  },
  {
   "cell_type": "code",
   "execution_count": null,
   "id": "de52e5e1",
   "metadata": {},
   "outputs": [],
   "source": []
  },
  {
   "cell_type": "code",
   "execution_count": 424,
   "id": "438fb8e2",
   "metadata": {},
   "outputs": [],
   "source": [
    "path_data_opk = 'data/Форма август'\n",
    "path_to_end_folder = 'data'\n",
    "file_form_data = 'data/Форма сбора данных.xlsx'"
   ]
  },
  {
   "cell_type": "code",
   "execution_count": 425,
   "id": "8bb3aef6",
   "metadata": {},
   "outputs": [],
   "source": [
    "# дождусь пока форма не устаканится и потом добавллю эту проверку\n",
    "lst_mon_col = [f'гр.{i}' for i in range(1,26)] # создаем список для проверки колонок данных по мониторингу\n",
    "lst_act_col = [f'гр.{i}' for i in range(1,13)] # создаем список для проверки колонок данных по мерам\n"
   ]
  },
  {
   "cell_type": "code",
   "execution_count": 426,
   "id": "8971886c",
   "metadata": {},
   "outputs": [],
   "source": [
    "# Создаем итоговые датафреймы\n",
    "base_mon_df = pd.DataFrame(columns=lst_mon_col)\n",
    "base_action_df = pd.DataFrame(columns=lst_act_col)"
   ]
  },
  {
   "cell_type": "code",
   "execution_count": 427,
   "id": "16e3ded3",
   "metadata": {},
   "outputs": [],
   "source": [
    "error_df = pd.DataFrame(columns=['Название файла', 'Строка или колонка с ошибкой', 'Описание ошибки', ]) # датафрейм с ошибками\n"
   ]
  },
  {
   "cell_type": "code",
   "execution_count": 428,
   "id": "e3e48eb5",
   "metadata": {},
   "outputs": [
    {
     "name": "stdout",
     "output_type": "stream",
     "text": [
      "Тестовая №1\n"
     ]
    }
   ],
   "source": [
    "for file in os.listdir(path_data_opk):\n",
    "    if not file.startswith('~$') and file.endswith('.xls'):\n",
    "        name_file = file.split('.xls')[0]\n",
    "        temp_error_df = pd.DataFrame(data=[[f'{name_file}', '',\n",
    "                                            'Файл с расширением XLS (СТАРЫЙ ФОРМАТ EXCEL)!!! ДАННЫЕ ФАЙЛА НЕ ОБРАБОТАНЫ !!! ']],\n",
    "                                     columns=['Название файла', 'Строка или колонка с ошибкой',\n",
    "                                              'Описание ошибки'])\n",
    "        error_df = pd.concat([error_df, temp_error_df], axis=0, ignore_index=True)\n",
    "        continue\n",
    "    if not file.startswith('~$') and file.endswith('.xlsx'):\n",
    "        name_file = file.split('.xlsx')[0]\n",
    "        print(name_file)\n",
    "        # Проверяем наличие листов с названиями Форма 1 и Форма 2\n",
    "        wb_1 = openpyxl.load_workbook(f'{path_data_opk}/{file}',read_only=True)\n",
    "        if not {'Форма по мониторингу','Форма по принимаемым мерам'}.issubset(set(wb_1.sheetnames)):\n",
    "            temp_error_df = pd.DataFrame(data=[[f'{name_file}', '',\n",
    "                                                'Проверьте наличие листов с названием Форма по мониторингу и Форма по принимаемым мерам! Не должно быть пробелов в начале и в конце названия ДАННЫЕ ФАЙЛА НЕ ОБРАБОТАНЫ !!! ']],\n",
    "                                         columns=['Название файла', 'Строка или колонка с ошибкой',\n",
    "                                                  'Описание ошибки'])\n",
    "            error_df = pd.concat([error_df, temp_error_df], axis=0, ignore_index=True)\n",
    "            continue\n",
    "    wb_1.close() # закрываем \n",
    "    \n",
    "    # считываем датафреймы\n",
    "    df_mon = pd.read_excel(f'{path_data_opk}/{file}',sheet_name='Форма по мониторингу',dtype=str,skiprows=3,header=None) # лист с данными мониторинга\n",
    "    df_action = pd.read_excel(f'{path_data_opk}/{file}',sheet_name='Форма по принимаемым мерам',dtype=str,skiprows=3,header=None) # лист с данными по принимаемым мерам\n",
    "    \n",
    "    # Присваиваем названия колонкам\n",
    "    df_mon.columns = lst_mon_col\n",
    "    df_action.columns = lst_act_col\n",
    "\n",
    "    \n",
    "    # удаляем полностью пустые строки\n",
    "    df_mon.dropna(thresh=7,inplace=True)\n",
    "    df_action.dropna(thresh=7,inplace=True)\n",
    "    \n",
    "    # Проверяем совпадение ИНН.\n",
    "    \"\"\"\n",
    "    Проверка на ошибки\n",
    "    \"\"\"\n",
    "    \n",
    "    # добавляем название файла\n",
    "    df_mon['Название файла'] =name_file\n",
    "    df_action['Название файла'] = name_file\n",
    "    \n",
    "    # добавляем в базовые датафреймы\n",
    "    base_mon_df = pd.concat([base_mon_df,df_mon],ignore_index=True)\n",
    "    base_action_df = pd.concat([base_action_df,df_action],ignore_index=True)\n",
    "    \n",
    "    \n",
    "    \n",
    "        "
   ]
  },
  {
   "cell_type": "code",
   "execution_count": 429,
   "id": "c19a461b",
   "metadata": {},
   "outputs": [
    {
     "data": {
      "text/html": [
       "<div>\n",
       "<style scoped>\n",
       "    .dataframe tbody tr th:only-of-type {\n",
       "        vertical-align: middle;\n",
       "    }\n",
       "\n",
       "    .dataframe tbody tr th {\n",
       "        vertical-align: top;\n",
       "    }\n",
       "\n",
       "    .dataframe thead th {\n",
       "        text-align: right;\n",
       "    }\n",
       "</style>\n",
       "<table border=\"1\" class=\"dataframe\">\n",
       "  <thead>\n",
       "    <tr style=\"text-align: right;\">\n",
       "      <th></th>\n",
       "      <th>гр.1</th>\n",
       "      <th>гр.2</th>\n",
       "      <th>гр.3</th>\n",
       "      <th>гр.4</th>\n",
       "      <th>гр.5</th>\n",
       "      <th>гр.6</th>\n",
       "      <th>гр.7</th>\n",
       "      <th>гр.8</th>\n",
       "      <th>гр.9</th>\n",
       "      <th>гр.10</th>\n",
       "      <th>...</th>\n",
       "      <th>гр.17</th>\n",
       "      <th>гр.18</th>\n",
       "      <th>гр.19</th>\n",
       "      <th>гр.20</th>\n",
       "      <th>гр.21</th>\n",
       "      <th>гр.22</th>\n",
       "      <th>гр.23</th>\n",
       "      <th>гр.24</th>\n",
       "      <th>гр.25</th>\n",
       "      <th>Название файла</th>\n",
       "    </tr>\n",
       "  </thead>\n",
       "  <tbody>\n",
       "    <tr>\n",
       "      <th>0</th>\n",
       "      <td>Республика Бурятия</td>\n",
       "      <td>0323053578</td>\n",
       "      <td>АО \"У-У ППО\"</td>\n",
       "      <td>Потребность имеется</td>\n",
       "      <td>Профессии рабочих</td>\n",
       "      <td>Авербандщик</td>\n",
       "      <td>2</td>\n",
       "      <td>29.02.08 Технология обработки алмазов</td>\n",
       "      <td>10</td>\n",
       "      <td>6</td>\n",
       "      <td>...</td>\n",
       "      <td>1</td>\n",
       "      <td>1</td>\n",
       "      <td>1</td>\n",
       "      <td>NaN</td>\n",
       "      <td>NaN</td>\n",
       "      <td>NaN</td>\n",
       "      <td>ВЕРНО</td>\n",
       "      <td>ВЕРНО</td>\n",
       "      <td>ВЕРНО</td>\n",
       "      <td>Тестовая №1</td>\n",
       "    </tr>\n",
       "    <tr>\n",
       "      <th>1</th>\n",
       "      <td>Республика Бурятия</td>\n",
       "      <td>0323053555</td>\n",
       "      <td>ООО Тест</td>\n",
       "      <td>Потребность отсутствует</td>\n",
       "      <td>NaN</td>\n",
       "      <td>NaN</td>\n",
       "      <td>NaN</td>\n",
       "      <td>NaN</td>\n",
       "      <td>NaN</td>\n",
       "      <td>NaN</td>\n",
       "      <td>...</td>\n",
       "      <td>NaN</td>\n",
       "      <td>NaN</td>\n",
       "      <td>NaN</td>\n",
       "      <td>NaN</td>\n",
       "      <td>NaN</td>\n",
       "      <td>NaN</td>\n",
       "      <td>ВЕРНО</td>\n",
       "      <td>ВЕРНО</td>\n",
       "      <td>ВЕРНО</td>\n",
       "      <td>Тестовая №1</td>\n",
       "    </tr>\n",
       "    <tr>\n",
       "      <th>2</th>\n",
       "      <td>Республика Бурятия</td>\n",
       "      <td>0323053578</td>\n",
       "      <td>АО \"У-У ППО\"</td>\n",
       "      <td>Потребность имеется</td>\n",
       "      <td>Профессии рабочих</td>\n",
       "      <td>Сыросол</td>\n",
       "      <td>2</td>\n",
       "      <td>08.01.02 Монтажник трубопроводов</td>\n",
       "      <td>10</td>\n",
       "      <td>6</td>\n",
       "      <td>...</td>\n",
       "      <td>1</td>\n",
       "      <td>1</td>\n",
       "      <td>1</td>\n",
       "      <td>NaN</td>\n",
       "      <td>NaN</td>\n",
       "      <td>NaN</td>\n",
       "      <td>ВЕРНО</td>\n",
       "      <td>ВЕРНО</td>\n",
       "      <td>ВЕРНО</td>\n",
       "      <td>Тестовая №1</td>\n",
       "    </tr>\n",
       "    <tr>\n",
       "      <th>3</th>\n",
       "      <td>Республика Бурятия</td>\n",
       "      <td>0323053578</td>\n",
       "      <td>АО \"У-У ППО\"</td>\n",
       "      <td>Потребность имеется</td>\n",
       "      <td>Должности служащих, руководителей</td>\n",
       "      <td>Техник службы эксплуатации</td>\n",
       "      <td>2</td>\n",
       "      <td>55.02.01 Театральная и аудиовизуальная техника...</td>\n",
       "      <td>10</td>\n",
       "      <td>6</td>\n",
       "      <td>...</td>\n",
       "      <td>1</td>\n",
       "      <td>1</td>\n",
       "      <td>1</td>\n",
       "      <td>NaN</td>\n",
       "      <td>NaN</td>\n",
       "      <td>NaN</td>\n",
       "      <td>ВЕРНО</td>\n",
       "      <td>ВЕРНО</td>\n",
       "      <td>ВЕРНО</td>\n",
       "      <td>Тестовая №1</td>\n",
       "    </tr>\n",
       "  </tbody>\n",
       "</table>\n",
       "<p>4 rows × 26 columns</p>\n",
       "</div>"
      ],
      "text/plain": [
       "                 гр.1        гр.2          гр.3                     гр.4  \\\n",
       "0  Республика Бурятия  0323053578  АО \"У-У ППО\"      Потребность имеется   \n",
       "1  Республика Бурятия  0323053555      ООО Тест  Потребность отсутствует   \n",
       "2  Республика Бурятия  0323053578  АО \"У-У ППО\"      Потребность имеется   \n",
       "3  Республика Бурятия  0323053578  АО \"У-У ППО\"      Потребность имеется   \n",
       "\n",
       "                                гр.5                        гр.6 гр.7  \\\n",
       "0                  Профессии рабочих                 Авербандщик    2   \n",
       "1                                NaN                         NaN  NaN   \n",
       "2                  Профессии рабочих                     Сыросол    2   \n",
       "3  Должности служащих, руководителей  Техник службы эксплуатации    2   \n",
       "\n",
       "                                                гр.8 гр.9 гр.10  ... гр.17  \\\n",
       "0              29.02.08 Технология обработки алмазов   10     6  ...     1   \n",
       "1                                                NaN  NaN   NaN  ...   NaN   \n",
       "2                   08.01.02 Монтажник трубопроводов   10     6  ...     1   \n",
       "3  55.02.01 Театральная и аудиовизуальная техника...   10     6  ...     1   \n",
       "\n",
       "  гр.18 гр.19 гр.20 гр.21 гр.22   гр.23  гр.24  гр.25 Название файла  \n",
       "0     1     1   NaN   NaN   NaN  ВЕРНО   ВЕРНО  ВЕРНО    Тестовая №1  \n",
       "1   NaN   NaN   NaN   NaN   NaN  ВЕРНО   ВЕРНО  ВЕРНО    Тестовая №1  \n",
       "2     1     1   NaN   NaN   NaN  ВЕРНО   ВЕРНО  ВЕРНО    Тестовая №1  \n",
       "3     1     1   NaN   NaN   NaN  ВЕРНО   ВЕРНО  ВЕРНО    Тестовая №1  \n",
       "\n",
       "[4 rows x 26 columns]"
      ]
     },
     "execution_count": 429,
     "metadata": {},
     "output_type": "execute_result"
    }
   ],
   "source": [
    "df_mon"
   ]
  },
  {
   "cell_type": "code",
   "execution_count": 430,
   "id": "3aa2637c",
   "metadata": {},
   "outputs": [
    {
     "data": {
      "text/html": [
       "<div>\n",
       "<style scoped>\n",
       "    .dataframe tbody tr th:only-of-type {\n",
       "        vertical-align: middle;\n",
       "    }\n",
       "\n",
       "    .dataframe tbody tr th {\n",
       "        vertical-align: top;\n",
       "    }\n",
       "\n",
       "    .dataframe thead th {\n",
       "        text-align: right;\n",
       "    }\n",
       "</style>\n",
       "<table border=\"1\" class=\"dataframe\">\n",
       "  <thead>\n",
       "    <tr style=\"text-align: right;\">\n",
       "      <th></th>\n",
       "      <th>гр.1</th>\n",
       "      <th>гр.2</th>\n",
       "      <th>гр.3</th>\n",
       "      <th>гр.4</th>\n",
       "      <th>гр.5</th>\n",
       "      <th>гр.6</th>\n",
       "      <th>гр.7</th>\n",
       "      <th>гр.8</th>\n",
       "      <th>гр.9</th>\n",
       "      <th>гр.10</th>\n",
       "      <th>гр.11</th>\n",
       "      <th>гр.12</th>\n",
       "      <th>Название файла</th>\n",
       "    </tr>\n",
       "  </thead>\n",
       "  <tbody>\n",
       "    <tr>\n",
       "      <th>0</th>\n",
       "      <td>Республика Бурятия</td>\n",
       "      <td>0323053578</td>\n",
       "      <td>АО \"У-У ППО\"</td>\n",
       "      <td>мало платят</td>\n",
       "      <td>3</td>\n",
       "      <td>больше платить,больше рекламы</td>\n",
       "      <td>проводятся мастер классы</td>\n",
       "      <td>1</td>\n",
       "      <td>30</td>\n",
       "      <td>6</td>\n",
       "      <td>0</td>\n",
       "      <td>ВЕРНО</td>\n",
       "      <td>Тестовая №1</td>\n",
       "    </tr>\n",
       "  </tbody>\n",
       "</table>\n",
       "</div>"
      ],
      "text/plain": [
       "                 гр.1        гр.2          гр.3         гр.4 гр.5  \\\n",
       "0  Республика Бурятия  0323053578  АО \"У-У ППО\"  мало платят    3   \n",
       "\n",
       "                            гр.6                      гр.7 гр.8 гр.9 гр.10  \\\n",
       "0  больше платить,больше рекламы  проводятся мастер классы    1   30     6   \n",
       "\n",
       "  гр.11  гр.12 Название файла  \n",
       "0     0  ВЕРНО    Тестовая №1  "
      ]
     },
     "execution_count": 430,
     "metadata": {},
     "output_type": "execute_result"
    }
   ],
   "source": [
    "df_action"
   ]
  },
  {
   "cell_type": "code",
   "execution_count": 431,
   "id": "f0e06541",
   "metadata": {},
   "outputs": [],
   "source": [
    "inn_org_error_df = check_correct_relation(df_mon.copy(),2,3,4)\n",
    "error_df = pd.concat([error_df, inn_org_error_df], axis=0, ignore_index=True)\n"
   ]
  },
  {
   "cell_type": "raw",
   "id": "d333c82f",
   "metadata": {},
   "source": [
    "dct_org = {} # создаем словарь для хранения данных в формате ИНН:Название предприятия\n",
    "\n",
    "for idx,row in enumerate(df_mon.itertuples(),4):\n",
    "    inn = row[2] # создаем переменные чтобы было легче читать код\n",
    "    name_org = row[3]\n",
    "    print(idx)\n",
    "    if inn not in dct_org:\n",
    "        dct_org.setdefault(inn,name_org)\n",
    "    else:\n",
    "        # проверяем название организации\n",
    "        if dct_org[inn] != name_org:\n",
    "            temp_error_df = pd.DataFrame(data=[[f'{name_file}', f'Проверьте правильность написания названия организации в строке {idx} ',\n",
    "                                            f'Существует другое написание названия организации для указанного ИНН -{inn}']],\n",
    "                                     columns=['Название файла', 'Строка или колонка с ошибкой',\n",
    "                                              'Описание ошибки'])\n",
    "            error_df = pd.concat([error_df, temp_error_df], axis=0, ignore_index=True)\n",
    "            \n",
    "    \n",
    "    \n",
    "    \n",
    "    "
   ]
  },
  {
   "cell_type": "code",
   "execution_count": null,
   "id": "c91be95f",
   "metadata": {},
   "outputs": [],
   "source": []
  },
  {
   "cell_type": "code",
   "execution_count": null,
   "id": "4146c181",
   "metadata": {},
   "outputs": [],
   "source": []
  },
  {
   "cell_type": "code",
   "execution_count": null,
   "id": "f36db873",
   "metadata": {},
   "outputs": [],
   "source": []
  },
  {
   "cell_type": "code",
   "execution_count": null,
   "id": "1c936e2c",
   "metadata": {},
   "outputs": [],
   "source": []
  },
  {
   "cell_type": "code",
   "execution_count": null,
   "id": "9dcf8528",
   "metadata": {},
   "outputs": [],
   "source": []
  },
  {
   "cell_type": "code",
   "execution_count": null,
   "id": "a23a5ef8",
   "metadata": {},
   "outputs": [],
   "source": []
  },
  {
   "cell_type": "code",
   "execution_count": null,
   "id": "b89674d0",
   "metadata": {},
   "outputs": [],
   "source": []
  },
  {
   "cell_type": "code",
   "execution_count": 432,
   "id": "894b91bb",
   "metadata": {},
   "outputs": [],
   "source": [
    "t = time.localtime()\n",
    "current_time = time.strftime('%H_%M_%S', t)\n",
    "with pd.ExcelWriter(f'{path_to_end_folder}/Сводный файл ОПК от {current_time}.xlsx') as writer:\n",
    "    base_mon_df.to_excel(writer,sheet_name='Форма по мониторингу',index=False)\n",
    "    base_action_df.to_excel(writer,sheet_name='Форма по принимаемым мерам',index=False)"
   ]
  },
  {
   "cell_type": "code",
   "execution_count": 433,
   "id": "cbe4f44b",
   "metadata": {},
   "outputs": [
    {
     "data": {
      "text/html": [
       "<div>\n",
       "<style scoped>\n",
       "    .dataframe tbody tr th:only-of-type {\n",
       "        vertical-align: middle;\n",
       "    }\n",
       "\n",
       "    .dataframe tbody tr th {\n",
       "        vertical-align: top;\n",
       "    }\n",
       "\n",
       "    .dataframe thead th {\n",
       "        text-align: right;\n",
       "    }\n",
       "</style>\n",
       "<table border=\"1\" class=\"dataframe\">\n",
       "  <thead>\n",
       "    <tr style=\"text-align: right;\">\n",
       "      <th></th>\n",
       "      <th>Название файла</th>\n",
       "      <th>Строка или колонка с ошибкой</th>\n",
       "      <th>Описание ошибки</th>\n",
       "    </tr>\n",
       "  </thead>\n",
       "  <tbody>\n",
       "  </tbody>\n",
       "</table>\n",
       "</div>"
      ],
      "text/plain": [
       "Empty DataFrame\n",
       "Columns: [Название файла, Строка или колонка с ошибкой, Описание ошибки]\n",
       "Index: []"
      ]
     },
     "execution_count": 433,
     "metadata": {},
     "output_type": "execute_result"
    }
   ],
   "source": [
    "error_df"
   ]
  },
  {
   "cell_type": "code",
   "execution_count": 434,
   "id": "8fd43052",
   "metadata": {},
   "outputs": [],
   "source": [
    "error_df.to_excel(f'{path_to_end_folder}/Ошибки от {current_time}.xlsx',index=False)"
   ]
  },
  {
   "cell_type": "code",
   "execution_count": null,
   "id": "c59de283",
   "metadata": {},
   "outputs": [],
   "source": []
  },
  {
   "cell_type": "code",
   "execution_count": null,
   "id": "bc00b3ad",
   "metadata": {},
   "outputs": [],
   "source": []
  },
  {
   "cell_type": "code",
   "execution_count": null,
   "id": "c001ce5c",
   "metadata": {},
   "outputs": [],
   "source": []
  },
  {
   "cell_type": "code",
   "execution_count": null,
   "id": "012e2fb8",
   "metadata": {},
   "outputs": [],
   "source": []
  }
 ],
 "metadata": {
  "kernelspec": {
   "display_name": "Python 3 (ipykernel)",
   "language": "python",
   "name": "python3"
  },
  "language_info": {
   "codemirror_mode": {
    "name": "ipython",
    "version": 3
   },
   "file_extension": ".py",
   "mimetype": "text/x-python",
   "name": "python",
   "nbconvert_exporter": "python",
   "pygments_lexer": "ipython3",
   "version": "3.9.13"
  }
 },
 "nbformat": 4,
 "nbformat_minor": 5
}
