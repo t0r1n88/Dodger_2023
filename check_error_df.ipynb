{
 "cells": [
  {
   "cell_type": "code",
   "execution_count": 329,
   "id": "e641900a",
   "metadata": {},
   "outputs": [],
   "source": [
    "import numpy as np\n",
    "import pandas as pd\n",
    "import warnings\n",
    "warnings.simplefilter(action='ignore', category=UserWarning)\n",
    "pd.options.mode.chained_assignment = None"
   ]
  },
  {
   "cell_type": "code",
   "execution_count": 330,
   "id": "b541f73b",
   "metadata": {},
   "outputs": [],
   "source": [
    "def check_data(cell):\n",
    "    \"\"\"\n",
    "    Метод для проверки значения ячейки\n",
    "    :param cell: значение ячейки\n",
    "    :return: число в формате int\n",
    "    \"\"\"\n",
    "    if cell is np.nan:\n",
    "        return 0\n",
    "    if cell.isdigit():\n",
    "        return int(cell)\n",
    "    else:\n",
    "        return 0\n",
    "\n",
    "\n",
    "\n"
   ]
  },
  {
   "cell_type": "code",
   "execution_count": 331,
   "id": "13a7577d",
   "metadata": {},
   "outputs": [],
   "source": [
    "def check_first_error(df:pd.DataFrame,name_file):\n",
    "    \"\"\"\n",
    "    Функция для проверки гр. 09 и гр. 10 < гр. 08 \n",
    "    \"\"\"\n",
    "    \n",
    "    df['Сумма'] = df['09'] + df['10']\n",
    "    # Проводим проверку\n",
    "    df['Результат'] = df['08'] >= df['Сумма']\n",
    "    # заменяем булевые значения на понятные\n",
    "    df['Результат'] = df['Результат'].apply(lambda x: 'Правильно' if x else 'Неправильно' )\n",
    "     # получаем датафрейм с ошибками и извлекаем индекс\n",
    "    df=df[df['Результат'] == 'Неправильно'].reset_index()\n",
    "    # создаем датафрейм дял добавления в ошибки\n",
    "    temp_error_df = pd.DataFrame(columns=['Название файла','Номер строки с ошибкой','Описание ошибки',])\n",
    "    # обрабатываем индексы строк с ошибками чтобы строки совпадали с файлом excel\n",
    "    raw_lst_index = df['index'].tolist() # делаем список\n",
    "    finish_lst_index = list(map(lambda x:x +9,raw_lst_index))\n",
    "    temp_error_df['Номер строки с ошибкой'] = finish_lst_index\n",
    "    temp_error_df['Название файла'] = name_file\n",
    "    temp_error_df['Описание ошибки'] = 'гр. 09 и гр. 10 < гр. 08 '\n",
    "    return temp_error_df"
   ]
  },
  {
   "cell_type": "code",
   "execution_count": 332,
   "id": "139ac43e",
   "metadata": {},
   "outputs": [],
   "source": [
    "\n",
    "def check_second_error(df:pd.DataFrame,name_file):\n",
    "    \"\"\"    \n",
    "    Функция для проверки правильности введеденных данных\n",
    "    (гр. 07= гр.08 + сумма(с гр.11 по гр.32))\n",
    "    :param df: копия датафрейма с данными из файла поо\n",
    "    :return:датафрейм с ошибками\n",
    "    \"\"\"\n",
    "    # конвертируем в инт\n",
    "    all_sum_cols = list(df)\n",
    "    # удаляем колонки 07, 09, 10\n",
    "    all_sum_cols.remove('07')\n",
    "    all_sum_cols.remove('09')\n",
    "    all_sum_cols.remove('10')\n",
    "    # получаем сумму колонок 08, 11:32\n",
    "    df['Сумма'] = df[all_sum_cols].sum(axis=1)\n",
    "    # Проводим проверку\n",
    "    df['Результат'] = df['07'] == df['Сумма']\n",
    "    # заменяем булевые значения на понятные\n",
    "    df['Результат'] = df['Результат'].apply(lambda x: 'Правильно' if x else 'Неправильно')\n",
    "    # получаем датафрейм с ошибками и извлекаем индекс\n",
    "    df=df[df['Результат'] == 'Неправильно'].reset_index()\n",
    "    # создаем датафрейм дял добавления в ошибки\n",
    "    temp_error_df = pd.DataFrame(columns=['Название файла','Номер строки с ошибкой','Описание ошибки',])\n",
    "    # обрабатываем индексы строк с ошибками чтобы строки совпадали с файлом excel\n",
    "    raw_lst_index = df['index'].tolist() # делаем список\n",
    "    finish_lst_index = list(map(lambda x:x +9,raw_lst_index))\n",
    "    temp_error_df['Номер строки с ошибкой'] = finish_lst_index\n",
    "    temp_error_df['Название файла'] = name_file\n",
    "    temp_error_df['Описание ошибки'] = 'Сумма гр. 07 НЕ РАВНА гр.08 + сумма(с гр.11 по гр.32)'\n",
    "    return temp_error_df\n"
   ]
  },
  {
   "cell_type": "code",
   "execution_count": 333,
   "id": "fe7df0ac",
   "metadata": {},
   "outputs": [],
   "source": [
    "def check_third_error(df:pd.DataFrame,name_file):\n",
    "    \"\"\"    \n",
    "    Функция для проверки правильности введеденных данных\n",
    "    стр. 06 = стр. 02 + стр. 04\n",
    "    :param df: копия датафрейма с данными из файла поо\n",
    "    :return:датафрейм с ошибками\n",
    "    \"\"\"\n",
    "    df = pd.DataFrame(columns=['02','04','06',])\n",
    "\n",
    "    # Добавляем данные в датафрейм\n",
    "    df['02'] = temp_df.iloc[1,:]\n",
    "    df['04'] = temp_df.iloc[3,:]\n",
    "    df['06'] = temp_df.iloc[5,:]\n",
    "    df['Сумма'] = df['02'] + df['04']\n",
    "    df['Результат'] = df['06'] == df['Сумма']\n",
    "    df['Результат'] = df['Результат'].apply(lambda x: 'Правильно' if x else 'Неправильно')\n",
    "\n",
    "    df=df[df['Результат'] == 'Неправильно'].reset_index()\n",
    "    temp_error_df = pd.DataFrame(columns=['Название файла','Номер строки с ошибкой','Описание ошибки',])\n",
    "    # обрабатываем индексы строк с ошибками чтобы строки совпадали с файлом excel\n",
    "    raw_lst_index = df['index'].tolist() # делаем список\n",
    "\n",
    "    temp_error_df['Номер строки с ошибкой'] = raw_lst_index\n",
    "    temp_error_df['Название файла'] = name_file\n",
    "    temp_error_df['Описание ошибки'] = ' Не совпадают суммы стр. 06 = стр. 02 + стр. 04 '\n",
    "    return temp_error_df\n",
    "\n",
    "    "
   ]
  },
  {
   "cell_type": "code",
   "execution_count": 334,
   "id": "19224ace",
   "metadata": {},
   "outputs": [],
   "source": [
    "# создаем словарь верхнего уровня для каждого поо\n",
    "high_level_dct = {}\n",
    "# создаем датафрейм для регистрации ошибок\n",
    "error_df = pd.DataFrame(columns=['Название файла','Номер строки с ошибкой','Описание ошибки',])\n",
    "\n",
    "primal_df = pd.read_excel('data/poo/Брит - 2022.xlsx',skiprows=7,dtype=str)\n",
    "primal_df.columns = list(map(str, primal_df.columns))\n",
    "name_file = 'БРИТ'\n",
    "# Заполняем пока пропуски в 15 ячейке для каждой специальности\n",
    "primal_df['06'] = primal_df['06'].fillna('15 ячейка')\n",
    "# Проводим проверку на корректность данных, отправляем копию датафрейма\n",
    "# check_error(df.iloc[:,6:32], error_df)\n"
   ]
  },
  {
   "cell_type": "code",
   "execution_count": 335,
   "id": "1645ec1a",
   "metadata": {},
   "outputs": [],
   "source": [
    "df = primal_df.iloc[:,6:32]\n",
    "df = df.applymap(check_data)"
   ]
  },
  {
   "cell_type": "code",
   "execution_count": 336,
   "id": "ffcae14e",
   "metadata": {},
   "outputs": [],
   "source": [
    "# получаем количество датафреймов\n",
    "quantity = df.shape[0] // 15\n",
    "# счетчик для обработанных датафреймов\n",
    "border = 0"
   ]
  },
  {
   "cell_type": "code",
   "execution_count": 337,
   "id": "5bbc959e",
   "metadata": {},
   "outputs": [],
   "source": [
    "for i in range(1,quantity+1):\n",
    "    temp_df = df.iloc[border:border +15,:]\n",
    "    # Проводим проверку гр. 09 и гр. 10 <= гр. 08\n",
    "    first_error_df = check_first_error(temp_df.copy(),name_file)\n",
    "     # добавляем результат проверки в датафрейм\n",
    "    error_df = pd.concat([error_df,first_error_df],axis=0,ignore_index=True)\n",
    "        \n",
    "    \n",
    "    # Проводим проверку гр. 07= гр.08 + сумма(с гр.11 по гр.32)\n",
    "    second_error_df = check_second_error(temp_df.copy(),name_file)\n",
    "    # добавляем результат проверки в датафрейм\n",
    "    error_df = pd.concat([error_df,second_error_df],axis=0,ignore_index=True)\n",
    "    \n",
    "    # Проводим проверку стр. 06 = стр. 02 + стр. 04\n",
    "    third_error_df = check_third_error(temp_df.copy(),name_file)\n",
    "    # добавляем результат проверки в датафрейм\n",
    "    error_df = pd.concat([error_df,third_error_df],axis=0,ignore_index=True)\n",
    "    \n",
    "    \n",
    "    \n",
    "    \n",
    "    \n",
    "    \n",
    "    \n",
    "    \n",
    "    # прибавляем border\n",
    "    border += 15"
   ]
  },
  {
   "cell_type": "code",
   "execution_count": 338,
   "id": "f0a42688",
   "metadata": {},
   "outputs": [
    {
     "data": {
      "text/html": [
       "<div>\n",
       "<style scoped>\n",
       "    .dataframe tbody tr th:only-of-type {\n",
       "        vertical-align: middle;\n",
       "    }\n",
       "\n",
       "    .dataframe tbody tr th {\n",
       "        vertical-align: top;\n",
       "    }\n",
       "\n",
       "    .dataframe thead th {\n",
       "        text-align: right;\n",
       "    }\n",
       "</style>\n",
       "<table border=\"1\" class=\"dataframe\">\n",
       "  <thead>\n",
       "    <tr style=\"text-align: right;\">\n",
       "      <th></th>\n",
       "      <th>Название файла</th>\n",
       "      <th>Номер строки с ошибкой</th>\n",
       "      <th>Описание ошибки</th>\n",
       "    </tr>\n",
       "  </thead>\n",
       "  <tbody>\n",
       "    <tr>\n",
       "      <th>0</th>\n",
       "      <td>БРИТ</td>\n",
       "      <td>9</td>\n",
       "      <td>гр. 09 и гр. 10 &lt; гр. 08</td>\n",
       "    </tr>\n",
       "    <tr>\n",
       "      <th>1</th>\n",
       "      <td>БРИТ</td>\n",
       "      <td>10</td>\n",
       "      <td>Сумма гр. 07 НЕ РАВНА гр.08 + сумма(с гр.11 по...</td>\n",
       "    </tr>\n",
       "    <tr>\n",
       "      <th>2</th>\n",
       "      <td>БРИТ</td>\n",
       "      <td>11</td>\n",
       "      <td>Сумма гр. 07 НЕ РАВНА гр.08 + сумма(с гр.11 по...</td>\n",
       "    </tr>\n",
       "    <tr>\n",
       "      <th>3</th>\n",
       "      <td>БРИТ</td>\n",
       "      <td>12</td>\n",
       "      <td>Сумма гр. 07 НЕ РАВНА гр.08 + сумма(с гр.11 по...</td>\n",
       "    </tr>\n",
       "    <tr>\n",
       "      <th>4</th>\n",
       "      <td>БРИТ</td>\n",
       "      <td>14</td>\n",
       "      <td>Сумма гр. 07 НЕ РАВНА гр.08 + сумма(с гр.11 по...</td>\n",
       "    </tr>\n",
       "    <tr>\n",
       "      <th>5</th>\n",
       "      <td>БРИТ</td>\n",
       "      <td>08</td>\n",
       "      <td>Не совпадают суммы стр. 06 = стр. 02 + стр. 04</td>\n",
       "    </tr>\n",
       "    <tr>\n",
       "      <th>6</th>\n",
       "      <td>БРИТ</td>\n",
       "      <td>255</td>\n",
       "      <td>Сумма гр. 07 НЕ РАВНА гр.08 + сумма(с гр.11 по...</td>\n",
       "    </tr>\n",
       "    <tr>\n",
       "      <th>7</th>\n",
       "      <td>БРИТ</td>\n",
       "      <td>258</td>\n",
       "      <td>Сумма гр. 07 НЕ РАВНА гр.08 + сумма(с гр.11 по...</td>\n",
       "    </tr>\n",
       "  </tbody>\n",
       "</table>\n",
       "</div>"
      ],
      "text/plain": [
       "  Название файла Номер строки с ошибкой  \\\n",
       "0           БРИТ                      9   \n",
       "1           БРИТ                     10   \n",
       "2           БРИТ                     11   \n",
       "3           БРИТ                     12   \n",
       "4           БРИТ                     14   \n",
       "5           БРИТ                     08   \n",
       "6           БРИТ                    255   \n",
       "7           БРИТ                    258   \n",
       "\n",
       "                                     Описание ошибки  \n",
       "0                          гр. 09 и гр. 10 < гр. 08   \n",
       "1  Сумма гр. 07 НЕ РАВНА гр.08 + сумма(с гр.11 по...  \n",
       "2  Сумма гр. 07 НЕ РАВНА гр.08 + сумма(с гр.11 по...  \n",
       "3  Сумма гр. 07 НЕ РАВНА гр.08 + сумма(с гр.11 по...  \n",
       "4  Сумма гр. 07 НЕ РАВНА гр.08 + сумма(с гр.11 по...  \n",
       "5    Не совпадают суммы стр. 06 = стр. 02 + стр. 04   \n",
       "6  Сумма гр. 07 НЕ РАВНА гр.08 + сумма(с гр.11 по...  \n",
       "7  Сумма гр. 07 НЕ РАВНА гр.08 + сумма(с гр.11 по...  "
      ]
     },
     "execution_count": 338,
     "metadata": {},
     "output_type": "execute_result"
    }
   ],
   "source": [
    "error_df"
   ]
  },
  {
   "cell_type": "code",
   "execution_count": 339,
   "id": "e50aedfb",
   "metadata": {},
   "outputs": [],
   "source": [
    "temp_df = df.iloc[border:border +15,:]"
   ]
  },
  {
   "cell_type": "code",
   "execution_count": 340,
   "id": "1ee5066a",
   "metadata": {},
   "outputs": [
    {
     "data": {
      "text/html": [
       "<div>\n",
       "<style scoped>\n",
       "    .dataframe tbody tr th:only-of-type {\n",
       "        vertical-align: middle;\n",
       "    }\n",
       "\n",
       "    .dataframe tbody tr th {\n",
       "        vertical-align: top;\n",
       "    }\n",
       "\n",
       "    .dataframe thead th {\n",
       "        text-align: right;\n",
       "    }\n",
       "</style>\n",
       "<table border=\"1\" class=\"dataframe\">\n",
       "  <thead>\n",
       "    <tr style=\"text-align: right;\">\n",
       "      <th></th>\n",
       "      <th>07</th>\n",
       "      <th>08</th>\n",
       "      <th>09</th>\n",
       "      <th>10</th>\n",
       "      <th>11</th>\n",
       "      <th>12</th>\n",
       "      <th>13</th>\n",
       "      <th>14</th>\n",
       "      <th>15</th>\n",
       "      <th>16</th>\n",
       "      <th>...</th>\n",
       "      <th>23</th>\n",
       "      <th>24</th>\n",
       "      <th>25</th>\n",
       "      <th>26</th>\n",
       "      <th>27</th>\n",
       "      <th>28</th>\n",
       "      <th>29</th>\n",
       "      <th>30</th>\n",
       "      <th>31</th>\n",
       "      <th>32</th>\n",
       "    </tr>\n",
       "  </thead>\n",
       "  <tbody>\n",
       "  </tbody>\n",
       "</table>\n",
       "<p>0 rows × 26 columns</p>\n",
       "</div>"
      ],
      "text/plain": [
       "Empty DataFrame\n",
       "Columns: [07, 08, 09, 10, 11, 12, 13, 14, 15, 16, 17, 18, 19, 20, 21, 22, 23, 24, 25, 26, 27, 28, 29, 30, 31, 32]\n",
       "Index: []\n",
       "\n",
       "[0 rows x 26 columns]"
      ]
     },
     "execution_count": 340,
     "metadata": {},
     "output_type": "execute_result"
    }
   ],
   "source": [
    "temp_df.head(6)"
   ]
  },
  {
   "cell_type": "code",
   "execution_count": 341,
   "id": "c3f3542d",
   "metadata": {},
   "outputs": [],
   "source": [
    "trash_df = pd.DataFrame(columns=['02','04','06',])"
   ]
  },
  {
   "cell_type": "code",
   "execution_count": 342,
   "id": "33e668ef",
   "metadata": {},
   "outputs": [
    {
     "ename": "IndexError",
     "evalue": "single positional indexer is out-of-bounds",
     "output_type": "error",
     "traceback": [
      "\u001b[1;31m---------------------------------------------------------------------------\u001b[0m",
      "\u001b[1;31mIndexError\u001b[0m                                Traceback (most recent call last)",
      "\u001b[1;32m~\\AppData\\Local\\Temp\\ipykernel_16168\\3459796135.py\u001b[0m in \u001b[0;36m<module>\u001b[1;34m\u001b[0m\n\u001b[0;32m      1\u001b[0m \u001b[1;31m# Добавляем данные в датафрейм\u001b[0m\u001b[1;33m\u001b[0m\u001b[1;33m\u001b[0m\u001b[0m\n\u001b[1;32m----> 2\u001b[1;33m \u001b[0mtrash_df\u001b[0m\u001b[1;33m[\u001b[0m\u001b[1;34m'02'\u001b[0m\u001b[1;33m]\u001b[0m \u001b[1;33m=\u001b[0m \u001b[0mtemp_df\u001b[0m\u001b[1;33m.\u001b[0m\u001b[0miloc\u001b[0m\u001b[1;33m[\u001b[0m\u001b[1;36m1\u001b[0m\u001b[1;33m,\u001b[0m\u001b[1;33m:\u001b[0m\u001b[1;33m]\u001b[0m\u001b[1;33m\u001b[0m\u001b[1;33m\u001b[0m\u001b[0m\n\u001b[0m\u001b[0;32m      3\u001b[0m \u001b[0mtrash_df\u001b[0m\u001b[1;33m[\u001b[0m\u001b[1;34m'04'\u001b[0m\u001b[1;33m]\u001b[0m \u001b[1;33m=\u001b[0m \u001b[0mtemp_df\u001b[0m\u001b[1;33m.\u001b[0m\u001b[0miloc\u001b[0m\u001b[1;33m[\u001b[0m\u001b[1;36m3\u001b[0m\u001b[1;33m,\u001b[0m\u001b[1;33m:\u001b[0m\u001b[1;33m]\u001b[0m\u001b[1;33m\u001b[0m\u001b[1;33m\u001b[0m\u001b[0m\n\u001b[0;32m      4\u001b[0m \u001b[0mtrash_df\u001b[0m\u001b[1;33m[\u001b[0m\u001b[1;34m'06'\u001b[0m\u001b[1;33m]\u001b[0m \u001b[1;33m=\u001b[0m \u001b[0mtemp_df\u001b[0m\u001b[1;33m.\u001b[0m\u001b[0miloc\u001b[0m\u001b[1;33m[\u001b[0m\u001b[1;36m5\u001b[0m\u001b[1;33m,\u001b[0m\u001b[1;33m:\u001b[0m\u001b[1;33m]\u001b[0m\u001b[1;33m\u001b[0m\u001b[1;33m\u001b[0m\u001b[0m\n\u001b[0;32m      5\u001b[0m \u001b[0mtrash_df\u001b[0m\u001b[1;33m[\u001b[0m\u001b[1;34m'Сумма'\u001b[0m\u001b[1;33m]\u001b[0m \u001b[1;33m=\u001b[0m \u001b[0mtrash_df\u001b[0m\u001b[1;33m[\u001b[0m\u001b[1;34m'02'\u001b[0m\u001b[1;33m]\u001b[0m \u001b[1;33m+\u001b[0m \u001b[0mtrash_df\u001b[0m\u001b[1;33m[\u001b[0m\u001b[1;34m'04'\u001b[0m\u001b[1;33m]\u001b[0m\u001b[1;33m\u001b[0m\u001b[1;33m\u001b[0m\u001b[0m\n",
      "\u001b[1;32m~\\anaconda3\\lib\\site-packages\\pandas\\core\\indexing.py\u001b[0m in \u001b[0;36m__getitem__\u001b[1;34m(self, key)\u001b[0m\n\u001b[0;32m    959\u001b[0m             \u001b[1;32mif\u001b[0m \u001b[0mself\u001b[0m\u001b[1;33m.\u001b[0m\u001b[0m_is_scalar_access\u001b[0m\u001b[1;33m(\u001b[0m\u001b[0mkey\u001b[0m\u001b[1;33m)\u001b[0m\u001b[1;33m:\u001b[0m\u001b[1;33m\u001b[0m\u001b[1;33m\u001b[0m\u001b[0m\n\u001b[0;32m    960\u001b[0m                 \u001b[1;32mreturn\u001b[0m \u001b[0mself\u001b[0m\u001b[1;33m.\u001b[0m\u001b[0mobj\u001b[0m\u001b[1;33m.\u001b[0m\u001b[0m_get_value\u001b[0m\u001b[1;33m(\u001b[0m\u001b[1;33m*\u001b[0m\u001b[0mkey\u001b[0m\u001b[1;33m,\u001b[0m \u001b[0mtakeable\u001b[0m\u001b[1;33m=\u001b[0m\u001b[0mself\u001b[0m\u001b[1;33m.\u001b[0m\u001b[0m_takeable\u001b[0m\u001b[1;33m)\u001b[0m\u001b[1;33m\u001b[0m\u001b[1;33m\u001b[0m\u001b[0m\n\u001b[1;32m--> 961\u001b[1;33m             \u001b[1;32mreturn\u001b[0m \u001b[0mself\u001b[0m\u001b[1;33m.\u001b[0m\u001b[0m_getitem_tuple\u001b[0m\u001b[1;33m(\u001b[0m\u001b[0mkey\u001b[0m\u001b[1;33m)\u001b[0m\u001b[1;33m\u001b[0m\u001b[1;33m\u001b[0m\u001b[0m\n\u001b[0m\u001b[0;32m    962\u001b[0m         \u001b[1;32melse\u001b[0m\u001b[1;33m:\u001b[0m\u001b[1;33m\u001b[0m\u001b[1;33m\u001b[0m\u001b[0m\n\u001b[0;32m    963\u001b[0m             \u001b[1;31m# we by definition only have the 0th axis\u001b[0m\u001b[1;33m\u001b[0m\u001b[1;33m\u001b[0m\u001b[0m\n",
      "\u001b[1;32m~\\anaconda3\\lib\\site-packages\\pandas\\core\\indexing.py\u001b[0m in \u001b[0;36m_getitem_tuple\u001b[1;34m(self, tup)\u001b[0m\n\u001b[0;32m   1459\u001b[0m     \u001b[1;32mdef\u001b[0m \u001b[0m_getitem_tuple\u001b[0m\u001b[1;33m(\u001b[0m\u001b[0mself\u001b[0m\u001b[1;33m,\u001b[0m \u001b[0mtup\u001b[0m\u001b[1;33m:\u001b[0m \u001b[0mtuple\u001b[0m\u001b[1;33m)\u001b[0m\u001b[1;33m:\u001b[0m\u001b[1;33m\u001b[0m\u001b[1;33m\u001b[0m\u001b[0m\n\u001b[0;32m   1460\u001b[0m \u001b[1;33m\u001b[0m\u001b[0m\n\u001b[1;32m-> 1461\u001b[1;33m         \u001b[0mtup\u001b[0m \u001b[1;33m=\u001b[0m \u001b[0mself\u001b[0m\u001b[1;33m.\u001b[0m\u001b[0m_validate_tuple_indexer\u001b[0m\u001b[1;33m(\u001b[0m\u001b[0mtup\u001b[0m\u001b[1;33m)\u001b[0m\u001b[1;33m\u001b[0m\u001b[1;33m\u001b[0m\u001b[0m\n\u001b[0m\u001b[0;32m   1462\u001b[0m         \u001b[1;32mwith\u001b[0m \u001b[0msuppress\u001b[0m\u001b[1;33m(\u001b[0m\u001b[0mIndexingError\u001b[0m\u001b[1;33m)\u001b[0m\u001b[1;33m:\u001b[0m\u001b[1;33m\u001b[0m\u001b[1;33m\u001b[0m\u001b[0m\n\u001b[0;32m   1463\u001b[0m             \u001b[1;32mreturn\u001b[0m \u001b[0mself\u001b[0m\u001b[1;33m.\u001b[0m\u001b[0m_getitem_lowerdim\u001b[0m\u001b[1;33m(\u001b[0m\u001b[0mtup\u001b[0m\u001b[1;33m)\u001b[0m\u001b[1;33m\u001b[0m\u001b[1;33m\u001b[0m\u001b[0m\n",
      "\u001b[1;32m~\\anaconda3\\lib\\site-packages\\pandas\\core\\indexing.py\u001b[0m in \u001b[0;36m_validate_tuple_indexer\u001b[1;34m(self, key)\u001b[0m\n\u001b[0;32m    767\u001b[0m         \u001b[1;32mfor\u001b[0m \u001b[0mi\u001b[0m\u001b[1;33m,\u001b[0m \u001b[0mk\u001b[0m \u001b[1;32min\u001b[0m \u001b[0menumerate\u001b[0m\u001b[1;33m(\u001b[0m\u001b[0mkey\u001b[0m\u001b[1;33m)\u001b[0m\u001b[1;33m:\u001b[0m\u001b[1;33m\u001b[0m\u001b[1;33m\u001b[0m\u001b[0m\n\u001b[0;32m    768\u001b[0m             \u001b[1;32mtry\u001b[0m\u001b[1;33m:\u001b[0m\u001b[1;33m\u001b[0m\u001b[1;33m\u001b[0m\u001b[0m\n\u001b[1;32m--> 769\u001b[1;33m                 \u001b[0mself\u001b[0m\u001b[1;33m.\u001b[0m\u001b[0m_validate_key\u001b[0m\u001b[1;33m(\u001b[0m\u001b[0mk\u001b[0m\u001b[1;33m,\u001b[0m \u001b[0mi\u001b[0m\u001b[1;33m)\u001b[0m\u001b[1;33m\u001b[0m\u001b[1;33m\u001b[0m\u001b[0m\n\u001b[0m\u001b[0;32m    770\u001b[0m             \u001b[1;32mexcept\u001b[0m \u001b[0mValueError\u001b[0m \u001b[1;32mas\u001b[0m \u001b[0merr\u001b[0m\u001b[1;33m:\u001b[0m\u001b[1;33m\u001b[0m\u001b[1;33m\u001b[0m\u001b[0m\n\u001b[0;32m    771\u001b[0m                 raise ValueError(\n",
      "\u001b[1;32m~\\anaconda3\\lib\\site-packages\\pandas\\core\\indexing.py\u001b[0m in \u001b[0;36m_validate_key\u001b[1;34m(self, key, axis)\u001b[0m\n\u001b[0;32m   1362\u001b[0m             \u001b[1;32mreturn\u001b[0m\u001b[1;33m\u001b[0m\u001b[1;33m\u001b[0m\u001b[0m\n\u001b[0;32m   1363\u001b[0m         \u001b[1;32melif\u001b[0m \u001b[0mis_integer\u001b[0m\u001b[1;33m(\u001b[0m\u001b[0mkey\u001b[0m\u001b[1;33m)\u001b[0m\u001b[1;33m:\u001b[0m\u001b[1;33m\u001b[0m\u001b[1;33m\u001b[0m\u001b[0m\n\u001b[1;32m-> 1364\u001b[1;33m             \u001b[0mself\u001b[0m\u001b[1;33m.\u001b[0m\u001b[0m_validate_integer\u001b[0m\u001b[1;33m(\u001b[0m\u001b[0mkey\u001b[0m\u001b[1;33m,\u001b[0m \u001b[0maxis\u001b[0m\u001b[1;33m)\u001b[0m\u001b[1;33m\u001b[0m\u001b[1;33m\u001b[0m\u001b[0m\n\u001b[0m\u001b[0;32m   1365\u001b[0m         \u001b[1;32melif\u001b[0m \u001b[0misinstance\u001b[0m\u001b[1;33m(\u001b[0m\u001b[0mkey\u001b[0m\u001b[1;33m,\u001b[0m \u001b[0mtuple\u001b[0m\u001b[1;33m)\u001b[0m\u001b[1;33m:\u001b[0m\u001b[1;33m\u001b[0m\u001b[1;33m\u001b[0m\u001b[0m\n\u001b[0;32m   1366\u001b[0m             \u001b[1;31m# a tuple should already have been caught by this point\u001b[0m\u001b[1;33m\u001b[0m\u001b[1;33m\u001b[0m\u001b[0m\n",
      "\u001b[1;32m~\\anaconda3\\lib\\site-packages\\pandas\\core\\indexing.py\u001b[0m in \u001b[0;36m_validate_integer\u001b[1;34m(self, key, axis)\u001b[0m\n\u001b[0;32m   1453\u001b[0m         \u001b[0mlen_axis\u001b[0m \u001b[1;33m=\u001b[0m \u001b[0mlen\u001b[0m\u001b[1;33m(\u001b[0m\u001b[0mself\u001b[0m\u001b[1;33m.\u001b[0m\u001b[0mobj\u001b[0m\u001b[1;33m.\u001b[0m\u001b[0m_get_axis\u001b[0m\u001b[1;33m(\u001b[0m\u001b[0maxis\u001b[0m\u001b[1;33m)\u001b[0m\u001b[1;33m)\u001b[0m\u001b[1;33m\u001b[0m\u001b[1;33m\u001b[0m\u001b[0m\n\u001b[0;32m   1454\u001b[0m         \u001b[1;32mif\u001b[0m \u001b[0mkey\u001b[0m \u001b[1;33m>=\u001b[0m \u001b[0mlen_axis\u001b[0m \u001b[1;32mor\u001b[0m \u001b[0mkey\u001b[0m \u001b[1;33m<\u001b[0m \u001b[1;33m-\u001b[0m\u001b[0mlen_axis\u001b[0m\u001b[1;33m:\u001b[0m\u001b[1;33m\u001b[0m\u001b[1;33m\u001b[0m\u001b[0m\n\u001b[1;32m-> 1455\u001b[1;33m             \u001b[1;32mraise\u001b[0m \u001b[0mIndexError\u001b[0m\u001b[1;33m(\u001b[0m\u001b[1;34m\"single positional indexer is out-of-bounds\"\u001b[0m\u001b[1;33m)\u001b[0m\u001b[1;33m\u001b[0m\u001b[1;33m\u001b[0m\u001b[0m\n\u001b[0m\u001b[0;32m   1456\u001b[0m \u001b[1;33m\u001b[0m\u001b[0m\n\u001b[0;32m   1457\u001b[0m     \u001b[1;31m# -------------------------------------------------------------------\u001b[0m\u001b[1;33m\u001b[0m\u001b[1;33m\u001b[0m\u001b[0m\n",
      "\u001b[1;31mIndexError\u001b[0m: single positional indexer is out-of-bounds"
     ]
    }
   ],
   "source": [
    "# Добавляем данные в датафрейм\n",
    "trash_df['02'] = temp_df.iloc[1,:]\n",
    "trash_df['04'] = temp_df.iloc[3,:]\n",
    "trash_df['06'] = temp_df.iloc[5,:]\n",
    "trash_df['Сумма'] = trash_df['02'] + trash_df['04']\n",
    "trash_df['Результат'] = trash_df['06'] == trash_df['Сумма']\n",
    "trash_df['Результат'] = trash_df['Результат'].apply(lambda x: 'Правильно' if x else 'Неправильно')\n"
   ]
  },
  {
   "cell_type": "code",
   "execution_count": null,
   "id": "71555054",
   "metadata": {},
   "outputs": [],
   "source": [
    "df=trash_df[trash_df['Результат'] == 'Неправильно'].reset_index()\n",
    "temp_error_df = pd.DataFrame(columns=['Название файла','Номер строки с ошибкой','Описание ошибки',])\n",
    "# обрабатываем индексы строк с ошибками чтобы строки совпадали с файлом excel\n",
    "raw_lst_index = df['index'].tolist() # делаем список\n",
    "\n",
    "temp_error_df['Номер строки с ошибкой'] = raw_lst_index\n",
    "temp_error_df['Название файла'] = name_file\n",
    "temp_error_df['Описание ошибки'] = ' Не совпадают суммы стр. 06 = стр. 02 + стр. 04 '\n"
   ]
  },
  {
   "cell_type": "code",
   "execution_count": null,
   "id": "31bd278e",
   "metadata": {},
   "outputs": [],
   "source": [
    "temp_error_df"
   ]
  },
  {
   "cell_type": "code",
   "execution_count": null,
   "id": "1761d6fa",
   "metadata": {},
   "outputs": [],
   "source": []
  },
  {
   "cell_type": "code",
   "execution_count": null,
   "id": "5eff67a8",
   "metadata": {},
   "outputs": [],
   "source": []
  },
  {
   "cell_type": "code",
   "execution_count": null,
   "id": "f0144bba",
   "metadata": {},
   "outputs": [],
   "source": []
  },
  {
   "cell_type": "code",
   "execution_count": null,
   "id": "cc91b94d",
   "metadata": {},
   "outputs": [],
   "source": []
  },
  {
   "cell_type": "code",
   "execution_count": null,
   "id": "086d5a7d",
   "metadata": {},
   "outputs": [],
   "source": []
  },
  {
   "cell_type": "code",
   "execution_count": null,
   "id": "e1a8528e",
   "metadata": {},
   "outputs": [],
   "source": []
  }
 ],
 "metadata": {
  "kernelspec": {
   "display_name": "Python 3 (ipykernel)",
   "language": "python",
   "name": "python3"
  },
  "language_info": {
   "codemirror_mode": {
    "name": "ipython",
    "version": 3
   },
   "file_extension": ".py",
   "mimetype": "text/x-python",
   "name": "python",
   "nbconvert_exporter": "python",
   "pygments_lexer": "ipython3",
   "version": "3.9.13"
  }
 },
 "nbformat": 4,
 "nbformat_minor": 5
}
