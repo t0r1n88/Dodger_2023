{
 "cells": [
  {
   "cell_type": "code",
   "execution_count": 227,
   "id": "1788876c",
   "metadata": {},
   "outputs": [],
   "source": [
    "import numpy as np\n",
    "import pandas as pd\n",
    "import warnings\n",
    "warnings.simplefilter(action='ignore', category=UserWarning)\n",
    "pd.options.mode.chained_assignment = None"
   ]
  },
  {
   "cell_type": "code",
   "execution_count": 228,
   "id": "26623fb8",
   "metadata": {},
   "outputs": [],
   "source": [
    "def check_data(cell):\n",
    "    \"\"\"\n",
    "    Метод для проверки значения ячейки\n",
    "    :param cell: значение ячейки\n",
    "    :return: число в формате int\n",
    "    \"\"\"\n",
    "    if cell is np.nan:\n",
    "        return 0\n",
    "    if cell.isdigit():\n",
    "        return int(cell)\n",
    "    else:\n",
    "        return 0\n",
    "\n",
    "\n",
    "\n"
   ]
  },
  {
   "cell_type": "code",
   "execution_count": 229,
   "id": "6038cd63",
   "metadata": {},
   "outputs": [],
   "source": [
    "\n",
    "def check_error(df:pd.DataFrame,error_df:pd.DataFrame):\n",
    "    \"\"\"\n",
    "    Функция для проверки правильности введеденных данных\n",
    "    :param df: копия датафрейма с данными из файла поо\n",
    "    :param error_df: датафрейм с ошибками\n",
    "    :return:\n",
    "    \"\"\"\n",
    "    # конвертируем в инт\n",
    "    df = df.applymap(check_data)\n"
   ]
  },
  {
   "cell_type": "code",
   "execution_count": 230,
   "id": "612ea321",
   "metadata": {},
   "outputs": [],
   "source": [
    "# создаем словарь верхнего уровня для каждого поо\n",
    "high_level_dct = {}\n",
    "# создаем датафрейм для регистрации ошибок\n",
    "error_df = pd.DataFrame(columns=['Название файла','Номер строки с ошибкой','Описание ошибки',])\n",
    "\n",
    "primal_df = pd.read_excel('data/poo/Брит - 2022.xlsx',skiprows=7,dtype=str)\n",
    "primal_df.columns = list(map(str, primal_df.columns))\n",
    "name_file = 'БРИТ'\n",
    "# Заполняем пока пропуски в 15 ячейке для каждой специальности\n",
    "primal_df['06'] = primal_df['06'].fillna('15 ячейка')\n",
    "# Проводим проверку на корректность данных, отправляем копию датафрейма\n",
    "# check_error(df.iloc[:,6:32], error_df)\n"
   ]
  },
  {
   "cell_type": "code",
   "execution_count": 231,
   "id": "98cfd20b",
   "metadata": {},
   "outputs": [],
   "source": [
    "df = primal_df.iloc[:,6:32]\n",
    "df = df.applymap(check_data)"
   ]
  },
  {
   "cell_type": "code",
   "execution_count": 232,
   "id": "076f73ad",
   "metadata": {},
   "outputs": [],
   "source": [
    "# получаем количество датафреймов\n",
    "quantity = df.shape[0] // 15\n",
    "# счетчик для обработанных датафреймов\n",
    "border = 0"
   ]
  },
  {
   "cell_type": "code",
   "execution_count": 233,
   "id": "e7ef80c4",
   "metadata": {},
   "outputs": [],
   "source": [
    "for i in range(1,quantity+1):\n",
    "    temp_df = df.iloc[border:border +15,:]\n",
    "    # создаем список колонок для базовой проверки \n",
    "    all_sum_cols = list(temp_df)\n",
    "    # удаляем колонки 07, 09, 10\n",
    "    all_sum_cols.remove('07')\n",
    "    all_sum_cols.remove('09')\n",
    "    all_sum_cols.remove('10')\n",
    "    # получаем сумму колонок 08, 11:32\n",
    "    temp_df['Сумма Основная проверка'] = temp_df[all_sum_cols].sum(axis=1)\n",
    "    # Проводим проверку\n",
    "    temp_df['Результат основная проверка'] = temp_df['07'] == temp_df['Сумма Основная проверка']\n",
    "    # заменяем булевые значения на понятные\n",
    "    temp_df['Результат основная проверка'] = temp_df['Результат основная проверка'].apply(lambda x: 'Правильно' if x else 'Неправильно' )\n",
    "    # получаем датафрейм с ошибками и извлекаем индекс\n",
    "    first_error_temp_df=temp_df[temp_df['Результат основная проверка'] == 'Неправильно'].reset_index()\n",
    "    # создаем датафрейм дял добавления в ошибки\n",
    "    temp_error_df = pd.DataFrame(columns=['Название файла','Номер строки с ошибкой','Описание ошибки',])\n",
    "    # обрабатываем индексы строк с ошибками чтобы строки совпадали с файлом excel\n",
    "    raw_lst_index = first_error_temp_df['index'].tolist() # делаем список\n",
    "    finish_lst_index = list(map(lambda x:x +9,raw_lst_index))\n",
    "    temp_error_df['Номер строки с ошибкой'] = finish_lst_index\n",
    "    temp_error_df['Название файла'] = name_file\n",
    "    temp_error_df['Описание ошибки'] = 'Сумма гр. 07 НЕ РАВНА гр.08 + сумма(с гр.11 по гр.32)'\n",
    "    # соединяем с главным\n",
    "    error_df = pd.concat([error_df,temp_error_df],axis=0,ignore_index=True)\n",
    "    # прибавляем border\n",
    "    border += 15\n"
   ]
  },
  {
   "cell_type": "code",
   "execution_count": 234,
   "id": "64c3127f",
   "metadata": {},
   "outputs": [
    {
     "data": {
      "text/html": [
       "<div>\n",
       "<style scoped>\n",
       "    .dataframe tbody tr th:only-of-type {\n",
       "        vertical-align: middle;\n",
       "    }\n",
       "\n",
       "    .dataframe tbody tr th {\n",
       "        vertical-align: top;\n",
       "    }\n",
       "\n",
       "    .dataframe thead th {\n",
       "        text-align: right;\n",
       "    }\n",
       "</style>\n",
       "<table border=\"1\" class=\"dataframe\">\n",
       "  <thead>\n",
       "    <tr style=\"text-align: right;\">\n",
       "      <th></th>\n",
       "      <th>Название файла</th>\n",
       "      <th>Номер строки с ошибкой</th>\n",
       "      <th>Описание ошибки</th>\n",
       "    </tr>\n",
       "  </thead>\n",
       "  <tbody>\n",
       "    <tr>\n",
       "      <th>0</th>\n",
       "      <td>БРИТ</td>\n",
       "      <td>10</td>\n",
       "      <td>Сумма гр. 07 НЕ РАВНА гр.08 + сумма(с гр.11 по...</td>\n",
       "    </tr>\n",
       "    <tr>\n",
       "      <th>1</th>\n",
       "      <td>БРИТ</td>\n",
       "      <td>14</td>\n",
       "      <td>Сумма гр. 07 НЕ РАВНА гр.08 + сумма(с гр.11 по...</td>\n",
       "    </tr>\n",
       "    <tr>\n",
       "      <th>2</th>\n",
       "      <td>БРИТ</td>\n",
       "      <td>255</td>\n",
       "      <td>Сумма гр. 07 НЕ РАВНА гр.08 + сумма(с гр.11 по...</td>\n",
       "    </tr>\n",
       "    <tr>\n",
       "      <th>3</th>\n",
       "      <td>БРИТ</td>\n",
       "      <td>258</td>\n",
       "      <td>Сумма гр. 07 НЕ РАВНА гр.08 + сумма(с гр.11 по...</td>\n",
       "    </tr>\n",
       "  </tbody>\n",
       "</table>\n",
       "</div>"
      ],
      "text/plain": [
       "  Название файла Номер строки с ошибкой  \\\n",
       "0           БРИТ                     10   \n",
       "1           БРИТ                     14   \n",
       "2           БРИТ                    255   \n",
       "3           БРИТ                    258   \n",
       "\n",
       "                                     Описание ошибки  \n",
       "0  Сумма гр. 07 НЕ РАВНА гр.08 + сумма(с гр.11 по...  \n",
       "1  Сумма гр. 07 НЕ РАВНА гр.08 + сумма(с гр.11 по...  \n",
       "2  Сумма гр. 07 НЕ РАВНА гр.08 + сумма(с гр.11 по...  \n",
       "3  Сумма гр. 07 НЕ РАВНА гр.08 + сумма(с гр.11 по...  "
      ]
     },
     "execution_count": 234,
     "metadata": {},
     "output_type": "execute_result"
    }
   ],
   "source": [
    "error_df"
   ]
  },
  {
   "cell_type": "code",
   "execution_count": null,
   "id": "fea0b316",
   "metadata": {},
   "outputs": [],
   "source": []
  },
  {
   "cell_type": "code",
   "execution_count": null,
   "id": "472f13a8",
   "metadata": {},
   "outputs": [],
   "source": []
  },
  {
   "cell_type": "code",
   "execution_count": null,
   "id": "f8c06fcf",
   "metadata": {},
   "outputs": [],
   "source": []
  },
  {
   "cell_type": "code",
   "execution_count": null,
   "id": "609db461",
   "metadata": {},
   "outputs": [],
   "source": []
  },
  {
   "cell_type": "code",
   "execution_count": null,
   "id": "42dd30bf",
   "metadata": {},
   "outputs": [],
   "source": []
  }
 ],
 "metadata": {
  "kernelspec": {
   "display_name": "Python 3 (ipykernel)",
   "language": "python",
   "name": "python3"
  },
  "language_info": {
   "codemirror_mode": {
    "name": "ipython",
    "version": 3
   },
   "file_extension": ".py",
   "mimetype": "text/x-python",
   "name": "python",
   "nbconvert_exporter": "python",
   "pygments_lexer": "ipython3",
   "version": "3.9.13"
  }
 },
 "nbformat": 4,
 "nbformat_minor": 5
}
