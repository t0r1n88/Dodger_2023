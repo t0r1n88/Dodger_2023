{
 "cells": [
  {
   "cell_type": "code",
   "execution_count": 128,
   "id": "82436d2d",
   "metadata": {},
   "outputs": [
    {
     "data": {
      "text/plain": [
       "'\\nскрипт для отработки создания сводной таблицы по форме 2\\n'"
      ]
     },
     "execution_count": 128,
     "metadata": {},
     "output_type": "execute_result"
    }
   ],
   "source": [
    "\"\"\"\n",
    "скрипт для отработки создания сводной таблицы по форме 2\n",
    "\"\"\""
   ]
  },
  {
   "cell_type": "code",
   "execution_count": null,
   "id": "915b060a",
   "metadata": {},
   "outputs": [],
   "source": []
  },
  {
   "cell_type": "code",
   "execution_count": 129,
   "id": "2f18bc5a",
   "metadata": {},
   "outputs": [],
   "source": [
    "import pandas as pd"
   ]
  },
  {
   "cell_type": "code",
   "execution_count": 130,
   "id": "145e7dd3",
   "metadata": {},
   "outputs": [],
   "source": [
    "pd.options.mode.chained_assignment = None  # default='warn'\n",
    "import warnings\n",
    "\n",
    "warnings.filterwarnings('ignore', category=UserWarning, module='openpyxl')\n",
    "warnings.filterwarnings('ignore', category=DeprecationWarning)\n",
    "warnings.filterwarnings('ignore', category=FutureWarning)"
   ]
  },
  {
   "cell_type": "code",
   "execution_count": 131,
   "id": "982e9d8c",
   "metadata": {},
   "outputs": [],
   "source": [
    "all_form2 = pd.read_excel('data/Общий список и сводная таблица по форме 2 от 07_54_07.xlsx')"
   ]
  },
  {
   "cell_type": "code",
   "execution_count": 133,
   "id": "665d1300",
   "metadata": {},
   "outputs": [],
   "source": [
    "all_form2.columns = ['Регион','Специальность','Наименование','Количество','Трудоустройство','Целевой договор','ИНН','Предприятие','Должность','Трудоустройство по специальности','Сложности']"
   ]
  },
  {
   "cell_type": "code",
   "execution_count": 135,
   "id": "8dee9b4f",
   "metadata": {},
   "outputs": [],
   "source": [
    "all_form2['Трудоустройство'] = all_form2['Трудоустройство'].astype('category')\n",
    "all_form2[\"Трудоустройство\"].cat.set_categories([\"уже трудоустроены\", \"будут трудоустроены\"], inplace=True)\n",
    "all_form2['Целевой договор'] = all_form2['Целевой договор'].astype('category')\n",
    "all_form2[\"Целевой договор\"].cat.set_categories([\"нет\", \"заключили договор о целевом обучении\"], inplace=True)\n",
    "all_form2['Трудоустройство по специальности'] = all_form2['Трудоустройство по специальности'].astype('category')\n",
    "all_form2[\"Трудоустройство по специальности\"].cat.set_categories([\"нет\", \"да\"], inplace=True)"
   ]
  },
  {
   "cell_type": "code",
   "execution_count": 137,
   "id": "01c4869d",
   "metadata": {},
   "outputs": [],
   "source": [
    "out_svod_all_form2=all_form2.pivot_table(index=['Специальность'],\n",
    "               values=['Количество'],\n",
    "              columns=['Трудоустройство','Целевой договор'],\n",
    "              aggfunc={'Количество':sum},\n",
    "              margins=True)"
   ]
  },
  {
   "cell_type": "code",
   "execution_count": 138,
   "id": "7113b367",
   "metadata": {},
   "outputs": [],
   "source": [
    "out_svod_all_form2=out_svod_all_form2.applymap(int)"
   ]
  },
  {
   "cell_type": "code",
   "execution_count": 140,
   "id": "b0d3152b",
   "metadata": {},
   "outputs": [],
   "source": [
    "out_svod_all_form2.rename(index={'All':'Итого'},columns={'All':'Итого'},inplace=True)\n"
   ]
  },
  {
   "cell_type": "code",
   "execution_count": 142,
   "id": "2ef313d5",
   "metadata": {},
   "outputs": [],
   "source": [
    "out_svod_all_form2.to_excel('tr.xlsx')"
   ]
  },
  {
   "cell_type": "code",
   "execution_count": null,
   "id": "a843f5aa",
   "metadata": {},
   "outputs": [],
   "source": []
  }
 ],
 "metadata": {
  "kernelspec": {
   "display_name": "Python 3 (ipykernel)",
   "language": "python",
   "name": "python3"
  },
  "language_info": {
   "codemirror_mode": {
    "name": "ipython",
    "version": 3
   },
   "file_extension": ".py",
   "mimetype": "text/x-python",
   "name": "python",
   "nbconvert_exporter": "python",
   "pygments_lexer": "ipython3",
   "version": "3.9.13"
  }
 },
 "nbformat": 4,
 "nbformat_minor": 5
}
