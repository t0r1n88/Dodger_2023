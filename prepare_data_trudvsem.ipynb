{
 "cells": [
  {
   "cell_type": "code",
   "execution_count": 545,
   "id": "e0184e4d",
   "metadata": {},
   "outputs": [
    {
     "data": {
      "text/plain": [
       "'\\nСкрипт для обработки данных  с портала трудвсем для БЦК\\n'"
      ]
     },
     "execution_count": 545,
     "metadata": {},
     "output_type": "execute_result"
    }
   ],
   "source": [
    "\"\"\"\n",
    "Скрипт для обработки данных  с портала трудвсем для БЦК\n",
    "\"\"\""
   ]
  },
  {
   "cell_type": "code",
   "execution_count": 546,
   "id": "6a2dca8c",
   "metadata": {},
   "outputs": [],
   "source": [
    "import pandas as pd\n",
    "import numpy as np\n",
    "import openpyxl\n",
    "import json\n",
    "import ast\n",
    "import re\n",
    "import os\n",
    "import datetime\n",
    "import time\n",
    "from dateutil import parser\n",
    "pd.options.mode.chained_assignment = None\n"
   ]
  },
  {
   "cell_type": "code",
   "execution_count": 547,
   "id": "4aa35d2b",
   "metadata": {},
   "outputs": [],
   "source": [
    "def extract_data_from_list_cell(cell:str,lst_need_keys:list):\n",
    "    \"\"\"\n",
    "    Функция для извлечения данных из словаря в ячейке датафрейма\n",
    "    \"\"\"\n",
    "    try:\n",
    "        \n",
    "        lst_lang = ast.literal_eval(cell) # превращаем в список\n",
    "        if lst_lang:            \n",
    "            out_str_lst = [] # создаем список содержащий выходные строки\n",
    "            for lang_dict in lst_lang:\n",
    "                lst_lang_str = [] # список для хранения значений извлеченных из словаря\n",
    "                for idx,key in enumerate(lst_need_keys):\n",
    "                    lst_lang_str.append(lang_dict.get(key,None))             \n",
    "                    \n",
    "                lst_lang_str = [value for value in lst_lang_str if value] # отбрасываем None\n",
    "                single_lang_str = ','.join(lst_lang_str) # создаем строку для одного языка\n",
    "                out_str_lst.append(single_lang_str)\n",
    "            return ';'.join(out_str_lst)\n",
    "                               \n",
    "        else:\n",
    "            return 'Не указано'\n",
    "        \n",
    "\n",
    "    except FileNotFoundError:\n",
    "        return 'Не удалось обработать содержимое ячейки'\n",
    "\n",
    "    "
   ]
  },
  {
   "cell_type": "code",
   "execution_count": 548,
   "id": "375298a5",
   "metadata": {},
   "outputs": [],
   "source": [
    "def clear_tag(cell):\n",
    "    \"\"\"\n",
    "    Функция для очистки текста от тегов HTML\n",
    "    \"\"\"\n",
    "    value = str(cell)\n",
    "    if value != 'nan':        \n",
    "        result = re.sub(r'<.*?>','',value)\n",
    "        result = re.sub(r'&[a-z]*?;','',result)\n",
    "        return result\n",
    "    else:\n",
    "        return None\n",
    "\n",
    "def clear_bonus_tag_br(cell):\n",
    "    \"\"\"\n",
    "    Функция для очистки данных в колонке Дополнительные бонусы\n",
    "    \"\"\"\n",
    "    cell = str(cell)\n",
    "\n",
    "    if cell !='nan':\n",
    "        value = str(cell)\n",
    "        result = re.sub(r'<.*?>','.',value)\n",
    "\n",
    "        return result\n",
    "    else:\n",
    "        return None"
   ]
  },
  {
   "cell_type": "code",
   "execution_count": 549,
   "id": "1928a162",
   "metadata": {},
   "outputs": [],
   "source": [
    "def convert_date(cell):\n",
    "    \"\"\"\n",
    "    Функция конвертации строки содержащей дату и время\n",
    "    \"\"\"\n",
    "    value = str(cell)\n",
    "    try:        \n",
    "        if value !='nan':\n",
    "            date_time = parser.parse(value).date() # извлекаем дату\n",
    "            date_time = datetime.datetime.strftime(date_time,'%d.%m.%Y') # конфертируем в нужный формат\n",
    "            return date_time\n",
    "\n",
    "        else:\n",
    "            return None\n",
    "    except:\n",
    "        return 'Не удалось обработать содержимое ячейки'\n",
    "    "
   ]
  },
  {
   "cell_type": "code",
   "execution_count": 550,
   "id": "9d1a0550",
   "metadata": {},
   "outputs": [],
   "source": [
    "def prepare_data_vacancy(df:pd.DataFrame,dct_name_columns:dict,lst_columns:list)->pd.DataFrame:\n",
    "    \"\"\"\n",
    "    Функция для обработки датафрейма с данными работы в России\n",
    "    \"\"\"\n",
    "    df = df[dct_name_columns.keys()]\n",
    "    df.rename(columns=dct_name_columns,inplace=True)\n",
    "    # Обрабатываем обычные колонки\n",
    "    \n",
    "    df['Дополнительные бонусы'] = df['Дополнительные бонусы'].apply(clear_bonus_tag_br)\n",
    "    df['Требования'] = df['Требования'].apply(clear_tag)\n",
    "    df['Обязанности'] = df['Обязанности'].apply(clear_tag)\n",
    "    \n",
    "    # Числовые\n",
    "    lst_number_columns = ['Требуемый опыт работы в годах','Минимальная зарплата','Максимальная зарплата','Количество рабочих мест']\n",
    "    df[lst_number_columns] = df[lst_number_columns].fillna(0)\n",
    "    df[lst_number_columns] = df[lst_number_columns].astype(int,errors='ignore')\n",
    "  \n",
    "    # Временные\n",
    "    \n",
    "    df['Дата размещения вакансии'] = df['Дата размещения вакансии'].apply(convert_date)\n",
    "    df['Дата изменения вакансии'] = df['Дата изменения вакансии'].apply(convert_date)\n",
    "    \n",
    "    # Категориальные\n",
    "    df['Квотируемое место'] = df['Квотируемое место'].apply(lambda x: 'Квотируемое место' if x == 'true' else None)\n",
    "    df['Требуется медкнижка'] = df['Требуется медкнижка'].apply(lambda x:'Требуется медкнижка' if x == 'true' else None)\n",
    "    df['Статус проверки вакансии'] = df['Статус проверки вакансии'].replace(dct_status_vacancy)\n",
    "    # Начинаем извлекать данные из сложных колонок с json\n",
    "    # данные по работодателю\n",
    "    df['КПП работодателя'] = df['Данные компании'].apply(lambda x: json.loads(x).get('kpp','Не указано'))\n",
    "    df['ОГРН работодателя'] = df['Данные компании'].apply(lambda x: json.loads(x).get('ogrn','Не указано'))\n",
    "    df['Контактный телефон'] = df['Данные компании'].apply(lambda x: json.loads(x).get('phone','Не указано'))\n",
    "    df['Email работодателя'] = df['Данные компании'].apply(lambda x: json.loads(x).get('email','Не указано'))\n",
    "    df['Профиль работодателя'] = df['Данные компании'].apply(lambda x: json.loads(x).get('url','Не указано'))\n",
    "    \n",
    "    # Обрабатываем колонку с языками\n",
    "    df['Требуемые языки'] = df['Данные по языкам'].apply(lambda x:extract_data_from_list_cell(x,['code_language','level']))\n",
    "    df['Требуемые хардскиллы'] = df['Данные по хардскиллам'].apply(lambda x:extract_data_from_list_cell(x,['hard_skill_name']))\n",
    "    df['Требуемые софтскиллы'] = df['Данные по софтскиллам'].apply(lambda x:extract_data_from_list_cell(x,['soft_skill_name']))\n",
    "    \n",
    "    df.drop(columns=['Данные компании','Данные по языкам','Данные по хардскиллам','Данные по софтскиллам'],inplace=True)\n",
    "    \n",
    "    df = df.reindex(columns=lst_columns)\n",
    "    \n",
    "    return df\n",
    "    \n",
    "    "
   ]
  },
  {
   "cell_type": "code",
   "execution_count": 551,
   "id": "dc3fc18f",
   "metadata": {},
   "outputs": [],
   "source": [
    "region = 'Красноярский край'\n",
    "file_data = 'data/vacancy.csv'\n",
    "file_org = 'data/company.xlsx'\n",
    "end_folder = 'data'"
   ]
  },
  {
   "cell_type": "code",
   "execution_count": 552,
   "id": "1b45c58c",
   "metadata": {},
   "outputs": [],
   "source": [
    "# колонки которые нужно оставить и переименовать\n",
    "dct_name_columns = {'busy_type':'Тип занятости','contact_person':'Контактное лицо','date_create':'Дата размещения вакансии',\n",
    "                    'date_modify':'Дата изменения вакансии','education':'Образование','education_speciality':'Требуемая специализация','is_quoted':'Квотируемое место',\n",
    "                    'need_medcard':'Требуется медкнижка',\n",
    "                   'other_vacancy_benefit':'Дополнительные бонусы','position_requirements':'Требования',\n",
    "                    'position_responsibilities':'Обязанности','regionName':'Регион','required_experience':'Требуемый опыт работы в годах',\n",
    "                    'retraining_capability':'Возможность переподготовки','required_certificates':'Требуемые доп. документы',\n",
    "                   'required_drive_license':'Требуемые водительские права','retraining_grant':'Стипендия',\n",
    "                    'retraining_grant_value':'Размер стипендии','salary':'Зарплата','salary_min':'Минимальная зарплата','salary_max':'Максимальная зарплата',\n",
    "                    'schedule_type':'График работы','social_protected_ids':'Социально защищенная категория',\n",
    "                   'source_type':'Источник вакансии','status':'Статус проверки вакансии','transport_compensation':'Компенсация транспорт',\n",
    "                    'vacancy_address_additional_info':'Доп информация по адресу вакансии','vacancy_address':'Адрес вакансии',\n",
    "                    'vacancy_address_latitude':'Долгота адрес вакансии','vacancy_address_longitude':'Широта адрес вакансии',\n",
    "                   'vacancy_benefit_ids':'Бонусы','vacancy_name':'Вакансия','work_places':'Количество рабочих мест','professionalSphereName':'Сфера деятельности',\n",
    "                    'full_company_name':'Полное название работодателя','company_inn':'ИНН работодателя','company':'Данные компании',\n",
    "                    'languageKnowledge':'Данные по языкам','hardSkills':'Данные по хардскиллам','softSkills':'Данные по софтскиллам'}"
   ]
  },
  {
   "cell_type": "code",
   "execution_count": 553,
   "id": "49597e33",
   "metadata": {},
   "outputs": [],
   "source": [
    "dct_status_vacancy = {'ACCEPTED':'Данные вакансии проверены работодателем','AUTOMODERATION':'Автомодерация',\n",
    "                      'REJECTED':'Отклонено','CHANGED':'Статус вакансии изменен',\n",
    "                      'WAITING':'Ожидает подтверждения',}"
   ]
  },
  {
   "cell_type": "code",
   "execution_count": 554,
   "id": "4a4a2c72",
   "metadata": {},
   "outputs": [],
   "source": [
    "t = time.localtime()  # получаем текущее время\n",
    "current_time = time.strftime('%H_%M_%S', t)\n",
    "current_date = time.strftime('%d_%m_%Y',t)"
   ]
  },
  {
   "cell_type": "code",
   "execution_count": 555,
   "id": "223ac172",
   "metadata": {},
   "outputs": [],
   "source": [
    "df = pd.read_csv(file_data,encoding='UTF-8',sep='|',dtype=str)\n"
   ]
  },
  {
   "cell_type": "code",
   "execution_count": 556,
   "id": "53561686",
   "metadata": {},
   "outputs": [
    {
     "data": {
      "text/plain": [
       "(95676, 78)"
      ]
     },
     "execution_count": 556,
     "metadata": {},
     "output_type": "execute_result"
    }
   ],
   "source": [
    "df.shape"
   ]
  },
  {
   "cell_type": "code",
   "execution_count": 557,
   "id": "60293f42",
   "metadata": {},
   "outputs": [],
   "source": [
    "company_df = pd.read_excel(file_org,dtype=str)"
   ]
  },
  {
   "cell_type": "code",
   "execution_count": 558,
   "id": "8f41c668",
   "metadata": {},
   "outputs": [
    {
     "data": {
      "text/html": [
       "<div>\n",
       "<style scoped>\n",
       "    .dataframe tbody tr th:only-of-type {\n",
       "        vertical-align: middle;\n",
       "    }\n",
       "\n",
       "    .dataframe tbody tr th {\n",
       "        vertical-align: top;\n",
       "    }\n",
       "\n",
       "    .dataframe thead th {\n",
       "        text-align: right;\n",
       "    }\n",
       "</style>\n",
       "<table border=\"1\" class=\"dataframe\">\n",
       "  <thead>\n",
       "    <tr style=\"text-align: right;\">\n",
       "      <th></th>\n",
       "      <th>Краткое название организации</th>\n",
       "      <th>ИНН</th>\n",
       "    </tr>\n",
       "  </thead>\n",
       "  <tbody>\n",
       "    <tr>\n",
       "      <th>0</th>\n",
       "      <td>АО \"Красноярский машиностроительный завод\"</td>\n",
       "      <td>2462206345</td>\n",
       "    </tr>\n",
       "    <tr>\n",
       "      <th>1</th>\n",
       "      <td>АО \"НПП \"Радиосвязь\"</td>\n",
       "      <td>2460243408</td>\n",
       "    </tr>\n",
       "    <tr>\n",
       "      <th>2</th>\n",
       "      <td>ООО \"Ачинский цемент\"</td>\n",
       "      <td>2443030350</td>\n",
       "    </tr>\n",
       "    <tr>\n",
       "      <th>3</th>\n",
       "      <td>ЗФ ПАО \"ГМК \"Норильский никель\"</td>\n",
       "      <td>8401005730</td>\n",
       "    </tr>\n",
       "    <tr>\n",
       "      <th>4</th>\n",
       "      <td>АО \"Информационные спутниковые системы имени М...</td>\n",
       "      <td>2452034898</td>\n",
       "    </tr>\n",
       "    <tr>\n",
       "      <th>5</th>\n",
       "      <td>ООО \"Научно-производственное предприятие \"Авто...</td>\n",
       "      <td>2461217337</td>\n",
       "    </tr>\n",
       "    <tr>\n",
       "      <th>6</th>\n",
       "      <td>АО \"Богучанский алюминиевый завод\"</td>\n",
       "      <td>2465102746</td>\n",
       "    </tr>\n",
       "    <tr>\n",
       "      <th>7</th>\n",
       "      <td>АО \"Испытательный технический центр - НПО ПМ\"</td>\n",
       "      <td>2452027379</td>\n",
       "    </tr>\n",
       "    <tr>\n",
       "      <th>8</th>\n",
       "      <td>ООО \"Вариант-999\"</td>\n",
       "      <td>2466077228</td>\n",
       "    </tr>\n",
       "    <tr>\n",
       "      <th>9</th>\n",
       "      <td>АО \"Русал Красноярский алюминиевый завод\"</td>\n",
       "      <td>2465000141</td>\n",
       "    </tr>\n",
       "    <tr>\n",
       "      <th>10</th>\n",
       "      <td>АО \"Ачинский нефтеперерабатывающий завод Восто...</td>\n",
       "      <td>2443000518</td>\n",
       "    </tr>\n",
       "    <tr>\n",
       "      <th>11</th>\n",
       "      <td>ООО \"РН-Ванкор\"</td>\n",
       "      <td>2465142996</td>\n",
       "    </tr>\n",
       "    <tr>\n",
       "      <th>12</th>\n",
       "      <td>ООО \"РН-Красноярскнипинефть\"</td>\n",
       "      <td>2465214545</td>\n",
       "    </tr>\n",
       "    <tr>\n",
       "      <th>13</th>\n",
       "      <td>ФБУ \"Государственный региональный центр станда...</td>\n",
       "      <td>2464019742</td>\n",
       "    </tr>\n",
       "    <tr>\n",
       "      <th>14</th>\n",
       "      <td>ФГБОУ ВО \"Сибирский государственный университе...</td>\n",
       "      <td>2462003320</td>\n",
       "    </tr>\n",
       "    <tr>\n",
       "      <th>15</th>\n",
       "      <td>АО \"Германий\"</td>\n",
       "      <td>2462214466</td>\n",
       "    </tr>\n",
       "    <tr>\n",
       "      <th>16</th>\n",
       "      <td>АО \"Русал Ачинский глиноземный комбинат\"</td>\n",
       "      <td>2443005570</td>\n",
       "    </tr>\n",
       "    <tr>\n",
       "      <th>17</th>\n",
       "      <td>АО \"Сибирское производственно-геологическое об...</td>\n",
       "      <td>2465106613</td>\n",
       "    </tr>\n",
       "    <tr>\n",
       "      <th>18</th>\n",
       "      <td>АО \"Центральное конструкторское бюро \"Геофизика\"</td>\n",
       "      <td>2463237459</td>\n",
       "    </tr>\n",
       "    <tr>\n",
       "      <th>19</th>\n",
       "      <td>ООО \"Альянссервис\"</td>\n",
       "      <td>2465188140</td>\n",
       "    </tr>\n",
       "    <tr>\n",
       "      <th>20</th>\n",
       "      <td>ООО \"Завод Айсберг\"</td>\n",
       "      <td>2465059000</td>\n",
       "    </tr>\n",
       "    <tr>\n",
       "      <th>21</th>\n",
       "      <td>ООО \"ИТС-Сибирь\"</td>\n",
       "      <td>2466208907</td>\n",
       "    </tr>\n",
       "    <tr>\n",
       "      <th>22</th>\n",
       "      <td>ООО \"Компания Импринта\"</td>\n",
       "      <td>2465192316</td>\n",
       "    </tr>\n",
       "    <tr>\n",
       "      <th>23</th>\n",
       "      <td>ООО \"Красноярский металлургический завод\"</td>\n",
       "      <td>2465043748</td>\n",
       "    </tr>\n",
       "    <tr>\n",
       "      <th>24</th>\n",
       "      <td>ООО \"Литейно-механический завод \"Скад\"</td>\n",
       "      <td>2465072918</td>\n",
       "    </tr>\n",
       "    <tr>\n",
       "      <th>25</th>\n",
       "      <td>ООО \"Научно-производственное предприятие \"Связ...</td>\n",
       "      <td>2463022012</td>\n",
       "    </tr>\n",
       "    <tr>\n",
       "      <th>26</th>\n",
       "      <td>ООО Научно-производственная фирма \"Электрон\"</td>\n",
       "      <td>2463021192</td>\n",
       "    </tr>\n",
       "    <tr>\n",
       "      <th>27</th>\n",
       "      <td>ООО \"Объединенная компания Русал Инженерно-тех...</td>\n",
       "      <td>3804039638</td>\n",
       "    </tr>\n",
       "    <tr>\n",
       "      <th>28</th>\n",
       "      <td>ООО \"Регионтранском\"</td>\n",
       "      <td>2465293177</td>\n",
       "    </tr>\n",
       "    <tr>\n",
       "      <th>29</th>\n",
       "      <td>Обособленное подразделение АО \"РТ-Техприемка\" ...</td>\n",
       "      <td>7714710760</td>\n",
       "    </tr>\n",
       "    <tr>\n",
       "      <th>30</th>\n",
       "      <td>Обособленное подразделение ООО \"ИСО\" Емельянов...</td>\n",
       "      <td>7730248021</td>\n",
       "    </tr>\n",
       "    <tr>\n",
       "      <th>31</th>\n",
       "      <td>Филиал ООО \"ИСО\" в г. Ачинске</td>\n",
       "      <td>7730248021</td>\n",
       "    </tr>\n",
       "    <tr>\n",
       "      <th>32</th>\n",
       "      <td>Филиал ООО \"ИСО\" в г. Красноярске</td>\n",
       "      <td>7730248021</td>\n",
       "    </tr>\n",
       "    <tr>\n",
       "      <th>33</th>\n",
       "      <td>ФГУП \"Горно-химический комбинат\"</td>\n",
       "      <td>2452000401</td>\n",
       "    </tr>\n",
       "  </tbody>\n",
       "</table>\n",
       "</div>"
      ],
      "text/plain": [
       "                         Краткое название организации         ИНН\n",
       "0          АО \"Красноярский машиностроительный завод\"  2462206345\n",
       "1                                АО \"НПП \"Радиосвязь\"  2460243408\n",
       "2                               ООО \"Ачинский цемент\"  2443030350\n",
       "3                     ЗФ ПАО \"ГМК \"Норильский никель\"  8401005730\n",
       "4   АО \"Информационные спутниковые системы имени М...  2452034898\n",
       "5   ООО \"Научно-производственное предприятие \"Авто...  2461217337\n",
       "6                  АО \"Богучанский алюминиевый завод\"  2465102746\n",
       "7       АО \"Испытательный технический центр - НПО ПМ\"  2452027379\n",
       "8                                   ООО \"Вариант-999\"  2466077228\n",
       "9           АО \"Русал Красноярский алюминиевый завод\"  2465000141\n",
       "10  АО \"Ачинский нефтеперерабатывающий завод Восто...  2443000518\n",
       "11                                    ООО \"РН-Ванкор\"  2465142996\n",
       "12                       ООО \"РН-Красноярскнипинефть\"  2465214545\n",
       "13  ФБУ \"Государственный региональный центр станда...  2464019742\n",
       "14  ФГБОУ ВО \"Сибирский государственный университе...  2462003320\n",
       "15                                      АО \"Германий\"  2462214466\n",
       "16           АО \"Русал Ачинский глиноземный комбинат\"  2443005570\n",
       "17  АО \"Сибирское производственно-геологическое об...  2465106613\n",
       "18   АО \"Центральное конструкторское бюро \"Геофизика\"  2463237459\n",
       "19                                 ООО \"Альянссервис\"  2465188140\n",
       "20                                ООО \"Завод Айсберг\"  2465059000\n",
       "21                                   ООО \"ИТС-Сибирь\"  2466208907\n",
       "22                            ООО \"Компания Импринта\"  2465192316\n",
       "23          ООО \"Красноярский металлургический завод\"  2465043748\n",
       "24             ООО \"Литейно-механический завод \"Скад\"  2465072918\n",
       "25  ООО \"Научно-производственное предприятие \"Связ...  2463022012\n",
       "26       ООО Научно-производственная фирма \"Электрон\"  2463021192\n",
       "27  ООО \"Объединенная компания Русал Инженерно-тех...  3804039638\n",
       "28                               ООО \"Регионтранском\"  2465293177\n",
       "29  Обособленное подразделение АО \"РТ-Техприемка\" ...  7714710760\n",
       "30  Обособленное подразделение ООО \"ИСО\" Емельянов...  7730248021\n",
       "31                      Филиал ООО \"ИСО\" в г. Ачинске  7730248021\n",
       "32                  Филиал ООО \"ИСО\" в г. Красноярске  7730248021\n",
       "33                   ФГУП \"Горно-химический комбинат\"  2452000401"
      ]
     },
     "execution_count": 558,
     "metadata": {},
     "output_type": "execute_result"
    }
   ],
   "source": [
    "company_df"
   ]
  },
  {
   "cell_type": "code",
   "execution_count": 559,
   "id": "626e94e1",
   "metadata": {},
   "outputs": [],
   "source": [
    "lst_columns = ['Дата размещения вакансии','Дата изменения вакансии','Регион','Вакансия','Сфера деятельности','Количество рабочих мест',\n",
    "               'Зарплата','Минимальная зарплата','Максимальная зарплата','График работы','Тип занятости','Образование','Требуемая специализация',\n",
    "               'Требования','Обязанности','Бонусы','Дополнительные бонусы','Возможность переподготовки','Стипендия','Размер стипендии','Компенсация транспорт',\n",
    "               'Квотируемое место','Социально защищенная категория',\n",
    "               'Требуемый опыт работы в годах','Требуется медкнижка','Требуемые доп. документы','Требуемые водительские права',\n",
    "               'Требуемые языки','Требуемые хардскиллы','Требуемые софтскиллы',\n",
    "               'Источник вакансии','Статус проверки вакансии','Полное название работодателя','Адрес вакансии','Доп информация по адресу вакансии',\n",
    "               'ИНН работодателя','КПП работодателя','ОГРН работодателя','Контактное лицо','Контактный телефон','Email работодателя',\n",
    "               'Профиль работодателя','Долгота адрес вакансии','Широта адрес вакансии']"
   ]
  },
  {
   "cell_type": "code",
   "execution_count": 560,
   "id": "c60418a3",
   "metadata": {},
   "outputs": [],
   "source": [
    "df = df[df['regionName'] == region]"
   ]
  },
  {
   "cell_type": "code",
   "execution_count": 561,
   "id": "4d4fb2d7",
   "metadata": {},
   "outputs": [
    {
     "data": {
      "text/plain": [
       "(17884, 78)"
      ]
     },
     "execution_count": 561,
     "metadata": {},
     "output_type": "execute_result"
    }
   ],
   "source": [
    "df.shape"
   ]
  },
  {
   "cell_type": "code",
   "execution_count": 562,
   "id": "0acd2c6b",
   "metadata": {},
   "outputs": [],
   "source": [
    "all_status_prepared_df = prepare_data_vacancy(df,dct_name_columns,lst_columns) # получаем обработанный датафрейм со всеми статусами вакансий\n",
    "\n"
   ]
  },
  {
   "cell_type": "code",
   "execution_count": 563,
   "id": "517f4bf5",
   "metadata": {},
   "outputs": [
    {
     "data": {
      "text/plain": [
       "(17884, 44)"
      ]
     },
     "execution_count": 563,
     "metadata": {},
     "output_type": "execute_result"
    }
   ],
   "source": [
    "all_status_prepared_df.shape"
   ]
  },
  {
   "cell_type": "code",
   "execution_count": 564,
   "id": "430cef42",
   "metadata": {},
   "outputs": [],
   "source": [
    "prepared_df = all_status_prepared_df[all_status_prepared_df['Статус проверки вакансии'] == 'Данные вакансии проверены работодателем']\n",
    "union_company_df_columns = list(prepared_df.columns).insert(0,'Организация')\n",
    "union_company_df = pd.DataFrame(columns=union_company_df_columns)"
   ]
  },
  {
   "cell_type": "code",
   "execution_count": 565,
   "id": "c84fe2d7",
   "metadata": {},
   "outputs": [
    {
     "data": {
      "text/plain": [
       "(17811, 44)"
      ]
     },
     "execution_count": 565,
     "metadata": {},
     "output_type": "execute_result"
    }
   ],
   "source": [
    "prepared_df.shape"
   ]
  },
  {
   "cell_type": "code",
   "execution_count": 566,
   "id": "0930a115",
   "metadata": {},
   "outputs": [],
   "source": [
    "dct_df = dict() # словарь для хранения данных для каждого инн\n",
    "used_name_sheet = set() # множество для хранения использованных названий листов"
   ]
  },
  {
   "cell_type": "code",
   "execution_count": null,
   "id": "e1986f31",
   "metadata": {},
   "outputs": [],
   "source": []
  },
  {
   "cell_type": "code",
   "execution_count": 567,
   "id": "a199c3a0",
   "metadata": {},
   "outputs": [],
   "source": [
    "# Создаем нужные папки\n",
    "org_folder = f'{end_folder}/Вакансии по организациям/{current_date}' # создаем папку куда будем складывать вакансии по организациям\n",
    "if not os.path.exists(org_folder):\n",
    "    os.makedirs(org_folder)\n",
    "    \n",
    "\n",
    "svod_region_folder = f'{end_folder}/Аналитика по вакансиям региона/{current_date}' # создаем папку куда будем складывать вакансии по организациям\n",
    "if not os.path.exists(svod_region_folder):\n",
    "    os.makedirs(svod_region_folder)\n",
    "\n",
    "svod_org_folder = f'{end_folder}/Аналитика по вакансиям выбранных работодателей/{current_date}' # создаем папку куда будем складывать вакансии по организациям\n",
    "if not os.path.exists(svod_org_folder):\n",
    "    os.makedirs(svod_org_folder)    \n",
    "\n",
    "\n",
    "\n",
    "# Собираем датафреймы по ИНН\n",
    "for idx,row in enumerate(company_df.itertuples()):\n",
    "    name_company = row[1] # название компании\n",
    "    \n",
    "    inn_company = row[2] # инн компании\n",
    "    temp_df = prepared_df[prepared_df['ИНН работодателя'] ==inn_company] # фильтруем по инн\n",
    "    temp_df.sort_values(by=['Вакансия'],inplace=True) # сортируем\n",
    "    name_company = re.sub(r'[\\r\\b\\n\\t<>:\"?*|\\\\/]', '_', name_company)# очищаем от лишних символов\n",
    "\n",
    "    temp_df.to_excel(f'{org_folder}/{name_company}.xlsx',index=False) # сохраняем\n",
    "    # создаем отдельный файл в котором будут все вакансии по выбранным компаниям\n",
    "    temp_df.insert(0,'Организация',name_company)\n",
    "    union_company_df = pd.concat([union_company_df,temp_df],ignore_index=True)\n",
    "    \n",
    "    \n",
    "    "
   ]
  },
  {
   "cell_type": "code",
   "execution_count": 568,
   "id": "e1250bb7",
   "metadata": {},
   "outputs": [],
   "source": [
    "union_company_df.to_excel(f'{org_folder}/Общий файл.xlsx',index=False)"
   ]
  },
  {
   "cell_type": "code",
   "execution_count": 569,
   "id": "558d9912",
   "metadata": {},
   "outputs": [],
   "source": [
    "with pd.ExcelWriter(f'{end_folder}/Данные по региону от {current_time}.xlsx') as writer:\n",
    "    prepared_df.to_excel(writer,sheet_name='Только подтвержденные вакансии',index=0)\n",
    "    df.to_excel(writer,sheet_name='Необработанные данные',index=0)\n",
    "    all_status_prepared_df.to_excel(writer,sheet_name='Вакансии со всеми статусами',index=0)"
   ]
  },
  {
   "cell_type": "code",
   "execution_count": 570,
   "id": "291e615d",
   "metadata": {},
   "outputs": [],
   "source": [
    "# Свод по региону \n"
   ]
  },
  {
   "cell_type": "code",
   "execution_count": 571,
   "id": "ed3ab9c4",
   "metadata": {},
   "outputs": [],
   "source": [
    "# Свод по количеству рабочих мест по отраслям\n",
    "\n",
    "svod_vac_reg_region_df=pd.pivot_table(prepared_df,\n",
    "              index=['Сфера деятельности'],\n",
    "              values = ['Количество рабочих мест'],\n",
    "              aggfunc={'Количество рабочих мест':[np.sum]})\n",
    "svod_vac_reg_region_df = svod_vac_reg_region_df.droplevel(level=0,axis=1) # убираем мультииндекс\n",
    "\n",
    "\n",
    "svod_vac_reg_region_df.sort_values(by=['sum'],ascending=False,inplace=True)\n",
    "svod_vac_reg_region_df.loc['Итого'] = svod_vac_reg_region_df['sum'].sum()\n",
    "svod_vac_reg_region_df.rename(columns={'sum':'Количество вакансий'},inplace=True)\n",
    "svod_vac_reg_region_df=svod_vac_reg_region_df.reset_index()"
   ]
  },
  {
   "cell_type": "code",
   "execution_count": 572,
   "id": "70d5c0ff",
   "metadata": {},
   "outputs": [],
   "source": [
    "# Свод по количеству рабочих мест по организациям\n",
    "svod_vac_org_region_df=pd.pivot_table(prepared_df,\n",
    "              index=['Полное название работодателя'],\n",
    "              values = ['Количество рабочих мест'],\n",
    "              aggfunc={'Количество рабочих мест':[np.sum]})\n",
    "svod_vac_org_region_df = svod_vac_org_region_df.droplevel(level=0,axis=1) # убираем мультииндекс\n",
    "svod_vac_org_region_df.sort_values(by=['sum'],ascending=False,inplace=True)\n",
    "svod_vac_org_region_df.loc['Итого'] = svod_vac_org_region_df['sum'].sum()\n",
    "svod_vac_org_region_df.rename(columns={'sum':'Количество вакансий'},inplace=True)\n",
    "svod_vac_org_region_df=svod_vac_org_region_df.reset_index()"
   ]
  },
  {
   "cell_type": "code",
   "execution_count": 573,
   "id": "86d6a28b",
   "metadata": {},
   "outputs": [],
   "source": [
    "# Свод по средней и медианной минимальной зарплате для сфер деятельности\n",
    "svod_shpere_pay_region_df=pd.pivot_table(prepared_df,\n",
    "              index=['Сфера деятельности'],\n",
    "              values = ['Минимальная зарплата'],\n",
    "              aggfunc={'Минимальная зарплата':[np.mean,np.median]},\n",
    "                                        fill_value=0)\n",
    "svod_shpere_pay_region_df = svod_shpere_pay_region_df.droplevel(level=0,axis=1) # убираем мультииндекс\n",
    "\n",
    "svod_shpere_pay_region_df = svod_shpere_pay_region_df.astype(int,errors='ignore')\n",
    "svod_shpere_pay_region_df.columns = ['Средняя ариф. минимальная зп','Медианная минимальная зп']\n",
    "svod_shpere_pay_region_df = svod_shpere_pay_region_df.reset_index()\n",
    "\n",
    "\n"
   ]
  },
  {
   "cell_type": "code",
   "execution_count": 574,
   "id": "a625ea7e",
   "metadata": {},
   "outputs": [],
   "source": [
    "# Свод по средней и медианной минимальной зарплате для работодателей\n",
    "svod_org_pay_region_df=pd.pivot_table(prepared_df,\n",
    "              index=['Полное название работодателя','Сфера деятельности'],\n",
    "              values = ['Минимальная зарплата'],\n",
    "              aggfunc={'Минимальная зарплата':[np.mean,np.median]},\n",
    "                                        fill_value=0)\n",
    "svod_org_pay_region_df = svod_org_pay_region_df.droplevel(level=0,axis=1) # убираем мультииндекс\n",
    "\n",
    "svod_org_pay_region_df = svod_org_pay_region_df.astype(int,errors='ignore')\n",
    "svod_org_pay_region_df.columns = ['Средняя ариф. минимальная зп','Медианная минимальная зп']\n",
    "svod_org_pay_region_df = svod_org_pay_region_df.reset_index()\n"
   ]
  },
  {
   "cell_type": "code",
   "execution_count": 575,
   "id": "5ceec591",
   "metadata": {},
   "outputs": [],
   "source": [
    "# Свод по требуемому образованию для сфер деятельности\n",
    "svod_shpere_educ_region_df=pd.pivot_table(prepared_df,\n",
    "              index=['Сфера деятельности','Образование'],\n",
    "              values = ['Количество рабочих мест'],\n",
    "              aggfunc={'Количество рабочих мест':[np.sum]},\n",
    "                                        fill_value=0)\n",
    "svod_shpere_educ_region_df = svod_shpere_educ_region_df.droplevel(level=0,axis=1) # убираем мультииндекс\n",
    "\n",
    "svod_shpere_educ_region_df = svod_shpere_educ_region_df.astype(int,errors='ignore')\n",
    "svod_shpere_educ_region_df.columns = ['Количество вакансий']\n",
    "svod_shpere_educ_region_df = svod_shpere_educ_region_df.reset_index()"
   ]
  },
  {
   "cell_type": "code",
   "execution_count": 576,
   "id": "8e6f7d2b",
   "metadata": {},
   "outputs": [],
   "source": [
    "# Свод по требуемому образованию для работодателей\n",
    "svod_org_educ_region_df=pd.pivot_table(prepared_df,\n",
    "              index=['Полное название работодателя','Образование'],\n",
    "              values = ['Количество рабочих мест'],\n",
    "              aggfunc={'Количество рабочих мест':[np.sum]},\n",
    "                                        fill_value=0)\n",
    "svod_org_educ_region_df = svod_org_educ_region_df.droplevel(level=0,axis=1) # убираем мультииндекс\n",
    "\n",
    "svod_org_educ_region_df = svod_org_educ_region_df.astype(int,errors='ignore')\n",
    "svod_org_educ_region_df.columns = ['Количество вакансий']\n",
    "svod_org_educ_region_df = svod_org_educ_region_df.reset_index()"
   ]
  },
  {
   "cell_type": "code",
   "execution_count": 577,
   "id": "67c556f2",
   "metadata": {},
   "outputs": [],
   "source": [
    "# Свод по графику работы для сфер деятельности\n",
    "svod_shpere_schedule_region_df=pd.pivot_table(prepared_df,\n",
    "              index=['Сфера деятельности','График работы'],\n",
    "              values = ['Количество рабочих мест'],\n",
    "              aggfunc={'Количество рабочих мест':[np.sum]},\n",
    "                                        fill_value=0)\n",
    "svod_shpere_schedule_region_df = svod_shpere_schedule_region_df.droplevel(level=0,axis=1) # убираем мультииндекс\n",
    "\n",
    "svod_shpere_schedule_region_df = svod_shpere_schedule_region_df.astype(int,errors='ignore')\n",
    "svod_shpere_schedule_region_df.columns = ['Количество вакансий']\n",
    "svod_shpere_schedule_region_df = svod_shpere_schedule_region_df.reset_index()"
   ]
  },
  {
   "cell_type": "code",
   "execution_count": 578,
   "id": "486c5f5d",
   "metadata": {},
   "outputs": [],
   "source": [
    "# Свод по графику работы для работодателей\n",
    "svod_org_schedule_region_df=pd.pivot_table(prepared_df,\n",
    "              index=['Полное название работодателя','График работы'],\n",
    "              values = ['Количество рабочих мест'],\n",
    "              aggfunc={'Количество рабочих мест':[np.sum]},\n",
    "                                        fill_value=0)\n",
    "svod_org_schedule_region_df = svod_org_schedule_region_df.droplevel(level=0,axis=1) # убираем мультииндекс\n",
    "\n",
    "svod_org_schedule_region_df = svod_org_schedule_region_df.astype(int,errors='ignore')\n",
    "svod_org_schedule_region_df.columns = ['Количество вакансий']\n",
    "svod_org_schedule_region_df = svod_org_schedule_region_df.reset_index()"
   ]
  },
  {
   "cell_type": "code",
   "execution_count": 579,
   "id": "2d62afa1",
   "metadata": {},
   "outputs": [],
   "source": [
    "# Свод по типу занятости для сфер деятельности\n",
    "svod_shpere_type_job_region_df=pd.pivot_table(prepared_df,\n",
    "              index=['Сфера деятельности','Тип занятости'],\n",
    "              values = ['Количество рабочих мест'],\n",
    "              aggfunc={'Количество рабочих мест':[np.sum]},\n",
    "                                        fill_value=0)\n",
    "svod_shpere_type_job_region_df = svod_shpere_type_job_region_df.droplevel(level=0,axis=1) # убираем мультииндекс\n",
    "\n",
    "svod_shpere_type_job_region_df = svod_shpere_type_job_region_df.astype(int,errors='ignore')\n",
    "svod_shpere_type_job_region_df.columns = ['Количество вакансий']\n",
    "svod_shpere_type_job_region_df = svod_shpere_type_job_region_df.reset_index()"
   ]
  },
  {
   "cell_type": "code",
   "execution_count": 580,
   "id": "e1cfd7e7",
   "metadata": {},
   "outputs": [],
   "source": [
    "# Свод по типу занятости для работодателей\n",
    "svod_org_type_job_region_df=pd.pivot_table(prepared_df,\n",
    "              index=['Полное название работодателя','Тип занятости'],\n",
    "              values = ['Количество рабочих мест'],\n",
    "              aggfunc={'Количество рабочих мест':[np.sum]},\n",
    "                                        fill_value=0)\n",
    "svod_org_type_job_region_df = svod_org_type_job_region_df.droplevel(level=0,axis=1) # убираем мультииндекс\n",
    "\n",
    "svod_org_type_job_region_df = svod_org_type_job_region_df.astype(int,errors='ignore')\n",
    "svod_org_type_job_region_df.columns = ['Количество вакансий']\n",
    "svod_org_type_job_region_df = svod_org_type_job_region_df.reset_index()\n"
   ]
  },
  {
   "cell_type": "code",
   "execution_count": 581,
   "id": "3c9c08fe",
   "metadata": {},
   "outputs": [],
   "source": [
    "# Свод по квотируемым местам для сфер деятельности\n",
    "svod_shpere_quote_region_df=pd.pivot_table(prepared_df,\n",
    "              index=['Сфера деятельности','Квотируемое место'],\n",
    "              values = ['Количество рабочих мест'],\n",
    "              aggfunc={'Количество рабочих мест':[np.sum]},\n",
    "                                        fill_value=0)\n",
    "svod_shpere_quote_region_df = svod_shpere_quote_region_df.droplevel(level=0,axis=1) # убираем мультииндекс\n",
    "\n",
    "svod_shpere_quote_region_df = svod_shpere_quote_region_df.astype(int,errors='ignore')\n",
    "svod_shpere_quote_region_df.columns = ['Количество вакансий']\n",
    "svod_shpere_quote_region_df = svod_shpere_quote_region_df.reset_index()"
   ]
  },
  {
   "cell_type": "code",
   "execution_count": 582,
   "id": "f40296be",
   "metadata": {},
   "outputs": [],
   "source": [
    "# Свод по квотируемым местам для работодателей\n",
    "svod_org_quote_region_df=pd.pivot_table(prepared_df,\n",
    "              index=['Полное название работодателя','Квотируемое место'],\n",
    "              values = ['Количество рабочих мест'],\n",
    "              aggfunc={'Количество рабочих мест':[np.sum]},\n",
    "                                        fill_value=0)\n",
    "svod_org_quote_region_df = svod_org_quote_region_df.droplevel(level=0,axis=1) # убираем мультииндекс\n",
    "\n",
    "svod_org_quote_region_df = svod_org_quote_region_df.astype(int,errors='ignore')\n",
    "svod_org_quote_region_df.columns = ['Количество вакансий']\n",
    "svod_org_quote_region_df = svod_org_quote_region_df.reset_index()"
   ]
  },
  {
   "cell_type": "code",
   "execution_count": 583,
   "id": "f779da71",
   "metadata": {},
   "outputs": [],
   "source": [
    "# Свод по требуемому опыту для сфер деятельности\n",
    "svod_shpere_exp_region_df=pd.pivot_table(prepared_df,\n",
    "              index=['Сфера деятельности','Требуемый опыт работы в годах'],\n",
    "              values = ['Количество рабочих мест'],\n",
    "              aggfunc={'Количество рабочих мест':[np.sum]},\n",
    "                                        fill_value=0)\n",
    "svod_shpere_exp_region_df = svod_shpere_exp_region_df.droplevel(level=0,axis=1) # убираем мультииндекс\n",
    "\n",
    "svod_shpere_exp_region_df = svod_shpere_exp_region_df.astype(int,errors='ignore')\n",
    "svod_shpere_exp_region_df.columns = ['Количество вакансий']\n",
    "svod_shpere_exp_region_df = svod_shpere_exp_region_df.reset_index()"
   ]
  },
  {
   "cell_type": "code",
   "execution_count": 584,
   "id": "5f3118fd",
   "metadata": {},
   "outputs": [],
   "source": [
    "# Свод по требуемому опыту для работодателей\n",
    "svod_org_exp_region_df=pd.pivot_table(prepared_df,\n",
    "              index=['Полное название работодателя','Требуемый опыт работы в годах'],\n",
    "              values = ['Количество рабочих мест'],\n",
    "              aggfunc={'Количество рабочих мест':[np.sum]},\n",
    "                                        fill_value=0)\n",
    "svod_org_exp_region_df = svod_org_exp_region_df.droplevel(level=0,axis=1) # убираем мультииндекс\n",
    "\n",
    "svod_org_exp_region_df = svod_org_exp_region_df.astype(int,errors='ignore')\n",
    "svod_org_exp_region_df.columns = ['Количество вакансий']\n",
    "svod_org_exp_region_df = svod_org_exp_region_df.reset_index()"
   ]
  },
  {
   "cell_type": "code",
   "execution_count": 587,
   "id": "ba491b36",
   "metadata": {},
   "outputs": [
    {
     "name": "stdout",
     "output_type": "stream",
     "text": [
      "Booth\n"
     ]
    }
   ],
   "source": [
    "with pd.ExcelWriter(f'{svod_region_folder}/Свод по региону от {current_time}.xlsx') as writer:\n",
    "    svod_vac_reg_region_df.to_excel(writer,sheet_name='Вакансии по отраслям',index=0)\n",
    "    svod_vac_org_region_df.to_excel(writer,sheet_name='Вакансии по работодателям',index=0)\n",
    "    svod_shpere_pay_region_df.to_excel(writer,sheet_name='Зарплата по отраслям',index=0)\n",
    "    svod_org_pay_region_df.to_excel(writer,sheet_name='Зарплата по работодателям',index=0)\n",
    "    svod_shpere_educ_region_df.to_excel(writer,sheet_name='Образование по отраслям',index=0)\n",
    "    svod_org_educ_region_df.to_excel(writer,sheet_name='Образование по работодателям',index=0)\n",
    "    svod_shpere_schedule_region_df.to_excel(writer,sheet_name='График работы по отраслям',index=0)\n",
    "    svod_org_schedule_region_df.to_excel(writer,sheet_name='График работы по работодателям',index=0)\n",
    "    svod_shpere_type_job_region_df.to_excel(writer,sheet_name='Тип занятости по отраслям',index=0)\n",
    "    svod_org_type_job_region_df.to_excel(writer,sheet_name='Тип занятости по работодателям',index=0)\n",
    "    svod_shpere_quote_region_df.to_excel(writer,sheet_name='Квоты по отраслям',index=0)\n",
    "    svod_org_quote_region_df.to_excel(writer,sheet_name='Квоты по работодателям',index=0)\n",
    "    svod_shpere_exp_region_df.to_excel(writer,sheet_name='Требуемый опыт по отраслям',index=0)\n",
    "    svod_org_exp_region_df.to_excel(writer,sheet_name='Требуемый опыт по работодателям',index=0)\n",
    "print('Booth')"
   ]
  },
  {
   "cell_type": "code",
   "execution_count": null,
   "id": "dc1000dc",
   "metadata": {},
   "outputs": [],
   "source": []
  },
  {
   "cell_type": "code",
   "execution_count": null,
   "id": "71a83ea6",
   "metadata": {},
   "outputs": [],
   "source": []
  },
  {
   "cell_type": "code",
   "execution_count": null,
   "id": "bfef6405",
   "metadata": {},
   "outputs": [],
   "source": []
  },
  {
   "cell_type": "code",
   "execution_count": null,
   "id": "393ca7da",
   "metadata": {},
   "outputs": [],
   "source": []
  },
  {
   "cell_type": "code",
   "execution_count": null,
   "id": "3ce296ce",
   "metadata": {},
   "outputs": [],
   "source": []
  },
  {
   "cell_type": "code",
   "execution_count": null,
   "id": "11ddb3b9",
   "metadata": {},
   "outputs": [],
   "source": []
  },
  {
   "cell_type": "code",
   "execution_count": 586,
   "id": "e72764fc",
   "metadata": {},
   "outputs": [
    {
     "name": "stdout",
     "output_type": "stream",
     "text": [
      "Lindy Booth!\n"
     ]
    }
   ],
   "source": [
    "print('Lindy Booth!')"
   ]
  },
  {
   "cell_type": "code",
   "execution_count": null,
   "id": "579a1870",
   "metadata": {},
   "outputs": [],
   "source": []
  }
 ],
 "metadata": {
  "kernelspec": {
   "display_name": "Python 3 (ipykernel)",
   "language": "python",
   "name": "python3"
  },
  "language_info": {
   "codemirror_mode": {
    "name": "ipython",
    "version": 3
   },
   "file_extension": ".py",
   "mimetype": "text/x-python",
   "name": "python",
   "nbconvert_exporter": "python",
   "pygments_lexer": "ipython3",
   "version": "3.9.13"
  }
 },
 "nbformat": 4,
 "nbformat_minor": 5
}
