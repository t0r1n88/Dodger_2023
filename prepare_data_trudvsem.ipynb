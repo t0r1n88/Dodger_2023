{
 "cells": [
  {
   "cell_type": "code",
   "execution_count": 83,
   "id": "e0184e4d",
   "metadata": {},
   "outputs": [
    {
     "data": {
      "text/plain": [
       "'\\nСкрипт для обработки данных  с портала трудвсем для БЦК\\n'"
      ]
     },
     "execution_count": 83,
     "metadata": {},
     "output_type": "execute_result"
    }
   ],
   "source": [
    "\"\"\"\n",
    "Скрипт для обработки данных  с портала трудвсем для БЦК\n",
    "\"\"\""
   ]
  },
  {
   "cell_type": "code",
   "execution_count": 84,
   "id": "6a2dca8c",
   "metadata": {},
   "outputs": [],
   "source": [
    "import pandas as pd\n",
    "import numpy as np\n",
    "import openpyxl\n",
    "import json\n",
    "import ast\n",
    "import re\n",
    "import datetime\n",
    "from dateutil import parser\n",
    "pd.options.mode.chained_assignment = None\n"
   ]
  },
  {
   "cell_type": "code",
   "execution_count": 85,
   "id": "4aa35d2b",
   "metadata": {},
   "outputs": [],
   "source": [
    "def extract_data_from_list_cell(cell:str,lst_need_keys:list):\n",
    "    \"\"\"\n",
    "    Функция для извлечения данных из словаря в ячейке датафрейма\n",
    "    \"\"\"\n",
    "    try:\n",
    "        \n",
    "        lst_lang = ast.literal_eval(cell) # превращаем в список\n",
    "        if lst_lang:            \n",
    "            out_str_lst = [] # создаем список содержащий выходные строки\n",
    "            for lang_dict in lst_lang:\n",
    "                lst_lang_str = [] # список для хранения значений извлеченных из словаря\n",
    "                for idx,key in enumerate(lst_need_keys):\n",
    "                    lst_lang_str.append(lang_dict.get(key,None))             \n",
    "                    \n",
    "                lst_lang_str = [value for value in lst_lang_str if value] # отбрасываем None\n",
    "                single_lang_str = ','.join(lst_lang_str) # создаем строку для одного языка\n",
    "                out_str_lst.append(single_lang_str)\n",
    "            return ';'.join(out_str_lst)\n",
    "                               \n",
    "        else:\n",
    "            return 'Не указано'\n",
    "        \n",
    "\n",
    "    except FileNotFoundError:\n",
    "        return 'Не удалось обработать содержимое ячейки'\n",
    "\n",
    "    "
   ]
  },
  {
   "cell_type": "code",
   "execution_count": 86,
   "id": "375298a5",
   "metadata": {},
   "outputs": [],
   "source": [
    "def clear_tag(cell):\n",
    "    \"\"\"\n",
    "    Функция для очистки текста от тегов HTML\n",
    "    \"\"\"\n",
    "    value = str(cell)\n",
    "    if value != 'nan':        \n",
    "        result = re.sub(r'<.*?>','',value)\n",
    "        result = re.sub(r'&[a-z]*?;','',result)\n",
    "        return result\n",
    "    else:\n",
    "        return None\n",
    "\n",
    "def clear_bonus_tag_br(cell):\n",
    "    \"\"\"\n",
    "    Функция для очистки данных в колонке Дополнительные бонусы\n",
    "    \"\"\"\n",
    "    cell = str(cell)\n",
    "\n",
    "    if cell !='nan':\n",
    "        value = str(cell)\n",
    "        result = re.sub(r'<.*?>','.',value)\n",
    "\n",
    "        return result\n",
    "    else:\n",
    "        return None"
   ]
  },
  {
   "cell_type": "code",
   "execution_count": 87,
   "id": "50d1ee3b",
   "metadata": {},
   "outputs": [],
   "source": [
    "def convert_date(cell):\n",
    "    \"\"\"\n",
    "    Функция конвертации строки содержащей дату и время\n",
    "    \"\"\"\n",
    "    value = str(cell)\n",
    "    try:        \n",
    "        if value !='nan':\n",
    "            date_time = parser.parse(value).date() # извлекаем дату\n",
    "            date_time = datetime.datetime.strftime(date_time,'%d.%m.%Y') # конфертируем в нужный формат\n",
    "            return date_time\n",
    "\n",
    "        else:\n",
    "            return None\n",
    "    except:\n",
    "        return 'Не удалось обработать содержимое ячейки'\n",
    "    "
   ]
  },
  {
   "cell_type": "code",
   "execution_count": 88,
   "id": "c643e8cb",
   "metadata": {},
   "outputs": [],
   "source": [
    "def prepare_data_vacancy(df:pd.DataFrame,dct_name_columns:dict,lst_columns:list)->pd.DataFrame:\n",
    "    \"\"\"\n",
    "    Функция для обработки датафрейма с данными работы в России\n",
    "    \"\"\"\n",
    "    df = df[dct_name_columns.keys()]\n",
    "    df.rename(columns=dct_name_columns,inplace=True)\n",
    "    # Обрабатываем обычные колонки\n",
    "    \n",
    "    df['Дополнительные бонусы'] = df['Дополнительные бонусы'].apply(clear_bonus_tag_br)\n",
    "    df['Требования'] = df['Требования'].apply(clear_tag)\n",
    "    df['Обязанности'] = df['Обязанности'].apply(clear_tag)\n",
    "    \n",
    "    # Числовые\n",
    "    lst_number_columns = ['Требуемый опыт работы в годах','Минимальная зарплата','Максимальная зарплата','Количество рабочих мест']\n",
    "    df[lst_number_columns] = df[lst_number_columns].fillna(0)\n",
    "    df[lst_number_columns] = df[lst_number_columns].astype(int,errors='ignore')\n",
    "    \n",
    "#     df['Требуемый опыт работы в годах'] =df['Требуемый опыт работы в годах'].astype(int,errors='ignore')\n",
    "#     df['Минимальная зарплата'] =df['Минимальная зарплата'].astype(int,errors='ignore')\n",
    "#     df['Максимальная зарплата'] =df['Максимальная зарплата'].astype(int,errors='ignore')\n",
    "#     df['Количество рабочих мест'] =df['Количество рабочих мест'].astype(int,errors='ignore')\n",
    "    # Временные\n",
    "    \n",
    "    df['Дата размещения вакансии'] = df['Дата размещения вакансии'].apply(convert_date)\n",
    "    df['Дата изменения вакансии'] = df['Дата изменения вакансии'].apply(convert_date)\n",
    "    \n",
    "    # Категориальные\n",
    "    df['Квотируемое место'] = df['Квотируемое место'].apply(lambda x: 'Квотируемое место' if x == 'true' else None)\n",
    "    df['Статус проверки вакансии'] = df['Статус проверки вакансии'].replace(dct_status_vacancy)\n",
    "    # Начинаем извлекать данные из сложных колонок с json\n",
    "    # данные по работодателю\n",
    "    df['КПП работодателя'] = df['Данные компании'].apply(lambda x: json.loads(x).get('kpp','Не указано'))\n",
    "    df['ОГРН работодателя'] = df['Данные компании'].apply(lambda x: json.loads(x).get('ogrn','Не указано'))\n",
    "    df['Контактный телефон'] = df['Данные компании'].apply(lambda x: json.loads(x).get('phone','Не указано'))\n",
    "    df['Email работодателя'] = df['Данные компании'].apply(lambda x: json.loads(x).get('email','Не указано'))\n",
    "    df['Профиль работодателя'] = df['Данные компании'].apply(lambda x: json.loads(x).get('url','Не указано'))\n",
    "    \n",
    "    # Обрабатываем колонку с языками\n",
    "    df['Требуемые языки'] = df['Данные по языкам'].apply(lambda x:extract_data_from_list_cell(x,['code_language','level']))\n",
    "    df['Требуемые хардскиллы'] = df['Данные по хардскиллам'].apply(lambda x:extract_data_from_list_cell(x,['hard_skill_name']))\n",
    "    df['Требуемые софтскиллы'] = df['Данные по софтскиллам'].apply(lambda x:extract_data_from_list_cell(x,['soft_skill_name']))\n",
    "    \n",
    "    df.drop(columns=['Данные компании','Данные по языкам','Данные по хардскиллам','Данные по софтскиллам'],inplace=True)\n",
    "    \n",
    "    df = df.reindex(columns=lst_columns)\n",
    "    \n",
    "    return df\n",
    "    \n",
    "    "
   ]
  },
  {
   "cell_type": "code",
   "execution_count": 89,
   "id": "dc3fc18f",
   "metadata": {},
   "outputs": [],
   "source": [
    "region = 'Республика Бурятия'"
   ]
  },
  {
   "cell_type": "code",
   "execution_count": 90,
   "id": "1b45c58c",
   "metadata": {},
   "outputs": [],
   "source": [
    "# колонки которые нужно оставить и переименовать\n",
    "dct_name_columns = {'busy_type':'Тип занятости','contact_person':'Контактное лицо','date_create':'Дата размещения вакансии',\n",
    "                    'date_modify':'Дата изменения вакансии','education':'Образование','education_speciality':'Требуемая специализация','is_quoted':'Квотируемое место',\n",
    "                    'need_medcard':'Требуется медкнижка',\n",
    "                   'other_vacancy_benefit':'Дополнительные бонусы','position_requirements':'Требования',\n",
    "                    'position_responsibilities':'Обязанности','regionName':'Регион','required_experience':'Требуемый опыт работы в годах',\n",
    "                    'retraining_capability':'Возможность переподготовки','required_certificates':'Требуемые доп. документы',\n",
    "                   'required_drive_license':'Требуемые водительские права','retraining_grant':'Стипендия',\n",
    "                    'retraining_grant_value':'Размер стипендии','salary':'Зарплата','salary_min':'Минимальная зарплата','salary_max':'Максимальная зарплата',\n",
    "                    'schedule_type':'График работы','social_protected_ids':'Социально защищенная категория',\n",
    "                   'source_type':'Источник вакансии','status':'Статус проверки вакансии','transport_compensation':'Компенсация транспорт',\n",
    "                    'vacancy_address_additional_info':'Доп информация по адресу вакансии','vacancy_address':'Адрес вакансии',\n",
    "                    'vacancy_address_latitude':'Долгота адрес вакансии','vacancy_address_longitude':'Широта адрес вакансии',\n",
    "                   'vacancy_benefit_ids':'Бонусы','vacancy_name':'Вакансия','work_places':'Количество рабочих мест','professionalSphereName':'Сфера деятельности',\n",
    "                    'full_company_name':'Полное название работодателя','company_inn':'ИНН работодателя','company':'Данные компании',\n",
    "                    'languageKnowledge':'Данные по языкам','hardSkills':'Данные по хардскиллам','softSkills':'Данные по софтскиллам'}"
   ]
  },
  {
   "cell_type": "code",
   "execution_count": 91,
   "id": "2b71e6ca",
   "metadata": {},
   "outputs": [],
   "source": [
    "dct_status_vacancy = {'ACCEPTED':'Данные вакансии проверены работодателем','AUTOMODERATION':'Автомодерация',\n",
    "                      'REJECTED':'Отклонено','CHANGED':'Статус вакансии изменен',\n",
    "                      'WAITING':'Ожидает подтверждения',}"
   ]
  },
  {
   "cell_type": "code",
   "execution_count": 92,
   "id": "223ac172",
   "metadata": {},
   "outputs": [],
   "source": [
    "df = pd.read_csv('data/vacancy.csv',encoding='UTF-8',sep='|',dtype=str)\n"
   ]
  },
  {
   "cell_type": "code",
   "execution_count": 93,
   "id": "60293f42",
   "metadata": {},
   "outputs": [],
   "source": [
    "company_df = pd.read_excel('data/company.xlsx',dtype=str)"
   ]
  },
  {
   "cell_type": "code",
   "execution_count": 94,
   "id": "8f41c668",
   "metadata": {},
   "outputs": [
    {
     "data": {
      "text/html": [
       "<div>\n",
       "<style scoped>\n",
       "    .dataframe tbody tr th:only-of-type {\n",
       "        vertical-align: middle;\n",
       "    }\n",
       "\n",
       "    .dataframe tbody tr th {\n",
       "        vertical-align: top;\n",
       "    }\n",
       "\n",
       "    .dataframe thead th {\n",
       "        text-align: right;\n",
       "    }\n",
       "</style>\n",
       "<table border=\"1\" class=\"dataframe\">\n",
       "  <thead>\n",
       "    <tr style=\"text-align: right;\">\n",
       "      <th></th>\n",
       "      <th>Краткое название организации</th>\n",
       "      <th>ИНН</th>\n",
       "    </tr>\n",
       "  </thead>\n",
       "  <tbody>\n",
       "    <tr>\n",
       "      <th>0</th>\n",
       "      <td>УУАЗ</td>\n",
       "      <td>0323018510</td>\n",
       "    </tr>\n",
       "    <tr>\n",
       "      <th>1</th>\n",
       "      <td>Приборка</td>\n",
       "      <td>0323053578</td>\n",
       "    </tr>\n",
       "    <tr>\n",
       "      <th>2</th>\n",
       "      <td>Ника</td>\n",
       "      <td>7536165688</td>\n",
       "    </tr>\n",
       "  </tbody>\n",
       "</table>\n",
       "</div>"
      ],
      "text/plain": [
       "  Краткое название организации         ИНН\n",
       "0                         УУАЗ  0323018510\n",
       "1                     Приборка  0323053578\n",
       "2                         Ника  7536165688"
      ]
     },
     "execution_count": 94,
     "metadata": {},
     "output_type": "execute_result"
    }
   ],
   "source": [
    "company_df"
   ]
  },
  {
   "cell_type": "code",
   "execution_count": 95,
   "id": "626e94e1",
   "metadata": {},
   "outputs": [],
   "source": [
    "lst_columns = ['Дата размещения вакансии','Дата изменения вакансии','Регион','Вакансия','Сфера деятельности','Количество рабочих мест',\n",
    "               'Зарплата','Минимальная зарплата','Максимальная зарплата','График работы','Тип занятости','Образование','Требуемая специализация',\n",
    "               'Требования','Обязанности','Бонусы','Дополнительные бонусы','Возможность переподготовки','Стипендия','Размер стипендии','Компенсация транспорт',\n",
    "               'Квотируемое место','Социально защищенная категория',\n",
    "               'Требуемый опыт работы в годах','Требуется медкнижка','Требуемые доп. документы','Требуемые водительские права',\n",
    "               'Требуемые языки','Требуемые хардскиллы','Требуемые софтскиллы',\n",
    "               'Источник вакансии','Статус проверки вакансии','Полное название работодателя','Адрес вакансии','Доп информация по адресу вакансии',\n",
    "               'ИНН работодателя','КПП работодателя','ОГРН работодателя','Контактное лицо','Контактный телефон','Email работодателя',\n",
    "               'Профиль работодателя','Долгота адрес вакансии','Широта адрес вакансии']"
   ]
  },
  {
   "cell_type": "code",
   "execution_count": 96,
   "id": "c60418a3",
   "metadata": {},
   "outputs": [],
   "source": [
    "df = df[df['regionName'] == region]"
   ]
  },
  {
   "cell_type": "code",
   "execution_count": 101,
   "id": "0acd2c6b",
   "metadata": {},
   "outputs": [],
   "source": [
    "prepared_df = prepare_data_vacancy(df,dct_name_columns,lst_columns)\n"
   ]
  },
  {
   "cell_type": "code",
   "execution_count": 98,
   "id": "0930a115",
   "metadata": {},
   "outputs": [],
   "source": [
    "dct_df = dict() # словарь для хранения данных для каждого инн\n",
    "used_name_sheet = set() # множество для хранения использованных названий листов"
   ]
  },
  {
   "cell_type": "code",
   "execution_count": 103,
   "id": "a199c3a0",
   "metadata": {},
   "outputs": [],
   "source": [
    "# Собираем датафреймы по ИНН\n",
    "for idx,row in enumerate(company_df.itertuples()):\n",
    "    name_company = row[1] # название компании\n",
    "    inn_company = row[2] # инн компании\n",
    "    temp_df = prepared_df[prepared_df['ИНН работодателя'] ==inn_company] # фильтруем по инн\n",
    "    temp_df.sort_values(by=['Вакансия'],inplace=True)\n",
    "    \n",
    "\n",
    "    \n",
    "\n",
    "    \n",
    "    \n",
    "    \n",
    "    \n",
    "    \n",
    "    \n",
    "    \n",
    "    temp_df.to_excel(f'data/{name_company}.xlsx',index=False)\n",
    "    "
   ]
  },
  {
   "cell_type": "code",
   "execution_count": null,
   "id": "558d9912",
   "metadata": {},
   "outputs": [],
   "source": []
  },
  {
   "cell_type": "code",
   "execution_count": null,
   "id": "291e615d",
   "metadata": {},
   "outputs": [],
   "source": []
  },
  {
   "cell_type": "code",
   "execution_count": null,
   "id": "486c5f5d",
   "metadata": {},
   "outputs": [],
   "source": []
  },
  {
   "cell_type": "code",
   "execution_count": null,
   "id": "2d62afa1",
   "metadata": {},
   "outputs": [],
   "source": []
  },
  {
   "cell_type": "code",
   "execution_count": null,
   "id": "e1cfd7e7",
   "metadata": {},
   "outputs": [],
   "source": []
  },
  {
   "cell_type": "code",
   "execution_count": null,
   "id": "7aa3eaba",
   "metadata": {},
   "outputs": [],
   "source": []
  },
  {
   "cell_type": "raw",
   "id": "ba194247",
   "metadata": {},
   "source": [
    "# Собираем датафреймы по ИНН\n",
    "for idx,row in enumerate(company_df.itertuples()):\n",
    "    name_company = row[1] # название компании\n",
    "    inn_company = row[2] # инн компании\n",
    "    temp_df = df[df['company_inn'] ==inn_company] # фильтруем по инн\n",
    "    temp_df = temp_df[dct_name_columns.keys()]\n",
    "    temp_df.rename(columns=dct_name_columns,inplace=True)\n",
    "    # Обрабатываем обычные колонки\n",
    "    \n",
    "    temp_df['Дополнительные бонусы'] = temp_df['Дополнительные бонусы'].apply(clear_bonus_tag_br)\n",
    "    temp_df['Требования'] = temp_df['Требования'].apply(clear_tag)\n",
    "    temp_df['Обязанности'] = temp_df['Обязанности'].apply(clear_tag)\n",
    "    \n",
    "    # Числовые\n",
    "    temp_df['Требуемый опыт работы в годах'] =temp_df['Требуемый опыт работы в годах'].astype(int,errors='ignore')\n",
    "    temp_df['Минимальная зарплата'] =temp_df['Минимальная зарплата'].astype(int,errors='ignore')\n",
    "    temp_df['Максимальная зарплата'] =temp_df['Максимальная зарплата'].astype(int,errors='ignore')\n",
    "    temp_df['Количество рабочих мест'] =temp_df['Количество рабочих мест'].astype(int,errors='ignore')\n",
    "    # Временные\n",
    "    \n",
    "    temp_df['Дата размещения вакансии'] = temp_df['Дата размещения вакансии'].apply(convert_date)\n",
    "    temp_df['Дата изменения вакансии'] = temp_df['Дата изменения вакансии'].apply(convert_date)\n",
    "    \n",
    "    # Категориальные\n",
    "    temp_df['Квотируемое место'] = temp_df['Квотируемое место'].apply(lambda x: 'Квотируемое место' if x == 'true' else None)\n",
    "    temp_df['Статус проверки вакансии'] = temp_df['Статус проверки вакансии'].replace(dct_status_vacancy)\n",
    "    # Начинаем извлекать данные из сложных колонок с json\n",
    "    # данные по работодателю\n",
    "    temp_df['КПП работодателя'] = temp_df['Данные компании'].apply(lambda x: json.loads(x).get('kpp','Не указано'))\n",
    "    temp_df['ОГРН работодателя'] = temp_df['Данные компании'].apply(lambda x: json.loads(x).get('ogrn','Не указано'))\n",
    "    temp_df['Контактный телефон'] = temp_df['Данные компании'].apply(lambda x: json.loads(x).get('phone','Не указано'))\n",
    "    temp_df['Email работодателя'] = temp_df['Данные компании'].apply(lambda x: json.loads(x).get('email','Не указано'))\n",
    "    temp_df['Профиль работодателя'] = temp_df['Данные компании'].apply(lambda x: json.loads(x).get('url','Не указано'))\n",
    "    \n",
    "    # Обрабатываем колонку с языками\n",
    "    temp_df['Требуемые языки'] = temp_df['Данные по языкам'].apply(lambda x:extract_data_from_list_cell(x,['code_language','level']))\n",
    "    temp_df['Требуемые хардскиллы'] = temp_df['Данные по хардскиллам'].apply(lambda x:extract_data_from_list_cell(x,['hard_skill_name']))\n",
    "    temp_df['Требуемые софтскиллы'] = temp_df['Данные по софтскиллам'].apply(lambda x:extract_data_from_list_cell(x,['soft_skill_name']))\n",
    "    \n",
    "    temp_df.drop(columns=['Данные компании','Данные по языкам','Данные по хардскиллам','Данные по софтскиллам'],inplace=True)\n",
    "    \n",
    "    temp_df = temp_df.reindex(columns=lst_columns)\n",
    "    \n",
    "\n",
    "    \n",
    "    \n",
    "    \n",
    "    \n",
    "    \n",
    "    \n",
    "    \n",
    "    temp_df.to_excel(f'data/{name_company}.xlsx',index=False)\n",
    "    "
   ]
  },
  {
   "cell_type": "code",
   "execution_count": 100,
   "id": "e72764fc",
   "metadata": {},
   "outputs": [
    {
     "name": "stdout",
     "output_type": "stream",
     "text": [
      "Lindy Booth!\n"
     ]
    }
   ],
   "source": [
    "print('Lindy Booth!')"
   ]
  }
 ],
 "metadata": {
  "kernelspec": {
   "display_name": "Python 3 (ipykernel)",
   "language": "python",
   "name": "python3"
  },
  "language_info": {
   "codemirror_mode": {
    "name": "ipython",
    "version": 3
   },
   "file_extension": ".py",
   "mimetype": "text/x-python",
   "name": "python",
   "nbconvert_exporter": "python",
   "pygments_lexer": "ipython3",
   "version": "3.9.13"
  }
 },
 "nbformat": 4,
 "nbformat_minor": 5
}
