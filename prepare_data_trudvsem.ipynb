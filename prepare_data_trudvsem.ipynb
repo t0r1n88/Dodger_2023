{
 "cells": [
  {
   "cell_type": "code",
   "execution_count": 59,
   "id": "27b5d897",
   "metadata": {},
   "outputs": [
    {
     "data": {
      "text/plain": [
       "'\\nСкрипт для обработки данных  с портала трудвсем для БЦК\\n'"
      ]
     },
     "execution_count": 59,
     "metadata": {},
     "output_type": "execute_result"
    }
   ],
   "source": [
    "\"\"\"\n",
    "Скрипт для обработки данных  с портала трудвсем для БЦК\n",
    "\"\"\""
   ]
  },
  {
   "cell_type": "code",
   "execution_count": 88,
   "id": "808b079b",
   "metadata": {},
   "outputs": [],
   "source": [
    "import pandas as pd\n",
    "import numpy as np\n",
    "import openpyxl\n",
    "import json"
   ]
  },
  {
   "cell_type": "code",
   "execution_count": 86,
   "id": "eeff6345",
   "metadata": {},
   "outputs": [],
   "source": [
    "def extract_data_from_dict_cell(cell,key:str):\n",
    "    \"\"\"\n",
    "    Функция для извлечения данных из словаря в ячейке датафрейма\n",
    "    \"\"\"\n",
    "    d = ast.literal_eval(cell)\n",
    "    print(type(d))\n",
    "    if type(cell) == dict:\n",
    "        return cell.get(key)\n",
    "    else:\n",
    "        return None\n",
    "    "
   ]
  },
  {
   "cell_type": "code",
   "execution_count": 61,
   "id": "c3bf0111",
   "metadata": {},
   "outputs": [],
   "source": [
    "region = 'Республика Бурятия'"
   ]
  },
  {
   "cell_type": "code",
   "execution_count": 62,
   "id": "731f32d4",
   "metadata": {},
   "outputs": [],
   "source": [
    "# колонки которые нужно оставить и переименовать\n",
    "dct_name_columns = {'busy_type':'Тип занятости','contact_person':'Контактное лицо','date_create':'Дата размещения вакансии',\n",
    "                    'date_modify':'Дата изменения вакансии','education':'Требуемое образование','is_quoted':'Квотируемое место',\n",
    "                   'other_vacancy_benefit':'Дополнительные бонусы','position_requirements':'Требования',\n",
    "                    'position_responsibilities':'Обязанности','regionName':'Регион','required_experience':'Требуемый опыт работы в годах',\n",
    "                    'retraining_capability':'Возможность переподготовки','required_certificates':'Требуемые доп. документы',\n",
    "                   'required_drive_license':'Требуемые водительские права','retraining_grant':'Стипендия',\n",
    "                    'retraining_grant_value':'Размер стипендии','salary':'Зарплата','salary_min':'Минимальная зарплата','salary_max':'Максимальная зарплата',\n",
    "                    'schedule_type':'График работы','social_protected_ids':'Социально защищенная категория',\n",
    "                   'source_type':'Источник вакансии','status':'Статус проверки вакансии','transport_compensation':'Компенсация транспорт',\n",
    "                    'vacancy_address_additional_info':'Доп информация по адресу вакансии','vacancy_address':'Адрес вакансии',\n",
    "                    'vacancy_address_latitude':'Долгота адрес вакансии','vacancy_address_longitude':'Широта адрес вакансии',\n",
    "                   'vacancy_benefit_ids':'Бонусы','vacancy_name':'Вакансия','work_places':'Количество рабочих мест','professionalSphereName':'Сфера деятельности',\n",
    "                    'full_company_name':'Полное название работодателя','company_inn':'ИНН работодателя','company':'Данные компании',\n",
    "                    'languageKnowledge':'Знание языков','hardSkills':'Хардскиллы','softSkills':'Софтскиллы'}"
   ]
  },
  {
   "cell_type": "code",
   "execution_count": 63,
   "id": "c7190819",
   "metadata": {},
   "outputs": [],
   "source": [
    "df = pd.read_csv('data/vacancy.csv',encoding='UTF-8',sep='|',dtype=str)\n"
   ]
  },
  {
   "cell_type": "code",
   "execution_count": 64,
   "id": "e7ca7869",
   "metadata": {},
   "outputs": [],
   "source": [
    "company_df = pd.read_excel('data/company.xlsx',dtype=str)"
   ]
  },
  {
   "cell_type": "code",
   "execution_count": 65,
   "id": "b8cb1fac",
   "metadata": {},
   "outputs": [
    {
     "data": {
      "text/html": [
       "<div>\n",
       "<style scoped>\n",
       "    .dataframe tbody tr th:only-of-type {\n",
       "        vertical-align: middle;\n",
       "    }\n",
       "\n",
       "    .dataframe tbody tr th {\n",
       "        vertical-align: top;\n",
       "    }\n",
       "\n",
       "    .dataframe thead th {\n",
       "        text-align: right;\n",
       "    }\n",
       "</style>\n",
       "<table border=\"1\" class=\"dataframe\">\n",
       "  <thead>\n",
       "    <tr style=\"text-align: right;\">\n",
       "      <th></th>\n",
       "      <th>Краткое название организации</th>\n",
       "      <th>ИНН</th>\n",
       "    </tr>\n",
       "  </thead>\n",
       "  <tbody>\n",
       "    <tr>\n",
       "      <th>0</th>\n",
       "      <td>УУАЗ</td>\n",
       "      <td>0323018510</td>\n",
       "    </tr>\n",
       "    <tr>\n",
       "      <th>1</th>\n",
       "      <td>Приборка</td>\n",
       "      <td>0323053578</td>\n",
       "    </tr>\n",
       "  </tbody>\n",
       "</table>\n",
       "</div>"
      ],
      "text/plain": [
       "  Краткое название организации         ИНН\n",
       "0                         УУАЗ  0323018510\n",
       "1                     Приборка  0323053578"
      ]
     },
     "execution_count": 65,
     "metadata": {},
     "output_type": "execute_result"
    }
   ],
   "source": [
    "company_df"
   ]
  },
  {
   "cell_type": "code",
   "execution_count": 66,
   "id": "c651ad9d",
   "metadata": {},
   "outputs": [
    {
     "data": {
      "text/plain": [
       "(92697, 78)"
      ]
     },
     "execution_count": 66,
     "metadata": {},
     "output_type": "execute_result"
    }
   ],
   "source": [
    "df.shape"
   ]
  },
  {
   "cell_type": "code",
   "execution_count": 67,
   "id": "fd0e6ee8",
   "metadata": {},
   "outputs": [],
   "source": [
    "df = df[df['regionName'] == region]"
   ]
  },
  {
   "cell_type": "code",
   "execution_count": 68,
   "id": "e98ccbba",
   "metadata": {},
   "outputs": [
    {
     "data": {
      "text/plain": [
       "(4116, 78)"
      ]
     },
     "execution_count": 68,
     "metadata": {},
     "output_type": "execute_result"
    }
   ],
   "source": [
    "df.shape"
   ]
  },
  {
   "cell_type": "code",
   "execution_count": 69,
   "id": "89cfd446",
   "metadata": {},
   "outputs": [
    {
     "data": {
      "text/plain": [
       "78       2725026521\n",
       "212      7708709686\n",
       "258      0319103000\n",
       "292      2460069527\n",
       "304      7714731464\n",
       "            ...    \n",
       "92524    0326024141\n",
       "92527    0323363770\n",
       "92531    2460069527\n",
       "92652    7810729228\n",
       "92658    7810729228\n",
       "Name: company_inn, Length: 4116, dtype: object"
      ]
     },
     "execution_count": 69,
     "metadata": {},
     "output_type": "execute_result"
    }
   ],
   "source": [
    "df['company_inn']"
   ]
  },
  {
   "cell_type": "code",
   "execution_count": 70,
   "id": "080d854a",
   "metadata": {},
   "outputs": [],
   "source": [
    "dct_df = dict() # словарь для хранения данных для каждого инн\n",
    "used_name_sheet = set() # множество для хранения использованных названий листов"
   ]
  },
  {
   "cell_type": "code",
   "execution_count": 98,
   "id": "4c404bc5",
   "metadata": {},
   "outputs": [],
   "source": [
    "# Собираем датафреймы по ИНН\n",
    "for idx,row in enumerate(company_df.itertuples()):\n",
    "    name_company = row[1] # название компании\n",
    "    inn_company = row[2] # инн компании\n",
    "    temp_df = df[df['company_inn'] ==inn_company] # фильтруем по инн\n",
    "    temp_df = temp_df[dct_name_columns.keys()]\n",
    "    temp_df.rename(columns=dct_name_columns,inplace=True)\n",
    "    temp_df.to_excel(f'data/{name_company}.xlsx',index=False)\n",
    "    temp_df['Email работодателя'] = temp_df['Данные компании'].apply(lambda x: json.loads(x).get('email','Не найден ключ'))\n",
    "    \n",
    "    \n",
    "    "
   ]
  },
  {
   "cell_type": "code",
   "execution_count": 99,
   "id": "15393035",
   "metadata": {},
   "outputs": [
    {
     "data": {
      "text/plain": [
       "27802    oaouuppo_70@mail.ru\n",
       "28737    oaouuppo_70@mail.ru\n",
       "28924    oaouuppo_70@mail.ru\n",
       "28990    oaouuppo_70@mail.ru\n",
       "31075    oaouuppo_70@mail.ru\n",
       "31272    oaouuppo_70@mail.ru\n",
       "31382    oaouuppo_70@mail.ru\n",
       "31391    oaouuppo_70@mail.ru\n",
       "31579    oaouuppo_70@mail.ru\n",
       "31820    oaouuppo_70@mail.ru\n",
       "31849    oaouuppo_70@mail.ru\n",
       "32075    oaouuppo_70@mail.ru\n",
       "32151    oaouuppo_70@mail.ru\n",
       "32309    oaouuppo_70@mail.ru\n",
       "32572    oaouuppo_70@mail.ru\n",
       "32687    oaouuppo_70@mail.ru\n",
       "32799    oaouuppo_70@mail.ru\n",
       "32901    oaouuppo_70@mail.ru\n",
       "32954    oaouuppo_70@mail.ru\n",
       "33756    oaouuppo_70@mail.ru\n",
       "33797    oaouuppo_70@mail.ru\n",
       "34242    oaouuppo_70@mail.ru\n",
       "34416    oaouuppo_70@mail.ru\n",
       "34615    oaouuppo_70@mail.ru\n",
       "34658    oaouuppo_70@mail.ru\n",
       "34768    oaouuppo_70@mail.ru\n",
       "34805    oaouuppo_70@mail.ru\n",
       "34812    oaouuppo_70@mail.ru\n",
       "34826    oaouuppo_70@mail.ru\n",
       "34943    oaouuppo_70@mail.ru\n",
       "34944    oaouuppo_70@mail.ru\n",
       "34952    oaouuppo_70@mail.ru\n",
       "35028    oaouuppo_70@mail.ru\n",
       "35044    oaouuppo_70@mail.ru\n",
       "35111    oaouuppo_70@mail.ru\n",
       "35153    oaouuppo_70@mail.ru\n",
       "35228    oaouuppo_70@mail.ru\n",
       "35315    oaouuppo_70@mail.ru\n",
       "35471    oaouuppo_70@mail.ru\n",
       "35536    oaouuppo_70@mail.ru\n",
       "35852    oaouuppo_70@mail.ru\n",
       "35970    oaouuppo_70@mail.ru\n",
       "36017    oaouuppo_70@mail.ru\n",
       "36107    oaouuppo_70@mail.ru\n",
       "36145    oaouuppo_70@mail.ru\n",
       "36179    oaouuppo_70@mail.ru\n",
       "36577    oaouuppo_70@mail.ru\n",
       "36751    oaouuppo_70@mail.ru\n",
       "38157    oaouuppo_70@mail.ru\n",
       "42987    oaouuppo_70@mail.ru\n",
       "Name: Email работодателя, dtype: object"
      ]
     },
     "execution_count": 99,
     "metadata": {},
     "output_type": "execute_result"
    }
   ],
   "source": [
    "temp_df['Email работодателя']"
   ]
  },
  {
   "cell_type": "code",
   "execution_count": null,
   "id": "85c909e4",
   "metadata": {},
   "outputs": [],
   "source": []
  },
  {
   "cell_type": "code",
   "execution_count": null,
   "id": "bdbd4843",
   "metadata": {},
   "outputs": [],
   "source": []
  },
  {
   "cell_type": "code",
   "execution_count": null,
   "id": "07eddb5a",
   "metadata": {},
   "outputs": [],
   "source": []
  },
  {
   "cell_type": "code",
   "execution_count": null,
   "id": "d01ca049",
   "metadata": {},
   "outputs": [],
   "source": []
  },
  {
   "cell_type": "code",
   "execution_count": null,
   "id": "33b2603b",
   "metadata": {},
   "outputs": [],
   "source": []
  },
  {
   "cell_type": "code",
   "execution_count": null,
   "id": "f74e4be1",
   "metadata": {},
   "outputs": [],
   "source": []
  },
  {
   "cell_type": "code",
   "execution_count": null,
   "id": "a22e093f",
   "metadata": {},
   "outputs": [],
   "source": []
  },
  {
   "cell_type": "code",
   "execution_count": null,
   "id": "1206045d",
   "metadata": {},
   "outputs": [],
   "source": []
  },
  {
   "cell_type": "code",
   "execution_count": 72,
   "id": "0dedd78c",
   "metadata": {},
   "outputs": [
    {
     "name": "stdout",
     "output_type": "stream",
     "text": [
      "Lindy Booth!\n"
     ]
    }
   ],
   "source": [
    "print('Lindy Booth!')"
   ]
  }
 ],
 "metadata": {
  "kernelspec": {
   "display_name": "Python 3 (ipykernel)",
   "language": "python",
   "name": "python3"
  },
  "language_info": {
   "codemirror_mode": {
    "name": "ipython",
    "version": 3
   },
   "file_extension": ".py",
   "mimetype": "text/x-python",
   "name": "python",
   "nbconvert_exporter": "python",
   "pygments_lexer": "ipython3",
   "version": "3.9.13"
  }
 },
 "nbformat": 4,
 "nbformat_minor": 5
}
