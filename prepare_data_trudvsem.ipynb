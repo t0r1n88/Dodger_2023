{
 "cells": [
  {
   "cell_type": "code",
   "execution_count": 127,
   "id": "e0184e4d",
   "metadata": {},
   "outputs": [
    {
     "data": {
      "text/plain": [
       "'\\nСкрипт для обработки данных  с портала трудвсем для БЦК\\n'"
      ]
     },
     "execution_count": 127,
     "metadata": {},
     "output_type": "execute_result"
    }
   ],
   "source": [
    "\"\"\"\n",
    "Скрипт для обработки данных  с портала трудвсем для БЦК\n",
    "\"\"\""
   ]
  },
  {
   "cell_type": "code",
   "execution_count": 20,
   "id": "6a2dca8c",
   "metadata": {},
   "outputs": [],
   "source": [
    "import pandas as pd\n",
    "import numpy as np\n",
    "import openpyxl\n",
    "import json\n",
    "import ast"
   ]
  },
  {
   "cell_type": "code",
   "execution_count": 31,
   "id": "4aa35d2b",
   "metadata": {},
   "outputs": [],
   "source": [
    "def extract_data_from_list_cell(cell:str,lst_need_keys:list):\n",
    "    \"\"\"\n",
    "    Функция для извлечения данных из словаря в ячейке датафрейма\n",
    "    \"\"\"\n",
    "    try:\n",
    "        \n",
    "        lst_lang = ast.literal_eval(cell) # превращаем в список\n",
    "        if lst_lang:            \n",
    "            out_str_lst = [] # создаем список содержащий выходные строки\n",
    "            for lang_dict in lst_lang:\n",
    "                lst_lang_str = [] # список для хранения значений извлеченных из словаря\n",
    "                for idx,key in enumerate(lst_need_keys):                    \n",
    "                     lst_lang_str.append(lang_dict.get(key,''))\n",
    "                single_lang_str = ','.join(lst_lang_str) # создаем строку для одного языка\n",
    "                out_str_lst.append(single_lang_str)\n",
    "            return ';'.join(out_str_lst)\n",
    "                               \n",
    "        else:\n",
    "            return 'Не указано'\n",
    "        \n",
    "\n",
    "    except FileNotFoundError:\n",
    "        return 'Не удалось обработать содержимое ячейки'\n",
    "\n",
    "    "
   ]
  },
  {
   "cell_type": "code",
   "execution_count": 3,
   "id": "dc3fc18f",
   "metadata": {},
   "outputs": [],
   "source": [
    "region = 'Республика Бурятия'"
   ]
  },
  {
   "cell_type": "code",
   "execution_count": 12,
   "id": "1b45c58c",
   "metadata": {},
   "outputs": [],
   "source": [
    "# колонки которые нужно оставить и переименовать\n",
    "dct_name_columns = {'busy_type':'Тип занятости','contact_person':'Контактное лицо','date_create':'Дата размещения вакансии',\n",
    "                    'date_modify':'Дата изменения вакансии','education':'Требуемое образование','is_quoted':'Квотируемое место',\n",
    "                   'other_vacancy_benefit':'Дополнительные бонусы','position_requirements':'Требования',\n",
    "                    'position_responsibilities':'Обязанности','regionName':'Регион','required_experience':'Требуемый опыт работы в годах',\n",
    "                    'retraining_capability':'Возможность переподготовки','required_certificates':'Требуемые доп. документы',\n",
    "                   'required_drive_license':'Требуемые водительские права','retraining_grant':'Стипендия',\n",
    "                    'retraining_grant_value':'Размер стипендии','salary':'Зарплата','salary_min':'Минимальная зарплата','salary_max':'Максимальная зарплата',\n",
    "                    'schedule_type':'График работы','social_protected_ids':'Социально защищенная категория',\n",
    "                   'source_type':'Источник вакансии','status':'Статус проверки вакансии','transport_compensation':'Компенсация транспорт',\n",
    "                    'vacancy_address_additional_info':'Доп информация по адресу вакансии','vacancy_address':'Адрес вакансии',\n",
    "                    'vacancy_address_latitude':'Долгота адрес вакансии','vacancy_address_longitude':'Широта адрес вакансии',\n",
    "                   'vacancy_benefit_ids':'Бонусы','vacancy_name':'Вакансия','work_places':'Количество рабочих мест','professionalSphereName':'Сфера деятельности',\n",
    "                    'full_company_name':'Полное название работодателя','company_inn':'ИНН работодателя','company':'Данные компании',\n",
    "                    'languageKnowledge':'Данные по языкам','hardSkills':'Данные по хардскиллам','softSkills':'Данные по софтскиллам'}"
   ]
  },
  {
   "cell_type": "code",
   "execution_count": 5,
   "id": "223ac172",
   "metadata": {},
   "outputs": [],
   "source": [
    "df = pd.read_csv('data/vacancy.csv',encoding='UTF-8',sep='|',dtype=str)\n"
   ]
  },
  {
   "cell_type": "code",
   "execution_count": 6,
   "id": "60293f42",
   "metadata": {},
   "outputs": [],
   "source": [
    "company_df = pd.read_excel('data/company.xlsx',dtype=str)"
   ]
  },
  {
   "cell_type": "code",
   "execution_count": 7,
   "id": "8f41c668",
   "metadata": {},
   "outputs": [
    {
     "data": {
      "text/html": [
       "<div>\n",
       "<style scoped>\n",
       "    .dataframe tbody tr th:only-of-type {\n",
       "        vertical-align: middle;\n",
       "    }\n",
       "\n",
       "    .dataframe tbody tr th {\n",
       "        vertical-align: top;\n",
       "    }\n",
       "\n",
       "    .dataframe thead th {\n",
       "        text-align: right;\n",
       "    }\n",
       "</style>\n",
       "<table border=\"1\" class=\"dataframe\">\n",
       "  <thead>\n",
       "    <tr style=\"text-align: right;\">\n",
       "      <th></th>\n",
       "      <th>Краткое название организации</th>\n",
       "      <th>ИНН</th>\n",
       "    </tr>\n",
       "  </thead>\n",
       "  <tbody>\n",
       "    <tr>\n",
       "      <th>0</th>\n",
       "      <td>УУАЗ</td>\n",
       "      <td>0323018510</td>\n",
       "    </tr>\n",
       "    <tr>\n",
       "      <th>1</th>\n",
       "      <td>Приборка</td>\n",
       "      <td>0323053578</td>\n",
       "    </tr>\n",
       "    <tr>\n",
       "      <th>2</th>\n",
       "      <td>Ника</td>\n",
       "      <td>7536165688</td>\n",
       "    </tr>\n",
       "    <tr>\n",
       "      <th>3</th>\n",
       "      <td>РХИ</td>\n",
       "      <td>7802772445</td>\n",
       "    </tr>\n",
       "  </tbody>\n",
       "</table>\n",
       "</div>"
      ],
      "text/plain": [
       "  Краткое название организации         ИНН\n",
       "0                         УУАЗ  0323018510\n",
       "1                     Приборка  0323053578\n",
       "2                         Ника  7536165688\n",
       "3                          РХИ  7802772445"
      ]
     },
     "execution_count": 7,
     "metadata": {},
     "output_type": "execute_result"
    }
   ],
   "source": [
    "company_df"
   ]
  },
  {
   "cell_type": "code",
   "execution_count": 8,
   "id": "626e94e1",
   "metadata": {},
   "outputs": [
    {
     "data": {
      "text/plain": [
       "(92697, 78)"
      ]
     },
     "execution_count": 8,
     "metadata": {},
     "output_type": "execute_result"
    }
   ],
   "source": [
    "df.shape"
   ]
  },
  {
   "cell_type": "code",
   "execution_count": 136,
   "id": "c60418a3",
   "metadata": {},
   "outputs": [],
   "source": [
    "#df = df[df['regionName'] == region]"
   ]
  },
  {
   "cell_type": "code",
   "execution_count": 9,
   "id": "0acd2c6b",
   "metadata": {},
   "outputs": [
    {
     "data": {
      "text/plain": [
       "(92697, 78)"
      ]
     },
     "execution_count": 9,
     "metadata": {},
     "output_type": "execute_result"
    }
   ],
   "source": [
    "df.shape"
   ]
  },
  {
   "cell_type": "code",
   "execution_count": 10,
   "id": "0930a115",
   "metadata": {},
   "outputs": [],
   "source": [
    "dct_df = dict() # словарь для хранения данных для каждого инн\n",
    "used_name_sheet = set() # множество для хранения использованных названий листов"
   ]
  },
  {
   "cell_type": "code",
   "execution_count": 30,
   "id": "a199c3a0",
   "metadata": {},
   "outputs": [
    {
     "name": "stdout",
     "output_type": "stream",
     "text": [
      "Китайский,;Английский,\n",
      "Турецкий,Базовый;Английский,Свободный\n",
      "Турецкий,Базовый;Английский,Свободный\n",
      "Турецкий,Базовый;Английский,Свободный\n",
      "Турецкий,Базовый;Английский,Свободный\n",
      "Турецкий,Базовый\n"
     ]
    }
   ],
   "source": [
    "# Собираем датафреймы по ИНН\n",
    "for idx,row in enumerate(company_df.itertuples()):\n",
    "    name_company = row[1] # название компании\n",
    "    inn_company = row[2] # инн компании\n",
    "    temp_df = df[df['company_inn'] ==inn_company] # фильтруем по инн\n",
    "    temp_df = temp_df[dct_name_columns.keys()]\n",
    "    temp_df.rename(columns=dct_name_columns,inplace=True)\n",
    "    # Начинаем извлекать данные из сложных колонок с json\n",
    "    # данные по работодателю\n",
    "    temp_df['КПП работодателя'] = temp_df['Данные компании'].apply(lambda x: json.loads(x).get('kpp','Не найден ключ'))\n",
    "    temp_df['ОГРН работодателя'] = temp_df['Данные компании'].apply(lambda x: json.loads(x).get('ogrn','Не найден ключ'))\n",
    "    temp_df['Контактный телефон работодателя'] = temp_df['Данные компании'].apply(lambda x: json.loads(x).get('phone','Не найден ключ'))\n",
    "    temp_df['Email работодателя'] = temp_df['Данные компании'].apply(lambda x: json.loads(x).get('email','Не найден ключ'))\n",
    "    temp_df['Профиль работодателя'] = temp_df['Данные компании'].apply(lambda x: json.loads(x).get('url','Не найден ключ'))\n",
    "    \n",
    "    # Обрабатываем колонку с языками\n",
    "    temp_df['Знание языков'] = temp_df['Данные по языкам'].apply(lambda x:extract_data_from_list_cell(x,['code_language','level']))\n",
    "    print(temp_df['Знание языков'])\n",
    "    \n",
    "    \n",
    "    \n",
    "    \n",
    "    \n",
    "    \n",
    "    \n",
    "    temp_df.to_excel(f'data/{name_company}.xlsx',index=False)\n",
    "    "
   ]
  },
  {
   "cell_type": "code",
   "execution_count": 150,
   "id": "eddbdbd9",
   "metadata": {},
   "outputs": [
    {
     "data": {
      "text/plain": [
       "Series([], Name: Знание языков, dtype: int64)"
      ]
     },
     "execution_count": 150,
     "metadata": {},
     "output_type": "execute_result"
    }
   ],
   "source": [
    "temp_df['Знание языков'].value_counts()"
   ]
  },
  {
   "cell_type": "code",
   "execution_count": null,
   "id": "558d9912",
   "metadata": {},
   "outputs": [],
   "source": []
  },
  {
   "cell_type": "code",
   "execution_count": null,
   "id": "291e615d",
   "metadata": {},
   "outputs": [],
   "source": []
  },
  {
   "cell_type": "code",
   "execution_count": null,
   "id": "486c5f5d",
   "metadata": {},
   "outputs": [],
   "source": []
  },
  {
   "cell_type": "code",
   "execution_count": null,
   "id": "2d62afa1",
   "metadata": {},
   "outputs": [],
   "source": []
  },
  {
   "cell_type": "code",
   "execution_count": null,
   "id": "e1cfd7e7",
   "metadata": {},
   "outputs": [],
   "source": []
  },
  {
   "cell_type": "code",
   "execution_count": null,
   "id": "7aa3eaba",
   "metadata": {},
   "outputs": [],
   "source": []
  },
  {
   "cell_type": "code",
   "execution_count": null,
   "id": "029a1b3a",
   "metadata": {},
   "outputs": [],
   "source": []
  },
  {
   "cell_type": "code",
   "execution_count": 142,
   "id": "e72764fc",
   "metadata": {},
   "outputs": [
    {
     "name": "stdout",
     "output_type": "stream",
     "text": [
      "Lindy Booth!\n"
     ]
    }
   ],
   "source": [
    "print('Lindy Booth!')"
   ]
  }
 ],
 "metadata": {
  "kernelspec": {
   "display_name": "Python 3 (ipykernel)",
   "language": "python",
   "name": "python3"
  },
  "language_info": {
   "codemirror_mode": {
    "name": "ipython",
    "version": 3
   },
   "file_extension": ".py",
   "mimetype": "text/x-python",
   "name": "python",
   "nbconvert_exporter": "python",
   "pygments_lexer": "ipython3",
   "version": "3.9.7"
  }
 },
 "nbformat": 4,
 "nbformat_minor": 5
}
