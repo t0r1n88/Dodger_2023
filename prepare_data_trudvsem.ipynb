{
 "cells": [
  {
   "cell_type": "code",
   "execution_count": 41,
   "id": "0bfa59f2",
   "metadata": {},
   "outputs": [
    {
     "data": {
      "text/plain": [
       "'\\nСкрипт для обработки данных  с портала трудвсем для БЦК\\n'"
      ]
     },
     "execution_count": 41,
     "metadata": {},
     "output_type": "execute_result"
    }
   ],
   "source": [
    "\"\"\"\n",
    "Скрипт для обработки данных  с портала трудвсем для БЦК\n",
    "\"\"\""
   ]
  },
  {
   "cell_type": "code",
   "execution_count": 42,
   "id": "46f5fafa",
   "metadata": {},
   "outputs": [],
   "source": [
    "import pandas as pd\n",
    "import numpy as np\n",
    "import openpyxl"
   ]
  },
  {
   "cell_type": "code",
   "execution_count": 43,
   "id": "c4971785",
   "metadata": {},
   "outputs": [],
   "source": [
    "region = 'Республика Бурятия'"
   ]
  },
  {
   "cell_type": "code",
   "execution_count": 44,
   "id": "d7c29a04",
   "metadata": {},
   "outputs": [],
   "source": [
    "df = pd.read_csv('data/vacancy.csv',encoding='UTF-8',sep='|',dtype=str)\n"
   ]
  },
  {
   "cell_type": "code",
   "execution_count": 51,
   "id": "a0e509e8",
   "metadata": {},
   "outputs": [],
   "source": [
    "company_df = pd.read_excel('data/company.xlsx',dtype=str)"
   ]
  },
  {
   "cell_type": "code",
   "execution_count": 52,
   "id": "652c1408",
   "metadata": {},
   "outputs": [
    {
     "data": {
      "text/html": [
       "<div>\n",
       "<style scoped>\n",
       "    .dataframe tbody tr th:only-of-type {\n",
       "        vertical-align: middle;\n",
       "    }\n",
       "\n",
       "    .dataframe tbody tr th {\n",
       "        vertical-align: top;\n",
       "    }\n",
       "\n",
       "    .dataframe thead th {\n",
       "        text-align: right;\n",
       "    }\n",
       "</style>\n",
       "<table border=\"1\" class=\"dataframe\">\n",
       "  <thead>\n",
       "    <tr style=\"text-align: right;\">\n",
       "      <th></th>\n",
       "      <th>Название организации</th>\n",
       "      <th>ИНН</th>\n",
       "    </tr>\n",
       "  </thead>\n",
       "  <tbody>\n",
       "    <tr>\n",
       "      <th>0</th>\n",
       "      <td>АКЦИОНЕРНОЕ ОБЩЕСТВО \"УЛАН-УДЭНСКИЙ АВИАЦИОННЫ...</td>\n",
       "      <td>0323018510</td>\n",
       "    </tr>\n",
       "    <tr>\n",
       "      <th>1</th>\n",
       "      <td>АКЦИОНЕРНОЕ ОБЩЕСТВО \"УЛАН-УДЭНСКОЕ ПРИБОРОСТР...</td>\n",
       "      <td>0323053578</td>\n",
       "    </tr>\n",
       "  </tbody>\n",
       "</table>\n",
       "</div>"
      ],
      "text/plain": [
       "                                Название организации         ИНН\n",
       "0  АКЦИОНЕРНОЕ ОБЩЕСТВО \"УЛАН-УДЭНСКИЙ АВИАЦИОННЫ...  0323018510\n",
       "1  АКЦИОНЕРНОЕ ОБЩЕСТВО \"УЛАН-УДЭНСКОЕ ПРИБОРОСТР...  0323053578"
      ]
     },
     "execution_count": 52,
     "metadata": {},
     "output_type": "execute_result"
    }
   ],
   "source": [
    "company_df"
   ]
  },
  {
   "cell_type": "code",
   "execution_count": 46,
   "id": "8f86b050",
   "metadata": {},
   "outputs": [
    {
     "data": {
      "text/plain": [
       "(92697, 78)"
      ]
     },
     "execution_count": 46,
     "metadata": {},
     "output_type": "execute_result"
    }
   ],
   "source": [
    "df.shape"
   ]
  },
  {
   "cell_type": "code",
   "execution_count": 47,
   "id": "efef733d",
   "metadata": {},
   "outputs": [],
   "source": [
    "df = df[df['regionName'] == region]"
   ]
  },
  {
   "cell_type": "code",
   "execution_count": 48,
   "id": "a38f7891",
   "metadata": {},
   "outputs": [
    {
     "data": {
      "text/plain": [
       "(4116, 78)"
      ]
     },
     "execution_count": 48,
     "metadata": {},
     "output_type": "execute_result"
    }
   ],
   "source": [
    "df.shape"
   ]
  },
  {
   "cell_type": "code",
   "execution_count": 49,
   "id": "2aa4f364",
   "metadata": {},
   "outputs": [
    {
     "data": {
      "text/plain": [
       "78       2725026521\n",
       "212      7708709686\n",
       "258      0319103000\n",
       "292      2460069527\n",
       "304      7714731464\n",
       "            ...    \n",
       "92524    0326024141\n",
       "92527    0323363770\n",
       "92531    2460069527\n",
       "92652    7810729228\n",
       "92658    7810729228\n",
       "Name: company_inn, Length: 4116, dtype: object"
      ]
     },
     "execution_count": 49,
     "metadata": {},
     "output_type": "execute_result"
    }
   ],
   "source": [
    "df['company_inn']"
   ]
  },
  {
   "cell_type": "code",
   "execution_count": null,
   "id": "557929f9",
   "metadata": {},
   "outputs": [],
   "source": []
  },
  {
   "cell_type": "code",
   "execution_count": null,
   "id": "779ce2d0",
   "metadata": {},
   "outputs": [],
   "source": []
  },
  {
   "cell_type": "code",
   "execution_count": null,
   "id": "e978f236",
   "metadata": {},
   "outputs": [],
   "source": []
  },
  {
   "cell_type": "code",
   "execution_count": null,
   "id": "af1cff57",
   "metadata": {},
   "outputs": [],
   "source": []
  },
  {
   "cell_type": "code",
   "execution_count": null,
   "id": "092e3f28",
   "metadata": {},
   "outputs": [],
   "source": []
  },
  {
   "cell_type": "code",
   "execution_count": 50,
   "id": "2e914828",
   "metadata": {},
   "outputs": [
    {
     "name": "stdout",
     "output_type": "stream",
     "text": [
      "Lindy Booth!\n"
     ]
    }
   ],
   "source": [
    "print('Lindy Booth!')"
   ]
  }
 ],
 "metadata": {
  "kernelspec": {
   "display_name": "Python 3 (ipykernel)",
   "language": "python",
   "name": "python3"
  },
  "language_info": {
   "codemirror_mode": {
    "name": "ipython",
    "version": 3
   },
   "file_extension": ".py",
   "mimetype": "text/x-python",
   "name": "python",
   "nbconvert_exporter": "python",
   "pygments_lexer": "ipython3",
   "version": "3.9.13"
  }
 },
 "nbformat": 4,
 "nbformat_minor": 5
}
