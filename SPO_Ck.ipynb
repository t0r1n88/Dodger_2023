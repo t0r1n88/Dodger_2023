{
 "cells": [
  {
   "cell_type": "code",
   "execution_count": 524,
   "id": "0bb7f651",
   "metadata": {},
   "outputs": [
    {
     "data": {
      "text/plain": [
       "'\\nСкрипт для подсчета общих данных по ЦК\\n'"
      ]
     },
     "execution_count": 524,
     "metadata": {},
     "output_type": "execute_result"
    }
   ],
   "source": [
    "\"\"\"\n",
    "Скрипт для подсчета общих данных по ЦК\n",
    "\"\"\""
   ]
  },
  {
   "cell_type": "code",
   "execution_count": 525,
   "id": "dedba269",
   "metadata": {},
   "outputs": [],
   "source": [
    "import pandas as pd\n",
    "import numpy as np\n",
    "import openpyxl\n",
    "import os\n",
    "import warnings\n",
    "warnings.filterwarnings('ignore', category=UserWarning, module='openpyxl')\n",
    "warnings.filterwarnings('ignore', category=DeprecationWarning)\n",
    "import copy\n",
    "import time"
   ]
  },
  {
   "cell_type": "code",
   "execution_count": 526,
   "id": "bf715c08",
   "metadata": {},
   "outputs": [],
   "source": [
    "def check_horizont_all_sum_error(df:pd.DataFrame,tup_exluded_cols:tuple,name_itog_cols,name_file):\n",
    "    \"\"\"\n",
    "    Функция для проверки горизонтальных сумм по всей строке\n",
    "    сумма в колонке 05 должна быть равна сумме всех колонок за исключением 07 и 15\n",
    "    \"\"\"\n",
    "    # датафрейм для ощибок по горизонтали\n",
    "    hor_error_df = pd.DataFrame(columns=['Название файла', 'Строка или колонка с ошибкой', 'Описание ошибки'])\n",
    "    \n",
    "    # получаем список колонок\n",
    "    all_sum_cols =list(df)\n",
    "    # удаляем колонки\n",
    "    for name_cols in tup_exluded_cols:\n",
    "        all_sum_cols.remove(name_cols)\n",
    "    # удаляем итоговую колонку\n",
    "    all_sum_cols.remove(name_itog_cols)\n",
    "\n",
    "    # получаем сумму колонок за вычетом исключаемых и итоговой колонки\n",
    "    df['Сумма'] = df[all_sum_cols].sum(axis=1)\n",
    "    # Проводим проверку\n",
    "    df['Результат'] = df[name_itog_cols] == df['Сумма']\n",
    "    df['Результат'] = df['Результат'].apply(lambda x: 'Правильно' if x else 'Неправильно')\n",
    "    # получаем датафрейм с ошибками и извлекаем индекс\n",
    "    df = df[df['Результат'] == 'Неправильно'].reset_index()\n",
    "    # создаем датафрейм дял добавления в ошибки\n",
    "    temp_error_df = pd.DataFrame(columns=['Название файла', 'Строка или колонка с ошибкой', 'Описание ошибки', ])\n",
    "    # обрабатываем индексы строк с ошибками чтобы строки совпадали с файлом excel\n",
    "    raw_lst_index = df['index'].tolist()  # делаем список\n",
    "    finish_lst_index = list(map(lambda x: x + 1, raw_lst_index))\n",
    "    finish_lst_index = list(map(lambda x: f'Строка 0{str(x)}', finish_lst_index))\n",
    "    temp_error_df['Строка или колонка с ошибкой'] = finish_lst_index\n",
    "    temp_error_df['Название файла'] = name_file\n",
    "    temp_error_df['Описание ошибки'] = f'Не выполняется условие: гр. {name_itog_cols} = сумма остальных гр. за искл.{tup_exluded_cols}'\n",
    "    return temp_error_df\n",
    "    \n",
    "    \n",
    "\n",
    "    \n",
    "    \n",
    "    "
   ]
  },
  {
   "cell_type": "code",
   "execution_count": 527,
   "id": "8b694212",
   "metadata": {},
   "outputs": [],
   "source": [
    "def check_horizont_chosen_sum_error(df:pd.DataFrame,tup_checked_cols:list,name_itog_cols,name_file):\n",
    "    \"\"\"\n",
    "    Функция для проверки равенства одиночных или небольших групп колонок\n",
    "    tup_checked_cols колонки сумму которых нужно сравнить с name_itog_cols чтобы она не превышала это значение\n",
    "    \"\"\"\n",
    "    # Считаем проверяемые колонки\n",
    "    df['Сумма'] = df[tup_checked_cols].sum(axis=1)\n",
    "     # Проводим проверку\n",
    "    df['Результат'] = df[name_itog_cols] >= df['Сумма']\n",
    "    df['Результат'] = df['Результат'].apply(lambda x: 'Правильно' if x else 'Неправильно')\n",
    "    # получаем датафрейм с ошибками и извлекаем индекс\n",
    "    df = df[df['Результат'] == 'Неправильно'].reset_index()\n",
    "    # создаем датафрейм дял добавления в ошибки\n",
    "    temp_error_df = pd.DataFrame(columns=['Название файла', 'Строка или колонка с ошибкой', 'Описание ошибки', ])\n",
    "    # обрабатываем индексы строк с ошибками чтобы строки совпадали с файлом excel\n",
    "    raw_lst_index = df['index'].tolist()  # делаем список\n",
    "    finish_lst_index = list(map(lambda x: x + 1, raw_lst_index))\n",
    "    finish_lst_index = list(map(lambda x: f'Строка 0{str(x)}', finish_lst_index))\n",
    "    temp_error_df['Строка или колонка с ошибкой'] = finish_lst_index\n",
    "    temp_error_df['Название файла'] = name_file\n",
    "    temp_error_df['Описание ошибки'] = f'Не выполняется условие: гр. {name_itog_cols} >= сумма {tup_checked_cols}'\n",
    "    return temp_error_df\n",
    "    \n",
    "    "
   ]
  },
  {
   "cell_type": "code",
   "execution_count": 528,
   "id": "9aa81b9d",
   "metadata": {},
   "outputs": [],
   "source": [
    "def check_vertical_chosen_sum(df:pd.DataFrame,lst_checked_rows:list,itog_row,name_file):\n",
    "    \"\"\"\n",
    "    Функция для проверки вертикальной суммы заданных строк сумма значений в tupl_checked_row должна быть равной ил меньше чем значение\n",
    "    в itog_row\n",
    "    \"\"\"\n",
    "    \n",
    "    # обрабаотываем список строк чтобы привести его в читаемый вид\n",
    "    lst_out_rows = list(map(lambda x:x+1,lst_checked_rows))\n",
    "                        \n",
    "    # делаем значения строковыми\n",
    "    lst_out_rows = list(map(str,lst_out_rows))\n",
    "    # Добавляем ноль в строки\n",
    "    lst_out_rows = list(map(lambda x:'0'+x,lst_out_rows))\n",
    "    #обрабатываем формат выходной строки\n",
    "    out_itog_row = f'0{str(itog_row+1)}'\n",
    "    \n",
    "    # создаем временный датафрейм\n",
    "    foo_df = pd.DataFrame()\n",
    "    # разворачиваем строки в колонки\n",
    "    for idx_row in lst_checked_rows:\n",
    "        foo_df[idx_row] = df.iloc[idx_row,:]\n",
    "    \n",
    "    # добавляем итоговую колонку\n",
    "    foo_df[itog_row] = df.iloc[itog_row,:]\n",
    "    \n",
    "    # суммируем\n",
    "    foo_df['Сумма'] = foo_df[lst_checked_rows].sum(axis=1)\n",
    "    foo_df['Результат'] = foo_df[itog_row] >= foo_df['Сумма']\n",
    "    foo_df['Результат'] = foo_df['Результат'].apply(lambda x: 'Правильно' if x else 'Неправильно')\n",
    "        # получаем датафрейм с ошибками и извлекаем индекс\n",
    "    error_df = foo_df[foo_df['Результат'] == 'Неправильно'].reset_index()\n",
    "    # Добавляем слово колонка\n",
    "    error_df['index'] = error_df['index'].apply(lambda x:'Колонка '+str(x))\n",
    "    # создаем датафрейм дял добавления в ошибки\n",
    "    temp_error_df = pd.DataFrame(columns=['Название файла', 'Строка или колонка с ошибкой', 'Описание ошибки', ])    \n",
    "    temp_error_df['Строка или колонка с ошибкой'] = error_df['index']    \n",
    "    temp_error_df['Описание ошибки'] = f'Для указанной колонки сумма в строках {lst_out_rows} превышает значением в строке {out_itog_row} '\n",
    "    temp_error_df['Название файла'] =name_file\n",
    "    \n",
    "    return temp_error_df\n",
    "\n",
    "    \n",
    "    \n",
    "    \n",
    "    "
   ]
  },
  {
   "cell_type": "code",
   "execution_count": 529,
   "id": "fd960edb",
   "metadata": {},
   "outputs": [],
   "source": [
    "def check_error_ck(df:pd.DataFrame,name_file):\n",
    "        # создаем датафрейм для регистрации ошибок\n",
    "    error_df = pd.DataFrame(columns=['Название файла', 'Строка или колонка с ошибкой', 'Описание ошибки'])\n",
    "    \n",
    "    # проводим горизонтальные проверки\n",
    "    # проверка на общую сумму\n",
    "    first_error_ck_df  = check_horizont_all_sum_error(df.copy(),('07','15'),'05',name_file) \n",
    "    error_df = pd.concat([error_df,first_error_ck_df],axis=0,ignore_index=True)\n",
    "    # проверяем небольшие группы или одиночные колонки\n",
    "    second_error_ck_df  = check_horizont_chosen_sum_error(df.copy(),['07'],'06',name_file) \n",
    "    error_df = pd.concat([error_df,second_error_ck_df],axis=0,ignore_index=True)\n",
    "    \n",
    "    #проверяем колонки 14 и 15\n",
    "    third_error_ck_df  = check_horizont_chosen_sum_error(df.copy(),['15'],'14',name_file) \n",
    "    error_df = pd.concat([error_df,third_error_ck_df],axis=0,ignore_index=True)\n",
    "    \n",
    "    # Проводим вертикальные проверки\n",
    "    # Сумма овз и целевиков не должна превышать общую численность выпускников. Строки с индексом 1 и 4 должныть меньше или равны строке с индексом 0\n",
    "    fourth_error_ck_df = check_vertical_chosen_sum(df.copy(),[1,4],0,name_file)\n",
    "    error_df = pd.concat([error_df,fourth_error_ck_df],axis=0,ignore_index=True)\n",
    "    \n",
    "    #Проверяем ОВЗ\n",
    "    fifth_error_ck_df = check_vertical_chosen_sum(df.copy(),[2,3],1,name_file)\n",
    "    error_df = pd.concat([error_df,fifth_error_ck_df],axis=0,ignore_index=True)\n",
    "    \n",
    "    \n",
    "    return error_df\n",
    "\n",
    " \n",
    "        \n",
    "    \n",
    "    \n"
   ]
  },
  {
   "cell_type": "code",
   "execution_count": 530,
   "id": "d11610ce",
   "metadata": {},
   "outputs": [],
   "source": [
    "path_to_data_ck = 'data/Отчет ЦК'\n",
    "path_to_end_folder = 'data'\n",
    "\n",
    "\n",
    "# создаем базовый датафрейм заполненный нулями\n",
    "base_df = pd.DataFrame(np.zeros((5,27)))\n",
    "base_df=base_df.applymap(int) # приводим его к инту\n",
    "base_df.columns = ['05','06','07','08','09','10','11','12','13','14','15','16','17','18','19','20','21','22','23','24',\n",
    "                   '25','26','27','28','29','30','31']\n",
    "\n",
    "\n",
    "# создаем датафрейм для регистрации ошибок\n",
    "base_error_df = pd.DataFrame(columns=['Название файла', 'Строка или колонка с ошибкой', 'Описание ошибки', ])\n",
    "\n",
    "for file in os.listdir(path_to_data_ck):\n",
    "    if not file.startswith('~$') and file.endswith('.xlsx'):\n",
    "        name_file = file.split('.xlsx')[0]\n",
    "        temp_df_ck = pd.read_excel(f'{path_to_data_ck}/{file}',skiprows=5,nrows=5)\n",
    "        # Создаем копию датафрейма только с числовыми колонками\n",
    "        temp_df_int = temp_df_ck.iloc[:,2:29].copy()\n",
    "        # заменяем пустые ячейки нулями\n",
    "\n",
    "        temp_df_int.fillna(0,inplace=True)\n",
    "        temp_df_int = temp_df_int.applymap(int)\n",
    "\n",
    "        # проверяем на ошибки\n",
    "        temp_error_df = check_error_ck(temp_df_int.copy(),name_file)\n",
    "        # Добавляем в итоговый датафрейм с ошибками\n",
    "        base_error_df = pd.concat([base_error_df,temp_error_df],axis=0,ignore_index=True)\n",
    "        # проверяем размер датафрейма с ошибками, если их нет то добавляем в результат.\n",
    "        if base_error_df.shape[0] == 0:\n",
    "            base_df = base_df + temp_df_int\n",
    "        else:\n",
    "            continue\n",
    "        \n",
    "        \n",
    "\n"
   ]
  },
  {
   "cell_type": "code",
   "execution_count": 531,
   "id": "887cf449",
   "metadata": {},
   "outputs": [],
   "source": [
    "# Добавляем колонки\n",
    "fourth = ['Всего (общая численность выпускников)','из общей численности выпускников (из строки 01): лица с ОВЗ',\n",
    "          'из числа лиц с ОВЗ (из строки 02): инвалиды и дети-инвалиды','Инвалиды и дети-инвалиды (кроме учтенных в строке 03)',\n",
    "          'Имеют договор о целевом обучении']\n",
    "three = ['01','02','03','04','05',]\n",
    "\n",
    "\n",
    "t = time.localtime()\n",
    "current_time = time.strftime('%H_%M_%S', t)\n",
    "base_df.to_excel(f'{path_to_end_folder}/Общий результат от {current_time}.xlsx',index=False)\n",
    "base_error_df.to_excel(f'{path_to_end_folder}/Ошибки от {current_time}.xlsx',index=False)"
   ]
  },
  {
   "cell_type": "code",
   "execution_count": null,
   "id": "9ae529c5",
   "metadata": {},
   "outputs": [],
   "source": []
  },
  {
   "cell_type": "code",
   "execution_count": 532,
   "id": "e9130a01",
   "metadata": {},
   "outputs": [
    {
     "data": {
      "text/plain": [
       "(5, 27)"
      ]
     },
     "execution_count": 532,
     "metadata": {},
     "output_type": "execute_result"
    }
   ],
   "source": [
    "base_df.shape"
   ]
  },
  {
   "cell_type": "code",
   "execution_count": null,
   "id": "7a0c7258",
   "metadata": {},
   "outputs": [],
   "source": []
  },
  {
   "cell_type": "code",
   "execution_count": null,
   "id": "ecea8f18",
   "metadata": {},
   "outputs": [],
   "source": []
  },
  {
   "cell_type": "code",
   "execution_count": null,
   "id": "b90ce192",
   "metadata": {},
   "outputs": [],
   "source": []
  },
  {
   "cell_type": "code",
   "execution_count": null,
   "id": "b540dd82",
   "metadata": {},
   "outputs": [],
   "source": []
  },
  {
   "cell_type": "code",
   "execution_count": null,
   "id": "73e01081",
   "metadata": {},
   "outputs": [],
   "source": []
  },
  {
   "cell_type": "code",
   "execution_count": null,
   "id": "7c635228",
   "metadata": {},
   "outputs": [],
   "source": []
  },
  {
   "cell_type": "code",
   "execution_count": null,
   "id": "bed6937a",
   "metadata": {},
   "outputs": [],
   "source": []
  },
  {
   "cell_type": "code",
   "execution_count": null,
   "id": "df47dc5c",
   "metadata": {},
   "outputs": [],
   "source": []
  },
  {
   "cell_type": "code",
   "execution_count": null,
   "id": "0896f5e1",
   "metadata": {},
   "outputs": [],
   "source": []
  },
  {
   "cell_type": "code",
   "execution_count": null,
   "id": "a3a5ac0b",
   "metadata": {},
   "outputs": [],
   "source": []
  },
  {
   "cell_type": "code",
   "execution_count": null,
   "id": "a6d5fb1e",
   "metadata": {},
   "outputs": [],
   "source": []
  },
  {
   "cell_type": "code",
   "execution_count": null,
   "id": "1643938c",
   "metadata": {},
   "outputs": [],
   "source": []
  },
  {
   "cell_type": "code",
   "execution_count": null,
   "id": "4320e835",
   "metadata": {},
   "outputs": [],
   "source": []
  }
 ],
 "metadata": {
  "kernelspec": {
   "display_name": "Python 3 (ipykernel)",
   "language": "python",
   "name": "python3"
  },
  "language_info": {
   "codemirror_mode": {
    "name": "ipython",
    "version": 3
   },
   "file_extension": ".py",
   "mimetype": "text/x-python",
   "name": "python",
   "nbconvert_exporter": "python",
   "pygments_lexer": "ipython3",
   "version": "3.9.13"
  }
 },
 "nbformat": 4,
 "nbformat_minor": 5
}
