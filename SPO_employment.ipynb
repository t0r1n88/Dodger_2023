{
 "cells": [
  {
   "cell_type": "code",
   "execution_count": null,
   "id": "b7c29adf",
   "metadata": {},
   "outputs": [],
   "source": [
    "\"\"\"\n",
    "скрипт для обработки данных мониторинга трудоустройства\n",
    "\"\"\"\n"
   ]
  },
  {
   "cell_type": "code",
   "execution_count": null,
   "id": "f3e38906",
   "metadata": {},
   "outputs": [],
   "source": [
    "import pandas as pd\n",
    "import numpy as np\n",
    "import openpyxl\n",
    "import warnings\n",
    "import copy\n",
    "import math\n",
    "import os\n",
    "\n",
    "warnings.simplefilter(action='ignore', category=UserWarning)"
   ]
  },
  {
   "cell_type": "code",
   "execution_count": null,
   "id": "eced16d5",
   "metadata": {},
   "outputs": [],
   "source": [
    "def check_data(cell):\n",
    "    \"\"\"\n",
    "    Метод для проверки значения ячейки\n",
    "    :param cell: значение ячейки\n",
    "    :return: число в формате int\n",
    "    \"\"\"\n",
    "    if cell is np.nan:\n",
    "        return 0\n",
    "    if cell.isdigit():\n",
    "        return int(cell)\n",
    "    else:\n",
    "        return 0\n"
   ]
  },
  {
   "cell_type": "code",
   "execution_count": null,
   "id": "7c5bd07e",
   "metadata": {},
   "outputs": [],
   "source": [
    "def check_data_note(cell):\n",
    "    if cell is np.nan:\n",
    "        return 'Не заполнено'\n",
    "    return str(cell)\n"
   ]
  },
  {
   "cell_type": "code",
   "execution_count": null,
   "id": "b31f6c0d",
   "metadata": {},
   "outputs": [],
   "source": []
  },
  {
   "cell_type": "code",
   "execution_count": null,
   "id": "3c5886fb",
   "metadata": {},
   "outputs": [],
   "source": []
  },
  {
   "cell_type": "code",
   "execution_count": null,
   "id": "551d67c4",
   "metadata": {},
   "outputs": [],
   "source": []
  },
  {
   "cell_type": "code",
   "execution_count": null,
   "id": "c1e86636",
   "metadata": {},
   "outputs": [],
   "source": []
  },
  {
   "cell_type": "code",
   "execution_count": null,
   "id": "76997c43",
   "metadata": {},
   "outputs": [],
   "source": []
  },
  {
   "cell_type": "code",
   "execution_count": null,
   "id": "3a9eada1",
   "metadata": {},
   "outputs": [],
   "source": []
  },
  {
   "cell_type": "code",
   "execution_count": null,
   "id": "77022785",
   "metadata": {},
   "outputs": [],
   "source": []
  },
  {
   "cell_type": "code",
   "execution_count": 1198,
   "id": "e34e1d02",
   "metadata": {},
   "outputs": [],
   "source": [
    "path_to_files ='data/poo'\n",
    "path_to_end_folder = 'data/temp'\n"
   ]
  },
  {
   "cell_type": "code",
   "execution_count": 1203,
   "id": "9f983a52",
   "metadata": {},
   "outputs": [],
   "source": [
    "# создаем словарь верхнего уровня для каждого поо\n",
    "high_level_dct = {}\n",
    "# создаем датафрейм для регистрации ошибок\n",
    "error_df = pd.DataFrame(columns=['Название файла','Номер строки с ошибкой','Описание ошибки',])"
   ]
  },
  {
   "cell_type": "code",
   "execution_count": 1204,
   "id": "cca03318",
   "metadata": {},
   "outputs": [
    {
     "name": "stdout",
     "output_type": "stream",
     "text": [
      "Брит - 2022\n",
      "Ошибка 3\n",
      "ТСИГХ мониторониг\n"
     ]
    }
   ],
   "source": [
    "for file in os.listdir(path_to_files):\n",
    "    name_file = file.split('.xlsx')[0]\n",
    "    print(name_file)\n",
    "    df = pd.read_excel(f'{path_to_files}/{file}',skiprows=7,dtype=str)\n",
    "    if df.shape[0] % 15 != 0:\n",
    "        \n",
    "        temp_error_df = pd.DataFrame(data=[[f'{name_file}','','КОЛИЧЕСТВО СТРОК С ДАННЫМИ НЕ КРАТНО 15 !!!']],\n",
    "                                    columns=['Название файла','Номер строки с ошибкой','Описание ошибки'])\n",
    "        error_df = pd.concat([error_df,temp_error_df],axis=0,ignore_index=True)\n",
    "        continue\n",
    "    df.columns = list(map(str,df.columns))\n",
    "    # Заполняем пока пропуски в 15 ячейке для каждой специальности\n",
    "    df['06'] = df['06'].fillna('15 ячейка')\n",
    "    \n",
    "    # Проводим проверку на корректность данных, отправляем копию датафрейма\n",
    "    check_error(df.copy(),error_df)\n",
    "    \n",
    "    # очищаем от нан и возможнных пустых пробелов\n",
    "    code_spec =[spec for spec in df['03'].unique() if spec is not np.nan]\n",
    "    code_spec =[spec for spec in code_spec if spec != ' ']\n",
    "    \n",
    "    \n",
    "    # Создаем список для строк\n",
    "    row_cat = [f'Строка {i}' for i in range(1,16)]\n",
    "    # Создаем список для колонок\n",
    "    column_cat = [f'Колонка {i}' for i in range(7,34)]\n",
    "\n",
    "    # Создаем словарь нижнего уровня содержащий в себе все данные для каждой специальности\n",
    "    spec_dict = {}\n",
    "    for row in row_cat:\n",
    "        spec_dict[row] = {key:0 for key in column_cat}\n",
    "    \n",
    "    \n",
    "    # Изменяем последний ключ на строковый поскольку там будут хранится примечания\n",
    "    for row,value in spec_dict.items():\n",
    "        for col,data in value.items():\n",
    "            if col == 'Колонка 33':\n",
    "                spec_dict[row][col] = ''\n",
    "    # Создаем словарь среднего уровня содержащй данные по всем специальностям\n",
    "    poo_dct = {key:copy.deepcopy(spec_dict) for key in code_spec}\n",
    "\n",
    "    high_level_dct[name_file] = copy.deepcopy(poo_dct)\n",
    "\n",
    "    \"\"\"\n",
    "    В итоге получается такая структура\n",
    "    {БРИТ:{13.01.10:{Строка 1:{Колонка 1:0}}},ТСИГХ:{22.01.10:{Строка 1:{Колонка 1:0}}}}\n",
    "\n",
    "    \"\"\"\n",
    "\n",
    "    current_code = 'Ошибка проверьте правильность заполнения кодов специальностей' # чекбокс для проверки заполнения кода специальности\n",
    "\n",
    "    idx_row = 1 # счетчик обработанных строк\n",
    "\n",
    "    # Итерируемся по полученному датафрейму через itertuples\n",
    "    for row in df.itertuples():\n",
    "        # если счетчик колонок больше 15 то уменьшаем его до единицы\n",
    "        if idx_row >15:\n",
    "            idx_row = 1\n",
    "\n",
    "        #print(row)\n",
    "        # Проверяем на незаполненные ячейки и ячейки заполненные пробелами\n",
    "        if (row[3] is not np.nan) and (row[3] != ' '):\n",
    "            # если значение ячейки отличается от текущего кода специальности то обновляем значение текущего кода\n",
    "            if row[3] != current_code:\n",
    "                current_code = row[3]\n",
    "            \n",
    "        data_row = row[7:34] # получаем срез с нужными данными\n",
    "        \n",
    "        for idx_col,value in enumerate(data_row,start=1):\n",
    "            if idx_col + 6 == 33:\n",
    "                # сохраняем примечания в строке\n",
    "                high_level_dct[name_file][current_code][f'Строка {idx_row}'][f'Колонка {idx_col + 6}'] = f'{name_file} {check_data_note(value)};'\n",
    "\n",
    "            else:                \n",
    "                high_level_dct[name_file][current_code][f'Строка {idx_row}'][f'Колонка {idx_col + 6}'] += check_data(value)\n",
    "        \n",
    "        \n",
    "        idx_row += 1\n",
    "                \n",
    "            \n",
    "\n",
    "\n",
    "    \n",
    "    \n",
    "    \n",
    "    \n"
   ]
  },
  {
   "cell_type": "code",
   "execution_count": null,
   "id": "0ba79522",
   "metadata": {},
   "outputs": [],
   "source": []
  },
  {
   "cell_type": "code",
   "execution_count": null,
   "id": "cd85f1dc",
   "metadata": {},
   "outputs": [],
   "source": []
  },
  {
   "cell_type": "code",
   "execution_count": null,
   "id": "188e5f8b",
   "metadata": {},
   "outputs": [],
   "source": []
  },
  {
   "cell_type": "code",
   "execution_count": null,
   "id": "a61c6812",
   "metadata": {},
   "outputs": [],
   "source": []
  },
  {
   "cell_type": "code",
   "execution_count": null,
   "id": "3f8b9d71",
   "metadata": {},
   "outputs": [],
   "source": []
  },
  {
   "cell_type": "code",
   "execution_count": null,
   "id": "e023a58a",
   "metadata": {},
   "outputs": [],
   "source": [
    "high_level_dct['Брит - 2022']['43.01.06']['Строка 1']"
   ]
  },
  {
   "cell_type": "code",
   "execution_count": null,
   "id": "5860e56d",
   "metadata": {},
   "outputs": [],
   "source": [
    "high_level_dct['ТСИГХ мониторониг']['43.01.06']['Строка 1']"
   ]
  },
  {
   "cell_type": "code",
   "execution_count": null,
   "id": "c1110976",
   "metadata": {},
   "outputs": [],
   "source": [
    "high_level_dct['ошибка 2']['43.01.06']['Строка 1']"
   ]
  },
  {
   "cell_type": "code",
   "execution_count": null,
   "id": "94dc8373",
   "metadata": {},
   "outputs": [],
   "source": [
    "\n",
    "# получаем уникальные специальности\n",
    "all_spec_code = set()\n",
    "for poo,spec in high_level_dct.items():\n",
    "    for code_spec,data in spec.items():\n",
    "        all_spec_code.add(code_spec)\n",
    "\n"
   ]
  },
  {
   "cell_type": "code",
   "execution_count": null,
   "id": "f36bfb81",
   "metadata": {},
   "outputs": [],
   "source": [
    "itog_df = {key:copy.deepcopy(spec_dict) for key in all_spec_code}"
   ]
  },
  {
   "cell_type": "code",
   "execution_count": null,
   "id": "f182b942",
   "metadata": {},
   "outputs": [],
   "source": [
    "# Складываем результаты\n",
    "for poo,spec in high_level_dct.items():\n",
    "    for code_spec,data in spec.items():\n",
    "        for row,col_data in data.items():\n",
    "            for col,value in col_data.items():\n",
    "                if col == 'Колонка 33':\n",
    "                    itog_df[code_spec][row][col] += check_data_note(value)\n",
    "                else:\n",
    "                    itog_df[code_spec][row][col] += value"
   ]
  },
  {
   "cell_type": "code",
   "execution_count": null,
   "id": "7feb4243",
   "metadata": {},
   "outputs": [],
   "source": [
    "itog_df['43.01.06']['Строка 1']['Колонка 33']"
   ]
  },
  {
   "cell_type": "code",
   "execution_count": null,
   "id": "414ead69",
   "metadata": {},
   "outputs": [],
   "source": [
    "out_df =pd.DataFrame.from_dict(itog_df, orient='index')"
   ]
  },
  {
   "cell_type": "code",
   "execution_count": null,
   "id": "35d919a5",
   "metadata": {},
   "outputs": [],
   "source": [
    "stack_df = out_df.stack()\n",
    "    # название такое выбрал потому что было лень заменять значения из блокнота юпитера\n",
    "frame = stack_df.to_frame()"
   ]
  },
  {
   "cell_type": "code",
   "execution_count": null,
   "id": "31d65760",
   "metadata": {},
   "outputs": [],
   "source": [
    "frame"
   ]
  },
  {
   "cell_type": "code",
   "execution_count": null,
   "id": "11e0ebd0",
   "metadata": {},
   "outputs": [],
   "source": [
    "frame['Всего'] = frame[0].apply(lambda x:x.get('Колонка 7'))\n",
    "frame['Трудоустроены (по трудовому договору, договору ГПХ в соответствии с трудовым законодательством, законодательством  об обязательном пенсионном страховании)'] = frame[0].apply(lambda x:x.get('Колонка 8'))\n",
    "frame['В том числе (из трудоустроенных): в соответствии с освоенной профессией, специальностью (исходя из осуществляемой трудовой функции)'] = frame[0].apply(lambda x:x.get('Колонка 9'))\n",
    "frame['В том числе (из трудоустроенных): работают на протяжении не менее 4-х месяцев на последнем месте работы'] = frame[0].apply(lambda x:x.get('Колонка 10'))\n",
    "frame['Индивидуальные предприниматели'] = frame[0].apply(lambda x:x.get('Колонка 11'))\n",
    "frame['Самозанятые (перешедшие на специальный налоговый режим  - налог на профессио-нальный доход)'] = frame[0].apply(lambda x:x.get('Колонка 12'))\n",
    "frame['Продолжили обучение'] = frame[0].apply(lambda x:x.get('Колонка 13'))\n",
    "frame['Проходят службу в армии по призыву'] = frame[0].apply(lambda x:x.get('Колонка 14'))\n",
    "frame['Проходят службу в армии на контрактной основе, в органах внутренних дел, Государственной противопожарной службе, органах по контролю за оборотом наркотических средств и психотропных веществ, учреждениях и органах уголовно-исполнительной системы, войсках национальной гвардии Российской Федерации, органах принудительного исполнения Российской Федерации*'] = frame[0].apply(lambda x:x.get('Колонка 15'))\n",
    "frame['Находятся в отпуске по уходу за ребенком'] = frame[0].apply(lambda x:x.get('Колонка 16'))\n",
    "frame['Неформальная занятость (нелегальная)'] = frame[0].apply(lambda x:x.get('Колонка 17'))\n",
    "frame['Зарегистрированы в центрах занятости в качестве безработных (получают пособие по безработице) и не планируют трудоустраиваться'] = frame[0].apply(lambda x:x.get('Колонка 18'))\n",
    "frame['Не имеют мотивации к трудоустройству (кроме зарегистрированных в качестве безработных) и не планируют трудоустраиваться, в том числе по причинам получения иных социальных льгот '] = frame[0].apply(lambda x:x.get('Колонка 19'))\n",
    "frame['Иные причины нахождения под риском нетрудоустройства'] = frame[0].apply(lambda x:x.get('Колонка 20'))\n",
    "frame['Смерть, тяжелое состояние здоровья'] = frame[0].apply(lambda x:x.get('Колонка 21'))\n",
    "frame['Находятся под следствием, отбывают наказание'] = frame[0].apply(lambda x:x.get('Колонка 22'))\n",
    "frame['Переезд за пределы Российской Федерации (кроме переезда в иные регионы - по ним регион должен располагать сведениями)'] = frame[0].apply(lambda x:x.get('Колонка 23'))\n",
    "frame['Не могут трудоустраиваться в связи с уходом за больными родственниками, в связи с иными семейными обстоятельствами'] = frame[0].apply(lambda x:x.get('Колонка 24'))\n",
    "frame['Выпускники из числа иностранных граждан, которые не имеют СНИЛС'] = frame[0].apply(lambda x:x.get('Колонка 25'))\n",
    "frame['Иное (в первую очередь выпускники распределяются по всем остальным графам. Данная графа предназначена для очень редких случаев. Если в нее включено более 1 из 200 выпускников - укажите причины в гр. 33 '] = frame[0].apply(lambda x:x.get('Колонка 26'))\n",
    "frame['будут трудоустроены'] = frame[0].apply(lambda x:x.get('Колонка 27'))\n",
    "frame['будут осуществлять предпринимательскую деятельность'] = frame[0].apply(lambda x:x.get('Колонка 28'))\n",
    "frame['будут самозанятыми'] = frame[0].apply(lambda x:x.get('Колонка 29'))\n",
    "frame['будут призваны в армию'] = frame[0].apply(lambda x:x.get('Колонка 30'))\n",
    "frame['будут в армии на контрактной основе, в органах внутренних дел, Государственной противопожарной службе, органах по контролю за оборотом наркотических средств и психотропных веществ, учреждениях и органах уголовно-исполнительной системы, войсках национальной гвардии Российской Федерации, органах принудительного исполнения Российской Федерации*'] = frame[0].apply(lambda x:x.get('Колонка 31'))\n",
    "frame['будут продолжать обучение'] = frame[0].apply(lambda x:x.get('Колонка 32'))\n",
    "frame['Принимаемые меры по содействию занятости (тезисно - вид меры, охват выпускников мерой)'] = frame[0].apply(lambda x:x.get('Колонка 33'))"
   ]
  },
  {
   "cell_type": "code",
   "execution_count": null,
   "id": "39cbc0a7",
   "metadata": {},
   "outputs": [],
   "source": []
  },
  {
   "cell_type": "code",
   "execution_count": null,
   "id": "2f71f1e6",
   "metadata": {},
   "outputs": [],
   "source": []
  },
  {
   "cell_type": "code",
   "execution_count": null,
   "id": "46e5abcd",
   "metadata": {},
   "outputs": [],
   "source": [
    "finish_df = frame.drop([0],axis=1)"
   ]
  },
  {
   "cell_type": "code",
   "execution_count": null,
   "id": "8118a054",
   "metadata": {},
   "outputs": [],
   "source": [
    "finish_df=finish_df.reset_index()"
   ]
  },
  {
   "cell_type": "code",
   "execution_count": null,
   "id": "f1ab83b5",
   "metadata": {},
   "outputs": [],
   "source": [
    "finish_df.rename(columns={'level_0':'Код специальности','level_1':'Наименование показателей (категория выпускников)'},inplace=True)"
   ]
  },
  {
   "cell_type": "code",
   "execution_count": null,
   "id": "3086c2f5",
   "metadata": {},
   "outputs": [],
   "source": [
    "dct = {'Строка 1':'Всего (общая численность выпускников)','Строка 2':'из общей численности выпускников (из строки 01): лица с ОВЗ','Строка 3':'из числа лиц с ОВЗ (из строки 02): инвалиды и дети-инвалиды',\n",
    "           'Строка 4':'Инвалиды и дети-инвалиды (кроме учтенных в строке 03)','Строка 5':'Имеют договор о целевом обучении','Строка 6':'Автосумма строк 02 и 04 - Всего (общая численность выпускников из числа лиц с ОВЗ, инвалидов и детей-инвалидов) '\n",
    "           ,'Строка 7':'из общей численности выпускников из числа лиц с ОВЗ, инвалидов и детей-инвалидов (из строки 06): с нарушениями: зрения','Строка 8':'слуха','Строка 9':'опорно-двигательного аппарата',\n",
    "           'Строка 10':'тяжелыми нарушениями речи','Строка 11':'задержкой психического развития','Строка 12':'расстройствами аутистического спектра',\n",
    "           'Строка 13':'с инвалидностью вследствие  других причин','Строка 14':'из общей численности выпускников из числа лиц с ОВЗ, инвалидов и детей-инвалидов (из строки 06): имеют договор о целевом обучении',\n",
    "           'Строка 15':'Узнать название ячейки',\n",
    "          }\n",
    "finish_df['Наименование показателей (категория выпускников)'] = finish_df['Наименование показателей (категория выпускников)'].apply(lambda x:dct[x])"
   ]
  },
  {
   "cell_type": "code",
   "execution_count": null,
   "id": "ce491127",
   "metadata": {},
   "outputs": [],
   "source": [
    "finish_df.to_excel('finisj.xlsx',index=False)"
   ]
  },
  {
   "cell_type": "code",
   "execution_count": null,
   "id": "1be6a06c",
   "metadata": {},
   "outputs": [],
   "source": []
  },
  {
   "cell_type": "code",
   "execution_count": null,
   "id": "40eb4551",
   "metadata": {},
   "outputs": [],
   "source": []
  },
  {
   "cell_type": "code",
   "execution_count": null,
   "id": "ddfac17f",
   "metadata": {},
   "outputs": [],
   "source": []
  },
  {
   "cell_type": "code",
   "execution_count": null,
   "id": "36e9a301",
   "metadata": {},
   "outputs": [],
   "source": []
  },
  {
   "cell_type": "code",
   "execution_count": null,
   "id": "187dec80",
   "metadata": {},
   "outputs": [],
   "source": []
  }
 ],
 "metadata": {
  "kernelspec": {
   "display_name": "Python 3 (ipykernel)",
   "language": "python",
   "name": "python3"
  },
  "language_info": {
   "codemirror_mode": {
    "name": "ipython",
    "version": 3
   },
   "file_extension": ".py",
   "mimetype": "text/x-python",
   "name": "python",
   "nbconvert_exporter": "python",
   "pygments_lexer": "ipython3",
   "version": "3.9.13"
  }
 },
 "nbformat": 4,
 "nbformat_minor": 5
}
