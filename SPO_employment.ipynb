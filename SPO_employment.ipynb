{
 "cells": [
  {
   "cell_type": "code",
   "execution_count": 145,
   "id": "b7c29adf",
   "metadata": {},
   "outputs": [
    {
     "data": {
      "text/plain": [
       "'\\nскрипт для обработки данных мониторинга трудоустройства\\n'"
      ]
     },
     "execution_count": 145,
     "metadata": {},
     "output_type": "execute_result"
    }
   ],
   "source": [
    "\"\"\"\n",
    "скрипт для обработки данных мониторинга трудоустройства\n",
    "\"\"\"\n"
   ]
  },
  {
   "cell_type": "code",
   "execution_count": 146,
   "id": "f3e38906",
   "metadata": {},
   "outputs": [],
   "source": [
    "import pandas as pd\n",
    "import numpy as np\n",
    "import openpyxl\n",
    "import warnings\n",
    "import copy\n",
    "\n",
    "warnings.simplefilter(action='ignore', category=UserWarning)"
   ]
  },
  {
   "cell_type": "code",
   "execution_count": 147,
   "id": "e34e1d02",
   "metadata": {},
   "outputs": [],
   "source": [
    "path_to_file ='data/Брит - 2022.xlsx'\n",
    "path_to_end_folder = 'data/temp'\n",
    "name_file = 'БРИТ'"
   ]
  },
  {
   "cell_type": "code",
   "execution_count": 148,
   "id": "ab3e2f18",
   "metadata": {},
   "outputs": [],
   "source": [
    "df = pd.read_excel(path_to_file,skiprows=7,dtype=str)"
   ]
  },
  {
   "cell_type": "code",
   "execution_count": 149,
   "id": "1d81ca9c",
   "metadata": {},
   "outputs": [],
   "source": [
    "high_level_dct = {'БРИТ':{}}"
   ]
  },
  {
   "cell_type": "code",
   "execution_count": 150,
   "id": "c4022b67",
   "metadata": {},
   "outputs": [],
   "source": [
    "df.columns = list(map(str,df.columns))"
   ]
  },
  {
   "cell_type": "code",
   "execution_count": 151,
   "id": "cdcd55f7",
   "metadata": {},
   "outputs": [
    {
     "data": {
      "text/html": [
       "<div>\n",
       "<style scoped>\n",
       "    .dataframe tbody tr th:only-of-type {\n",
       "        vertical-align: middle;\n",
       "    }\n",
       "\n",
       "    .dataframe tbody tr th {\n",
       "        vertical-align: top;\n",
       "    }\n",
       "\n",
       "    .dataframe thead th {\n",
       "        text-align: right;\n",
       "    }\n",
       "</style>\n",
       "<table border=\"1\" class=\"dataframe\">\n",
       "  <thead>\n",
       "    <tr style=\"text-align: right;\">\n",
       "      <th></th>\n",
       "      <th>01</th>\n",
       "      <th>02</th>\n",
       "      <th>03</th>\n",
       "      <th>04</th>\n",
       "      <th>05</th>\n",
       "      <th>06</th>\n",
       "      <th>07</th>\n",
       "      <th>08</th>\n",
       "      <th>09</th>\n",
       "      <th>10</th>\n",
       "      <th>...</th>\n",
       "      <th>25</th>\n",
       "      <th>26</th>\n",
       "      <th>27</th>\n",
       "      <th>28</th>\n",
       "      <th>29</th>\n",
       "      <th>30</th>\n",
       "      <th>31</th>\n",
       "      <th>32</th>\n",
       "      <th>33</th>\n",
       "      <th>34</th>\n",
       "    </tr>\n",
       "  </thead>\n",
       "  <tbody>\n",
       "    <tr>\n",
       "      <th>0</th>\n",
       "      <td>ДФО</td>\n",
       "      <td>Республика Бурятия</td>\n",
       "      <td>43.01.06</td>\n",
       "      <td>Проводник на железнодорожном транспорте</td>\n",
       "      <td>01</td>\n",
       "      <td>Всего (общая численность выпускников)</td>\n",
       "      <td>21</td>\n",
       "      <td>8</td>\n",
       "      <td>7</td>\n",
       "      <td>NaN</td>\n",
       "      <td>...</td>\n",
       "      <td>NaN</td>\n",
       "      <td>NaN</td>\n",
       "      <td>NaN</td>\n",
       "      <td>NaN</td>\n",
       "      <td>NaN</td>\n",
       "      <td>NaN</td>\n",
       "      <td>NaN</td>\n",
       "      <td>NaN</td>\n",
       "      <td>NaN</td>\n",
       "      <td>проверка пройдена</td>\n",
       "    </tr>\n",
       "    <tr>\n",
       "      <th>1</th>\n",
       "      <td>ДФО</td>\n",
       "      <td>Республика Бурятия</td>\n",
       "      <td>NaN</td>\n",
       "      <td>NaN</td>\n",
       "      <td>02</td>\n",
       "      <td>из общей численности выпускников (из строки 01...</td>\n",
       "      <td>NaN</td>\n",
       "      <td>NaN</td>\n",
       "      <td>NaN</td>\n",
       "      <td>NaN</td>\n",
       "      <td>...</td>\n",
       "      <td>NaN</td>\n",
       "      <td>NaN</td>\n",
       "      <td>NaN</td>\n",
       "      <td>NaN</td>\n",
       "      <td>NaN</td>\n",
       "      <td>NaN</td>\n",
       "      <td>NaN</td>\n",
       "      <td>NaN</td>\n",
       "      <td>NaN</td>\n",
       "      <td>проверка пройдена</td>\n",
       "    </tr>\n",
       "    <tr>\n",
       "      <th>2</th>\n",
       "      <td>ДФО</td>\n",
       "      <td>Республика Бурятия</td>\n",
       "      <td>NaN</td>\n",
       "      <td>NaN</td>\n",
       "      <td>03</td>\n",
       "      <td>из числа лиц с ОВЗ (из строки 02): инвалиды и ...</td>\n",
       "      <td>NaN</td>\n",
       "      <td>NaN</td>\n",
       "      <td>NaN</td>\n",
       "      <td>NaN</td>\n",
       "      <td>...</td>\n",
       "      <td>NaN</td>\n",
       "      <td>NaN</td>\n",
       "      <td>NaN</td>\n",
       "      <td>NaN</td>\n",
       "      <td>NaN</td>\n",
       "      <td>NaN</td>\n",
       "      <td>NaN</td>\n",
       "      <td>NaN</td>\n",
       "      <td>NaN</td>\n",
       "      <td>проверка пройдена</td>\n",
       "    </tr>\n",
       "    <tr>\n",
       "      <th>3</th>\n",
       "      <td>ДФО</td>\n",
       "      <td>Республика Бурятия</td>\n",
       "      <td>NaN</td>\n",
       "      <td>NaN</td>\n",
       "      <td>04</td>\n",
       "      <td>Инвалиды и дети-инвалиды (кроме учтенных в стр...</td>\n",
       "      <td>NaN</td>\n",
       "      <td>NaN</td>\n",
       "      <td>NaN</td>\n",
       "      <td>NaN</td>\n",
       "      <td>...</td>\n",
       "      <td>NaN</td>\n",
       "      <td>NaN</td>\n",
       "      <td>NaN</td>\n",
       "      <td>NaN</td>\n",
       "      <td>NaN</td>\n",
       "      <td>NaN</td>\n",
       "      <td>NaN</td>\n",
       "      <td>NaN</td>\n",
       "      <td>NaN</td>\n",
       "      <td>проверка пройдена</td>\n",
       "    </tr>\n",
       "    <tr>\n",
       "      <th>4</th>\n",
       "      <td>ДФО</td>\n",
       "      <td>Республика Бурятия</td>\n",
       "      <td>NaN</td>\n",
       "      <td>NaN</td>\n",
       "      <td>05</td>\n",
       "      <td>Имеют договор о целевом обучении</td>\n",
       "      <td>NaN</td>\n",
       "      <td>NaN</td>\n",
       "      <td>NaN</td>\n",
       "      <td>NaN</td>\n",
       "      <td>...</td>\n",
       "      <td>NaN</td>\n",
       "      <td>NaN</td>\n",
       "      <td>NaN</td>\n",
       "      <td>NaN</td>\n",
       "      <td>NaN</td>\n",
       "      <td>NaN</td>\n",
       "      <td>NaN</td>\n",
       "      <td>NaN</td>\n",
       "      <td>NaN</td>\n",
       "      <td>проверка пройдена</td>\n",
       "    </tr>\n",
       "  </tbody>\n",
       "</table>\n",
       "<p>5 rows × 34 columns</p>\n",
       "</div>"
      ],
      "text/plain": [
       "    01                  02        03                                       04  \\\n",
       "0  ДФО  Республика Бурятия  43.01.06  Проводник на железнодорожном транспорте   \n",
       "1  ДФО  Республика Бурятия       NaN                                      NaN   \n",
       "2  ДФО  Республика Бурятия       NaN                                      NaN   \n",
       "3  ДФО  Республика Бурятия       NaN                                      NaN   \n",
       "4  ДФО  Республика Бурятия       NaN                                      NaN   \n",
       "\n",
       "   05                                                 06   07   08   09   10  \\\n",
       "0  01              Всего (общая численность выпускников)   21    8    7  NaN   \n",
       "1  02  из общей численности выпускников (из строки 01...  NaN  NaN  NaN  NaN   \n",
       "2  03  из числа лиц с ОВЗ (из строки 02): инвалиды и ...  NaN  NaN  NaN  NaN   \n",
       "3  04  Инвалиды и дети-инвалиды (кроме учтенных в стр...  NaN  NaN  NaN  NaN   \n",
       "4  05                   Имеют договор о целевом обучении  NaN  NaN  NaN  NaN   \n",
       "\n",
       "   ...   25   26   27   28   29   30   31   32   33                 34  \n",
       "0  ...  NaN  NaN  NaN  NaN  NaN  NaN  NaN  NaN  NaN  проверка пройдена  \n",
       "1  ...  NaN  NaN  NaN  NaN  NaN  NaN  NaN  NaN  NaN  проверка пройдена  \n",
       "2  ...  NaN  NaN  NaN  NaN  NaN  NaN  NaN  NaN  NaN  проверка пройдена  \n",
       "3  ...  NaN  NaN  NaN  NaN  NaN  NaN  NaN  NaN  NaN  проверка пройдена  \n",
       "4  ...  NaN  NaN  NaN  NaN  NaN  NaN  NaN  NaN  NaN  проверка пройдена  \n",
       "\n",
       "[5 rows x 34 columns]"
      ]
     },
     "execution_count": 151,
     "metadata": {},
     "output_type": "execute_result"
    }
   ],
   "source": [
    "df.head()"
   ]
  },
  {
   "cell_type": "code",
   "execution_count": 152,
   "id": "2d565a37",
   "metadata": {},
   "outputs": [],
   "source": [
    "# Заполняем пока пропуски в 15 ячейке для каждой специальности\n",
    "df['06'] = df['06'].fillna('15 ячейка')"
   ]
  },
  {
   "cell_type": "code",
   "execution_count": 153,
   "id": "c0bb8c53",
   "metadata": {},
   "outputs": [
    {
     "data": {
      "text/plain": [
       "array(['43.01.06', nan, '43.02.06', '23.01.09', ' ', '23.02.06',\n",
       "       '23.01.03', '15.01.05', '15.01.35', '15.01.33', '15.01.26',\n",
       "       '23.01.10', '38.02.02', '08.02.09', '23.02.03', '08.02.08',\n",
       "       '43.01.09', '08.01.18', '13.01.10'], dtype=object)"
      ]
     },
     "execution_count": 153,
     "metadata": {},
     "output_type": "execute_result"
    }
   ],
   "source": [
    "df['03'].unique()"
   ]
  },
  {
   "cell_type": "code",
   "execution_count": 154,
   "id": "520fbbbe",
   "metadata": {},
   "outputs": [],
   "source": [
    "# очищаем от нан и возможнных пустых пробелов\n",
    "code_spec =[spec for spec in df['03'].unique() if spec is not np.nan]\n",
    "code_spec =[spec for spec in code_spec if spec != ' ']"
   ]
  },
  {
   "cell_type": "code",
   "execution_count": 155,
   "id": "3d2f0b99",
   "metadata": {},
   "outputs": [
    {
     "data": {
      "text/plain": [
       "['43.01.06',\n",
       " '43.02.06',\n",
       " '23.01.09',\n",
       " '23.02.06',\n",
       " '23.01.03',\n",
       " '15.01.05',\n",
       " '15.01.35',\n",
       " '15.01.33',\n",
       " '15.01.26',\n",
       " '23.01.10',\n",
       " '38.02.02',\n",
       " '08.02.09',\n",
       " '23.02.03',\n",
       " '08.02.08',\n",
       " '43.01.09',\n",
       " '08.01.18',\n",
       " '13.01.10']"
      ]
     },
     "execution_count": 155,
     "metadata": {},
     "output_type": "execute_result"
    }
   ],
   "source": [
    "code_spec"
   ]
  },
  {
   "cell_type": "code",
   "execution_count": 156,
   "id": "920744dc",
   "metadata": {},
   "outputs": [],
   "source": [
    "# Создаем список для строк\n",
    "row_cat = [f'Строка {i}' for i in range(1,16)]\n",
    "# Создаем список для колонок\n",
    "column_cat = [f'Колонка {i}' for i in range(7,34)]"
   ]
  },
  {
   "cell_type": "code",
   "execution_count": 157,
   "id": "5dc559dc",
   "metadata": {},
   "outputs": [],
   "source": [
    "#iddle_dct = dict.fromkeys(row_cat,{key:0 for key in column_cat}.copy())"
   ]
  },
  {
   "cell_type": "code",
   "execution_count": 158,
   "id": "4959ebc0",
   "metadata": {},
   "outputs": [],
   "source": [
    "# Создаем словарь нижнего уровня содержащий в себе все данные для каждой специальности\n",
    "spec_dict = {}\n",
    "for row in row_cat:\n",
    "    spec_dict[row] = {key:0 for key in column_cat}"
   ]
  },
  {
   "cell_type": "code",
   "execution_count": 159,
   "id": "73d40413",
   "metadata": {},
   "outputs": [
    {
     "data": {
      "text/plain": [
       "2243549057344"
      ]
     },
     "execution_count": 159,
     "metadata": {},
     "output_type": "execute_result"
    }
   ],
   "source": [
    "id(spec_dict['Строка 1'])"
   ]
  },
  {
   "cell_type": "code",
   "execution_count": 160,
   "id": "01491944",
   "metadata": {},
   "outputs": [
    {
     "data": {
      "text/plain": [
       "2243549796928"
      ]
     },
     "execution_count": 160,
     "metadata": {},
     "output_type": "execute_result"
    }
   ],
   "source": [
    "id(spec_dict['Строка 2'])"
   ]
  },
  {
   "cell_type": "code",
   "execution_count": null,
   "id": "d0d0ecb8",
   "metadata": {},
   "outputs": [],
   "source": []
  },
  {
   "cell_type": "code",
   "execution_count": 171,
   "id": "182ef9f0",
   "metadata": {},
   "outputs": [],
   "source": [
    "# Создаем словарь среднего уровня содержащй данные по всем специальностям\n",
    "poo_dct = {key:copy.deepcopy(spec_dict) for key in code_spec}"
   ]
  },
  {
   "cell_type": "code",
   "execution_count": 172,
   "id": "9e45e682",
   "metadata": {},
   "outputs": [
    {
     "data": {
      "text/plain": [
       "2243553361728"
      ]
     },
     "execution_count": 172,
     "metadata": {},
     "output_type": "execute_result"
    }
   ],
   "source": [
    "id(poo_dct['15.01.33']['Строка 1'])"
   ]
  },
  {
   "cell_type": "code",
   "execution_count": 173,
   "id": "f7369581",
   "metadata": {},
   "outputs": [
    {
     "data": {
      "text/plain": [
       "2243500899904"
      ]
     },
     "execution_count": 173,
     "metadata": {},
     "output_type": "execute_result"
    }
   ],
   "source": [
    "id(poo_dct['13.01.10']['Строка 1'])"
   ]
  },
  {
   "cell_type": "code",
   "execution_count": null,
   "id": "6177abd3",
   "metadata": {},
   "outputs": [],
   "source": []
  },
  {
   "cell_type": "code",
   "execution_count": null,
   "id": "740ada3e",
   "metadata": {},
   "outputs": [],
   "source": []
  },
  {
   "cell_type": "code",
   "execution_count": null,
   "id": "65987a42",
   "metadata": {},
   "outputs": [],
   "source": []
  },
  {
   "cell_type": "code",
   "execution_count": null,
   "id": "187dec80",
   "metadata": {},
   "outputs": [],
   "source": []
  }
 ],
 "metadata": {
  "kernelspec": {
   "display_name": "Python 3 (ipykernel)",
   "language": "python",
   "name": "python3"
  },
  "language_info": {
   "codemirror_mode": {
    "name": "ipython",
    "version": 3
   },
   "file_extension": ".py",
   "mimetype": "text/x-python",
   "name": "python",
   "nbconvert_exporter": "python",
   "pygments_lexer": "ipython3",
   "version": "3.9.13"
  }
 },
 "nbformat": 4,
 "nbformat_minor": 5
}
