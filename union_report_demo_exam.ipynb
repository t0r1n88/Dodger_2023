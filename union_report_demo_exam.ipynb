{
 "cells": [
  {
   "cell_type": "code",
   "execution_count": 310,
   "id": "9ea5ebac",
   "metadata": {},
   "outputs": [
    {
     "data": {
      "text/plain": [
       "'\\nскрипт для собирания отчетов по демоэкзамену\\n'"
      ]
     },
     "execution_count": 310,
     "metadata": {},
     "output_type": "execute_result"
    }
   ],
   "source": [
    "\"\"\"\n",
    "скрипт для собирания отчетов по демоэкзамену\n",
    "\"\"\""
   ]
  },
  {
   "cell_type": "code",
   "execution_count": 311,
   "id": "97567a1d",
   "metadata": {},
   "outputs": [],
   "source": [
    "# -*- coding: UTF-8 -*-\n",
    "import pandas as pd\n",
    "import numpy as np\n",
    "import tkinter\n",
    "import sys\n",
    "import os\n",
    "import time\n",
    "# pd.options.mode.chained_assignment = None  # default='warn'\n",
    "import warnings\n",
    "\n",
    "warnings.filterwarnings('ignore', category=UserWarning, module='openpyxl')\n",
    "warnings.filterwarnings('ignore', category=DeprecationWarning)\n",
    "warnings.filterwarnings('ignore', category=FutureWarning)\n",
    "pd.options.mode.chained_assignment = None\n",
    "import copy\n",
    "import openpyxl\n",
    "from openpyxl.utils.dataframe import dataframe_to_rows\n",
    "import re\n",
    "import random\n",
    "pd.options.display.width = 0"
   ]
  },
  {
   "cell_type": "code",
   "execution_count": 312,
   "id": "5383fa8f",
   "metadata": {},
   "outputs": [],
   "source": [
    "path_to_data = 'data/demo' \n",
    "error_df = pd.DataFrame(columns=['Название файла', 'Строка или колонка с ошибкой', 'Описание ошибки', ]) # датафрейм с ошибками\n",
    "path_to_end_folder = 'data'"
   ]
  },
  {
   "cell_type": "code",
   "execution_count": null,
   "id": "ae85d5e6",
   "metadata": {},
   "outputs": [],
   "source": []
  },
  {
   "cell_type": "code",
   "execution_count": 313,
   "id": "91d4e81a",
   "metadata": {},
   "outputs": [],
   "source": [
    "# Создаем датафреймы в которые будем собирать данные\n",
    "df_1 = pd.DataFrame(columns=range(8))\n",
    "\n",
    "df_2 = pd.DataFrame(columns=range(17))\n",
    "\n",
    "df_3 = pd.DataFrame(columns=range(16))\n",
    "\n",
    "df_4 = pd.DataFrame(columns=range(22))\n",
    "\n",
    "df_5 = pd.DataFrame(columns=range(30))\n",
    "\n",
    "df_6 = pd.DataFrame(columns=range(12))\n",
    "\n",
    "df_7 = pd.DataFrame(columns=range(5))\n",
    "\n",
    "df_8 = pd.DataFrame(columns=range(9))\n",
    "\n",
    "df_9 = pd.DataFrame(columns=range(17))"
   ]
  },
  {
   "cell_type": "code",
   "execution_count": 314,
   "id": "228eae19",
   "metadata": {},
   "outputs": [],
   "source": [
    "empty_list = 'Лист не заполнен' # заглушка для пустых листов "
   ]
  },
  {
   "cell_type": "code",
   "execution_count": 315,
   "id": "fee5b721",
   "metadata": {},
   "outputs": [
    {
     "name": "stdout",
     "output_type": "stream",
     "text": [
      "03_Республика Бурятия_формы ДЭ\n",
      "Отчет ДЭ финансовый колледж\n"
     ]
    }
   ],
   "source": [
    "for file in os.listdir(path_to_data):\n",
    "    if not file.startswith('~$') and file.endswith('.xls'):\n",
    "        name_file = file.split('.xls')[0]\n",
    "        temp_error_df = pd.DataFrame(data=[[f'{name_file}', '',\n",
    "                                            'Файл с расширением XLS (СТАРЫЙ ФОРМАТ EXCEL)!!! ДАННЫЕ ФАЙЛА НЕ ОБРАБОТАНЫ !!! ']],\n",
    "                                     columns=['Название файла', 'Строка или колонка с ошибкой',\n",
    "                                              'Описание ошибки'])\n",
    "        error_df = pd.concat([error_df, temp_error_df], axis=0, ignore_index=True)\n",
    "        continue\n",
    "\n",
    "    if not file.startswith('~$') and file.endswith('.xlsx'):\n",
    "        name_file = file.split('.xlsx')[0]\n",
    "        print(name_file)\n",
    "        \n",
    "        # Лист 1\n",
    "        temp_df_1 = pd.read_excel(f'{path_to_data}/{file}',sheet_name='Форма1',skiprows=3,usecols='A:G',header=None)\n",
    "        temp_df_1.dropna(inplace=True,thresh=2) # удаляем пустые строки\n",
    "        if temp_df_1.shape[0] == 0: # если лист пуст то добавляем строку чтобы можно было потом понять что лист не заполнен\n",
    "            temp_df_1[len(temp_df_1)] = [empty_list]  \n",
    "        temp_df_1[7] = name_file\n",
    "        \n",
    "        df_1 = pd.concat([df_1,temp_df_1],ignore_index=True)\n",
    "                \n",
    "        # Лист 2\n",
    "        \n",
    "        temp_df_2 = pd.read_excel(f'{path_to_data}/{file}',sheet_name='Форма2',skiprows=3,usecols='A:P',header=None)\n",
    "        temp_df_2.dropna(inplace=True,thresh=2) # удаляем пустые строки\n",
    "        if temp_df_2.shape[0] == 0: # если лист пуст то добавляем строку чтобы можно было потом понять что лист не заполнен\n",
    "            temp_df_2[len(temp_df_2)] = [empty_list]  \n",
    "\n",
    "        temp_df_2[16] = name_file\n",
    "        \n",
    "        df_2 = pd.concat([df_2,temp_df_2],ignore_index=True)\n",
    "        \n",
    "        # Лист 3\n",
    "        temp_df_3 = pd.read_excel(f'{path_to_data}/{file}',sheet_name='Форма3',skiprows=3,usecols='A:O',header=None)\n",
    "        temp_df_3.dropna(inplace=True,thresh=2) # удаляем пустые строки\n",
    "        if temp_df_3.shape[0] == 0: # если лист пуст то добавляем строку чтобы можно было потом понять что лист не заполнен\n",
    "            temp_df_3[len(temp_df_3)] = [empty_list]  \n",
    "        temp_df_3[15] = name_file\n",
    "        \n",
    "        df_3 = pd.concat([df_3,temp_df_3],ignore_index=True)\n",
    "        \n",
    "                # Лист 4\n",
    "        temp_df_4 = pd.read_excel(f'{path_to_data}/{file}',sheet_name='Форма4',skiprows=3,usecols='A:U',header=None)\n",
    "        temp_df_4.dropna(inplace=True,thresh=2) # удаляем пустые строки\n",
    "        if temp_df_4.shape[0] == 0: # если лист пуст то добавляем строку чтобы можно было потом понять что лист не заполнен\n",
    "            temp_df_4[len(temp_df_4)] = [empty_list]  \n",
    "        temp_df_4[22] = name_file\n",
    "        \n",
    "        df_4 = pd.concat([df_4,temp_df_4],ignore_index=True)\n",
    "        \n",
    "        \n",
    "                \n",
    "                # Лист 5\n",
    "        temp_df_5 = pd.read_excel(f'{path_to_data}/{file}',sheet_name='Форма5',skiprows=3,usecols='A:AC',header=None)\n",
    "        temp_df_5.dropna(inplace=True,thresh=2) # удаляем пустые строки\n",
    "        if temp_df_5.shape[0] == 0: # если лист пуст то добавляем строку чтобы можно было потом понять что лист не заполнен\n",
    "            temp_df_5[len(temp_df_5)] = [empty_list]  \n",
    "        temp_df_5[29] = name_file\n",
    "        \n",
    "        df_5 = pd.concat([df_5,temp_df_5],ignore_index=True)\n",
    "        \n",
    "         # Лист 6\n",
    "        temp_df_6 = pd.read_excel(f'{path_to_data}/{file}',sheet_name='Форма6',skiprows=3,usecols='A:K',header=None)\n",
    "        temp_df_6.dropna(inplace=True,thresh=2) # удаляем пустые строки\n",
    "        if temp_df_6.shape[0] == 0: # если лист пуст то добавляем строку чтобы можно было потом понять что лист не заполнен\n",
    "            temp_df_6[len(temp_df_6)] = [empty_list]  \n",
    "        temp_df_6[11] = name_file\n",
    "        \n",
    "        df_6 = pd.concat([df_6,temp_df_6],ignore_index=True)\n",
    "        \n",
    "         # Лист 7\n",
    "        temp_df_7 = pd.read_excel(f'{path_to_data}/{file}',sheet_name='Форма7',skiprows=3,usecols='A:D',header=None)\n",
    "        temp_df_7.dropna(inplace=True,thresh=2) # удаляем пустые строки\n",
    "        if temp_df_7.shape[0] == 0: # если лист пуст то добавляем строку чтобы можно было потом понять что лист не заполнен\n",
    "            temp_df_7[len(temp_df_7)] = [empty_list]            \n",
    "        \n",
    "        temp_df_7[5] = name_file\n",
    "        \n",
    "        df_7 = pd.concat([df_7,temp_df_7],ignore_index=True)\n",
    "        \n",
    "        # Лист 8\n",
    "        temp_df_8 = pd.read_excel(f'{path_to_data}/{file}',sheet_name='Форма8',skiprows=3,usecols='A:H',header=None)\n",
    "        temp_df_8.dropna(inplace=True,thresh=2) # удаляем пустые строки\n",
    "        if temp_df_8.shape[0] == 0: # если лист пуст то добавляем строку чтобы можно было потом понять что лист не заполнен\n",
    "            temp_df_8[len(temp_df_8)] = [empty_list]            \n",
    "        \n",
    "        temp_df_8[9] = name_file\n",
    "        \n",
    "        df_8 = pd.concat([df_8,temp_df_8],ignore_index=True)\n",
    "        \n",
    "        # Лист 9\n",
    "        temp_df_9 = pd.read_excel(f'{path_to_data}/{file}',sheet_name='Форма9',skiprows=4,usecols='A:P',header=None)\n",
    "        temp_df_9.dropna(inplace=True,thresh=2) # удаляем пустые строки\n",
    "        if temp_df_9.shape[0] == 0: # если лист пуст то добавляем строку чтобы можно было потом понять что лист не заполнен\n",
    "            temp_df_9[len(temp_df_9)] = [empty_list]            \n",
    "        \n",
    "        temp_df_9[17] = name_file\n",
    "        \n",
    "        df_9 = pd.concat([df_9,temp_df_9],ignore_index=True)\n",
    "        \n",
    "        \n",
    "        "
   ]
  },
  {
   "cell_type": "code",
   "execution_count": 316,
   "id": "d0987ebe",
   "metadata": {},
   "outputs": [
    {
     "data": {
      "text/html": [
       "<div>\n",
       "<style scoped>\n",
       "    .dataframe tbody tr th:only-of-type {\n",
       "        vertical-align: middle;\n",
       "    }\n",
       "\n",
       "    .dataframe tbody tr th {\n",
       "        vertical-align: top;\n",
       "    }\n",
       "\n",
       "    .dataframe thead th {\n",
       "        text-align: right;\n",
       "    }\n",
       "</style>\n",
       "<table border=\"1\" class=\"dataframe\">\n",
       "  <thead>\n",
       "    <tr style=\"text-align: right;\">\n",
       "      <th></th>\n",
       "      <th>0</th>\n",
       "      <th>1</th>\n",
       "      <th>2</th>\n",
       "      <th>3</th>\n",
       "      <th>4</th>\n",
       "      <th>5</th>\n",
       "      <th>6</th>\n",
       "      <th>7</th>\n",
       "    </tr>\n",
       "  </thead>\n",
       "  <tbody>\n",
       "    <tr>\n",
       "      <th>0</th>\n",
       "      <td>Лист не заполнен</td>\n",
       "      <td>NaN</td>\n",
       "      <td>NaN</td>\n",
       "      <td>NaN</td>\n",
       "      <td>NaN</td>\n",
       "      <td>NaN</td>\n",
       "      <td>NaN</td>\n",
       "      <td>Отчет ДЭ финансовый колледж</td>\n",
       "    </tr>\n",
       "  </tbody>\n",
       "</table>\n",
       "</div>"
      ],
      "text/plain": [
       "                  0   1    2   3   4   5   6                            7\n",
       "0  Лист не заполнен NaN  NaN NaN NaN NaN NaN  Отчет ДЭ финансовый колледж"
      ]
     },
     "execution_count": 316,
     "metadata": {},
     "output_type": "execute_result"
    }
   ],
   "source": [
    "temp_df_1"
   ]
  },
  {
   "cell_type": "code",
   "execution_count": 317,
   "id": "2b4697b5",
   "metadata": {},
   "outputs": [
    {
     "data": {
      "text/html": [
       "<div>\n",
       "<style scoped>\n",
       "    .dataframe tbody tr th:only-of-type {\n",
       "        vertical-align: middle;\n",
       "    }\n",
       "\n",
       "    .dataframe tbody tr th {\n",
       "        vertical-align: top;\n",
       "    }\n",
       "\n",
       "    .dataframe thead th {\n",
       "        text-align: right;\n",
       "    }\n",
       "</style>\n",
       "<table border=\"1\" class=\"dataframe\">\n",
       "  <thead>\n",
       "    <tr style=\"text-align: right;\">\n",
       "      <th></th>\n",
       "      <th>0</th>\n",
       "      <th>1</th>\n",
       "      <th>2</th>\n",
       "      <th>3</th>\n",
       "      <th>4</th>\n",
       "      <th>5</th>\n",
       "      <th>6</th>\n",
       "      <th>7</th>\n",
       "    </tr>\n",
       "  </thead>\n",
       "  <tbody>\n",
       "    <tr>\n",
       "      <th>0</th>\n",
       "      <td>Лист не заполнен</td>\n",
       "      <td>NaN</td>\n",
       "      <td>NaN</td>\n",
       "      <td>NaN</td>\n",
       "      <td>NaN</td>\n",
       "      <td>NaN</td>\n",
       "      <td>NaN</td>\n",
       "      <td>03_Республика Бурятия_формы ДЭ</td>\n",
       "    </tr>\n",
       "    <tr>\n",
       "      <th>1</th>\n",
       "      <td>Лист не заполнен</td>\n",
       "      <td>NaN</td>\n",
       "      <td>NaN</td>\n",
       "      <td>NaN</td>\n",
       "      <td>NaN</td>\n",
       "      <td>NaN</td>\n",
       "      <td>NaN</td>\n",
       "      <td>Отчет ДЭ финансовый колледж</td>\n",
       "    </tr>\n",
       "  </tbody>\n",
       "</table>\n",
       "</div>"
      ],
      "text/plain": [
       "                  0    1    2    3    4    5    6  \\\n",
       "0  Лист не заполнен  NaN  NaN  NaN  NaN  NaN  NaN   \n",
       "1  Лист не заполнен  NaN  NaN  NaN  NaN  NaN  NaN   \n",
       "\n",
       "                                7  \n",
       "0  03_Республика Бурятия_формы ДЭ  \n",
       "1     Отчет ДЭ финансовый колледж  "
      ]
     },
     "execution_count": 317,
     "metadata": {},
     "output_type": "execute_result"
    }
   ],
   "source": [
    "df_1"
   ]
  },
  {
   "cell_type": "code",
   "execution_count": 318,
   "id": "f29eb8da",
   "metadata": {},
   "outputs": [],
   "source": [
    "t = time.localtime()\n",
    "current_time = time.strftime('%H_%M_%S', t)"
   ]
  },
  {
   "cell_type": "code",
   "execution_count": 319,
   "id": "340b7e3d",
   "metadata": {},
   "outputs": [],
   "source": [
    "with pd.ExcelWriter(f'{path_to_end_folder}/Общий свод от {current_time}.xlsx') as writer:\n",
    "    df_1.to_excel(writer,sheet_name='Форма1',index=False)\n",
    "    df_2.to_excel(writer,sheet_name='Форма2',index=False)\n",
    "    df_3.to_excel(writer,sheet_name='Форма3',index=False)\n",
    "    df_4.to_excel(writer,sheet_name='Форма4',index=False)\n",
    "    df_5.to_excel(writer,sheet_name='Форма5',index=False)\n",
    "    df_6.to_excel(writer,sheet_name='Форма6',index=False)\n",
    "    df_7.to_excel(writer,sheet_name='Форма7',index=False)\n",
    "    df_8.to_excel(writer,sheet_name='Форма8',index=False)\n",
    "    df_9.to_excel(writer,sheet_name='Форма9',index=False)\n",
    "\n",
    "    "
   ]
  },
  {
   "cell_type": "code",
   "execution_count": null,
   "id": "48731fd8",
   "metadata": {},
   "outputs": [],
   "source": []
  },
  {
   "cell_type": "code",
   "execution_count": null,
   "id": "547f10ae",
   "metadata": {},
   "outputs": [],
   "source": []
  },
  {
   "cell_type": "code",
   "execution_count": null,
   "id": "35ecf23d",
   "metadata": {},
   "outputs": [],
   "source": []
  },
  {
   "cell_type": "code",
   "execution_count": null,
   "id": "eddc4b41",
   "metadata": {},
   "outputs": [],
   "source": []
  },
  {
   "cell_type": "code",
   "execution_count": null,
   "id": "7bc3fb42",
   "metadata": {},
   "outputs": [],
   "source": []
  },
  {
   "cell_type": "code",
   "execution_count": null,
   "id": "07a8d172",
   "metadata": {},
   "outputs": [],
   "source": []
  },
  {
   "cell_type": "code",
   "execution_count": null,
   "id": "dcc38864",
   "metadata": {},
   "outputs": [],
   "source": []
  },
  {
   "cell_type": "code",
   "execution_count": 320,
   "id": "ef6069c1",
   "metadata": {},
   "outputs": [
    {
     "data": {
      "text/html": [
       "<div>\n",
       "<style scoped>\n",
       "    .dataframe tbody tr th:only-of-type {\n",
       "        vertical-align: middle;\n",
       "    }\n",
       "\n",
       "    .dataframe tbody tr th {\n",
       "        vertical-align: top;\n",
       "    }\n",
       "\n",
       "    .dataframe thead th {\n",
       "        text-align: right;\n",
       "    }\n",
       "</style>\n",
       "<table border=\"1\" class=\"dataframe\">\n",
       "  <thead>\n",
       "    <tr style=\"text-align: right;\">\n",
       "      <th></th>\n",
       "      <th>Название файла</th>\n",
       "      <th>Строка или колонка с ошибкой</th>\n",
       "      <th>Описание ошибки</th>\n",
       "    </tr>\n",
       "  </thead>\n",
       "  <tbody>\n",
       "    <tr>\n",
       "      <th>0</th>\n",
       "      <td>старый отчет</td>\n",
       "      <td></td>\n",
       "      <td>Файл с расширением XLS (СТАРЫЙ ФОРМАТ EXCEL)!!...</td>\n",
       "    </tr>\n",
       "  </tbody>\n",
       "</table>\n",
       "</div>"
      ],
      "text/plain": [
       "  Название файла Строка или колонка с ошибкой  \\\n",
       "0   старый отчет                                \n",
       "\n",
       "                                     Описание ошибки  \n",
       "0  Файл с расширением XLS (СТАРЫЙ ФОРМАТ EXCEL)!!...  "
      ]
     },
     "execution_count": 320,
     "metadata": {},
     "output_type": "execute_result"
    }
   ],
   "source": [
    "error_df\n"
   ]
  },
  {
   "cell_type": "code",
   "execution_count": 321,
   "id": "9ec29489",
   "metadata": {},
   "outputs": [],
   "source": [
    "error_df.to_excel(f'{path_to_end_folder}/Ошибки {current_time}.xlsx',index=False)"
   ]
  },
  {
   "cell_type": "code",
   "execution_count": null,
   "id": "05e46f55",
   "metadata": {},
   "outputs": [],
   "source": []
  },
  {
   "cell_type": "code",
   "execution_count": null,
   "id": "9ce4115c",
   "metadata": {},
   "outputs": [],
   "source": []
  }
 ],
 "metadata": {
  "kernelspec": {
   "display_name": "Python 3 (ipykernel)",
   "language": "python",
   "name": "python3"
  },
  "language_info": {
   "codemirror_mode": {
    "name": "ipython",
    "version": 3
   },
   "file_extension": ".py",
   "mimetype": "text/x-python",
   "name": "python",
   "nbconvert_exporter": "python",
   "pygments_lexer": "ipython3",
   "version": "3.9.13"
  }
 },
 "nbformat": 4,
 "nbformat_minor": 5
}
