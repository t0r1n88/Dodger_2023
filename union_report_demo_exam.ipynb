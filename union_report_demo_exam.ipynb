{
 "cells": [
  {
   "cell_type": "code",
   "execution_count": 76,
   "id": "38a930e4",
   "metadata": {},
   "outputs": [
    {
     "data": {
      "text/plain": [
       "'\\nскрипт для собирания отчетов по демоэкзамену\\n'"
      ]
     },
     "execution_count": 76,
     "metadata": {},
     "output_type": "execute_result"
    }
   ],
   "source": [
    "\"\"\"\n",
    "скрипт для собирания отчетов по демоэкзамену\n",
    "\"\"\""
   ]
  },
  {
   "cell_type": "code",
   "execution_count": 77,
   "id": "9863cfe9",
   "metadata": {},
   "outputs": [],
   "source": [
    "# -*- coding: UTF-8 -*-\n",
    "import pandas as pd\n",
    "import numpy as np\n",
    "import tkinter\n",
    "import sys\n",
    "import os\n",
    "import time\n",
    "# pd.options.mode.chained_assignment = None  # default='warn'\n",
    "import warnings\n",
    "\n",
    "warnings.filterwarnings('ignore', category=UserWarning, module='openpyxl')\n",
    "warnings.filterwarnings('ignore', category=DeprecationWarning)\n",
    "warnings.filterwarnings('ignore', category=FutureWarning)\n",
    "pd.options.mode.chained_assignment = None\n",
    "import copy\n",
    "import openpyxl\n",
    "from openpyxl.utils.dataframe import dataframe_to_rows\n",
    "import re\n",
    "import random\n",
    "pd.options.display.width = 0"
   ]
  },
  {
   "cell_type": "code",
   "execution_count": 78,
   "id": "f3fbabe2",
   "metadata": {},
   "outputs": [],
   "source": [
    "path_to_data = 'data/demo' \n",
    "error_df = pd.DataFrame(columns=['Название файла', 'Строка или колонка с ошибкой', 'Описание ошибки', ]) # датафрейм с ошибками"
   ]
  },
  {
   "cell_type": "code",
   "execution_count": null,
   "id": "f9d04704",
   "metadata": {},
   "outputs": [],
   "source": []
  },
  {
   "cell_type": "code",
   "execution_count": 92,
   "id": "23840a54",
   "metadata": {},
   "outputs": [],
   "source": [
    "# Создаем датафреймы в которые будем собирать данные\n",
    "df_1 = pd.DataFrame(columns=range(8))\n",
    "\n",
    "df_2 = pd.DataFrame(columns=range(17))\n",
    "\n",
    "df_3 = pd.DataFrame(columns=range(16))"
   ]
  },
  {
   "cell_type": "code",
   "execution_count": 93,
   "id": "9a980865",
   "metadata": {},
   "outputs": [
    {
     "name": "stdout",
     "output_type": "stream",
     "text": [
      "03_Республика Бурятия_формы ДЭ\n",
      "      0       1                   2   \\\n",
      "0      1  200278  Республика Бурятия   \n",
      "1      2  200278  Республика Бурятия   \n",
      "2      3  200278  Республика Бурятия   \n",
      "3      4  200278  Республика Бурятия   \n",
      "4      5  207698  Республика Бурятия   \n",
      "..   ...     ...                 ...   \n",
      "644  645  232591  Республика Бурятия   \n",
      "645  646  232591  Республика Бурятия   \n",
      "646  647  232591  Республика Бурятия   \n",
      "647  648  232682  Республика Бурятия   \n",
      "648  649  232682  Республика Бурятия   \n",
      "\n",
      "                                                    3   \\\n",
      "0    ГОСУДАРСТВЕННОЕ БЮДЖЕТНОЕ ПРОФЕССИОНАЛЬНОЕ ОБР...   \n",
      "1    ГОСУДАРСТВЕННОЕ БЮДЖЕТНОЕ ПРОФЕССИОНАЛЬНОЕ ОБР...   \n",
      "2    ГОСУДАРСТВЕННОЕ БЮДЖЕТНОЕ ПРОФЕССИОНАЛЬНОЕ ОБР...   \n",
      "3    ГОСУДАРСТВЕННОЕ БЮДЖЕТНОЕ ПРОФЕССИОНАЛЬНОЕ ОБР...   \n",
      "4    ГОСУДАРСТВЕННОЕ БЮДЖЕТНОЕ ПРОФЕССИОНАЛЬНОЕ ОБР...   \n",
      "..                                                 ...   \n",
      "644  ГОСУДАРСТВЕННОЕ БЮДЖЕТНОЕ ПРОФЕССИОНАЛЬНОЕ ОБР...   \n",
      "645  ГОСУДАРСТВЕННОЕ БЮДЖЕТНОЕ ПРОФЕССИОНАЛЬНОЕ ОБР...   \n",
      "646  ГОСУДАРСТВЕННОЕ БЮДЖЕТНОЕ ПРОФЕССИОНАЛЬНОЕ ОБР...   \n",
      "647  ГОСУДАРСТВЕННОЕ БЮДЖЕТНОЕ ПРОФЕССИОНАЛЬНОЕ ОБР...   \n",
      "648  ГОСУДАРСТВЕННОЕ БЮДЖЕТНОЕ ПРОФЕССИОНАЛЬНОЕ ОБР...   \n",
      "\n",
      "                                                    4          5          6   \\\n",
      "0    38.02.01 Экономика и бухгалтерский учет (по от... 2023-02-17 2023-02-17   \n",
      "1    38.02.01 Экономика и бухгалтерский учет (по от... 2023-02-17 2023-02-17   \n",
      "2    38.02.01 Экономика и бухгалтерский учет (по от... 2023-02-17 2023-02-17   \n",
      "3    38.02.01 Экономика и бухгалтерский учет (по от... 2023-02-17 2023-02-17   \n",
      "4    23.01.17 Мастер по ремонту и обслуживанию авто... 2023-05-23 2023-05-31   \n",
      "..                                                 ...        ...        ...   \n",
      "644  13.02.11 Техническая эксплуатация и обслуживан... 2023-06-17 2023-06-19   \n",
      "645  13.02.11 Техническая эксплуатация и обслуживан... 2023-06-17 2023-06-19   \n",
      "646  13.02.11 Техническая эксплуатация и обслуживан... 2023-06-17 2023-06-19   \n",
      "647  15.01.33 Токарь на станках с числовым программ... 2023-06-17 2023-06-17   \n",
      "648  15.01.33 Токарь на станках с числовым программ... 2023-06-17 2023-06-17   \n",
      "\n",
      "                                  7                            8   \\\n",
      "0     Сабхаева Раджана Александровна               sr0710@mail.ru   \n",
      "1      Ангальд Вероника Владимировна              angaldv@mail.ru   \n",
      "2         Токарева Елена Анатольевна           gre4ko44@yandex.ru   \n",
      "3       Хантургаева Арюна Аркадьевна                aahan@mail.ru   \n",
      "4    Ульянова Светлана Александровна  uljanova.swetlana@yandex.ru   \n",
      "..                               ...                          ...   \n",
      "644          Малышева Вера Сергеевна   vera.malysheva.03@inbox.ru   \n",
      "645         Мохов Алексей Валерьевич     brit.britovsky@yandex.ru   \n",
      "646    Поломошных Сергей Прокопьевич         polomoshnykh56@bk.ru   \n",
      "647       Улаханов Николай Сергеевич          nulahanov@gmail.com   \n",
      "648       Батуев Цырен Александрович              batuevc@mail.ru   \n",
      "\n",
      "                  9   10  11  12  \\\n",
      "0    Главный эксперт NaN NaN NaN   \n",
      "1            Эксперт NaN NaN NaN   \n",
      "2            Эксперт NaN NaN NaN   \n",
      "3            Эксперт NaN NaN NaN   \n",
      "4    Главный эксперт NaN NaN NaN   \n",
      "..               ...  ..  ..  ..   \n",
      "644          Эксперт NaN NaN NaN   \n",
      "645          Эксперт NaN NaN NaN   \n",
      "646          Эксперт NaN NaN NaN   \n",
      "647  Главный эксперт NaN NaN NaN   \n",
      "648          Эксперт NaN NaN NaN   \n",
      "\n",
      "                                                    13          14  \n",
      "0                                                  NaN              \n",
      "1                                                                   \n",
      "2                                                                   \n",
      "3                                                                   \n",
      "4                                                                   \n",
      "..                                                 ...         ...  \n",
      "644  Государственное бюджетное профессиональное обр...  0326481349  \n",
      "645                                      ПАО \"Россети\"  7728662669  \n",
      "646  ФГБОУ ВО \"Восточно-сибирский государственный у...  0323060215  \n",
      "647  Федеральное государственное бюджетное образова...  0323060215  \n",
      "648  Федеральное государственное бюджетное образова...  0323060215  \n",
      "\n",
      "[649 rows x 15 columns]\n"
     ]
    }
   ],
   "source": [
    "for file in os.listdir(path_to_data):\n",
    "    if not file.startswith('~$') and file.endswith('.xls'):\n",
    "        name_file = file.split('.xls')[0]\n",
    "        temp_error_df = pd.DataFrame(data=[[f'{name_file}', '',\n",
    "                                            'Файл с расширением XLS (СТАРЫЙ ФОРМАТ EXCEL)!!! ДАННЫЕ ФАЙЛА НЕ ОБРАБОТАНЫ !!! ']],\n",
    "                                     columns=['Название файла', 'Строка или колонка с ошибкой',\n",
    "                                              'Описание ошибки'])\n",
    "        error_df = pd.concat([error_df, temp_error_df], axis=0, ignore_index=True)\n",
    "        continue\n",
    "\n",
    "    if not file.startswith('~$') and file.endswith('.xlsx'):\n",
    "        name_file = file.split('.xlsx')[0]\n",
    "        print(name_file)\n",
    "        \n",
    "        # Лист 1\n",
    "        temp_df_1 = pd.read_excel(f'{path_to_data}/{file}',sheet_name='Форма1',skiprows=3,usecols='A:G',header=None)\n",
    "        temp_df_1.dropna(inplace=True,thresh=2) # удаляем пустые строки\n",
    "        temp_df_1[7] = name_file\n",
    "        \n",
    "        df_1 = pd.concat([df_1,temp_df_1],ignore_index=True)\n",
    "                \n",
    "        # Лист 2\n",
    "        \n",
    "        temp_df_2 = pd.read_excel(f'{path_to_data}/{file}',sheet_name='Форма2',skiprows=3,usecols='A:P',header=None)\n",
    "        temp_df_2.dropna(inplace=True,thresh=2) # удаляем пустые строки\n",
    "        temp_df_2[16] = name_file\n",
    "        \n",
    "        df_2 = pd.concat([df_2,temp_df_2],ignore_index=True)\n",
    "        \n",
    "        # Лист 3\n",
    "        temp_df_3 = pd.read_excel(f'{path_to_data}/{file}',sheet_name='Форма3',skiprows=3,usecols='A:O',header=None)\n",
    "        print(temp_df_3)\n",
    "        temp_df_3.dropna(inplace=True,thresh=2) # удаляем пустые строки\n",
    "        temp_df_3[15] = name_file\n",
    "        \n",
    "        df_3 = pd.concat([df_3,temp_df_3],ignore_index=True)\n",
    "        \n",
    "        "
   ]
  },
  {
   "cell_type": "code",
   "execution_count": 89,
   "id": "e03c14b7",
   "metadata": {},
   "outputs": [
    {
     "data": {
      "text/html": [
       "<div>\n",
       "<style scoped>\n",
       "    .dataframe tbody tr th:only-of-type {\n",
       "        vertical-align: middle;\n",
       "    }\n",
       "\n",
       "    .dataframe tbody tr th {\n",
       "        vertical-align: top;\n",
       "    }\n",
       "\n",
       "    .dataframe thead th {\n",
       "        text-align: right;\n",
       "    }\n",
       "</style>\n",
       "<table border=\"1\" class=\"dataframe\">\n",
       "  <thead>\n",
       "    <tr style=\"text-align: right;\">\n",
       "      <th></th>\n",
       "      <th>0</th>\n",
       "      <th>1</th>\n",
       "      <th>2</th>\n",
       "      <th>3</th>\n",
       "      <th>4</th>\n",
       "      <th>5</th>\n",
       "      <th>6</th>\n",
       "      <th>15</th>\n",
       "    </tr>\n",
       "  </thead>\n",
       "  <tbody>\n",
       "  </tbody>\n",
       "</table>\n",
       "</div>"
      ],
      "text/plain": [
       "Empty DataFrame\n",
       "Columns: [0, 1, 2, 3, 4, 5, 6, 15]\n",
       "Index: []"
      ]
     },
     "execution_count": 89,
     "metadata": {},
     "output_type": "execute_result"
    }
   ],
   "source": [
    "temp_df_3"
   ]
  },
  {
   "cell_type": "code",
   "execution_count": 90,
   "id": "e0e5a55b",
   "metadata": {},
   "outputs": [
    {
     "data": {
      "text/html": [
       "<div>\n",
       "<style scoped>\n",
       "    .dataframe tbody tr th:only-of-type {\n",
       "        vertical-align: middle;\n",
       "    }\n",
       "\n",
       "    .dataframe tbody tr th {\n",
       "        vertical-align: top;\n",
       "    }\n",
       "\n",
       "    .dataframe thead th {\n",
       "        text-align: right;\n",
       "    }\n",
       "</style>\n",
       "<table border=\"1\" class=\"dataframe\">\n",
       "  <thead>\n",
       "    <tr style=\"text-align: right;\">\n",
       "      <th></th>\n",
       "      <th>0</th>\n",
       "      <th>1</th>\n",
       "      <th>2</th>\n",
       "      <th>3</th>\n",
       "      <th>4</th>\n",
       "      <th>5</th>\n",
       "      <th>6</th>\n",
       "      <th>7</th>\n",
       "      <th>8</th>\n",
       "      <th>9</th>\n",
       "      <th>10</th>\n",
       "      <th>11</th>\n",
       "      <th>12</th>\n",
       "      <th>13</th>\n",
       "      <th>14</th>\n",
       "      <th>15</th>\n",
       "    </tr>\n",
       "  </thead>\n",
       "  <tbody>\n",
       "  </tbody>\n",
       "</table>\n",
       "</div>"
      ],
      "text/plain": [
       "Empty DataFrame\n",
       "Columns: [0, 1, 2, 3, 4, 5, 6, 7, 8, 9, 10, 11, 12, 13, 14, 15]\n",
       "Index: []"
      ]
     },
     "execution_count": 90,
     "metadata": {},
     "output_type": "execute_result"
    }
   ],
   "source": [
    "df_3"
   ]
  },
  {
   "cell_type": "code",
   "execution_count": null,
   "id": "b068d74d",
   "metadata": {},
   "outputs": [],
   "source": []
  },
  {
   "cell_type": "code",
   "execution_count": null,
   "id": "5ac50bcc",
   "metadata": {},
   "outputs": [],
   "source": []
  },
  {
   "cell_type": "code",
   "execution_count": null,
   "id": "c7e9e20e",
   "metadata": {},
   "outputs": [],
   "source": []
  },
  {
   "cell_type": "code",
   "execution_count": null,
   "id": "b97c2ac5",
   "metadata": {},
   "outputs": [],
   "source": []
  },
  {
   "cell_type": "code",
   "execution_count": null,
   "id": "b24e6215",
   "metadata": {},
   "outputs": [],
   "source": []
  },
  {
   "cell_type": "code",
   "execution_count": null,
   "id": "f709cc26",
   "metadata": {},
   "outputs": [],
   "source": []
  },
  {
   "cell_type": "code",
   "execution_count": null,
   "id": "7ca07d6c",
   "metadata": {},
   "outputs": [],
   "source": []
  },
  {
   "cell_type": "code",
   "execution_count": null,
   "id": "d771da14",
   "metadata": {},
   "outputs": [],
   "source": []
  },
  {
   "cell_type": "code",
   "execution_count": 83,
   "id": "42f2b9d7",
   "metadata": {},
   "outputs": [
    {
     "data": {
      "text/html": [
       "<div>\n",
       "<style scoped>\n",
       "    .dataframe tbody tr th:only-of-type {\n",
       "        vertical-align: middle;\n",
       "    }\n",
       "\n",
       "    .dataframe tbody tr th {\n",
       "        vertical-align: top;\n",
       "    }\n",
       "\n",
       "    .dataframe thead th {\n",
       "        text-align: right;\n",
       "    }\n",
       "</style>\n",
       "<table border=\"1\" class=\"dataframe\">\n",
       "  <thead>\n",
       "    <tr style=\"text-align: right;\">\n",
       "      <th></th>\n",
       "      <th>Название файла</th>\n",
       "      <th>Строка или колонка с ошибкой</th>\n",
       "      <th>Описание ошибки</th>\n",
       "    </tr>\n",
       "  </thead>\n",
       "  <tbody>\n",
       "    <tr>\n",
       "      <th>0</th>\n",
       "      <td>старый отчет</td>\n",
       "      <td></td>\n",
       "      <td>Файл с расширением XLS (СТАРЫЙ ФОРМАТ EXCEL)!!...</td>\n",
       "    </tr>\n",
       "  </tbody>\n",
       "</table>\n",
       "</div>"
      ],
      "text/plain": [
       "  Название файла Строка или колонка с ошибкой  \\\n",
       "0   старый отчет                                \n",
       "\n",
       "                                     Описание ошибки  \n",
       "0  Файл с расширением XLS (СТАРЫЙ ФОРМАТ EXCEL)!!...  "
      ]
     },
     "execution_count": 83,
     "metadata": {},
     "output_type": "execute_result"
    }
   ],
   "source": [
    "error_df\n"
   ]
  },
  {
   "cell_type": "code",
   "execution_count": null,
   "id": "d3a12be0",
   "metadata": {},
   "outputs": [],
   "source": []
  },
  {
   "cell_type": "code",
   "execution_count": null,
   "id": "c49748cd",
   "metadata": {},
   "outputs": [],
   "source": []
  },
  {
   "cell_type": "code",
   "execution_count": null,
   "id": "67873f7b",
   "metadata": {},
   "outputs": [],
   "source": []
  }
 ],
 "metadata": {
  "kernelspec": {
   "display_name": "Python 3 (ipykernel)",
   "language": "python",
   "name": "python3"
  },
  "language_info": {
   "codemirror_mode": {
    "name": "ipython",
    "version": 3
   },
   "file_extension": ".py",
   "mimetype": "text/x-python",
   "name": "python",
   "nbconvert_exporter": "python",
   "pygments_lexer": "ipython3",
   "version": "3.9.13"
  }
 },
 "nbformat": 4,
 "nbformat_minor": 5
}
