{
 "cells": [
  {
   "cell_type": "code",
   "execution_count": 184,
   "id": "8dd517a3",
   "metadata": {},
   "outputs": [
    {
     "data": {
      "text/plain": [
       "'\\nСкрипт для обработки данных резюме с сайта Работа в России\\n'"
      ]
     },
     "execution_count": 184,
     "metadata": {},
     "output_type": "execute_result"
    }
   ],
   "source": [
    "\"\"\"\n",
    "Скрипт для обработки данных резюме с сайта Работа в России\n",
    "\"\"\""
   ]
  },
  {
   "cell_type": "code",
   "execution_count": 185,
   "id": "a4abae36",
   "metadata": {},
   "outputs": [],
   "source": [
    "import pandas as pd\n",
    "import numpy as np\n",
    "import openpyxl\n",
    "import json\n",
    "import ast\n",
    "import re\n",
    "import os\n",
    "from datetime import datetime, timedelta\n",
    "import time\n",
    "from dateutil import parser\n",
    "pd.options.mode.chained_assignment = None"
   ]
  },
  {
   "cell_type": "code",
   "execution_count": 186,
   "id": "939d62c0",
   "metadata": {},
   "outputs": [],
   "source": [
    "def convert_date(cell):\n",
    "    \"\"\"\n",
    "    Функция конвертации строки содержащей дату и время\n",
    "    \"\"\"\n",
    "\n",
    "    try:\n",
    "        temp_date = pd.to_datetime(cell,errors='coerce',utc=True,dayfirst=True)\n",
    "       \n",
    "\n",
    "        return temp_date\n",
    "    except pd.errors.OutOfBoundsDatetime:\n",
    "        return pd.NaT\n",
    "    except ValueError:\n",
    "        return pd.NaT\n",
    "\n"
   ]
  },
  {
   "cell_type": "code",
   "execution_count": 187,
   "id": "c0c8f543",
   "metadata": {},
   "outputs": [],
   "source": [
    "df = pd.read_excel('data/Часть 1.xlsx',usecols=['stateRegionCode','birthday','gender','dateCreate','dateModify',\n",
    "                                                'academicDegree','worldskills','worldskillsInspectionStatus','abilympicsInspectionStatus',\n",
    "                                                'abilympicsParticipation','volunteersInspectionStatus','volunteersParticipation',\n",
    "                                               'driveLicenses','experience','professionsList','otherCertificates',\n",
    "                                                'narkCertificate','narkInspectionStatus','educationList','additionalEducationList',\n",
    "                                                'hardSkills','softSkills','workExperienceList','scheduleType','salary','busyType',\n",
    "                                                'retrainingCapability','businessTrip','languageKnowledge',\n",
    "                                                'relocation'])"
   ]
  },
  {
   "cell_type": "code",
   "execution_count": 188,
   "id": "3fb56c6e",
   "metadata": {},
   "outputs": [
    {
     "data": {
      "text/plain": [
       "0      1970-04-20T00:00:00+0300\n",
       "1      2006-08-03T16:00:00+0400\n",
       "2      2005-05-11T16:00:00+0400\n",
       "3      1987-08-17T16:00:00+0400\n",
       "4      1977-12-20T15:00:00+0300\n",
       "                 ...           \n",
       "995    2007-04-27T16:00:00+0400\n",
       "996    2007-06-02T16:00:00+0400\n",
       "997    1983-02-21T15:00:00+0300\n",
       "998    1989-02-14T15:00:00+0300\n",
       "999    1998-10-04T16:00:00+0400\n",
       "Name: birthday, Length: 1000, dtype: object"
      ]
     },
     "execution_count": 188,
     "metadata": {},
     "output_type": "execute_result"
    }
   ],
   "source": [
    "df['birthday']"
   ]
  },
  {
   "cell_type": "code",
   "execution_count": 193,
   "id": "5f4d1dad",
   "metadata": {},
   "outputs": [],
   "source": [
    "# Конвертируем в даты колонки с датами\n",
    "df['birthday'] = df['birthday'].apply(convert_date)\n",
    "df['dateCreate'] = df['dateCreate'].apply(convert_date)\n",
    "df['dateModify'] = df['dateModify'].apply(convert_date)"
   ]
  },
  {
   "cell_type": "code",
   "execution_count": 194,
   "id": "dfef68eb",
   "metadata": {},
   "outputs": [
    {
     "data": {
      "text/plain": [
       "0     2022-05-31 09:49:55+00:00\n",
       "1     2023-06-30 10:01:04+00:00\n",
       "2     2023-08-15 05:03:08+00:00\n",
       "3     2020-04-15 13:14:42+00:00\n",
       "4     2021-01-27 01:14:13+00:00\n",
       "                 ...           \n",
       "995   2023-06-15 04:49:29+00:00\n",
       "996   2023-09-18 14:38:20+00:00\n",
       "997   2022-11-18 20:10:13+00:00\n",
       "998   2023-07-24 09:04:44+00:00\n",
       "999   2023-06-08 07:29:19+00:00\n",
       "Name: dateModify, Length: 1000, dtype: datetime64[ns, UTC]"
      ]
     },
     "execution_count": 194,
     "metadata": {},
     "output_type": "execute_result"
    }
   ],
   "source": [
    "df['dateModify']"
   ]
  },
  {
   "cell_type": "code",
   "execution_count": 191,
   "id": "0e689065",
   "metadata": {},
   "outputs": [],
   "source": [
    "# Создаем колонку дата рождения\n",
    "df['Дата рождения'] = df['birthday'].dt.strftime('%d.%m.%Y')"
   ]
  },
  {
   "cell_type": "code",
   "execution_count": 195,
   "id": "a72d4756",
   "metadata": {},
   "outputs": [],
   "source": [
    "# Получаем текущую дату\n",
    "current_date = datetime.now()"
   ]
  },
  {
   "cell_type": "code",
   "execution_count": 196,
   "id": "124f7380",
   "metadata": {},
   "outputs": [
    {
     "data": {
      "text/plain": [
       "datetime.datetime(2024, 3, 22, 15, 10, 13, 311061)"
      ]
     },
     "execution_count": 196,
     "metadata": {},
     "output_type": "execute_result"
    }
   ],
   "source": [
    "current_date"
   ]
  },
  {
   "cell_type": "code",
   "execution_count": 197,
   "id": "7f18ad1b",
   "metadata": {},
   "outputs": [],
   "source": [
    "one_year_ago = current_date - timedelta(days=365)"
   ]
  },
  {
   "cell_type": "code",
   "execution_count": 200,
   "id": "09bd9fd5",
   "metadata": {},
   "outputs": [
    {
     "data": {
      "text/plain": [
       "datetime.date(2023, 3, 23)"
      ]
     },
     "execution_count": 200,
     "metadata": {},
     "output_type": "execute_result"
    }
   ],
   "source": [
    "one_year_ago.date()"
   ]
  },
  {
   "cell_type": "code",
   "execution_count": 202,
   "id": "8e411990",
   "metadata": {},
   "outputs": [
    {
     "data": {
      "text/plain": [
       "Timestamp('2023-03-23 00:00:00')"
      ]
     },
     "execution_count": 202,
     "metadata": {},
     "output_type": "execute_result"
    }
   ],
   "source": [
    "pd.to_datetime(one_year_ago.date())"
   ]
  },
  {
   "cell_type": "code",
   "execution_count": 207,
   "id": "0c8157ac",
   "metadata": {},
   "outputs": [
    {
     "data": {
      "text/html": [
       "<div>\n",
       "<style scoped>\n",
       "    .dataframe tbody tr th:only-of-type {\n",
       "        vertical-align: middle;\n",
       "    }\n",
       "\n",
       "    .dataframe tbody tr th {\n",
       "        vertical-align: top;\n",
       "    }\n",
       "\n",
       "    .dataframe thead th {\n",
       "        text-align: right;\n",
       "    }\n",
       "</style>\n",
       "<table border=\"1\" class=\"dataframe\">\n",
       "  <thead>\n",
       "    <tr style=\"text-align: right;\">\n",
       "      <th></th>\n",
       "      <th>stateRegionCode</th>\n",
       "      <th>birthday</th>\n",
       "      <th>gender</th>\n",
       "      <th>dateCreate</th>\n",
       "      <th>dateModify</th>\n",
       "      <th>academicDegree</th>\n",
       "      <th>worldskills</th>\n",
       "      <th>worldskillsInspectionStatus</th>\n",
       "      <th>abilympicsInspectionStatus</th>\n",
       "      <th>abilympicsParticipation</th>\n",
       "      <th>...</th>\n",
       "      <th>softSkills</th>\n",
       "      <th>workExperienceList</th>\n",
       "      <th>scheduleType</th>\n",
       "      <th>salary</th>\n",
       "      <th>busyType</th>\n",
       "      <th>retrainingCapability</th>\n",
       "      <th>businessTrip</th>\n",
       "      <th>languageKnowledge</th>\n",
       "      <th>relocation</th>\n",
       "      <th>Дата рождения</th>\n",
       "    </tr>\n",
       "  </thead>\n",
       "  <tbody>\n",
       "    <tr>\n",
       "      <th>1</th>\n",
       "      <td>7400000000000</td>\n",
       "      <td>2006-08-03 12:00:00+00:00</td>\n",
       "      <td>Мужской</td>\n",
       "      <td>2023-06-30 10:01:04+00:00</td>\n",
       "      <td>2023-06-30 10:01:04+00:00</td>\n",
       "      <td>NaN</td>\n",
       "      <td>[]</td>\n",
       "      <td>Участие-в-чемпионате-Worldskills-не-подтверждено</td>\n",
       "      <td>Участие-в-движении-Абилимпикс-не-подтверждено</td>\n",
       "      <td>Не-принимал-участие-в-движении-Абилимпикс</td>\n",
       "      <td>...</td>\n",
       "      <td>[]</td>\n",
       "      <td>[]</td>\n",
       "      <td>Неполный-рабочий-день</td>\n",
       "      <td>18000</td>\n",
       "      <td>NaN</td>\n",
       "      <td>Не-готов-к-переобучению</td>\n",
       "      <td>Не-готов-к-командировкам</td>\n",
       "      <td>[]</td>\n",
       "      <td>Не-готов-к-переезду</td>\n",
       "      <td>03.08.2006</td>\n",
       "    </tr>\n",
       "    <tr>\n",
       "      <th>2</th>\n",
       "      <td>3000000000000</td>\n",
       "      <td>2005-05-11 12:00:00+00:00</td>\n",
       "      <td>Мужской</td>\n",
       "      <td>2023-08-15 05:03:08+00:00</td>\n",
       "      <td>2023-08-15 05:03:08+00:00</td>\n",
       "      <td>NaN</td>\n",
       "      <td>[]</td>\n",
       "      <td>Участие-в-чемпионате-Worldskills-не-подтверждено</td>\n",
       "      <td>Участие-в-движении-Абилимпикс-не-подтверждено</td>\n",
       "      <td>Не-принимал-участие-в-движении-Абилимпикс</td>\n",
       "      <td>...</td>\n",
       "      <td>[]</td>\n",
       "      <td>[]</td>\n",
       "      <td>Полный-рабочий-день</td>\n",
       "      <td>20000</td>\n",
       "      <td>NaN</td>\n",
       "      <td>Не-готов-к-переобучению</td>\n",
       "      <td>Готов-к-командировкам</td>\n",
       "      <td>[{\"codeLanguage\": \"Русский\", \"level\": \"Базовый...</td>\n",
       "      <td>Не-готов-к-переезду</td>\n",
       "      <td>11.05.2005</td>\n",
       "    </tr>\n",
       "    <tr>\n",
       "      <th>6</th>\n",
       "      <td>7400000000000</td>\n",
       "      <td>1975-11-24 12:00:00+00:00</td>\n",
       "      <td>Женский</td>\n",
       "      <td>2023-09-19 09:15:07+00:00</td>\n",
       "      <td>2023-09-20 03:27:42+00:00</td>\n",
       "      <td>NaN</td>\n",
       "      <td>[]</td>\n",
       "      <td>Участие-в-чемпионате-Worldskills-не-подтверждено</td>\n",
       "      <td>Участие-в-движении-Абилимпикс-не-подтверждено</td>\n",
       "      <td>Не-принимал-участие-в-движении-Абилимпикс</td>\n",
       "      <td>...</td>\n",
       "      <td>[]</td>\n",
       "      <td>[{\"achievements\": \"&lt;p&gt;Компьютерные курсы,владе...</td>\n",
       "      <td>Полный-рабочий-день</td>\n",
       "      <td>30000</td>\n",
       "      <td>NaN</td>\n",
       "      <td>Готов-к-переобучению</td>\n",
       "      <td>Не-готов-к-командировкам</td>\n",
       "      <td>[]</td>\n",
       "      <td>Не-готов-к-переезду</td>\n",
       "      <td>24.11.1975</td>\n",
       "    </tr>\n",
       "    <tr>\n",
       "      <th>8</th>\n",
       "      <td>6300000000000</td>\n",
       "      <td>1969-03-06 12:00:00+00:00</td>\n",
       "      <td>Мужской</td>\n",
       "      <td>2023-09-05 07:51:30+00:00</td>\n",
       "      <td>2023-09-05 07:51:30+00:00</td>\n",
       "      <td>NaN</td>\n",
       "      <td>[]</td>\n",
       "      <td>Участие-в-чемпионате-Worldskills-не-подтверждено</td>\n",
       "      <td>Участие-в-движении-Абилимпикс-не-подтверждено</td>\n",
       "      <td>Не-принимал-участие-в-движении-Абилимпикс</td>\n",
       "      <td>...</td>\n",
       "      <td>[]</td>\n",
       "      <td>[{\"companyName\": \"оао волгоцеммаш\", \"dateFrom\"...</td>\n",
       "      <td>Полный-рабочий-день</td>\n",
       "      <td>35000</td>\n",
       "      <td>NaN</td>\n",
       "      <td>Не-готов-к-переобучению</td>\n",
       "      <td>Не-готов-к-командировкам</td>\n",
       "      <td>[]</td>\n",
       "      <td>Не-готов-к-переезду</td>\n",
       "      <td>06.03.1969</td>\n",
       "    </tr>\n",
       "    <tr>\n",
       "      <th>18</th>\n",
       "      <td>6300000000000</td>\n",
       "      <td>1976-12-23 12:00:00+00:00</td>\n",
       "      <td>Женский</td>\n",
       "      <td>2021-10-01 10:19:13+00:00</td>\n",
       "      <td>2023-09-29 08:34:36+00:00</td>\n",
       "      <td>NaN</td>\n",
       "      <td>[]</td>\n",
       "      <td>Участие-в-чемпионате-Worldskills-не-подтверждено</td>\n",
       "      <td>Участие-в-движении-Абилимпикс-не-подтверждено</td>\n",
       "      <td>Не-принимал-участие-в-движении-Абилимпикс</td>\n",
       "      <td>...</td>\n",
       "      <td>[]</td>\n",
       "      <td>[{\"companyName\": \"СВВАУЛ\", \"dateFrom\": \"1999-0...</td>\n",
       "      <td>Полный-рабочий-день</td>\n",
       "      <td>55000</td>\n",
       "      <td>NaN</td>\n",
       "      <td>Готов-к-переобучению</td>\n",
       "      <td>Готов-к-командировкам</td>\n",
       "      <td>[]</td>\n",
       "      <td>Не-готов-к-переезду</td>\n",
       "      <td>23.12.1976</td>\n",
       "    </tr>\n",
       "  </tbody>\n",
       "</table>\n",
       "<p>5 rows × 31 columns</p>\n",
       "</div>"
      ],
      "text/plain": [
       "    stateRegionCode                  birthday   gender  \\\n",
       "1     7400000000000 2006-08-03 12:00:00+00:00  Мужской   \n",
       "2     3000000000000 2005-05-11 12:00:00+00:00  Мужской   \n",
       "6     7400000000000 1975-11-24 12:00:00+00:00  Женский   \n",
       "8     6300000000000 1969-03-06 12:00:00+00:00  Мужской   \n",
       "18    6300000000000 1976-12-23 12:00:00+00:00  Женский   \n",
       "\n",
       "                  dateCreate                dateModify  academicDegree  \\\n",
       "1  2023-06-30 10:01:04+00:00 2023-06-30 10:01:04+00:00             NaN   \n",
       "2  2023-08-15 05:03:08+00:00 2023-08-15 05:03:08+00:00             NaN   \n",
       "6  2023-09-19 09:15:07+00:00 2023-09-20 03:27:42+00:00             NaN   \n",
       "8  2023-09-05 07:51:30+00:00 2023-09-05 07:51:30+00:00             NaN   \n",
       "18 2021-10-01 10:19:13+00:00 2023-09-29 08:34:36+00:00             NaN   \n",
       "\n",
       "   worldskills                       worldskillsInspectionStatus  \\\n",
       "1           []  Участие-в-чемпионате-Worldskills-не-подтверждено   \n",
       "2           []  Участие-в-чемпионате-Worldskills-не-подтверждено   \n",
       "6           []  Участие-в-чемпионате-Worldskills-не-подтверждено   \n",
       "8           []  Участие-в-чемпионате-Worldskills-не-подтверждено   \n",
       "18          []  Участие-в-чемпионате-Worldskills-не-подтверждено   \n",
       "\n",
       "                       abilympicsInspectionStatus  \\\n",
       "1   Участие-в-движении-Абилимпикс-не-подтверждено   \n",
       "2   Участие-в-движении-Абилимпикс-не-подтверждено   \n",
       "6   Участие-в-движении-Абилимпикс-не-подтверждено   \n",
       "8   Участие-в-движении-Абилимпикс-не-подтверждено   \n",
       "18  Участие-в-движении-Абилимпикс-не-подтверждено   \n",
       "\n",
       "                      abilympicsParticipation  ... softSkills  \\\n",
       "1   Не-принимал-участие-в-движении-Абилимпикс  ...         []   \n",
       "2   Не-принимал-участие-в-движении-Абилимпикс  ...         []   \n",
       "6   Не-принимал-участие-в-движении-Абилимпикс  ...         []   \n",
       "8   Не-принимал-участие-в-движении-Абилимпикс  ...         []   \n",
       "18  Не-принимал-участие-в-движении-Абилимпикс  ...         []   \n",
       "\n",
       "                                   workExperienceList           scheduleType  \\\n",
       "1                                                  []  Неполный-рабочий-день   \n",
       "2                                                  []    Полный-рабочий-день   \n",
       "6   [{\"achievements\": \"<p>Компьютерные курсы,владе...    Полный-рабочий-день   \n",
       "8   [{\"companyName\": \"оао волгоцеммаш\", \"dateFrom\"...    Полный-рабочий-день   \n",
       "18  [{\"companyName\": \"СВВАУЛ\", \"dateFrom\": \"1999-0...    Полный-рабочий-день   \n",
       "\n",
       "    salary  busyType     retrainingCapability              businessTrip  \\\n",
       "1    18000       NaN  Не-готов-к-переобучению  Не-готов-к-командировкам   \n",
       "2    20000       NaN  Не-готов-к-переобучению     Готов-к-командировкам   \n",
       "6    30000       NaN     Готов-к-переобучению  Не-готов-к-командировкам   \n",
       "8    35000       NaN  Не-готов-к-переобучению  Не-готов-к-командировкам   \n",
       "18   55000       NaN     Готов-к-переобучению     Готов-к-командировкам   \n",
       "\n",
       "                                    languageKnowledge           relocation  \\\n",
       "1                                                  []  Не-готов-к-переезду   \n",
       "2   [{\"codeLanguage\": \"Русский\", \"level\": \"Базовый...  Не-готов-к-переезду   \n",
       "6                                                  []  Не-готов-к-переезду   \n",
       "8                                                  []  Не-готов-к-переезду   \n",
       "18                                                 []  Не-готов-к-переезду   \n",
       "\n",
       "   Дата рождения  \n",
       "1     03.08.2006  \n",
       "2     11.05.2005  \n",
       "6     24.11.1975  \n",
       "8     06.03.1969  \n",
       "18    23.12.1976  \n",
       "\n",
       "[5 rows x 31 columns]"
      ]
     },
     "execution_count": 207,
     "metadata": {},
     "output_type": "execute_result"
    }
   ],
   "source": [
    "# Фильтруем год назад\n",
    "df[df['dateModify'] >pd.to_datetime(one_year_ago,utc=True)].head()"
   ]
  },
  {
   "cell_type": "code",
   "execution_count": null,
   "id": "0b9fd9ff",
   "metadata": {},
   "outputs": [],
   "source": []
  },
  {
   "cell_type": "code",
   "execution_count": null,
   "id": "66f2ebf9",
   "metadata": {},
   "outputs": [],
   "source": []
  },
  {
   "cell_type": "code",
   "execution_count": null,
   "id": "af386fda",
   "metadata": {},
   "outputs": [],
   "source": []
  },
  {
   "cell_type": "code",
   "execution_count": null,
   "id": "a52e01a1",
   "metadata": {},
   "outputs": [],
   "source": []
  },
  {
   "cell_type": "code",
   "execution_count": null,
   "id": "c1233f65",
   "metadata": {},
   "outputs": [],
   "source": []
  }
 ],
 "metadata": {
  "kernelspec": {
   "display_name": "Python 3 (ipykernel)",
   "language": "python",
   "name": "python3"
  },
  "language_info": {
   "codemirror_mode": {
    "name": "ipython",
    "version": 3
   },
   "file_extension": ".py",
   "mimetype": "text/x-python",
   "name": "python",
   "nbconvert_exporter": "python",
   "pygments_lexer": "ipython3",
   "version": "3.9.13"
  }
 },
 "nbformat": 4,
 "nbformat_minor": 5
}
